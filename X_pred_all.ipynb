{
 "cells": [
  {
   "cell_type": "code",
   "execution_count": 86,
   "metadata": {},
   "outputs": [
    {
     "name": "stdout",
     "output_type": "stream",
     "text": [
      "The autoreload extension is already loaded. To reload it, use:\n",
      "  %reload_ext autoreload\n"
     ]
    }
   ],
   "source": [
    "import os\n",
    "from os.path import join as oj\n",
    "import sys, time\n",
    "sys.path.insert(1, oj(sys.path[0], '..'))  # insert parent path\n",
    "import seaborn as sns\n",
    "from sklearn.model_selection import train_test_split\n",
    "import numpy as np\n",
    "import matplotlib.pyplot as plt\n",
    "from tqdm import tqdm\n",
    "from copy import deepcopy\n",
    "import pickle as pkl\n",
    "from sklearn.tree import DecisionTreeClassifier, plot_tree\n",
    "from sklearn.model_selection import cross_validate, ShuffleSplit, train_test_split\n",
    "from sklearn.linear_model import LogisticRegressionCV\n",
    "import pandas as pd\n",
    "import data \n",
    "from collections import Counter\n",
    "\n",
    "# plt.style.use('dark_background')\n",
    "# sns.set(style=\"white\")\n",
    "%matplotlib inline\n",
    "%load_ext autoreload\n",
    "%autoreload 2\n",
    "NUM_PATIENTS = 12044"
   ]
  },
  {
   "cell_type": "code",
   "execution_count": 17,
   "metadata": {},
   "outputs": [
    {
     "name": "stderr",
     "output_type": "stream",
     "text": [
      "100%|██████████| 49/49 [00:01<00:00, 39.79it/s]\n",
      "48it [00:03, 14.01it/s]\n"
     ]
    },
    {
     "name": "stdout",
     "output_type": "stream",
     "text": [
      "final shape (12044, 433)\n"
     ]
    }
   ],
   "source": [
    "features = data.get_features() # uses several forms\n",
    "outcomes = data.get_outcomes() # 2 outcomes: iai, and iai_intervention\n",
    "df = pd.merge(features, outcomes, on='id', how='left')\n",
    "X_feats = data.preprocess(features)\n",
    "\n",
    "# remove unusable features\n",
    "ks = [k for k in X_feats.keys() if not k in ['id'] and not 'IAI' in k]\n",
    "X_feats = X_feats[ks]\n",
    "\n",
    "# get actual features\n",
    "X_np = X_feats.values\n",
    "feature_names = list(X_feats)\n",
    "y_np = outcomes['iai_intervention']"
   ]
  },
  {
   "cell_type": "code",
   "execution_count": 87,
   "metadata": {},
   "outputs": [
    {
     "name": "stdout",
     "output_type": "stream",
     "text": [
      "(12044, 109) ['AbdCTScan1_4a', 'AbdCTScan_1', 'AbdDistention_1_1', 'AbdDistention_1_2', 'AbdDistention_1_3', 'AbdDistention_1_4', 'AbdTenderDegree_1_1.0', 'AbdTenderDegree_1_2.0', 'AbdTenderDegree_1_3.0', 'AbdTenderDegree_1_4.0', 'AbdTenderDegree_1_nan', 'AbdTrauma_1_1', 'AbdTrauma_1_2', 'AbdTrauma_1_3', 'AbdTrauma_1_4', 'AbdTrauma_or_SeatBeltSign_1_False', 'AbdTrauma_or_SeatBeltSign_1_True', 'AbdUltrasound1_4a', 'AbdUltrasound_1', 'AbdomenPain_1_1', 'AbdomenPain_1_2', 'AbdomenPain_1_3', 'AbdomenPain_1_4', 'AbdomenTender_1', 'AbnChestAusc_1', 'AlcDrgSuspicion_1', 'BowelSounds_1', 'Certification_1', 'ChestCXR_4a', 'Costal_1_True', 'CurrIntubated_1', 'DecrBreathSound_1_1', 'DecrBreathSound_1_2', 'DecrBreathSound_1_3', 'DecrBreathSound_1_4', 'DistractingPain_1_1', 'DistractingPain_1_2', 'DistractingPain_1_3', 'DistractingPain_1_4', 'EDTriageTime_1', 'FlankTender_1', 'GCSEye_1', 'GCSMotor_1', 'GCSScore_1', 'GCSVerbal_1', 'HISPANIC_ETHNICITY_-1', 'HISPANIC_ETHNICITY_0', 'HISPANIC_ETHNICITY_1', 'HRDocumented_1', 'InitHeartRate_1', 'InitRespRange_1', 'InitResp_1', 'InitSysBPRange_1', 'InitSysBP_1', 'InjTmKnown_1', 'InjuryDay_1', 'InjuryMechanism_1', 'LabResultAware_1', 'LabsObtained_5', 'LtCostalTender_1', 'NonAbdSurgery_1', 'OthAbdImages_4a', 'PelvicTender_1', 'PelvicXR_4a', 'PelvisUnstable_1', 'PeritonIrrit_1', 'PharmaParalyzed_1', 'PharmaSedated_1', 'Preverbal_1', 'PtHosp_1', 'RACE_American Indian or Alaska Native', 'RACE_Asian', 'RACE_Black or African American', 'RACE_Native Hawaaian or Other Pacific Islander', 'RACE_Other', 'RACE_Stated as Unknown', 'RACE_White', 'RecodedMOI_1_1', 'RecodedMOI_1_10', 'RecodedMOI_1_2', 'RecodedMOI_1_3', 'RecodedMOI_1_4', 'RecodedMOI_1_5', 'RecodedMOI_1_6', 'RecodedMOI_1_7', 'RecodedMOI_1_8', 'RecodedMOI_1_9', 'RectalBlood_1', 'RefuseFU_1', 'RtCostalTender_1', 'SEX_F', 'SEX_M', 'SeatBeltSign_1_1', 'SeatBeltSign_1_2', 'SeatBeltSign_1_3', 'ShortBreath_1', 'ThoracicTender_1_1', 'ThoracicTender_1_2', 'ThoracicTender_1_3', 'ThoracicTender_1_4', 'ThoracicTrauma_1_1', 'ThoracicTrauma_1_2', 'ThoracicTrauma_1_3', 'TriageTmUnkown_1', 'VomitWretch_1_1', 'VomitWretch_1_2', 'VomitWretch_1_3', 'VomitWretch_1_4', 'ageinyrs']\n"
     ]
    }
   ],
   "source": [
    "print(X_feats.shape, sorted(list(X_feats.keys())))"
   ]
  },
  {
   "cell_type": "code",
   "execution_count": 19,
   "metadata": {},
   "outputs": [
    {
     "data": {
      "text/plain": [
       "Counter({0: 11841, 1: 203})"
      ]
     },
     "execution_count": 19,
     "metadata": {},
     "output_type": "execute_result"
    }
   ],
   "source": [
    "Counter(y_np)"
   ]
  },
  {
   "cell_type": "code",
   "execution_count": 33,
   "metadata": {},
   "outputs": [],
   "source": [
    "X_train, X_test, y_train, y_test = train_test_split(X_np, y_np, test_size=0.2)"
   ]
  },
  {
   "cell_type": "code",
   "execution_count": 34,
   "metadata": {},
   "outputs": [
    {
     "data": {
      "text/plain": [
       "Counter({0: 9459, 1: 176})"
      ]
     },
     "execution_count": 34,
     "metadata": {},
     "output_type": "execute_result"
    }
   ],
   "source": [
    "Counter(y_train)"
   ]
  },
  {
   "cell_type": "markdown",
   "metadata": {},
   "source": [
    "# decision tree fitting"
   ]
  },
  {
   "cell_type": "code",
   "execution_count": null,
   "metadata": {},
   "outputs": [],
   "source": [
    "model_type='logistic'\n",
    "max_depth = 2\n",
    "num_cv = 3\n",
    "\n",
    "if model_type == 'tree':\n",
    "    m = DecisionTreeClassifier(max_depth=max_depth, class_weight={0: 1, 1: 300})\n",
    "elif model_type == 'logistic':\n",
    "    m = LogisticRegressionCV(class_weight={0: 1, 1: 300}, cv=3, max_iter=100)\n",
    "cv = ShuffleSplit(n_splits=10, test_size=0.1, random_state=42)\n",
    "m_cv = cross_validate(m, X_train, y_train, cv=num_cv, scoring=['precision', 'recall', 'f1', 'balanced_accuracy', 'roc_auc'],\n",
    "                      return_train_score=True, return_estimator=True)"
   ]
  },
  {
   "cell_type": "code",
   "execution_count": 93,
   "metadata": {},
   "outputs": [
    {
     "name": "stdout",
     "output_type": "stream",
     "text": [
      "0.09\tprecision\n",
      "0.87\trecall\n",
      "0.16\tf1\n",
      "0.85\tbalanced_accuracy\n",
      "0.93\troc_auc\n"
     ]
    }
   ],
   "source": [
    "# print('metric\\ttrain\\ttest')\n",
    "for key in m_cv:\n",
    "    if 'test' in key:\n",
    "#         print(f\"{key.replace('test_', '')}\\t{np.mean(m_cv[key.replace('test', 'train')]):0.2f}\\t{np.mean(m_cv[key]):0.2f}\")\n",
    "        print(f\"{np.mean(m_cv[key]):0.2f}\\t{key.replace('test_', '')}\")"
   ]
  },
  {
   "cell_type": "code",
   "execution_count": 102,
   "metadata": {},
   "outputs": [
    {
     "data": {
      "text/plain": [
       "[('AbdCTScan1_4a', 3),\n",
       " ('RefuseFU_1', 3),\n",
       " ('OthAbdImages_4a', 3),\n",
       " ('PtHosp_1', 2),\n",
       " ('AbdTenderDegree_1_3.0', 2),\n",
       " ('AbdUltrasound1_4a', 1),\n",
       " ('AbdTenderDegree_1_nan', 1)]"
      ]
     },
     "execution_count": 102,
     "metadata": {},
     "output_type": "execute_result"
    }
   ],
   "source": []
  },
  {
   "cell_type": "code",
   "execution_count": null,
   "metadata": {},
   "outputs": [],
   "source": [
    "# plot a tree\n",
    "m_fit = m_cv['estimator'][0]\n",
    "plt.figure(dpi=300)\n",
    "plot_tree(m_fit, feature_names=feature_names)\n",
    "plt.show()"
   ]
  }
 ],
 "metadata": {
  "kernelspec": {
   "display_name": "Python 3",
   "language": "python",
   "name": "python3"
  },
  "language_info": {
   "codemirror_mode": {
    "name": "ipython",
    "version": 3
   },
   "file_extension": ".py",
   "mimetype": "text/x-python",
   "name": "python",
   "nbconvert_exporter": "python",
   "pygments_lexer": "ipython3",
   "version": "3.7.5"
  }
 },
 "nbformat": 4,
 "nbformat_minor": 4
}
