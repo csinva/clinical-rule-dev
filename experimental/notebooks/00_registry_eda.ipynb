{
 "cells": [
  {
   "cell_type": "code",
   "execution_count": null,
   "metadata": {
    "collapsed": false,
    "pycharm": {
     "name": "#%%\n"
    }
   },
   "outputs": [],
   "source": [
    "%load_ext autoreload\n",
    "%autoreload 2\n",
    "\n",
    "import pandas as pd\n",
    "from sklearn import preprocessing\n",
    "import numpy as np\n",
    "from sklearn.model_selection import train_test_split\n",
    "from tqdm import tqdm\n",
    "import os.path\n",
    "import joblib\n",
    "import seaborn as sns\n",
    "import matplotlib.pyplot as plt\n",
    "from os.path import join\n",
    "import dvu\n",
    "dvu.set_style()\n",
    "from collections import defaultdict\n",
    "csv_dir = join('../data', 'PECARN_Registry', 'C. CSV Datasets')\n",
    "\n",
    "def load_df(prefix='DIAGNOSISICD10'):\n",
    "    csv_files = [f for f in os.listdir(csv_dir) if f.startswith(prefix) and f.endswith('.CSV')]\n",
    "    dfs = []\n",
    "    for f in tqdm(csv_files):\n",
    "        dfs.append(pd.read_csv(join(csv_dir, f), engine='pyarrow'))\n",
    "    df = pd.concat(dfs, ignore_index=True)\n",
    "    return df"
   ]
  },
  {
   "cell_type": "markdown",
   "metadata": {},
   "source": [
    "- Our background\n",
    "  - The original PECARN analysis was based on 12,044 patients, 203 with IAI-I\t([Holmes et al. 2013](https://pubmed.ncbi.nlm.nih.gov/23375510/).)\n",
    "  - In our stress-testing, we evaluate external validity of the PECARN IAI-I rule using the PSRC cohort of 2,188 patients, 62 with IAI-I ([Kornblith et al. 2022](https://journals.plos.org/digitalhealth/article?id=10.1371/journal.pdig.0000076))\n",
    "  - We also performed analysis in evaluating patient perspectives with LLMs for PECARN's PediDOSE EFIC trial ([Kornblith et al. 2025](https://www.nature.com/articles/s41598-025-89996-w))\n",
    "- PECARN registry metadata\n",
    "  - PECARN public registry includes 5,831,284 records across 2012-2021\n",
    "  - There is a fair amount of data for ICD-10 codes relevant to IAI, e.g. code S36 (5,650 records), S37 (2,026 records)\n",
    "  - Among the patients with either of these codes we find that 12.50% have a GCS-Score of 14 or less, compared to the 3.53% in the rest of the cohort\n",
    "  - These patients additionally have a mean pain score of 1.99, compared to 1.72 in the rest of the cohort\n",
    "  - We would like to be able to link these patients to sufficient predictor variables / free text to be able to build and assess different types of models"
   ]
  },
  {
   "cell_type": "markdown",
   "metadata": {},
   "source": [
    "### Load ICD-10"
   ]
  },
  {
   "cell_type": "code",
   "execution_count": null,
   "metadata": {},
   "outputs": [],
   "source": [
    "df_ICD = load_df('DIAGNOSISICD10')"
   ]
  },
  {
   "cell_type": "code",
   "execution_count": null,
   "metadata": {},
   "outputs": [],
   "source": [
    "visit_ids_relevant = []\n",
    "for k in ['S36', 'S37']:  # , 'S35']:\n",
    "    print(k, df_ICD['DXCode'].str.startswith(k).sum())\n",
    "    visit_ids_relevant.append(\n",
    "        df_ICD.loc[df_ICD['DXCode'].str.startswith(k), 'VisitID'].unique())\n",
    "visit_ids_relevant = set(visit_ids_relevant[0]) & set(visit_ids_relevant[1])"
   ]
  },
  {
   "cell_type": "markdown",
   "metadata": {},
   "source": [
    "### Load GCSScore"
   ]
  },
  {
   "cell_type": "code",
   "execution_count": null,
   "metadata": {},
   "outputs": [],
   "source": [
    "df_GCS = load_df('GCS')"
   ]
  },
  {
   "cell_type": "code",
   "execution_count": null,
   "metadata": {},
   "outputs": [],
   "source": [
    "# find intersection between GCS and visits\n",
    "rel_idxs = df_GCS['VisitID'].isin(visit_ids_relevant)\n",
    "# plt.hist(df_GCS['GCSTotal'][rel_idxs], bins=20)\n",
    "sns.histplot(df_GCS['GCSTotal'][rel_idxs], bins=20, stat='probability', )\n",
    "# plt.hist(df_GCS['GCSTotal'][~rel_idxs], bins=20)\n",
    "sns.histplot(df_GCS['GCSTotal'][~rel_idxs], bins=20,\n",
    "             stat='probability', color='red')\n",
    "plt.title('GCS Distribution')\n",
    "\n",
    "print((df_GCS[rel_idxs]['GCSTotal'] < 15).mean())\n",
    "print((df_GCS[~rel_idxs]['GCSTotal'] < 15).mean())"
   ]
  },
  {
   "cell_type": "markdown",
   "metadata": {},
   "source": [
    "### Load Painscores"
   ]
  },
  {
   "cell_type": "code",
   "execution_count": 50,
   "metadata": {},
   "outputs": [
    {
     "name": "stderr",
     "output_type": "stream",
     "text": [
      "100%|██████████| 10/10 [00:00<00:00, 31.68it/s]\n"
     ]
    }
   ],
   "source": [
    "df_pain = load_df('PAIN')"
   ]
  },
  {
   "cell_type": "code",
   "execution_count": 52,
   "metadata": {},
   "outputs": [
    {
     "name": "stdout",
     "output_type": "stream",
     "text": [
      "1.9921982076963627\n",
      "1.7201413054198782\n"
     ]
    }
   ],
   "source": [
    "rel_idxs = df_pain['VisitID'].isin(visit_ids_relevant)\n",
    "print(df_pain['PainScore'][rel_idxs].mean())\n",
    "print(df_pain['PainScore'][~rel_idxs].mean())"
   ]
  },
  {
   "cell_type": "markdown",
   "metadata": {},
   "source": [
    "### Vitals"
   ]
  },
  {
   "cell_type": "code",
   "execution_count": null,
   "metadata": {},
   "outputs": [
    {
     "name": "stderr",
     "output_type": "stream",
     "text": [
      "100%|██████████| 10/10 [00:00<00:00, 11.55it/s]\n"
     ]
    }
   ],
   "source": [
    "df_vitals = load_df('VITALS')"
   ]
  },
  {
   "cell_type": "code",
   "execution_count": 54,
   "metadata": {},
   "outputs": [
    {
     "data": {
      "text/html": [
       "<div>\n",
       "<style scoped>\n",
       "    .dataframe tbody tr th:only-of-type {\n",
       "        vertical-align: middle;\n",
       "    }\n",
       "\n",
       "    .dataframe tbody tr th {\n",
       "        vertical-align: top;\n",
       "    }\n",
       "\n",
       "    .dataframe thead th {\n",
       "        text-align: right;\n",
       "    }\n",
       "</style>\n",
       "<table border=\"1\" class=\"dataframe\">\n",
       "  <thead>\n",
       "    <tr style=\"text-align: right;\">\n",
       "      <th></th>\n",
       "      <th>VisitID</th>\n",
       "      <th>PersonID</th>\n",
       "      <th>VitalsID</th>\n",
       "      <th>EDYear</th>\n",
       "      <th>EDMonth</th>\n",
       "      <th>VitalTimeMin</th>\n",
       "      <th>SystolicBP</th>\n",
       "      <th>DiastolicBP</th>\n",
       "      <th>HeartRate</th>\n",
       "      <th>RespiratoryRate</th>\n",
       "      <th>TempC</th>\n",
       "      <th>TempRoute</th>\n",
       "      <th>WeightKg</th>\n",
       "    </tr>\n",
       "  </thead>\n",
       "  <tbody>\n",
       "    <tr>\n",
       "      <th>0</th>\n",
       "      <td>84368</td>\n",
       "      <td>1426836</td>\n",
       "      <td>1</td>\n",
       "      <td>2012</td>\n",
       "      <td>1</td>\n",
       "      <td>8</td>\n",
       "      <td>NaN</td>\n",
       "      <td>NaN</td>\n",
       "      <td>NaN</td>\n",
       "      <td>NaN</td>\n",
       "      <td>NaN</td>\n",
       "      <td>None</td>\n",
       "      <td>9.349949</td>\n",
       "    </tr>\n",
       "    <tr>\n",
       "      <th>1</th>\n",
       "      <td>84368</td>\n",
       "      <td>1426836</td>\n",
       "      <td>2</td>\n",
       "      <td>2012</td>\n",
       "      <td>1</td>\n",
       "      <td>13</td>\n",
       "      <td>100.0</td>\n",
       "      <td>48.0</td>\n",
       "      <td>112.0</td>\n",
       "      <td>32.0</td>\n",
       "      <td>36.9</td>\n",
       "      <td>Rectal</td>\n",
       "      <td>NaN</td>\n",
       "    </tr>\n",
       "    <tr>\n",
       "      <th>2</th>\n",
       "      <td>431369</td>\n",
       "      <td>1664675</td>\n",
       "      <td>1</td>\n",
       "      <td>2012</td>\n",
       "      <td>9</td>\n",
       "      <td>9</td>\n",
       "      <td>NaN</td>\n",
       "      <td>NaN</td>\n",
       "      <td>NaN</td>\n",
       "      <td>NaN</td>\n",
       "      <td>NaN</td>\n",
       "      <td>None</td>\n",
       "      <td>53.299330</td>\n",
       "    </tr>\n",
       "    <tr>\n",
       "      <th>3</th>\n",
       "      <td>431369</td>\n",
       "      <td>1664675</td>\n",
       "      <td>2</td>\n",
       "      <td>2012</td>\n",
       "      <td>9</td>\n",
       "      <td>10</td>\n",
       "      <td>148.0</td>\n",
       "      <td>76.0</td>\n",
       "      <td>78.0</td>\n",
       "      <td>20.0</td>\n",
       "      <td>37.3</td>\n",
       "      <td>Oral</td>\n",
       "      <td>NaN</td>\n",
       "    </tr>\n",
       "    <tr>\n",
       "      <th>4</th>\n",
       "      <td>283793</td>\n",
       "      <td>517135</td>\n",
       "      <td>1</td>\n",
       "      <td>2012</td>\n",
       "      <td>11</td>\n",
       "      <td>24</td>\n",
       "      <td>NaN</td>\n",
       "      <td>NaN</td>\n",
       "      <td>NaN</td>\n",
       "      <td>NaN</td>\n",
       "      <td>NaN</td>\n",
       "      <td>None</td>\n",
       "      <td>27.099570</td>\n",
       "    </tr>\n",
       "    <tr>\n",
       "      <th>...</th>\n",
       "      <td>...</td>\n",
       "      <td>...</td>\n",
       "      <td>...</td>\n",
       "      <td>...</td>\n",
       "      <td>...</td>\n",
       "      <td>...</td>\n",
       "      <td>...</td>\n",
       "      <td>...</td>\n",
       "      <td>...</td>\n",
       "      <td>...</td>\n",
       "      <td>...</td>\n",
       "      <td>...</td>\n",
       "      <td>...</td>\n",
       "    </tr>\n",
       "    <tr>\n",
       "      <th>20475447</th>\n",
       "      <td>239806</td>\n",
       "      <td>2277537</td>\n",
       "      <td>3</td>\n",
       "      <td>2018</td>\n",
       "      <td>10</td>\n",
       "      <td>178</td>\n",
       "      <td>110.0</td>\n",
       "      <td>66.0</td>\n",
       "      <td>105.0</td>\n",
       "      <td>25.0</td>\n",
       "      <td>36.9</td>\n",
       "      <td>Other</td>\n",
       "      <td>NaN</td>\n",
       "    </tr>\n",
       "    <tr>\n",
       "      <th>20475448</th>\n",
       "      <td>239806</td>\n",
       "      <td>2277537</td>\n",
       "      <td>2</td>\n",
       "      <td>2018</td>\n",
       "      <td>10</td>\n",
       "      <td>15</td>\n",
       "      <td>NaN</td>\n",
       "      <td>NaN</td>\n",
       "      <td>NaN</td>\n",
       "      <td>NaN</td>\n",
       "      <td>NaN</td>\n",
       "      <td>None</td>\n",
       "      <td>18.699900</td>\n",
       "    </tr>\n",
       "    <tr>\n",
       "      <th>20475449</th>\n",
       "      <td>578759</td>\n",
       "      <td>578330</td>\n",
       "      <td>1</td>\n",
       "      <td>2018</td>\n",
       "      <td>10</td>\n",
       "      <td>7</td>\n",
       "      <td>122.0</td>\n",
       "      <td>78.0</td>\n",
       "      <td>119.0</td>\n",
       "      <td>16.0</td>\n",
       "      <td>37.1</td>\n",
       "      <td>Oral</td>\n",
       "      <td>60.499250</td>\n",
       "    </tr>\n",
       "    <tr>\n",
       "      <th>20475450</th>\n",
       "      <td>578759</td>\n",
       "      <td>578330</td>\n",
       "      <td>3</td>\n",
       "      <td>2018</td>\n",
       "      <td>10</td>\n",
       "      <td>192</td>\n",
       "      <td>108.0</td>\n",
       "      <td>65.0</td>\n",
       "      <td>83.0</td>\n",
       "      <td>12.0</td>\n",
       "      <td>37.2</td>\n",
       "      <td>Other</td>\n",
       "      <td>NaN</td>\n",
       "    </tr>\n",
       "    <tr>\n",
       "      <th>20475451</th>\n",
       "      <td>578759</td>\n",
       "      <td>578330</td>\n",
       "      <td>2</td>\n",
       "      <td>2018</td>\n",
       "      <td>10</td>\n",
       "      <td>151</td>\n",
       "      <td>103.0</td>\n",
       "      <td>57.0</td>\n",
       "      <td>89.0</td>\n",
       "      <td>15.0</td>\n",
       "      <td>37.3</td>\n",
       "      <td>Other</td>\n",
       "      <td>NaN</td>\n",
       "    </tr>\n",
       "  </tbody>\n",
       "</table>\n",
       "<p>20475452 rows × 13 columns</p>\n",
       "</div>"
      ],
      "text/plain": [
       "          VisitID  PersonID  VitalsID  EDYear  EDMonth  VitalTimeMin  \\\n",
       "0           84368   1426836         1    2012        1             8   \n",
       "1           84368   1426836         2    2012        1            13   \n",
       "2          431369   1664675         1    2012        9             9   \n",
       "3          431369   1664675         2    2012        9            10   \n",
       "4          283793    517135         1    2012       11            24   \n",
       "...           ...       ...       ...     ...      ...           ...   \n",
       "20475447   239806   2277537         3    2018       10           178   \n",
       "20475448   239806   2277537         2    2018       10            15   \n",
       "20475449   578759    578330         1    2018       10             7   \n",
       "20475450   578759    578330         3    2018       10           192   \n",
       "20475451   578759    578330         2    2018       10           151   \n",
       "\n",
       "          SystolicBP  DiastolicBP  HeartRate  RespiratoryRate  TempC  \\\n",
       "0                NaN          NaN        NaN              NaN    NaN   \n",
       "1              100.0         48.0      112.0             32.0   36.9   \n",
       "2                NaN          NaN        NaN              NaN    NaN   \n",
       "3              148.0         76.0       78.0             20.0   37.3   \n",
       "4                NaN          NaN        NaN              NaN    NaN   \n",
       "...              ...          ...        ...              ...    ...   \n",
       "20475447       110.0         66.0      105.0             25.0   36.9   \n",
       "20475448         NaN          NaN        NaN              NaN    NaN   \n",
       "20475449       122.0         78.0      119.0             16.0   37.1   \n",
       "20475450       108.0         65.0       83.0             12.0   37.2   \n",
       "20475451       103.0         57.0       89.0             15.0   37.3   \n",
       "\n",
       "         TempRoute   WeightKg  \n",
       "0             None   9.349949  \n",
       "1           Rectal        NaN  \n",
       "2             None  53.299330  \n",
       "3             Oral        NaN  \n",
       "4             None  27.099570  \n",
       "...            ...        ...  \n",
       "20475447     Other        NaN  \n",
       "20475448      None  18.699900  \n",
       "20475449      Oral  60.499250  \n",
       "20475450     Other        NaN  \n",
       "20475451     Other        NaN  \n",
       "\n",
       "[20475452 rows x 13 columns]"
      ]
     },
     "execution_count": 54,
     "metadata": {},
     "output_type": "execute_result"
    }
   ],
   "source": [
    "df_vitals"
   ]
  }
 ],
 "metadata": {
  "kernelspec": {
   "display_name": ".env",
   "language": "python",
   "name": "python3"
  },
  "language_info": {
   "codemirror_mode": {
    "name": "ipython",
    "version": 3
   },
   "file_extension": ".py",
   "mimetype": "text/x-python",
   "name": "python",
   "nbconvert_exporter": "python",
   "pygments_lexer": "ipython3",
   "version": "3.11.11"
  }
 },
 "nbformat": 4,
 "nbformat_minor": 0
}
