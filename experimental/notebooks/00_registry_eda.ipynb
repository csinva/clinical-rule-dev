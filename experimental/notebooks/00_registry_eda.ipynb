{
 "cells": [
  {
   "cell_type": "code",
   "execution_count": null,
   "metadata": {
    "collapsed": false,
    "pycharm": {
     "name": "#%%\n"
    }
   },
   "outputs": [],
   "source": [
    "%load_ext autoreload\n",
    "%autoreload 2\n",
    "\n",
    "import pandas as pd\n",
    "import numpy as np\n",
    "from tqdm import tqdm\n",
    "import os.path\n",
    "import seaborn as sns\n",
    "import matplotlib.pyplot as plt\n",
    "from os.path import join\n",
    "import dvu\n",
    "dvu.set_style()\n",
    "csv_dir = join('../data', 'PECARN_Registry', 'C. CSV Datasets')\n",
    "\n",
    "def load_df(prefix='DIAGNOSISICD10'):\n",
    "    csv_files = [f for f in os.listdir(csv_dir) if f.startswith(prefix) and f.endswith('.CSV')]\n",
    "    dfs = []\n",
    "    for f in tqdm(csv_files):\n",
    "        dfs.append(pd.read_csv(join(csv_dir, f), engine='pyarrow'))\n",
    "    df = pd.concat(dfs, ignore_index=True)\n",
    "    return df"
   ]
  },
  {
   "cell_type": "markdown",
   "metadata": {},
   "source": [
    "**Our background**\n",
    "- The original PECARN analysis was based on 12,044 patients, 203 with IAI-I\t([Holmes et al. 2013](https://pubmed.ncbi.nlm.nih.gov/23375510/).)\n",
    "- In our stress-testing, we evaluate external validity of the PECARN IAI-I rule using the PSRC cohort of 2,188 patients, 62 with IAI-I ([Kornblith et al. 2022](https://journals.plos.org/digitalhealth/article?id=10.1371/journal.pdig.0000076))\n",
    "- We also performed analysis in evaluating patient perspectives with LLMs for PECARN's PediDOSE EFIC trial ([Kornblith et al. 2025](https://www.nature.com/articles/s41598-025-89996-w))\n",
    "\n",
    "**PECARN registry relevant patient counts**\n",
    "- PECARN public registry includes 5,831,284 records across 2012-2021\n",
    "- There is a fair amount of data for diagnoses relevant to IAI. The table below shows the number of records in the data corresponding to relevant codes in ICD-10 (and ICD-9 codes for data before 2016)\n",
    "\n",
    "| S36 | S37 | S39.0 | S39.6 | S39.8 | S39.9 | 860 | 861 | 862 | 863 | 864 | 865 | 866 | 867 | 868 | 869 |\n",
    "|-----|-----|-------|-------|-------|-------|-----|-----|-----|-----|-----|-----|-----|-----|-----|-----|\n",
    "|5650 |2026 |4685   |0      |2318   |8663   |290  |378  |63   |322  |389  |383  |211  |82   |273  |10   |\n",
    "\n",
    "Aggregating across these codes, we find a total of 16,647 unique patient visits corresponding to 16,391 unique patient IDs.\n",
    "\n",
    "These patients received a large amount of imaging of different types, with total counts aggregated over the 16,647 unique patients as follows (note that patients often received multiple imaging types):\n",
    "\n",
    "| Imaging type   |   Count |\n",
    "|:--------------|--------:|\n",
    "| XRAY          |   47344 |\n",
    "| CT            |   11115 |\n",
    "| Ultrasound    |    8735 |\n",
    "| Other         |    8497 |\n",
    "| MRI           |    1048 |\n",
    "\n",
    "**PECARN registry linking patient counts to predictor variables**\n",
    "- We evaluate the broad set of IAI-related patient visits above based on the predictor variables available in the PECARN registry\n",
    "  - GCS-Score\n",
    "    - We find that the among the set, 5.20% of patients have a GCS-Score of 14 or less, compared to 3.50% in the rest of the cohort\n",
    "    - When restricting only to the ICD-10 codes, we find that 12.50% have a GCS-Score of 14 or less, compared to the 3.53% in the rest of the cohort\n",
    "  - Pain-Score\n",
    "    - We find that the among the set, patients have a mean pain score of 1.91, compared to 1.72 in the rest of the cohort\n",
    "    - When restricting only to the ICD-10 codes, patients have a mean pain score of 1.99, compared to 1.72 in the rest of the cohort\n",
    "- We would like to be able to link these patients to sufficient predictor variables / free text to be able to build and assess different types of models"
   ]
  },
  {
   "cell_type": "markdown",
   "metadata": {},
   "source": [
    "### Load ICD-10"
   ]
  },
  {
   "cell_type": "code",
   "execution_count": null,
   "metadata": {},
   "outputs": [],
   "source": [
    "df_ICD_10 = load_df('DIAGNOSISICD10')\n",
    "df_ICD_9 = load_df('DIAGNOSISICD9')"
   ]
  },
  {
   "cell_type": "code",
   "execution_count": null,
   "metadata": {},
   "outputs": [],
   "source": [
    "# notes on ICD codes\n",
    "# S36*\n",
    "# S37*\n",
    "# S39.0 – Injury of muscle and tendon of abdomen, lower back, and pelvis\n",
    "# S39.6 – Injury of intra-abdominal organ(s) with pelvic organ(s)\n",
    "# S39.8 – Other specified injuries of abdomen, lower back, and pelvis\n",
    "# S39.9 – Unspecified injury of abdomen, lower back, and pelvis\n",
    "ICD_10_LIST = ['S36', 'S37', 'S39.0', 'S39.6', 'S39.8', 'S39.9']\n",
    "ICD_9_LIST = ['860', '861', '862', '863',\n",
    "              '864', '865', '866', '867', '868', '869']"
   ]
  },
  {
   "cell_type": "code",
   "execution_count": null,
   "metadata": {},
   "outputs": [],
   "source": [
    "visit_ids_relevant = []\n",
    "person_ids_relevant = []\n",
    "for k in ICD_10_LIST:  # , 'S35']:\n",
    "    print(k, df_ICD_10['DXCode'].str.startswith(k).sum())\n",
    "    visit_ids_relevant.append(\n",
    "        df_ICD_10.loc[df_ICD_10['DXCode'].str.startswith(k), 'VisitID'].unique())\n",
    "    person_ids_relevant.append(\n",
    "        df_ICD_10.loc[df_ICD_10['DXCode'].str.startswith(k), 'PersonID'].unique())\n",
    "\n",
    "for k in ICD_9_LIST:\n",
    "    print(k, df_ICD_9['DXCode'].str.startswith(k).sum())\n",
    "    visit_ids_relevant.append(\n",
    "        df_ICD_9.loc[df_ICD_9['DXCode'].str.startswith(k), 'VisitID'].unique())\n",
    "    person_ids_relevant.append(\n",
    "        df_ICD_9.loc[df_ICD_9['DXCode'].str.startswith(k), 'PersonID'].unique())"
   ]
  },
  {
   "cell_type": "code",
   "execution_count": null,
   "metadata": {},
   "outputs": [],
   "source": [
    "visit_ids_relevant = np.unique(np.concatenate(visit_ids_relevant))\n",
    "patient_ids_relevant = np.unique(np.concatenate(person_ids_relevant))\n",
    "len(visit_ids_relevant), len(patient_ids_relevant)"
   ]
  },
  {
   "cell_type": "markdown",
   "metadata": {},
   "source": [
    "### Load GCSScore"
   ]
  },
  {
   "cell_type": "code",
   "execution_count": null,
   "metadata": {},
   "outputs": [],
   "source": [
    "df_GCS = load_df('GCS')"
   ]
  },
  {
   "cell_type": "code",
   "execution_count": null,
   "metadata": {},
   "outputs": [],
   "source": [
    "# find intersection between GCS and visits\n",
    "rel_idxs = df_GCS['VisitID'].isin(visit_ids_relevant)\n",
    "# plt.hist(df_GCS['GCSTotal'][rel_idxs], bins=20)\n",
    "sns.histplot(df_GCS['GCSTotal'][rel_idxs], bins=20, stat='probability')\n",
    "# plt.hist(df_GCS['GCSTotal'][~rel_idxs], bins=20)\n",
    "sns.histplot(df_GCS['GCSTotal'][~rel_idxs], bins=20,\n",
    "             stat='probability', color='red')\n",
    "plt.title('GCS Distribution')\n",
    "\n",
    "print((df_GCS[rel_idxs]['GCSTotal'] < 15).mean())\n",
    "print((df_GCS[~rel_idxs]['GCSTotal'] < 15).mean())"
   ]
  },
  {
   "cell_type": "markdown",
   "metadata": {},
   "source": [
    "### Load Painscores"
   ]
  },
  {
   "cell_type": "code",
   "execution_count": null,
   "metadata": {},
   "outputs": [],
   "source": [
    "df_pain = load_df('PAIN')"
   ]
  },
  {
   "cell_type": "code",
   "execution_count": null,
   "metadata": {},
   "outputs": [],
   "source": [
    "rel_idxs = df_pain['VisitID'].isin(visit_ids_relevant)\n",
    "print(df_pain['PainScore'][rel_idxs].mean())\n",
    "print(df_pain['PainScore'][~rel_idxs].mean())"
   ]
  },
  {
   "cell_type": "markdown",
   "metadata": {},
   "source": [
    "### Imaging"
   ]
  },
  {
   "cell_type": "code",
   "execution_count": null,
   "metadata": {},
   "outputs": [],
   "source": [
    "df_im = load_df('IMAGING')"
   ]
  },
  {
   "cell_type": "code",
   "execution_count": null,
   "metadata": {},
   "outputs": [],
   "source": [
    "rel_idxs = df_im['VisitID'].isin(visit_ids_relevant)\n",
    "vals = df_im[rel_idxs]['RadTestType'].value_counts().head(20)\n",
    "\n",
    "print(vals.T.to_markdown())"
   ]
  },
  {
   "cell_type": "markdown",
   "metadata": {},
   "source": [
    "### Medications"
   ]
  },
  {
   "cell_type": "code",
   "execution_count": null,
   "metadata": {},
   "outputs": [],
   "source": [
    "df_med = load_df('MEDICATIONS')\n",
    "vals = df_med['MedName'].value_counts()\n",
    "for k in vals.index:\n",
    "    k_l = str(k.lower())\n",
    "    if 'prbc' in k_l or 'platelets' in k_l or 'blood' in k_l or 'ffp' in k_l:\n",
    "        print(k, vals[k])\n",
    "# Medications doesn't record whether blood was received (atleast not based on keywords prbc, platelets, blood, or ffp)\n",
    "vals.head(40)"
   ]
  }
 ],
 "metadata": {
  "kernelspec": {
   "display_name": ".env",
   "language": "python",
   "name": "python3"
  },
  "language_info": {
   "codemirror_mode": {
    "name": "ipython",
    "version": 3
   },
   "file_extension": ".py",
   "mimetype": "text/x-python",
   "name": "python",
   "nbconvert_exporter": "python",
   "pygments_lexer": "ipython3",
   "version": "3.11.11"
  }
 },
 "nbformat": 4,
 "nbformat_minor": 0
}
