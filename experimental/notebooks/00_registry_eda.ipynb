{
 "cells": [
  {
   "cell_type": "code",
   "execution_count": 1,
   "metadata": {
    "collapsed": false,
    "pycharm": {
     "name": "#%%\n"
    }
   },
   "outputs": [],
   "source": [
    "%load_ext autoreload\n",
    "%autoreload 2\n",
    "\n",
    "import pandas as pd\n",
    "from sklearn import preprocessing\n",
    "import numpy as np\n",
    "from sklearn.model_selection import train_test_split\n",
    "from tqdm import tqdm\n",
    "import os.path\n",
    "import joblib\n",
    "import seaborn as sns\n",
    "import matplotlib.pyplot as plt\n",
    "from os.path import join\n",
    "import dvu\n",
    "dvu.set_style()\n",
    "from collections import defaultdict\n",
    "import imodelsx.process_results"
   ]
  },
  {
   "cell_type": "markdown",
   "metadata": {},
   "source": [
    "- Our background\n",
    "  - The original PECARN analysis was based on 12,044 patients, 203 with IAI-I\t([Holmes et al. 2013](https://pubmed.ncbi.nlm.nih.gov/23375510/).)\n",
    "  - In our stress-testing, we evaluate external validity of the PECARN IAI-I rule using the PSRC cohort of 2,188 patients, 62 with IAI-I ([Kornblith et al. 2022](https://journals.plos.org/digitalhealth/article?id=10.1371/journal.pdig.0000076))\n",
    "  - We also performed analysis in evaluating patient perspectives with LLMs for PECARN's PediDOSE EFIC trial ([Kornblith et al. 2025](https://www.nature.com/articles/s41598-025-89996-w))\n",
    "- PECARN registry metadata\n",
    "  - PECARN public registry includes 5,831,284 records across 2012-2021\n",
    "  - There is a fair amount of data for ICD-10 codes relevant to IAI, e.g. code S36 (5,650 records), S37 (2,026 records)\n",
    "  "
   ]
  },
  {
   "cell_type": "markdown",
   "metadata": {},
   "source": [
    "### Load ICD-10"
   ]
  },
  {
   "cell_type": "code",
   "execution_count": 13,
   "metadata": {},
   "outputs": [],
   "source": [
    "csv_dir = join('../data', 'PECARN_Registry', 'C. CSV Datasets')\n",
    "csv_files = [f for f in os.listdir(csv_dir) if f.startswith(\n",
    "    'DIAGNOSISICD10') and f.endswith('.CSV')]"
   ]
  },
  {
   "cell_type": "code",
   "execution_count": null,
   "metadata": {},
   "outputs": [
    {
     "name": "stderr",
     "output_type": "stream",
     "text": [
      "100%|██████████| 7/7 [00:01<00:00,  5.73it/s]\n"
     ]
    }
   ],
   "source": [
    "dfs = []\n",
    "for f in tqdm(csv_files):\n",
    "    dfs.append(pd.read_csv(join(csv_dir, f), engine='pyarrow'))\n",
    "df = pd.concat(dfs)"
   ]
  },
  {
   "cell_type": "code",
   "execution_count": 25,
   "metadata": {},
   "outputs": [
    {
     "name": "stdout",
     "output_type": "stream",
     "text": [
      "S36 5650\n",
      "S37 2026\n",
      "S35 120\n"
     ]
    }
   ],
   "source": [
    "for k in ['S36', 'S37', 'S35']:\n",
    "    print(k, df['DXCode'].str.startswith(k).sum())"
   ]
  }
 ],
 "metadata": {
  "kernelspec": {
   "display_name": ".env",
   "language": "python",
   "name": "python3"
  },
  "language_info": {
   "codemirror_mode": {
    "name": "ipython",
    "version": 3
   },
   "file_extension": ".py",
   "mimetype": "text/x-python",
   "name": "python",
   "nbconvert_exporter": "python",
   "pygments_lexer": "ipython3",
   "version": "3.11.11"
  }
 },
 "nbformat": 4,
 "nbformat_minor": 0
}
