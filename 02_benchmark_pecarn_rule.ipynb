{
 "cells": [
  {
   "cell_type": "code",
   "execution_count": 2,
   "metadata": {},
   "outputs": [],
   "source": [
    "import os\n",
    "from os.path import join as oj\n",
    "import sys, time\n",
    "sys.path.insert(1, oj(sys.path[0], '..'))  # insert parent path\n",
    "import seaborn as sns\n",
    "from sklearn.model_selection import train_test_split\n",
    "import numpy as np\n",
    "import matplotlib.pyplot as plt\n",
    "from tqdm import tqdm\n",
    "from copy import deepcopy\n",
    "import pickle as pkl\n",
    "from sklearn.tree import DecisionTreeClassifier, plot_tree\n",
    "from sklearn.model_selection import cross_validate, ShuffleSplit, train_test_split\n",
    "import pandas as pd\n",
    "import data_pecarn \n",
    "import data_psrc\n",
    "import data\n",
    "import util\n",
    "from style import *\n",
    "from collections import Counter\n",
    "from data import feats_numerical, feats_categorical, meta, outcome_def\n",
    "\n",
    "# plt.style.use('dark_background')\n",
    "# sns.set(style=\"white\")\n",
    "%matplotlib inline\n",
    "%load_ext autoreload\n",
    "%autoreload 2"
   ]
  },
  {
   "cell_type": "markdown",
   "metadata": {},
   "source": [
    "# benchmark bivariable associations"
   ]
  },
  {
   "cell_type": "code",
   "execution_count": 10,
   "metadata": {},
   "outputs": [
    {
     "name": "stdout",
     "output_type": "stream",
     "text": [
      "computing pecarn preprocessing...\n",
      "computing psrc preprocessing...\n"
     ]
    }
   ],
   "source": [
    "df_pecarn, df_psrc, common_feats, filtered_feats_pecarn, filtered_feats_psrc = data.load_it_all(dummy=True, impute=False)\n",
    "d = df_pecarn[common_feats]"
   ]
  },
  {
   "cell_type": "code",
   "execution_count": null,
   "metadata": {},
   "outputs": [],
   "source": [
    "d['Age<2'] = d['Age'] < 2\n",
    "d['GCS<14'] = d['GCSScore'] < 14\n",
    "data.select_final_feats(filtered_feats_pecarn)"
   ]
  },
  {
   "cell_type": "code",
   "execution_count": null,
   "metadata": {},
   "outputs": [],
   "source": [
    "ks = ['AbdomenPain', 'AbdTrauma_or_SeatBeltSign', 'GCS<14',\n",
    "      'AbdTenderDegree',\n",
    "      'ThoracicTrauma_yes',\n",
    "      'DecrBreathSound_yes',\n",
    "      'VomitWretch',\n",
    "      'Age<2',\n",
    "      'MOI_Motor vehicle collision',\n",
    "      'Hypotension_yes',\n",
    "       'ThoracicTender_yes',\n",
    " 'CostalTender',\n",
    "'AbdDistention_yes',\n",
    " 'DistractingPain_yes'\n",
    "     ]\n",
    "index = ['NA', 'IAIw/I', 'No IAIw/I', 'Difference']\n",
    "o = data.outcome_def\n",
    "r = {k: [] for k in ks}\n",
    "io = d[o] == 1\n",
    "# print(d[io])\n",
    "for k in ks:\n",
    "    ik = d[k] == 1 # d[o]==1\n",
    "    inan = d[k].isna()\n",
    "    r[k].append(np.sum(inan))   \n",
    "    num1 = np.sum(d[ik][o]==1)\n",
    "    denom1 = (io & ~inan).sum()\n",
    "    r[k].append(f'{num1}/{denom1}')\n",
    "    num2 = np.sum(d[ik][o]==0)\n",
    "    denom2 = (~io & ~inan).sum()\n",
    "    r[k].append(f'{num2}/{denom2}')\n",
    "    r[k].append(f'{num1/denom1 - num2/denom2:0.3f}')    \n",
    "r = pd.DataFrame.from_dict(r)\n",
    "r.index = index\n",
    "r.transpose()"
   ]
  },
  {
   "cell_type": "markdown",
   "metadata": {},
   "source": [
    "# recreate / evaluate rule"
   ]
  },
  {
   "cell_type": "code",
   "execution_count": 30,
   "metadata": {},
   "outputs": [
    {
     "name": "stdout",
     "output_type": "stream",
     "text": [
      "203 / 12044\n",
      "AbdTrauma_or_SeatBeltSign 91 / 10081\t112 / 1963\n",
      "GCSScore                  55 / 9279\t36 / 802\n",
      "AbdTenderDegree           19 / 6767\t36 / 2512\n",
      "ThoracicTrauma            13 / 5807\t6 / 960\n",
      "AbdomenPain               11 / 5478\t2 / 329\n",
      "DecrBreathSound           9 / 5443\t2 / 35\n",
      "VomitWretch               7 / 5045\t2 / 398\n"
     ]
    }
   ],
   "source": [
    "def pecarn_rule_predict(d, o=data.outcome_def):\n",
    "    print(f'{d[o].sum()} / {d.shape[0]}')\n",
    "    risks = np.array([np.nan] * d.shape[0])\n",
    "    \n",
    "    rules = [\n",
    "        ('AbdTrauma_or_SeatBeltSign', ['yes']),\n",
    "        ('GCSScore', range(14)),\n",
    "        ('AbdTenderDegree', ['Mild', 'Moderate', 'Severe']),\n",
    "        ('ThoracicTrauma', ['yes']),        \n",
    "        ('AbdomenPain', ['yes']),\n",
    "        ('DecrBreathSound', ['yes']),\n",
    "        ('VomitWretch', ['yes']),\n",
    "    ]\n",
    "    \n",
    "    for rule in rules:\n",
    "        k, vals = rule\n",
    "        idxs = d[k].isin(vals)\n",
    "        # print(d[k].unique())\n",
    "        do = d[idxs]\n",
    "        d = d[~idxs]\n",
    "        \n",
    "        print(f'{k:<25} {d[o].sum()} / {d.shape[0]}\\t{do[o].sum()} / {do.shape[0]}')\n",
    "    patients_missed = d[d[o] == 1]\n",
    "    return patients_missed\n",
    "\n",
    "patients_missed = pecarn_rule_predict(df_pecarn)"
   ]
  },
  {
   "cell_type": "code",
   "execution_count": 35,
   "metadata": {},
   "outputs": [
    {
     "data": {
      "text/html": [
       "<div>\n",
       "<style scoped>\n",
       "    .dataframe tbody tr th:only-of-type {\n",
       "        vertical-align: middle;\n",
       "    }\n",
       "\n",
       "    .dataframe tbody tr th {\n",
       "        vertical-align: top;\n",
       "    }\n",
       "\n",
       "    .dataframe thead th {\n",
       "        text-align: right;\n",
       "    }\n",
       "</style>\n",
       "<table border=\"1\" class=\"dataframe\">\n",
       "  <thead>\n",
       "    <tr style=\"text-align: right;\">\n",
       "      <th></th>\n",
       "      <th>Age</th>\n",
       "      <th>Sex</th>\n",
       "      <th>MOI</th>\n",
       "    </tr>\n",
       "  </thead>\n",
       "  <tbody>\n",
       "    <tr>\n",
       "      <th>84</th>\n",
       "      <td>4</td>\n",
       "      <td>F</td>\n",
       "      <td>Motor vehicle collision</td>\n",
       "    </tr>\n",
       "    <tr>\n",
       "      <th>203</th>\n",
       "      <td>2</td>\n",
       "      <td>M</td>\n",
       "      <td>Fall down stairs</td>\n",
       "    </tr>\n",
       "    <tr>\n",
       "      <th>4349</th>\n",
       "      <td>2</td>\n",
       "      <td>M</td>\n",
       "      <td>Pedestrian/bicyclist struck by moving vehicle</td>\n",
       "    </tr>\n",
       "    <tr>\n",
       "      <th>5977</th>\n",
       "      <td>16</td>\n",
       "      <td>M</td>\n",
       "      <td>Motorcycle/ATV/Scooter collision</td>\n",
       "    </tr>\n",
       "    <tr>\n",
       "      <th>9419</th>\n",
       "      <td>17</td>\n",
       "      <td>F</td>\n",
       "      <td>Motor vehicle collision</td>\n",
       "    </tr>\n",
       "    <tr>\n",
       "      <th>9436</th>\n",
       "      <td>17</td>\n",
       "      <td>M</td>\n",
       "      <td>Motor vehicle collision</td>\n",
       "    </tr>\n",
       "    <tr>\n",
       "      <th>9971</th>\n",
       "      <td>17</td>\n",
       "      <td>M</td>\n",
       "      <td>Motor vehicle collision</td>\n",
       "    </tr>\n",
       "  </tbody>\n",
       "</table>\n",
       "</div>"
      ],
      "text/plain": [
       "      Age Sex                                            MOI\n",
       "84      4   F                        Motor vehicle collision\n",
       "203     2   M                               Fall down stairs\n",
       "4349    2   M  Pedestrian/bicyclist struck by moving vehicle\n",
       "5977   16   M               Motorcycle/ATV/Scooter collision\n",
       "9419   17   F                        Motor vehicle collision\n",
       "9436   17   M                        Motor vehicle collision\n",
       "9971   17   M                        Motor vehicle collision"
      ]
     },
     "execution_count": 35,
     "metadata": {},
     "output_type": "execute_result"
    }
   ],
   "source": [
    "patients_missed[['Age', 'Sex', 'MOI']]\n",
    "print('sensitivity', )"
   ]
  },
  {
   "cell_type": "code",
   "execution_count": 36,
   "metadata": {},
   "outputs": [
    {
     "name": "stdout",
     "output_type": "stream",
     "text": [
      "62 / 2188\n",
      "AbdTrauma_or_SeatBeltSign 18 / 1708\t44 / 480\n",
      "GCSScore                  8 / 1441\t10 / 267\n",
      "AbdTenderDegree           2 / 1216\t6 / 225\n",
      "ThoracicTrauma            2 / 1123\t0 / 93\n",
      "AbdomenPain               2 / 993\t0 / 130\n",
      "DecrBreathSound           2 / 993\t0 / 0\n",
      "VomitWretch               2 / 937\t0 / 56\n"
     ]
    }
   ],
   "source": [
    "patients_missed = pecarn_rule_predict(df_psrc)"
   ]
  },
  {
   "cell_type": "code",
   "execution_count": 38,
   "metadata": {},
   "outputs": [
    {
     "data": {
      "text/html": [
       "<div>\n",
       "<style scoped>\n",
       "    .dataframe tbody tr th:only-of-type {\n",
       "        vertical-align: middle;\n",
       "    }\n",
       "\n",
       "    .dataframe tbody tr th {\n",
       "        vertical-align: top;\n",
       "    }\n",
       "\n",
       "    .dataframe thead th {\n",
       "        text-align: right;\n",
       "    }\n",
       "</style>\n",
       "<table border=\"1\" class=\"dataframe\">\n",
       "  <thead>\n",
       "    <tr style=\"text-align: right;\">\n",
       "      <th></th>\n",
       "      <th>Age</th>\n",
       "      <th>MOI</th>\n",
       "    </tr>\n",
       "  </thead>\n",
       "  <tbody>\n",
       "    <tr>\n",
       "      <th>1164</th>\n",
       "      <td>1.0</td>\n",
       "      <td>Motor vehicle collision</td>\n",
       "    </tr>\n",
       "    <tr>\n",
       "      <th>1755</th>\n",
       "      <td>6.0</td>\n",
       "      <td>Fall from an elevation</td>\n",
       "    </tr>\n",
       "  </tbody>\n",
       "</table>\n",
       "</div>"
      ],
      "text/plain": [
       "      Age                      MOI\n",
       "1164  1.0  Motor vehicle collision\n",
       "1755  6.0   Fall from an elevation"
      ]
     },
     "execution_count": 38,
     "metadata": {},
     "output_type": "execute_result"
    }
   ],
   "source": [
    "patients_missed[['Age', 'MOI']]"
   ]
  },
  {
   "cell_type": "code",
   "execution_count": null,
   "metadata": {},
   "outputs": [],
   "source": []
  }
 ],
 "metadata": {
  "kernelspec": {
   "display_name": "Python 3",
   "language": "python",
   "name": "python3"
  },
  "language_info": {
   "codemirror_mode": {
    "name": "ipython",
    "version": 3
   },
   "file_extension": ".py",
   "mimetype": "text/x-python",
   "name": "python",
   "nbconvert_exporter": "python",
   "pygments_lexer": "ipython3",
   "version": "3.7.5"
  }
 },
 "nbformat": 4,
 "nbformat_minor": 4
}
