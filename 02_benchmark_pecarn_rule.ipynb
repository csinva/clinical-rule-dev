{
 "cells": [
  {
   "cell_type": "code",
   "execution_count": 82,
   "metadata": {},
   "outputs": [
    {
     "name": "stdout",
     "output_type": "stream",
     "text": [
      "The autoreload extension is already loaded. To reload it, use:\n",
      "  %reload_ext autoreload\n"
     ]
    }
   ],
   "source": [
    "import os\n",
    "from os.path import join as oj\n",
    "import sys, time\n",
    "sys.path.insert(1, oj(sys.path[0], '..'))  # insert parent path\n",
    "import seaborn as sns\n",
    "from sklearn.model_selection import train_test_split\n",
    "import numpy as np\n",
    "import matplotlib.pyplot as plt\n",
    "from tqdm import tqdm\n",
    "from copy import deepcopy\n",
    "import pickle as pkl\n",
    "from sklearn.tree import DecisionTreeClassifier, plot_tree\n",
    "from sklearn.model_selection import cross_validate, ShuffleSplit, train_test_split\n",
    "import pandas as pd\n",
    "import data_pecarn \n",
    "import data_psrc\n",
    "import data\n",
    "import util\n",
    "from style import *\n",
    "from collections import Counter\n",
    "from data import feats_numerical, feats_categorical, meta, outcome_def\n",
    "\n",
    "# plt.style.use('dark_background')\n",
    "# sns.set(style=\"white\")\n",
    "%matplotlib inline\n",
    "%load_ext autoreload\n",
    "%autoreload 2"
   ]
  },
  {
   "cell_type": "markdown",
   "metadata": {},
   "source": [
    "# benchmark bivariable associations"
   ]
  },
  {
   "cell_type": "code",
   "execution_count": 100,
   "metadata": {},
   "outputs": [
    {
     "name": "stderr",
     "output_type": "stream",
     "text": [
      "/accounts/projects/vision/.local/lib/python3.7/site-packages/pandas/core/ops.py:1649: FutureWarning: elementwise comparison failed; returning scalar instead, but in the future will perform elementwise comparison\n",
      "  result = method(y)\n"
     ]
    }
   ],
   "source": [
    "df_pecarn, df_psrc, common_feats, filtered_feats_pecarn, filtered_feats_psrc = data.load_it_all(dummy=False, impute=False, frac_missing_allowed=1)\n",
    "d = df_pecarn # [common_feats]\n",
    "d['Age<2'] = d['Age'] < 2\n",
    "# data.select_final_feats(common_feats)"
   ]
  },
  {
   "cell_type": "code",
   "execution_count": 106,
   "metadata": {},
   "outputs": [
    {
     "name": "stdout",
     "output_type": "stream",
     "text": [
      "num IwI and key / num IwI (not nan) \t num without IwI and key / num without IwI (not nane) \n"
     ]
    },
    {
     "data": {
      "text/html": [
       "<div>\n",
       "<style scoped>\n",
       "    .dataframe tbody tr th:only-of-type {\n",
       "        vertical-align: middle;\n",
       "    }\n",
       "\n",
       "    .dataframe tbody tr th {\n",
       "        vertical-align: top;\n",
       "    }\n",
       "\n",
       "    .dataframe thead th {\n",
       "        text-align: right;\n",
       "    }\n",
       "</style>\n",
       "<table border=\"1\" class=\"dataframe\">\n",
       "  <thead>\n",
       "    <tr style=\"text-align: right;\">\n",
       "      <th></th>\n",
       "      <th></th>\n",
       "      <th>NA</th>\n",
       "      <th>IAIw/I</th>\n",
       "      <th>No IAIw/I</th>\n",
       "      <th>Difference</th>\n",
       "    </tr>\n",
       "  </thead>\n",
       "  <tbody>\n",
       "    <tr>\n",
       "      <th>AbdTrauma_or_SeatBeltSign</th>\n",
       "      <th>yes</th>\n",
       "      <td>0</td>\n",
       "      <td>112/203</td>\n",
       "      <td>1851/11841</td>\n",
       "      <td>0.395</td>\n",
       "    </tr>\n",
       "    <tr>\n",
       "      <th>GCSScore</th>\n",
       "      <th>0</th>\n",
       "      <td>4</td>\n",
       "      <td>67/203</td>\n",
       "      <td>928/11837</td>\n",
       "      <td>0.252</td>\n",
       "    </tr>\n",
       "    <tr>\n",
       "      <th rowspan=\"4\" valign=\"top\">AbdTenderDegree</th>\n",
       "      <th>None</th>\n",
       "      <td>8447</td>\n",
       "      <td>0/113</td>\n",
       "      <td>0/3484</td>\n",
       "      <td>0.000</td>\n",
       "    </tr>\n",
       "    <tr>\n",
       "      <th>Mild</th>\n",
       "      <td>8447</td>\n",
       "      <td>12/113</td>\n",
       "      <td>1623/3484</td>\n",
       "      <td>-0.360</td>\n",
       "    </tr>\n",
       "    <tr>\n",
       "      <th>Moderate</th>\n",
       "      <td>8447</td>\n",
       "      <td>42/113</td>\n",
       "      <td>1501/3484</td>\n",
       "      <td>-0.059</td>\n",
       "    </tr>\n",
       "    <tr>\n",
       "      <th>Severe</th>\n",
       "      <td>8447</td>\n",
       "      <td>59/113</td>\n",
       "      <td>360/3484</td>\n",
       "      <td>0.419</td>\n",
       "    </tr>\n",
       "    <tr>\n",
       "      <th>ThoracicTrauma</th>\n",
       "      <th>yes</th>\n",
       "      <td>76</td>\n",
       "      <td>66/201</td>\n",
       "      <td>1976/11767</td>\n",
       "      <td>0.160</td>\n",
       "    </tr>\n",
       "    <tr>\n",
       "      <th>AbdomenPain</th>\n",
       "      <th>yes</th>\n",
       "      <td>148</td>\n",
       "      <td>105/201</td>\n",
       "      <td>3515/11695</td>\n",
       "      <td>0.222</td>\n",
       "    </tr>\n",
       "    <tr>\n",
       "      <th>DecrBreathSound</th>\n",
       "      <th>yes</th>\n",
       "      <td>233</td>\n",
       "      <td>25/197</td>\n",
       "      <td>231/11614</td>\n",
       "      <td>0.107</td>\n",
       "    </tr>\n",
       "    <tr>\n",
       "      <th>VomitWretch</th>\n",
       "      <th>yes</th>\n",
       "      <td>472</td>\n",
       "      <td>49/165</td>\n",
       "      <td>1104/11407</td>\n",
       "      <td>0.200</td>\n",
       "    </tr>\n",
       "    <tr>\n",
       "      <th>Age&lt;2</th>\n",
       "      <th>True</th>\n",
       "      <td>0</td>\n",
       "      <td>10/203</td>\n",
       "      <td>1157/11841</td>\n",
       "      <td>-0.048</td>\n",
       "    </tr>\n",
       "    <tr>\n",
       "      <th>AbdDistention</th>\n",
       "      <th>yes</th>\n",
       "      <td>528</td>\n",
       "      <td>49/199</td>\n",
       "      <td>228/11317</td>\n",
       "      <td>0.226</td>\n",
       "    </tr>\n",
       "    <tr>\n",
       "      <th>MOI</th>\n",
       "      <th>Motor vehicle collision</th>\n",
       "      <td>476</td>\n",
       "      <td>91/194</td>\n",
       "      <td>3741/11374</td>\n",
       "      <td>0.140</td>\n",
       "    </tr>\n",
       "    <tr>\n",
       "      <th>DistractingPain</th>\n",
       "      <th>yes</th>\n",
       "      <td>889</td>\n",
       "      <td>61/159</td>\n",
       "      <td>2744/10996</td>\n",
       "      <td>0.134</td>\n",
       "    </tr>\n",
       "    <tr>\n",
       "      <th>CostalTender</th>\n",
       "      <th>yes</th>\n",
       "      <td>0</td>\n",
       "      <td>41/203</td>\n",
       "      <td>1324/11841</td>\n",
       "      <td>0.090</td>\n",
       "    </tr>\n",
       "    <tr>\n",
       "      <th>ThoracicTender</th>\n",
       "      <th>yes</th>\n",
       "      <td>1203</td>\n",
       "      <td>36/136</td>\n",
       "      <td>1886/10705</td>\n",
       "      <td>0.089</td>\n",
       "    </tr>\n",
       "    <tr>\n",
       "      <th>Hypotension</th>\n",
       "      <th>yes</th>\n",
       "      <td>0</td>\n",
       "      <td>24/203</td>\n",
       "      <td>150/11841</td>\n",
       "      <td>0.106</td>\n",
       "    </tr>\n",
       "    <tr>\n",
       "      <th>AbdomenTender</th>\n",
       "      <th>True</th>\n",
       "      <td>8476</td>\n",
       "      <td>0/113</td>\n",
       "      <td>0/3455</td>\n",
       "      <td>0.000</td>\n",
       "    </tr>\n",
       "  </tbody>\n",
       "</table>\n",
       "</div>"
      ],
      "text/plain": [
       "                                                     NA   IAIw/I   No IAIw/I  \\\n",
       "AbdTrauma_or_SeatBeltSign yes                         0  112/203  1851/11841   \n",
       "GCSScore                  0                           4   67/203   928/11837   \n",
       "AbdTenderDegree           None                     8447    0/113      0/3484   \n",
       "                          Mild                     8447   12/113   1623/3484   \n",
       "                          Moderate                 8447   42/113   1501/3484   \n",
       "                          Severe                   8447   59/113    360/3484   \n",
       "ThoracicTrauma            yes                        76   66/201  1976/11767   \n",
       "AbdomenPain               yes                       148  105/201  3515/11695   \n",
       "DecrBreathSound           yes                       233   25/197   231/11614   \n",
       "VomitWretch               yes                       472   49/165  1104/11407   \n",
       "Age<2                     True                        0   10/203  1157/11841   \n",
       "AbdDistention             yes                       528   49/199   228/11317   \n",
       "MOI                       Motor vehicle collision   476   91/194  3741/11374   \n",
       "DistractingPain           yes                       889   61/159  2744/10996   \n",
       "CostalTender              yes                         0   41/203  1324/11841   \n",
       "ThoracicTender            yes                      1203   36/136  1886/10705   \n",
       "Hypotension               yes                         0   24/203   150/11841   \n",
       "AbdomenTender             True                     8476    0/113      0/3455   \n",
       "\n",
       "                                                  Difference  \n",
       "AbdTrauma_or_SeatBeltSign yes                          0.395  \n",
       "GCSScore                  0                            0.252  \n",
       "AbdTenderDegree           None                         0.000  \n",
       "                          Mild                        -0.360  \n",
       "                          Moderate                    -0.059  \n",
       "                          Severe                       0.419  \n",
       "ThoracicTrauma            yes                          0.160  \n",
       "AbdomenPain               yes                          0.222  \n",
       "DecrBreathSound           yes                          0.107  \n",
       "VomitWretch               yes                          0.200  \n",
       "Age<2                     True                        -0.048  \n",
       "AbdDistention             yes                          0.226  \n",
       "MOI                       Motor vehicle collision      0.140  \n",
       "DistractingPain           yes                          0.134  \n",
       "CostalTender              yes                          0.090  \n",
       "ThoracicTender            yes                          0.089  \n",
       "Hypotension               yes                          0.106  \n",
       "AbdomenTender             True                         0.000  "
      ]
     },
     "execution_count": 106,
     "metadata": {},
     "output_type": "execute_result"
    }
   ],
   "source": [
    "# can also check vars that were not used\n",
    "rules = [\n",
    "    ('AbdTrauma_or_SeatBeltSign', ['yes']),\n",
    "    ('GCSScore', range(14)),\n",
    "#     ('AbdTenderDegree', ['Mild', 'Moderate', 'Severe']),\n",
    "    ('AbdTenderDegree', ['None']),    \n",
    "    ('AbdTenderDegree', ['Mild']),    \n",
    "    ('AbdTenderDegree', ['Moderate']),    \n",
    "    ('AbdTenderDegree', ['Severe']),        \n",
    "    ('ThoracicTrauma', ['yes']),        \n",
    "    ('AbdomenPain', ['yes']),\n",
    "    ('DecrBreathSound', ['yes']),\n",
    "    ('VomitWretch', ['yes']),\n",
    "    \n",
    "    # not used in rule\n",
    "    ('Age<2', [True]),    \n",
    "    ('AbdDistention', ['yes']),\n",
    "    ('MOI', ['Motor vehicle collision']),\n",
    "    ('DistractingPain', ['yes']),    \n",
    "    ('CostalTender', ['yes']),\n",
    "    ('ThoracicTender', ['yes']),    \n",
    "    ('Hypotension', ['yes']),        \n",
    "    ('AbdomenTender', [1]),    \n",
    "]\n",
    "index = ['NA', 'IAIw/I', 'No IAIw/I', 'Difference']\n",
    "o = data.outcome_def\n",
    "r = {(k, v[0]) : [] for k, v in rules}\n",
    "io = d[o] == 1\n",
    "print('num IwI and key / num IwI (not nan) \\t num without IwI and key / num without IwI (not nane) ')\n",
    "for rule in rules:\n",
    "    k, vals = rule\n",
    "    kk = (k, vals[0])\n",
    "    ik = d[k].isin(vals) # d[o]==1\n",
    "    inan = d[k].isna() | (d[k] == 'unknown')\n",
    "    r[kk].append(np.sum(inan))   \n",
    "    num1 = np.sum(d[ik][o]==1)\n",
    "    denom1 = (io & ~inan).sum()\n",
    "    r[kk].append(f'{num1}/{denom1}')\n",
    "    num2 = np.sum(d[ik][o]==0)\n",
    "    denom2 = (~io & ~inan).sum()\n",
    "    r[kk].append(f'{num2}/{denom2}')\n",
    "    r[kk].append(f'{num1/denom1 - num2/denom2:0.3f}')    \n",
    "r = pd.DataFrame.from_dict(r)\n",
    "r.index = index\n",
    "r.transpose()"
   ]
  },
  {
   "cell_type": "code",
   "execution_count": 101,
   "metadata": {},
   "outputs": [
    {
     "data": {
      "text/plain": [
       "(array([1., 2., 3., 4.]), array([3611, 7236, 1035,  162]))"
      ]
     },
     "execution_count": 101,
     "metadata": {},
     "output_type": "execute_result"
    }
   ],
   "source": [
    "# Abdominal tenderness degree, \n",
    "# Surrogate: Abdominal tenderness, abdominal pain, costal tenderness, left costal tenderness\n",
    "# Missing 205\n",
    "\n",
    "# 1 is yes, 2 is no, 3 unable to asses, 4 didn't answer\n",
    "np.unique(df_pecarn['AbdomenTender'], return_counts=True) "
   ]
  },
  {
   "cell_type": "code",
   "execution_count": 102,
   "metadata": {},
   "outputs": [
    {
     "data": {
      "text/plain": [
       "(array(['Mild', 'Moderate', 'Severe', 'unknown'], dtype=object),\n",
       " array([1635, 1543,  419, 8447]))"
      ]
     },
     "execution_count": 102,
     "metadata": {},
     "output_type": "execute_result"
    }
   ],
   "source": [
    "np.unique(df_pecarn['AbdTenderDegree'], return_counts=True)\n",
    "# sums should be 1613, 1536, 419, 205 (although 205 is only after filling in a bunch)"
   ]
  },
  {
   "cell_type": "code",
   "execution_count": 103,
   "metadata": {},
   "outputs": [],
   "source": [
    "a = deepcopy(df_pecarn['AbdTenderDegree'].values)\n",
    "a[df_pecarn['AbdomenTender'].isin([2, 3, 4])] = 'unknown'\n",
    "# a.loc[df_pecarn['AbdomenTender'].isin([1])] = 'test'\n",
    "# idxs_combined = ((df_pecarn['AbdTenderDegrenee']=='unknown') \\\n",
    "#                  & (df_pecarn['AbdomenTender'].isin([2])))\n",
    "\n",
    "\n",
    "# re set the values\n",
    "df_pecarn['AbdTenderDegree'] = a\n",
    "d = df_pecarn\n",
    "# if abdoment tender is false then set tender degree to none\n",
    "# df_pecarn.loc[df_pecarn['AbdomenTender'] == 2, 'AbdTenderDegree'] = 'None'"
   ]
  },
  {
   "cell_type": "code",
   "execution_count": 104,
   "metadata": {},
   "outputs": [
    {
     "data": {
      "text/plain": [
       "(array(['Mild', 'Moderate', 'Severe', 'unknown'], dtype=object),\n",
       " array([1613, 1536,  419, 8476]))"
      ]
     },
     "execution_count": 104,
     "metadata": {},
     "output_type": "execute_result"
    }
   ],
   "source": [
    "np.unique(a, return_counts=True)\n",
    "# sums should be 1613, 1536, 419, 205 (although 205 is only after filling in a bunch)"
   ]
  },
  {
   "cell_type": "code",
   "execution_count": 121,
   "metadata": {},
   "outputs": [
    {
     "data": {
      "text/plain": [
       "(array(['Mild', 'Moderate', 'Severe', 'unknown'], dtype=object),\n",
       " array([1613, 1536,  419, 8476]))"
      ]
     },
     "execution_count": 121,
     "metadata": {},
     "output_type": "execute_result"
    }
   ],
   "source": [
    "np.unique(d['AbdTenderDegree'] , return_counts=True)"
   ]
  },
  {
   "cell_type": "markdown",
   "metadata": {},
   "source": [
    "# recreate / evaluate rule"
   ]
  },
  {
   "cell_type": "code",
   "execution_count": 122,
   "metadata": {},
   "outputs": [
    {
     "name": "stdout",
     "output_type": "stream",
     "text": [
      "Initial                   203 / 12044\n",
      "AbdTrauma_or_SeatBeltSign  91 / 10081\t112 / 1963 (5.7)\n",
      "GCSScore                   53 /  9255\t 38 /  826 (4.6)\n",
      "AbdTenderDegree            17 /  6767\t 36 / 2488 (1.4)\n",
      "ThoracicTrauma             11 /  5805\t  6 /  962 (0.6)\n",
      "AbdomenPain                 9 /  5469\t  2 /  336 (0.6)\n",
      "DecrBreathSound             8 /  5435\t  1 /   34 (2.9)\n",
      "VomitWretch                 6 /  5040\t  2 /  395 (0.5)\n",
      "sensitivity 97.04\n",
      "specificity 42.51\n"
     ]
    }
   ],
   "source": [
    "def pecarn_rule_predict(d, o=data.outcome_def):\n",
    "    n = d.shape[0]\n",
    "    npos = d[o].sum()\n",
    "    print(f'{\"Initial\":<25} {npos} / {n}')\n",
    "    risks = np.array([np.nan] * d.shape[0])\n",
    "    rules = [\n",
    "        ('AbdTrauma_or_SeatBeltSign', ['yes']),\n",
    "        ('GCSScore', range(14)),\n",
    "        ('AbdTenderDegree', ['Mild', 'Moderate', 'Severe']),\n",
    "        ('ThoracicTrauma', ['yes']),        \n",
    "        ('AbdomenPain', ['yes']),\n",
    "        ('DecrBreathSound', ['yes']),\n",
    "        ('VomitWretch', ['yes']),\n",
    "    ]\n",
    "    for rule in rules:\n",
    "        k, vals = rule\n",
    "        idxs = d[k].isin(vals)\n",
    "        do = d[idxs]\n",
    "        d = d[~idxs]\n",
    "        num2 = do[o].sum()\n",
    "        denom2 = do.shape[0]\n",
    "        print(f'{k:<25} {d[o].sum():>3} / {d.shape[0]:>5}\\t{num2:>3} / {denom2:>4} ({num2/denom2*100:0.1f})')\n",
    "    \n",
    "    low_risk_patients = d\n",
    "    patients_missed = low_risk_patients[low_risk_patients[o] == 1]\n",
    "    \n",
    "    # calc metrics\n",
    "    fn = patients_missed.shape[0]\n",
    "    tp = npos - fn\n",
    "    tn = low_risk_patients.shape[0] - fn\n",
    "    fp = (n - low_risk_patients.shape[0]) - tp\n",
    "    stats = {\n",
    "        'fn': fn,\n",
    "        'tp': tp,\n",
    "        'tn': tn,\n",
    "        'fp': fp,\n",
    "        'sensitivity': tp / npos * 100,\n",
    "        'specificity': tn / (tn + fp) * 100.\n",
    "    }\n",
    "    return d, patients_missed, stats\n",
    "\n",
    "low_risk_patients, missed_patients, stats = pecarn_rule_predict(df_pecarn)\n",
    "for stat in ['sensitivity', 'specificity']:\n",
    "    print(stat, f'{stats[stat]:0.2f}')\n",
    "missed_patients[['Age', 'Sex', 'MOI']]\n",
    "assert missed_patients.shape[0] == 6, 'should find 6 low-risk patients'\n",
    "\n",
    "# 203 / 12044\n",
    "#  91 / 10081\n",
    "#  53 /  9255\n",
    "#  17 /  6723"
   ]
  },
  {
   "cell_type": "code",
   "execution_count": 22,
   "metadata": {},
   "outputs": [
    {
     "name": "stdout",
     "output_type": "stream",
     "text": [
      "Initial                   62 / 2188\n",
      "AbdTrauma_or_SeatBeltSign  18 /  1708\t 44 /  480 (9.2)\n",
      "GCSScore                    8 /  1441\t 10 /  267 (3.7)\n",
      "AbdTenderDegree             2 /  1216\t  6 /  225 (2.7)\n",
      "ThoracicTrauma              2 /  1123\t  0 /   93 (0.0)\n",
      "AbdomenPain                 2 /   993\t  0 /  130 (0.0)\n",
      "DecrBreathSound             2 /   993\t  0 /    0 (nan)\n",
      "VomitWretch                 2 /   937\t  0 /   56 (0.0)\n",
      "sensitivity 96.77\n",
      "specificity 43.98\n"
     ]
    },
    {
     "name": "stderr",
     "output_type": "stream",
     "text": [
      "/accounts/projects/vision/.local/lib/python3.7/site-packages/ipykernel_launcher.py:22: RuntimeWarning: invalid value encountered in long_scalars\n"
     ]
    },
    {
     "data": {
      "text/html": [
       "<div>\n",
       "<style scoped>\n",
       "    .dataframe tbody tr th:only-of-type {\n",
       "        vertical-align: middle;\n",
       "    }\n",
       "\n",
       "    .dataframe tbody tr th {\n",
       "        vertical-align: top;\n",
       "    }\n",
       "\n",
       "    .dataframe thead th {\n",
       "        text-align: right;\n",
       "    }\n",
       "</style>\n",
       "<table border=\"1\" class=\"dataframe\">\n",
       "  <thead>\n",
       "    <tr style=\"text-align: right;\">\n",
       "      <th></th>\n",
       "      <th>Age</th>\n",
       "      <th>MOI</th>\n",
       "    </tr>\n",
       "  </thead>\n",
       "  <tbody>\n",
       "    <tr>\n",
       "      <th>1164</th>\n",
       "      <td>1.0</td>\n",
       "      <td>Motor vehicle collision</td>\n",
       "    </tr>\n",
       "    <tr>\n",
       "      <th>1755</th>\n",
       "      <td>6.0</td>\n",
       "      <td>Fall from an elevation</td>\n",
       "    </tr>\n",
       "  </tbody>\n",
       "</table>\n",
       "</div>"
      ],
      "text/plain": [
       "      Age                      MOI\n",
       "1164  1.0  Motor vehicle collision\n",
       "1755  6.0   Fall from an elevation"
      ]
     },
     "execution_count": 22,
     "metadata": {},
     "output_type": "execute_result"
    }
   ],
   "source": [
    "low_risk_patients, missed_patients, stats = pecarn_rule_predict(df_psrc)\n",
    "for stat in ['sensitivity', 'specificity']:\n",
    "    print(stat, f'{stats[stat]:0.2f}')\n",
    "missed_patients[['Age', 'MOI']]"
   ]
  },
  {
   "cell_type": "code",
   "execution_count": 11,
   "metadata": {},
   "outputs": [],
   "source": [
    "df_psrc.loc[missed_patients.index].to_csv('processed/missed_patients_psrc.csv')"
   ]
  }
 ],
 "metadata": {
  "kernelspec": {
   "display_name": "Python 3",
   "language": "python",
   "name": "python3"
  },
  "language_info": {
   "codemirror_mode": {
    "name": "ipython",
    "version": 3
   },
   "file_extension": ".py",
   "mimetype": "text/x-python",
   "name": "python",
   "nbconvert_exporter": "python",
   "pygments_lexer": "ipython3",
   "version": "3.7.5"
  }
 },
 "nbformat": 4,
 "nbformat_minor": 4
}
