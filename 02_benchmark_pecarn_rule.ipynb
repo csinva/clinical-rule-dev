{
 "cells": [
  {
   "cell_type": "code",
   "execution_count": 1,
   "metadata": {},
   "outputs": [],
   "source": [
    "import os\n",
    "from os.path import join as oj\n",
    "import sys, time\n",
    "sys.path.insert(1, oj(sys.path[0], '..'))  # insert parent path\n",
    "import seaborn as sns\n",
    "from sklearn.model_selection import train_test_split\n",
    "import numpy as np\n",
    "import matplotlib.pyplot as plt\n",
    "from tqdm import tqdm\n",
    "from copy import deepcopy\n",
    "import pickle as pkl\n",
    "from sklearn.tree import DecisionTreeClassifier, plot_tree\n",
    "from sklearn.model_selection import cross_validate, ShuffleSplit, train_test_split\n",
    "import pandas as pd\n",
    "import data_pecarn \n",
    "import data_psrc\n",
    "import data\n",
    "import util\n",
    "from style import *\n",
    "from collections import Counter\n",
    "from data import feats_numerical, feats_categorical, meta, outcome_def\n",
    "\n",
    "# plt.style.use('dark_background')\n",
    "# sns.set(style=\"white\")\n",
    "%matplotlib inline\n",
    "%load_ext autoreload\n",
    "%autoreload 2"
   ]
  },
  {
   "cell_type": "code",
   "execution_count": 77,
   "metadata": {},
   "outputs": [
    {
     "name": "stdout",
     "output_type": "stream",
     "text": [
      "computing pecarn preprocessing...\n"
     ]
    }
   ],
   "source": [
    "d = data_pecarn.get_data(use_processed=False,\n",
    "                                 frac_missing_allowed=0.1,\n",
    "                                 dummy=True,\n",
    "                                 impute_feats=False)"
   ]
  },
  {
   "cell_type": "markdown",
   "metadata": {},
   "source": [
    "# benchmark bivariable associations"
   ]
  },
  {
   "cell_type": "code",
   "execution_count": 78,
   "metadata": {},
   "outputs": [],
   "source": [
    "all_feats_pecarn, filtered_feats_pecarn = data.get_feat_names(d)"
   ]
  },
  {
   "cell_type": "code",
   "execution_count": 86,
   "metadata": {},
   "outputs": [
    {
     "data": {
      "text/plain": [
       "['AbdDistention_yes',\n",
       " 'AbdTenderDegree_Mild',\n",
       " 'AbdTenderDegree_Moderate',\n",
       " 'AbdTenderDegree_None',\n",
       " 'AbdTenderDegree_Severe',\n",
       " 'AbdTrauma_or_SeatBeltSign_yes',\n",
       " 'AbdomenPain_yes',\n",
       " 'Age',\n",
       " 'Age<2',\n",
       " 'CostalTender',\n",
       " 'DecrBreathSound_yes',\n",
       " 'DistractingPain_yes',\n",
       " 'GCSScore_Full_yes',\n",
       " 'Hypotension_yes',\n",
       " 'InitHeartRate',\n",
       " 'InitSysBPRange',\n",
       " 'MOI_Bike collision/fall',\n",
       " 'MOI_Fall down stairs',\n",
       " 'MOI_Fall from an elevation',\n",
       " 'MOI_Motor vehicle collision',\n",
       " 'MOI_Motorcycle/ATV/Scooter collision',\n",
       " 'MOI_Object struck abdomen',\n",
       " 'MOI_Pedestrian/bicyclist struck by moving vehicle',\n",
       " 'Sex_F',\n",
       " 'Sex_M',\n",
       " 'ThoracicTender_yes',\n",
       " 'ThoracicTrauma_yes',\n",
       " 'VomitWretch_yes']"
      ]
     },
     "execution_count": 86,
     "metadata": {},
     "output_type": "execute_result"
    }
   ],
   "source": [
    "d['Age<2'] = d['Age'] < 2\n",
    "d['GCS<14'] = d['GCSScore'] < 14\n",
    "data.select_final_feats(filtered_feats_pecarn)"
   ]
  },
  {
   "cell_type": "code",
   "execution_count": 93,
   "metadata": {},
   "outputs": [
    {
     "data": {
      "text/html": [
       "<div>\n",
       "<style scoped>\n",
       "    .dataframe tbody tr th:only-of-type {\n",
       "        vertical-align: middle;\n",
       "    }\n",
       "\n",
       "    .dataframe tbody tr th {\n",
       "        vertical-align: top;\n",
       "    }\n",
       "\n",
       "    .dataframe thead th {\n",
       "        text-align: right;\n",
       "    }\n",
       "</style>\n",
       "<table border=\"1\" class=\"dataframe\">\n",
       "  <thead>\n",
       "    <tr style=\"text-align: right;\">\n",
       "      <th></th>\n",
       "      <th>NA</th>\n",
       "      <th>IAIw/I</th>\n",
       "      <th>No IAIw/I</th>\n",
       "      <th>Difference</th>\n",
       "    </tr>\n",
       "  </thead>\n",
       "  <tbody>\n",
       "    <tr>\n",
       "      <th>AbdomenPain_yes</th>\n",
       "      <td>0</td>\n",
       "      <td>105/203</td>\n",
       "      <td>3515/11841</td>\n",
       "      <td>0.220</td>\n",
       "    </tr>\n",
       "    <tr>\n",
       "      <th>AbdTrauma_or_SeatBeltSign_yes</th>\n",
       "      <td>0</td>\n",
       "      <td>112/203</td>\n",
       "      <td>1851/11841</td>\n",
       "      <td>0.395</td>\n",
       "    </tr>\n",
       "    <tr>\n",
       "      <th>GCS&lt;14</th>\n",
       "      <td>0</td>\n",
       "      <td>65/203</td>\n",
       "      <td>902/11841</td>\n",
       "      <td>0.244</td>\n",
       "    </tr>\n",
       "    <tr>\n",
       "      <th>AbdTenderDegree_None</th>\n",
       "      <td>0</td>\n",
       "      <td>90/203</td>\n",
       "      <td>8357/11841</td>\n",
       "      <td>-0.262</td>\n",
       "    </tr>\n",
       "    <tr>\n",
       "      <th>AbdTenderDegree_Mild</th>\n",
       "      <td>0</td>\n",
       "      <td>12/203</td>\n",
       "      <td>1623/11841</td>\n",
       "      <td>-0.078</td>\n",
       "    </tr>\n",
       "    <tr>\n",
       "      <th>AbdTenderDegree_Moderate</th>\n",
       "      <td>0</td>\n",
       "      <td>42/203</td>\n",
       "      <td>1501/11841</td>\n",
       "      <td>0.080</td>\n",
       "    </tr>\n",
       "    <tr>\n",
       "      <th>AbdTenderDegree_Severe</th>\n",
       "      <td>0</td>\n",
       "      <td>59/203</td>\n",
       "      <td>360/11841</td>\n",
       "      <td>0.260</td>\n",
       "    </tr>\n",
       "    <tr>\n",
       "      <th>ThoracicTrauma_yes</th>\n",
       "      <td>0</td>\n",
       "      <td>66/203</td>\n",
       "      <td>1976/11841</td>\n",
       "      <td>0.158</td>\n",
       "    </tr>\n",
       "    <tr>\n",
       "      <th>DecrBreathSound_yes</th>\n",
       "      <td>0</td>\n",
       "      <td>25/203</td>\n",
       "      <td>231/11841</td>\n",
       "      <td>0.104</td>\n",
       "    </tr>\n",
       "    <tr>\n",
       "      <th>VomitWretch_yes</th>\n",
       "      <td>0</td>\n",
       "      <td>49/203</td>\n",
       "      <td>1104/11841</td>\n",
       "      <td>0.148</td>\n",
       "    </tr>\n",
       "    <tr>\n",
       "      <th>Age&lt;2</th>\n",
       "      <td>0</td>\n",
       "      <td>10/203</td>\n",
       "      <td>1157/11841</td>\n",
       "      <td>-0.048</td>\n",
       "    </tr>\n",
       "    <tr>\n",
       "      <th>MOI_Motor vehicle collision</th>\n",
       "      <td>0</td>\n",
       "      <td>91/203</td>\n",
       "      <td>3741/11841</td>\n",
       "      <td>0.132</td>\n",
       "    </tr>\n",
       "    <tr>\n",
       "      <th>Hypotension_yes</th>\n",
       "      <td>0</td>\n",
       "      <td>24/203</td>\n",
       "      <td>150/11841</td>\n",
       "      <td>0.106</td>\n",
       "    </tr>\n",
       "    <tr>\n",
       "      <th>ThoracicTender_yes</th>\n",
       "      <td>0</td>\n",
       "      <td>36/203</td>\n",
       "      <td>1886/11841</td>\n",
       "      <td>0.018</td>\n",
       "    </tr>\n",
       "    <tr>\n",
       "      <th>CostalTender</th>\n",
       "      <td>0</td>\n",
       "      <td>41/203</td>\n",
       "      <td>1324/11841</td>\n",
       "      <td>0.090</td>\n",
       "    </tr>\n",
       "    <tr>\n",
       "      <th>AbdDistention_yes</th>\n",
       "      <td>0</td>\n",
       "      <td>49/203</td>\n",
       "      <td>228/11841</td>\n",
       "      <td>0.222</td>\n",
       "    </tr>\n",
       "    <tr>\n",
       "      <th>DistractingPain_yes</th>\n",
       "      <td>0</td>\n",
       "      <td>61/203</td>\n",
       "      <td>2744/11841</td>\n",
       "      <td>0.069</td>\n",
       "    </tr>\n",
       "  </tbody>\n",
       "</table>\n",
       "</div>"
      ],
      "text/plain": [
       "                              NA   IAIw/I   No IAIw/I Difference\n",
       "AbdomenPain_yes                0  105/203  3515/11841      0.220\n",
       "AbdTrauma_or_SeatBeltSign_yes  0  112/203  1851/11841      0.395\n",
       "GCS<14                         0   65/203   902/11841      0.244\n",
       "AbdTenderDegree_None           0   90/203  8357/11841     -0.262\n",
       "AbdTenderDegree_Mild           0   12/203  1623/11841     -0.078\n",
       "AbdTenderDegree_Moderate       0   42/203  1501/11841      0.080\n",
       "AbdTenderDegree_Severe         0   59/203   360/11841      0.260\n",
       "ThoracicTrauma_yes             0   66/203  1976/11841      0.158\n",
       "DecrBreathSound_yes            0   25/203   231/11841      0.104\n",
       "VomitWretch_yes                0   49/203  1104/11841      0.148\n",
       "Age<2                          0   10/203  1157/11841     -0.048\n",
       "MOI_Motor vehicle collision    0   91/203  3741/11841      0.132\n",
       "Hypotension_yes                0   24/203   150/11841      0.106\n",
       "ThoracicTender_yes             0   36/203  1886/11841      0.018\n",
       "CostalTender                   0   41/203  1324/11841      0.090\n",
       "AbdDistention_yes              0   49/203   228/11841      0.222\n",
       "DistractingPain_yes            0   61/203  2744/11841      0.069"
      ]
     },
     "execution_count": 93,
     "metadata": {},
     "output_type": "execute_result"
    }
   ],
   "source": [
    "ks = ['AbdomenPain_yes', 'AbdTrauma_or_SeatBeltSign_yes', 'GCS<14',\n",
    "      'AbdTenderDegree_None', 'AbdTenderDegree_Mild',\n",
    "      'AbdTenderDegree_Moderate', 'AbdTenderDegree_Severe',\n",
    "      'ThoracicTrauma_yes',\n",
    "      'DecrBreathSound_yes',\n",
    "      'VomitWretch_yes',\n",
    "      'Age<2',\n",
    "      'MOI_Motor vehicle collision',\n",
    "      'Hypotension_yes',\n",
    "       'ThoracicTender_yes',\n",
    " 'CostalTender',\n",
    "'AbdDistention_yes',\n",
    " 'DistractingPain_yes'\n",
    "     ]\n",
    "index = ['NA', 'IAIw/I', 'No IAIw/I', 'Difference']\n",
    "o = data.outcome_def\n",
    "r = {k: [] for k in ks}\n",
    "io = d[o] == 1\n",
    "# print(d[io])\n",
    "for k in ks:\n",
    "    ik = d[k] == 1 # d[o]==1\n",
    "    inan = d[k].isna()\n",
    "    r[k].append(np.sum(inan))   \n",
    "    num1 = np.sum(d[ik][o]==1)\n",
    "    denom1 = (io & ~inan).sum()\n",
    "    r[k].append(f'{num1}/{denom1}')\n",
    "    num2 = np.sum(d[ik][o]==0)\n",
    "    denom2 = (~io & ~inan).sum()\n",
    "    r[k].append(f'{num2}/{denom2}')\n",
    "    r[k].append(f'{num1/denom1 - num2/denom2:0.3f}')    \n",
    "r = pd.DataFrame.from_dict(r)\n",
    "r.index = index\n",
    "r.transpose()"
   ]
  },
  {
   "cell_type": "markdown",
   "metadata": {},
   "source": [
    "# recreate / evaluate rule"
   ]
  },
  {
   "cell_type": "code",
   "execution_count": 16,
   "metadata": {},
   "outputs": [
    {
     "name": "stdout",
     "output_type": "stream",
     "text": [
      "203 / 12044\n",
      "91 / 10081\t112 / 1963\n",
      "55 / 9279\t36 / 802\n"
     ]
    }
   ],
   "source": [
    "def pecarn_rule_predict(d, o=data.outcome_def):\n",
    "    print(f'{d[o].sum()} / {d.shape[0]}')\n",
    "    risks = np.array([np.nan] * d.shape[0])\n",
    "    \n",
    "    idxs = d['AbdTrauma_or_SeatBeltSign_yes']==1\n",
    "    do = d[idxs]\n",
    "    d = d[~idxs]\n",
    "    print(f'{d[o].sum()} / {d.shape[0]}\\t{do[o].sum()} / {do.shape[0]}')\n",
    "    \n",
    "    idxs = (d['GCSScore']<14) & (d['GCSScore'] > 2)\n",
    "    do = d[idxs]\n",
    "    d = d[~idxs]\n",
    "    print(f'{d[o].sum()} / {d.shape[0]}\\t{do[o].sum()} / {do.shape[0]}')\n",
    "\n",
    "\n",
    "pecarn_rule_predict(d)"
   ]
  },
  {
   "cell_type": "code",
   "execution_count": 42,
   "metadata": {},
   "outputs": [
    {
     "data": {
      "text/plain": [
       "array([0, 1], dtype=uint64)"
      ]
     },
     "execution_count": 42,
     "metadata": {},
     "output_type": "execute_result"
    }
   ],
   "source": [
    "d['AbdTrauma_or_SeatBeltSign_yes'].unique()"
   ]
  },
  {
   "cell_type": "code",
   "execution_count": null,
   "metadata": {},
   "outputs": [],
   "source": []
  }
 ],
 "metadata": {
  "kernelspec": {
   "display_name": "Python 3",
   "language": "python",
   "name": "python3"
  },
  "language_info": {
   "codemirror_mode": {
    "name": "ipython",
    "version": 3
   },
   "file_extension": ".py",
   "mimetype": "text/x-python",
   "name": "python",
   "nbconvert_exporter": "python",
   "pygments_lexer": "ipython3",
   "version": "3.7.5"
  }
 },
 "nbformat": 4,
 "nbformat_minor": 4
}
