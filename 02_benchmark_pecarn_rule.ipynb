{
 "cells": [
  {
   "cell_type": "code",
   "execution_count": 76,
   "metadata": {},
   "outputs": [
    {
     "name": "stdout",
     "output_type": "stream",
     "text": [
      "The autoreload extension is already loaded. To reload it, use:\n",
      "  %reload_ext autoreload\n"
     ]
    }
   ],
   "source": [
    "import os\n",
    "from os.path import join as oj\n",
    "import sys, time\n",
    "sys.path.insert(1, oj(sys.path[0], '..'))  # insert parent path\n",
    "import seaborn as sns\n",
    "from sklearn.model_selection import train_test_split\n",
    "import numpy as np\n",
    "import matplotlib.pyplot as plt\n",
    "from tqdm import tqdm\n",
    "from copy import deepcopy\n",
    "import pickle as pkl\n",
    "from sklearn.tree import DecisionTreeClassifier, plot_tree\n",
    "from sklearn.model_selection import cross_validate, ShuffleSplit, train_test_split\n",
    "import pandas as pd\n",
    "import data_pecarn \n",
    "import data_psrc\n",
    "import data\n",
    "import util\n",
    "from style import *\n",
    "from collections import Counter\n",
    "from data import feats_numerical, feats_categorical, meta, outcome_def\n",
    "\n",
    "# plt.style.use('dark_background')\n",
    "# sns.set(style=\"white\")\n",
    "%matplotlib inline\n",
    "%load_ext autoreload\n",
    "%autoreload 2"
   ]
  },
  {
   "cell_type": "markdown",
   "metadata": {},
   "source": [
    "# benchmark bivariable associations"
   ]
  },
  {
   "cell_type": "code",
   "execution_count": 78,
   "metadata": {},
   "outputs": [
    {
     "name": "stderr",
     "output_type": "stream",
     "text": [
      "/accounts/projects/vision/.local/lib/python3.7/site-packages/pandas/core/ops.py:1649: FutureWarning: elementwise comparison failed; returning scalar instead, but in the future will perform elementwise comparison\n",
      "  result = method(y)\n"
     ]
    },
    {
     "data": {
      "text/plain": [
       "['AbdDistention',\n",
       " 'AbdTenderDegree',\n",
       " 'AbdTrauma',\n",
       " 'AbdTrauma_or_SeatBeltSign',\n",
       " 'AbdomenPain',\n",
       " 'Age',\n",
       " 'CostalTender',\n",
       " 'DecrBreathSound',\n",
       " 'DistractingPain',\n",
       " 'GCSScore_Full',\n",
       " 'Hypotension',\n",
       " 'InitHeartRate',\n",
       " 'InitSysBPRange',\n",
       " 'MOI',\n",
       " 'SeatBeltSign',\n",
       " 'ThoracicTrauma',\n",
       " 'VomitWretch']"
      ]
     },
     "execution_count": 78,
     "metadata": {},
     "output_type": "execute_result"
    }
   ],
   "source": [
    "df_pecarn, df_psrc, common_feats, filtered_feats_pecarn, filtered_feats_psrc = data.load_it_all(dummy=False, impute=False, frac_missing_allowed=1)\n",
    "d = df_pecarn # [common_feats]\n",
    "d['Age<2'] = d['Age'] < 2\n",
    "data.select_final_feats(common_feats)"
   ]
  },
  {
   "cell_type": "code",
   "execution_count": 79,
   "metadata": {},
   "outputs": [
    {
     "data": {
      "text/plain": [
       "['id',\n",
       " 'AbdAbnormality',\n",
       " 'AbdAngioDay',\n",
       " 'AbdAngioList',\n",
       " 'AbdAngioObtain',\n",
       " 'AbdAngioText',\n",
       " 'AbdAngioVessel',\n",
       " 'AbdCT',\n",
       " 'AbdCTIndic',\n",
       " 'AbdCTScan',\n",
       " 'AbdCTScan1',\n",
       " 'AbdDistention',\n",
       " 'AbdMRIAfterLap',\n",
       " 'AbdMRIDay',\n",
       " 'AbdMRIObtain',\n",
       " 'AbdMRIShow',\n",
       " 'AbdMRITm',\n",
       " 'AbdOrgans',\n",
       " 'AbdPainLoc',\n",
       " 'AbdPainSeverity',\n",
       " 'AbdTenderDegree',\n",
       " 'AbdTenderLoc',\n",
       " 'AbdTrauma',\n",
       " 'AbdUSAfterLap',\n",
       " 'AbdUSDay',\n",
       " 'AbdUSTm',\n",
       " 'AbdUltrasound',\n",
       " 'AbdUltrasound1',\n",
       " 'AbdomenPain',\n",
       " 'AbdomenTender',\n",
       " 'AbnChestAusc',\n",
       " 'AggregateGCS',\n",
       " 'AlcDrgSuspicion',\n",
       " 'AmDay',\n",
       " 'AmTime',\n",
       " 'AnastRepair',\n",
       " 'ApproxWtKg',\n",
       " 'AutoGrade1or2',\n",
       " 'AutoGrade3or4or5',\n",
       " 'AutoGradeInj',\n",
       " 'AutoPancDuctStat',\n",
       " 'AutoPancInj',\n",
       " 'Autopsy',\n",
       " 'BladExLac',\n",
       " 'BladExLacLoc',\n",
       " 'BladInj',\n",
       " 'BladInjGrade',\n",
       " 'BladInjOth',\n",
       " 'BladInjType',\n",
       " 'BladIntLac',\n",
       " 'BladdOrgans',\n",
       " 'BleedRepeatOp',\n",
       " 'BowelSounds',\n",
       " 'CHCXRFindings',\n",
       " 'CTFindingsID',\n",
       " 'CTGrade1or2',\n",
       " 'CTGrade3or4or5',\n",
       " 'CTGradeInj',\n",
       " 'CTID',\n",
       " 'CTLocation',\n",
       " 'CTPancDuctStat',\n",
       " 'CTPancInj',\n",
       " 'CTResults',\n",
       " 'Certification',\n",
       " 'ChestCXR',\n",
       " 'ColInjAscTyp',\n",
       " 'ColInjDesTyp',\n",
       " 'ColInjGrade',\n",
       " 'ColInjLoc',\n",
       " 'ColInjMeth',\n",
       " 'ColInjMethOt',\n",
       " 'ColInjRecTyp',\n",
       " 'ColInjSigTyp',\n",
       " 'ColInjTranTyp',\n",
       " 'ColonInj',\n",
       " 'Comments',\n",
       " 'CompBladInj',\n",
       " 'CompBladInjOt',\n",
       " 'CompOt',\n",
       " 'CompleteUSObt',\n",
       " 'CurrIntubated',\n",
       " 'CystoAfterLap',\n",
       " 'CystogramIDay',\n",
       " 'CystogramITm',\n",
       " 'CystogramObtain',\n",
       " 'CystogramShow',\n",
       " 'DecrBreathSound',\n",
       " 'DistractingPain',\n",
       " 'DuodInj',\n",
       " 'DuodInjGrade',\n",
       " 'DuodInjTyp',\n",
       " 'DuodMeth',\n",
       " 'DuodMethOt',\n",
       " 'EDEvalTime',\n",
       " 'EDTriageDay',\n",
       " 'EDTriageTime',\n",
       " 'ERCP',\n",
       " 'ERCPGrade1or2',\n",
       " 'ERCPGrade3or4or5',\n",
       " 'ERCPGradeInj',\n",
       " 'ERCPPancDuctStat',\n",
       " 'ERCPPancInj',\n",
       " 'EvalTmKnown',\n",
       " 'FUComp',\n",
       " 'FUCompOt',\n",
       " 'FUDay',\n",
       " 'FlankTender',\n",
       " 'FoleyCathDays',\n",
       " 'FollowUp',\n",
       " 'GCSEye',\n",
       " 'GCSMotor',\n",
       " 'GCSScore',\n",
       " 'GCSVerbal',\n",
       " 'GIInj',\n",
       " 'GIInjComp',\n",
       " 'GIInjCompOt',\n",
       " 'GIInjOt',\n",
       " 'GIInjPhys',\n",
       " 'GIInjPhysOt',\n",
       " 'GIOthOrgType',\n",
       " 'GISzHematoma',\n",
       " 'GenComment',\n",
       " 'HCTDay',\n",
       " 'HCTTime',\n",
       " 'HCTValue',\n",
       " 'Hispanic',\n",
       " 'HRDocumented',\n",
       " 'HandlebarsAbd',\n",
       " 'HematocritColl',\n",
       " 'HighAm',\n",
       " 'HighLip',\n",
       " 'IAIAcuteInterv',\n",
       " 'IAISpecInjuries',\n",
       " 'IAISuspicion',\n",
       " 'IPFluidLoc',\n",
       " 'IVContrast',\n",
       " 'IVPOAbx',\n",
       " 'InitHeartRate',\n",
       " 'InitResp',\n",
       " 'InitRespRange',\n",
       " 'InitSysBP',\n",
       " 'InitSysBPRange',\n",
       " 'InjDescription',\n",
       " 'InjMechSpecs',\n",
       " 'InjOrganSystem',\n",
       " 'InjTmKnown',\n",
       " 'InjurLoc',\n",
       " 'InjuryDay',\n",
       " 'InjuryMechanism',\n",
       " 'InjuryTime',\n",
       " 'KnowAbCTRes',\n",
       " 'KnowAbUltraRes',\n",
       " 'LabResultAware',\n",
       " 'LabsObtained',\n",
       " 'LapGrade1or2',\n",
       " 'LapGrade3or4or5',\n",
       " 'LapPancDuctStat',\n",
       " 'LaparRepDay',\n",
       " 'LaparRepDrain',\n",
       " 'Laparot',\n",
       " 'LaparotGradeInj',\n",
       " 'LaparscRepDay',\n",
       " 'LaparscRepDrain',\n",
       " 'LipDay',\n",
       " 'LipTime',\n",
       " 'LtCostalTender',\n",
       " 'MRI',\n",
       " 'MRIGrade1or2',\n",
       " 'MRIGrade3or4or5',\n",
       " 'MRIGradeInj',\n",
       " 'MRIPancDuctStat',\n",
       " 'MRIPancInj',\n",
       " 'MVCCollision',\n",
       " 'MesInj',\n",
       " 'MesInjLITyp',\n",
       " 'MesInjLoc',\n",
       " 'MesInjLocOt',\n",
       " 'MesInjMeth',\n",
       " 'MesInjMethOt',\n",
       " 'MesInjSITyp',\n",
       " 'NoAm',\n",
       " 'NoLip',\n",
       " 'NonAbdSurgery',\n",
       " 'OTHER_RACE',\n",
       " 'OralContrast',\n",
       " 'OrgInjurySpec',\n",
       " 'OrganInjOnUS',\n",
       " 'OtGrade1or2',\n",
       " 'OtGrade3or4or5',\n",
       " 'OtGradeInj',\n",
       " 'OthAbdImages',\n",
       " 'OthBladderInj',\n",
       " 'OtherDescr',\n",
       " 'OtherDescrip',\n",
       " 'OtherID',\n",
       " 'OtherInjury',\n",
       " 'OtherMOIHighRisk',\n",
       " 'OtherMechanism',\n",
       " 'PancComp',\n",
       " 'PancEnz',\n",
       " 'PancInj',\n",
       " 'PancInjClin',\n",
       " 'PancInjOt',\n",
       " 'PancInjOtMethod',\n",
       " 'PancInjReas',\n",
       " 'PatientRestrained',\n",
       " 'PatientRunOver',\n",
       " 'PelAngioAfterLap',\n",
       " 'PelAngioList',\n",
       " 'PelAngioShow',\n",
       " 'PelAngioText',\n",
       " 'PelAngioVessel',\n",
       " 'PelXRFindings',\n",
       " 'PelvTenderLoc',\n",
       " 'PelvicTender',\n",
       " 'PelvicXR',\n",
       " 'PelvisUnstable',\n",
       " 'PeripancDrain',\n",
       " 'PeripancInt',\n",
       " 'PeripancLap',\n",
       " 'PeritonIrrit',\n",
       " 'PharmaParalyzed',\n",
       " 'PharmaSedated',\n",
       " 'Preverbal',\n",
       " 'PseudocystDrain',\n",
       " 'PseudocystInt',\n",
       " 'PseudocystLapar',\n",
       " 'PtHosp',\n",
       " 'Race_orig',\n",
       " 'RectalBlood',\n",
       " 'RefuseFU',\n",
       " 'Repeat_instance',\n",
       " 'RestraintSystem',\n",
       " 'RtCostalTender',\n",
       " 'Sex',\n",
       " 'SeatBeltSign',\n",
       " 'SerALTTime',\n",
       " 'SerALTValue',\n",
       " 'SerASTDay',\n",
       " 'SerASTTime',\n",
       " 'SerASTValue',\n",
       " 'SerAmylValue',\n",
       " 'SerAmylaseColl',\n",
       " 'SerAmylaseDay',\n",
       " 'SerAmylaseTime',\n",
       " 'SerBUNColl',\n",
       " 'SerBUNTime',\n",
       " 'SerBUNValue',\n",
       " 'SerBicarbColl',\n",
       " 'SerBicarbDay',\n",
       " 'SerBicarbTime',\n",
       " 'SerBicarbValue',\n",
       " 'SerBunDay',\n",
       " 'SerCreatColl',\n",
       " 'SerCreatDay',\n",
       " 'SerCreatTime',\n",
       " 'SerCreatValue',\n",
       " 'SerLipaseColl',\n",
       " 'SerLipaseDay',\n",
       " 'SerLipaseTime',\n",
       " 'SerLipaseValue',\n",
       " 'SerumALTColl',\n",
       " 'SerumASTColl',\n",
       " 'ShortBreath',\n",
       " 'SmIntGrade',\n",
       " 'SmIntIllTyp',\n",
       " 'SmIntInj',\n",
       " 'SmIntInjMeth',\n",
       " 'SmIntInjMethOt',\n",
       " 'SmIntJejTyp',\n",
       " 'SmIntLoc',\n",
       " 'SmIntLocTyp',\n",
       " 'StomInj',\n",
       " 'StomInjTyp',\n",
       " 'StomMeth',\n",
       " 'StomMethOt',\n",
       " 'SubFoleyDays',\n",
       " 'ThorAbnLoc',\n",
       " 'ThorAbnormality',\n",
       " 'ThoracicTender',\n",
       " 'ThoracicTrauma',\n",
       " 'TraumaticInj',\n",
       " 'TriageTmUnkown',\n",
       " 'TxFoleyCath',\n",
       " 'TxLaparRep',\n",
       " 'TxLaparscRep',\n",
       " 'TxSupFoley',\n",
       " 'US4BID',\n",
       " 'USID',\n",
       " 'UltrasoundLoc',\n",
       " 'UltrasoundRes',\n",
       " 'UltrasoundType',\n",
       " 'UpperGIAfterLap',\n",
       " 'UpperGIDay',\n",
       " 'UpperGIObtain',\n",
       " 'UpperGIOrgans',\n",
       " 'UpperGIShow',\n",
       " 'UpperGIText',\n",
       " 'UpperGITm',\n",
       " 'UrethralInj',\n",
       " 'Urinalysis',\n",
       " 'UrinalysisMicro',\n",
       " 'VomitWretch',\n",
       " 'WBCColl',\n",
       " 'WBCDay',\n",
       " 'WBCTime',\n",
       " 'WBCValue',\n",
       " 'WtAssessment',\n",
       " 'abdangioafterlap',\n",
       " 'abdangioorgans',\n",
       " 'abdangioshowiai',\n",
       " 'abdangiotm',\n",
       " 'abdctday',\n",
       " 'abdcttime',\n",
       " 'abdcttm1',\n",
       " 'abdcttrauma',\n",
       " 'abdimagetype',\n",
       " 'abdultrasoundday',\n",
       " 'abdultrasoundtm',\n",
       " 'Age',\n",
       " 'calltime',\n",
       " 'ctafterlap',\n",
       " 'ctid',\n",
       " 'form4b2ndct',\n",
       " 'form4babdinj',\n",
       " 'form4bctnumber',\n",
       " 'form4bintrfluid',\n",
       " 'form4busnumber',\n",
       " 'iaictpositive',\n",
       " 'pelangioday',\n",
       " 'pelangioobtain',\n",
       " 'pelangiotm',\n",
       " 'procday',\n",
       " 'repeat_instance',\n",
       " 'seraltday',\n",
       " 'iai',\n",
       " 'iai_intervention',\n",
       " 'MOI',\n",
       " 'AbdTrauma_or_SeatBeltSign',\n",
       " 'Hypotension',\n",
       " 'GCSScore_Full',\n",
       " 'CostalTender',\n",
       " 'Race',\n",
       " 'cv_fold',\n",
       " 'dset',\n",
       " 'Age<2']"
      ]
     },
     "execution_count": 79,
     "metadata": {},
     "output_type": "execute_result"
    }
   ],
   "source": [
    "list(df_pecarn.keys())"
   ]
  },
  {
   "cell_type": "code",
   "execution_count": 80,
   "metadata": {},
   "outputs": [
    {
     "name": "stdout",
     "output_type": "stream",
     "text": [
      "num IwI and key / num IwI (not nan) \t num without IwI and key / num without IwI (not nane) \n"
     ]
    },
    {
     "data": {
      "text/html": [
       "<div>\n",
       "<style scoped>\n",
       "    .dataframe tbody tr th:only-of-type {\n",
       "        vertical-align: middle;\n",
       "    }\n",
       "\n",
       "    .dataframe tbody tr th {\n",
       "        vertical-align: top;\n",
       "    }\n",
       "\n",
       "    .dataframe thead th {\n",
       "        text-align: right;\n",
       "    }\n",
       "</style>\n",
       "<table border=\"1\" class=\"dataframe\">\n",
       "  <thead>\n",
       "    <tr style=\"text-align: right;\">\n",
       "      <th></th>\n",
       "      <th>NA</th>\n",
       "      <th>IAIw/I</th>\n",
       "      <th>No IAIw/I</th>\n",
       "      <th>Difference</th>\n",
       "    </tr>\n",
       "  </thead>\n",
       "  <tbody>\n",
       "    <tr>\n",
       "      <th>AbdTrauma_or_SeatBeltSign</th>\n",
       "      <td>0</td>\n",
       "      <td>112/203</td>\n",
       "      <td>1851/11841</td>\n",
       "      <td>0.395</td>\n",
       "    </tr>\n",
       "    <tr>\n",
       "      <th>GCSScore</th>\n",
       "      <td>4</td>\n",
       "      <td>67/203</td>\n",
       "      <td>928/11837</td>\n",
       "      <td>0.252</td>\n",
       "    </tr>\n",
       "    <tr>\n",
       "      <th>AbdTenderDegree</th>\n",
       "      <td>8447</td>\n",
       "      <td>0/113</td>\n",
       "      <td>0/3484</td>\n",
       "      <td>0.000</td>\n",
       "    </tr>\n",
       "    <tr>\n",
       "      <th>ThoracicTrauma</th>\n",
       "      <td>76</td>\n",
       "      <td>66/201</td>\n",
       "      <td>1976/11767</td>\n",
       "      <td>0.160</td>\n",
       "    </tr>\n",
       "    <tr>\n",
       "      <th>AbdomenPain</th>\n",
       "      <td>148</td>\n",
       "      <td>105/201</td>\n",
       "      <td>3515/11695</td>\n",
       "      <td>0.222</td>\n",
       "    </tr>\n",
       "    <tr>\n",
       "      <th>DecrBreathSound</th>\n",
       "      <td>233</td>\n",
       "      <td>25/197</td>\n",
       "      <td>231/11614</td>\n",
       "      <td>0.107</td>\n",
       "    </tr>\n",
       "    <tr>\n",
       "      <th>VomitWretch</th>\n",
       "      <td>472</td>\n",
       "      <td>49/165</td>\n",
       "      <td>1104/11407</td>\n",
       "      <td>0.200</td>\n",
       "    </tr>\n",
       "    <tr>\n",
       "      <th>Age&lt;2</th>\n",
       "      <td>0</td>\n",
       "      <td>10/203</td>\n",
       "      <td>1157/11841</td>\n",
       "      <td>-0.048</td>\n",
       "    </tr>\n",
       "    <tr>\n",
       "      <th>AbdDistention</th>\n",
       "      <td>528</td>\n",
       "      <td>49/199</td>\n",
       "      <td>228/11317</td>\n",
       "      <td>0.226</td>\n",
       "    </tr>\n",
       "    <tr>\n",
       "      <th>MOI</th>\n",
       "      <td>476</td>\n",
       "      <td>91/194</td>\n",
       "      <td>3741/11374</td>\n",
       "      <td>0.140</td>\n",
       "    </tr>\n",
       "    <tr>\n",
       "      <th>DistractingPain</th>\n",
       "      <td>889</td>\n",
       "      <td>61/159</td>\n",
       "      <td>2744/10996</td>\n",
       "      <td>0.134</td>\n",
       "    </tr>\n",
       "    <tr>\n",
       "      <th>CostalTender</th>\n",
       "      <td>0</td>\n",
       "      <td>41/203</td>\n",
       "      <td>1324/11841</td>\n",
       "      <td>0.090</td>\n",
       "    </tr>\n",
       "    <tr>\n",
       "      <th>ThoracicTender</th>\n",
       "      <td>1203</td>\n",
       "      <td>36/136</td>\n",
       "      <td>1886/10705</td>\n",
       "      <td>0.089</td>\n",
       "    </tr>\n",
       "    <tr>\n",
       "      <th>Hypotension</th>\n",
       "      <td>0</td>\n",
       "      <td>24/203</td>\n",
       "      <td>150/11841</td>\n",
       "      <td>0.106</td>\n",
       "    </tr>\n",
       "    <tr>\n",
       "      <th>AbdomenTender</th>\n",
       "      <td>0</td>\n",
       "      <td>114/203</td>\n",
       "      <td>3497/11841</td>\n",
       "      <td>0.266</td>\n",
       "    </tr>\n",
       "  </tbody>\n",
       "</table>\n",
       "</div>"
      ],
      "text/plain": [
       "                             NA   IAIw/I   No IAIw/I Difference\n",
       "AbdTrauma_or_SeatBeltSign     0  112/203  1851/11841      0.395\n",
       "GCSScore                      4   67/203   928/11837      0.252\n",
       "AbdTenderDegree            8447    0/113      0/3484      0.000\n",
       "ThoracicTrauma               76   66/201  1976/11767      0.160\n",
       "AbdomenPain                 148  105/201  3515/11695      0.222\n",
       "DecrBreathSound             233   25/197   231/11614      0.107\n",
       "VomitWretch                 472   49/165  1104/11407      0.200\n",
       "Age<2                         0   10/203  1157/11841     -0.048\n",
       "AbdDistention               528   49/199   228/11317      0.226\n",
       "MOI                         476   91/194  3741/11374      0.140\n",
       "DistractingPain             889   61/159  2744/10996      0.134\n",
       "CostalTender                  0   41/203  1324/11841      0.090\n",
       "ThoracicTender             1203   36/136  1886/10705      0.089\n",
       "Hypotension                   0   24/203   150/11841      0.106\n",
       "AbdomenTender                 0  114/203  3497/11841      0.266"
      ]
     },
     "execution_count": 80,
     "metadata": {},
     "output_type": "execute_result"
    }
   ],
   "source": [
    "# can also check vars that were not used\n",
    "rules = [\n",
    "    ('AbdTrauma_or_SeatBeltSign', ['yes']),\n",
    "    ('GCSScore', range(14)),\n",
    "#     ('AbdTenderDegree', ['Mild', 'Moderate', 'Severe']),\n",
    "    ('AbdTenderDegree', ['None']),    \n",
    "#     ('AbdTenderDegree', ['Mild']),    \n",
    "#     ('AbdTenderDegree', ['Moderate']),    \n",
    "#     ('AbdTenderDegree', ['Severe']),        \n",
    "    ('ThoracicTrauma', ['yes']),        \n",
    "    ('AbdomenPain', ['yes']),\n",
    "    ('DecrBreathSound', ['yes']),\n",
    "    ('VomitWretch', ['yes']),\n",
    "    \n",
    "    # not used in rule\n",
    "    ('Age<2', [True]),    \n",
    "    ('AbdDistention', ['yes']),\n",
    "    ('MOI', ['Motor vehicle collision']),\n",
    "    ('DistractingPain', ['yes']),    \n",
    "    ('CostalTender', ['yes']),\n",
    "    ('ThoracicTender', ['yes']),    \n",
    "    ('Hypotension', ['yes']),        \n",
    "    ('AbdomenTender', [1]),    \n",
    "]\n",
    "index = ['NA', 'IAIw/I', 'No IAIw/I', 'Difference']\n",
    "o = data.outcome_def\n",
    "r = {k: [] for k in [r[0] for r in rules]}\n",
    "io = d[o] == 1\n",
    "# print(d[io])\n",
    "print('num IwI and key / num IwI (not nan) \\t num without IwI and key / num without IwI (not nane) ')\n",
    "for rule in rules:\n",
    "    k, vals = rule\n",
    "    ik = d[k].isin(vals) # d[o]==1\n",
    "    inan = d[k].isna() | (d[k] == 'unknown')\n",
    "    r[k].append(np.sum(inan))   \n",
    "    num1 = np.sum(d[ik][o]==1)\n",
    "    denom1 = (io & ~inan).sum()\n",
    "    r[k].append(f'{num1}/{denom1}')\n",
    "    num2 = np.sum(d[ik][o]==0)\n",
    "    denom2 = (~io & ~inan).sum()\n",
    "    r[k].append(f'{num2}/{denom2}')\n",
    "    r[k].append(f'{num1/denom1 - num2/denom2:0.3f}')    \n",
    "r = pd.DataFrame.from_dict(r)\n",
    "r.index = index\n",
    "r.transpose()"
   ]
  },
  {
   "cell_type": "code",
   "execution_count": 81,
   "metadata": {},
   "outputs": [],
   "source": [
    "ks = [k for k in df_pecarn.keys() if 'gcs' in k.lower()]"
   ]
  },
  {
   "cell_type": "code",
   "execution_count": 82,
   "metadata": {},
   "outputs": [
    {
     "data": {
      "text/plain": [
       "['AggregateGCS',\n",
       " 'GCSEye',\n",
       " 'GCSMotor',\n",
       " 'GCSScore',\n",
       " 'GCSVerbal',\n",
       " 'GCSScore_Full']"
      ]
     },
     "execution_count": 82,
     "metadata": {},
     "output_type": "execute_result"
    }
   ],
   "source": [
    "ks"
   ]
  },
  {
   "cell_type": "code",
   "execution_count": 83,
   "metadata": {},
   "outputs": [
    {
     "data": {
      "text/plain": [
       "(array([-1.,  3.,  4.,  5.,  6.,  7.,  8.,  9., 10., 11., 12., 13., 14.,\n",
       "        15.]),\n",
       " array([    4,   242,    29,    30,    73,    69,    44,    68,    62,\n",
       "           63,    83,   232,   666, 10379]))"
      ]
     },
     "execution_count": 83,
     "metadata": {},
     "output_type": "execute_result"
    }
   ],
   "source": [
    "np.unique(df_pecarn['GCSScore'].fillna(-1), return_counts=True)"
   ]
  },
  {
   "cell_type": "code",
   "execution_count": 72,
   "metadata": {},
   "outputs": [
    {
     "data": {
      "text/plain": [
       "(array([-1.,  3.,  4.,  5.,  6.,  7.,  8.,  9., 10., 11., 12., 13., 14.,\n",
       "        15.]),\n",
       " array([11914,    10,     2,     1,     6,     1,     2,     1,     2,\n",
       "            2,     1,     1,     6,    95]))"
      ]
     },
     "execution_count": 72,
     "metadata": {},
     "output_type": "execute_result"
    }
   ],
   "source": [
    "np.unique(df_pecarn['AggregateGCS'].fillna(-1), return_counts=True)"
   ]
  },
  {
   "cell_type": "code",
   "execution_count": null,
   "metadata": {},
   "outputs": [],
   "source": [
    "df_pecarn.keys()"
   ]
  },
  {
   "cell_type": "code",
   "execution_count": 75,
   "metadata": {},
   "outputs": [
    {
     "data": {
      "text/plain": [
       "114"
      ]
     },
     "execution_count": 75,
     "metadata": {},
     "output_type": "execute_result"
    }
   ],
   "source": [
    "((~df_pecarn['AggregateGCS'].isna()) & df_pecarn['GCSScore'].isna()).sum()"
   ]
  },
  {
   "cell_type": "code",
   "execution_count": 56,
   "metadata": {},
   "outputs": [
    {
     "data": {
      "text/plain": [
       "0"
      ]
     },
     "execution_count": 56,
     "metadata": {},
     "output_type": "execute_result"
    }
   ],
   "source": [
    "['GCSEye', 'GCSMotor', 'GCSVerbal']\n",
    "legal_scores = (~df_pecarn['GCSEye'].isna()) & (~df_pecarn['GCSMotor'].isna()) & (~df_pecarn['GCSVerbal'].isna())\n",
    "(legal_scores & df_pecarn['GCSScore'].isna()).sum()"
   ]
  },
  {
   "cell_type": "code",
   "execution_count": 59,
   "metadata": {},
   "outputs": [
    {
     "name": "stdout",
     "output_type": "stream",
     "text": [
      "GCSEye (array([-1.,  1.,  2.,  3.,  4.]), array([  113, 11014,   338,   138,   441]))\n",
      "GCSMotor (array([-1.,  1.,  2.,  3.,  4.,  5.,  6.]), array([  113, 11071,   363,   181,    40,    28,   248]))\n",
      "GCSScore (array([-1.,  3.,  4.,  5.,  6.,  7.,  8.,  9., 10., 11., 12., 13., 14.,\n",
      "       15.]), array([  118,   233,    27,    29,    67,    68,    42,    67,    60,\n",
      "          61,    82,   231,   660, 10299]))\n",
      "GCSVerbal (array([-1.,  1.,  2.,  3.,  4.,  5.]), array([  115, 10500,   790,   100,   122,   417]))\n",
      "GCSScore_Full (array(['no', 'yes'], dtype=object), array([ 1745, 10299]))\n"
     ]
    }
   ],
   "source": [
    "for k in ks:\n",
    "    print(k, np.unique(df_pecarn[k].fillna(-1), return_counts=True))"
   ]
  },
  {
   "cell_type": "code",
   "execution_count": 39,
   "metadata": {},
   "outputs": [
    {
     "data": {
      "text/plain": [
       "(array([1., 2., 3., 4.]), array([3611, 7236, 1035,  162]))"
      ]
     },
     "execution_count": 39,
     "metadata": {},
     "output_type": "execute_result"
    }
   ],
   "source": [
    "np.unique(df_pecarn['AbdomenTender'], return_counts=True)"
   ]
  },
  {
   "cell_type": "code",
   "execution_count": 40,
   "metadata": {},
   "outputs": [
    {
     "data": {
      "text/plain": [
       "(array(['Mild', 'Moderate', 'Severe', 'unknown'], dtype=object),\n",
       " array([1635, 1543,  419, 8447]))"
      ]
     },
     "execution_count": 40,
     "metadata": {},
     "output_type": "execute_result"
    }
   ],
   "source": [
    "np.unique(df_pecarn['AbdTenderDegree'], return_counts=True)"
   ]
  },
  {
   "cell_type": "code",
   "execution_count": 41,
   "metadata": {},
   "outputs": [
    {
     "data": {
      "text/plain": [
       "7208"
      ]
     },
     "execution_count": 41,
     "metadata": {},
     "output_type": "execute_result"
    }
   ],
   "source": [
    "((df_pecarn['AbdTenderDegree']=='unknown') & (df_pecarn['AbdomenTender'].isin([2]))).sum()"
   ]
  },
  {
   "cell_type": "markdown",
   "metadata": {},
   "source": [
    "# recreate / evaluate rule"
   ]
  },
  {
   "cell_type": "code",
   "execution_count": 84,
   "metadata": {},
   "outputs": [
    {
     "name": "stdout",
     "output_type": "stream",
     "text": [
      "Initial                   203 / 12044\n",
      "AbdTrauma_or_SeatBeltSign 91 / 10081\t112 / 1963 (5.7)\n",
      "GCSScore                  53 / 9255\t38 / 826 (4.6)\n",
      "AbdTenderDegree           17 / 6744\t36 / 2511 (1.4)\n",
      "ThoracicTrauma            11 / 5785\t6 / 959 (0.6)\n",
      "AbdomenPain               9 / 5456\t2 / 329 (0.6)\n",
      "DecrBreathSound           8 / 5422\t1 / 34 (2.9)\n",
      "VomitWretch               6 / 5028\t2 / 394 (0.5)\n",
      "sensitivity 97.04\n",
      "specificity 42.41\n"
     ]
    },
    {
     "data": {
      "text/html": [
       "<div>\n",
       "<style scoped>\n",
       "    .dataframe tbody tr th:only-of-type {\n",
       "        vertical-align: middle;\n",
       "    }\n",
       "\n",
       "    .dataframe tbody tr th {\n",
       "        vertical-align: top;\n",
       "    }\n",
       "\n",
       "    .dataframe thead th {\n",
       "        text-align: right;\n",
       "    }\n",
       "</style>\n",
       "<table border=\"1\" class=\"dataframe\">\n",
       "  <thead>\n",
       "    <tr style=\"text-align: right;\">\n",
       "      <th></th>\n",
       "      <th>Age</th>\n",
       "      <th>Sex</th>\n",
       "      <th>MOI</th>\n",
       "    </tr>\n",
       "  </thead>\n",
       "  <tbody>\n",
       "    <tr>\n",
       "      <th>203</th>\n",
       "      <td>2</td>\n",
       "      <td>M</td>\n",
       "      <td>Fall down stairs</td>\n",
       "    </tr>\n",
       "    <tr>\n",
       "      <th>4349</th>\n",
       "      <td>2</td>\n",
       "      <td>M</td>\n",
       "      <td>Pedestrian/bicyclist struck by moving vehicle</td>\n",
       "    </tr>\n",
       "    <tr>\n",
       "      <th>5977</th>\n",
       "      <td>16</td>\n",
       "      <td>M</td>\n",
       "      <td>Motorcycle/ATV/Scooter collision</td>\n",
       "    </tr>\n",
       "    <tr>\n",
       "      <th>9419</th>\n",
       "      <td>17</td>\n",
       "      <td>F</td>\n",
       "      <td>Motor vehicle collision</td>\n",
       "    </tr>\n",
       "    <tr>\n",
       "      <th>9436</th>\n",
       "      <td>17</td>\n",
       "      <td>M</td>\n",
       "      <td>Motor vehicle collision</td>\n",
       "    </tr>\n",
       "    <tr>\n",
       "      <th>9971</th>\n",
       "      <td>17</td>\n",
       "      <td>M</td>\n",
       "      <td>Motor vehicle collision</td>\n",
       "    </tr>\n",
       "  </tbody>\n",
       "</table>\n",
       "</div>"
      ],
      "text/plain": [
       "      Age Sex                                            MOI\n",
       "203     2   M                               Fall down stairs\n",
       "4349    2   M  Pedestrian/bicyclist struck by moving vehicle\n",
       "5977   16   M               Motorcycle/ATV/Scooter collision\n",
       "9419   17   F                        Motor vehicle collision\n",
       "9436   17   M                        Motor vehicle collision\n",
       "9971   17   M                        Motor vehicle collision"
      ]
     },
     "execution_count": 84,
     "metadata": {},
     "output_type": "execute_result"
    }
   ],
   "source": [
    "def pecarn_rule_predict(d, o=data.outcome_def):\n",
    "    n = d.shape[0]\n",
    "    npos = d[o].sum()\n",
    "    print(f'{\"Initial\":<25} {npos} / {n}')\n",
    "    risks = np.array([np.nan] * d.shape[0])\n",
    "    rules = [\n",
    "        ('AbdTrauma_or_SeatBeltSign', ['yes']),\n",
    "        ('GCSScore', range(14)),\n",
    "        ('AbdTenderDegree', ['Mild', 'Moderate', 'Severe']),\n",
    "        ('ThoracicTrauma', ['yes']),        \n",
    "        ('AbdomenPain', ['yes']),\n",
    "        ('DecrBreathSound', ['yes']),\n",
    "        ('VomitWretch', ['yes']),\n",
    "    ]\n",
    "    for rule in rules:\n",
    "        k, vals = rule\n",
    "        idxs = d[k].isin(vals)\n",
    "        do = d[idxs]\n",
    "        d = d[~idxs]\n",
    "        num2 = do[o].sum()\n",
    "        denom2 = do.shape[0]\n",
    "        print(f'{k:<25} {d[o].sum()} / {d.shape[0]}\\t{num2} / {denom2} ({num2/denom2*100:0.1f})')\n",
    "    \n",
    "    low_risk_patients = d\n",
    "    patients_missed = low_risk_patients[low_risk_patients[o] == 1]\n",
    "    \n",
    "    # calc metrics\n",
    "    fn = patients_missed.shape[0]\n",
    "    tp = npos - fn\n",
    "    tn = low_risk_patients.shape[0] - fn\n",
    "    fp = (n - low_risk_patients.shape[0]) - tp\n",
    "    stats = {\n",
    "        'fn': fn,\n",
    "        'tp': tp,\n",
    "        'tn': tn,\n",
    "        'fp': fp,\n",
    "        'sensitivity': tp / npos * 100,\n",
    "        'specificity': tn / (tn + fp) * 100.\n",
    "    }\n",
    "    return d, patients_missed, stats\n",
    "\n",
    "low_risk_patients, missed_patients, stats = pecarn_rule_predict(df_pecarn)\n",
    "for stat in ['sensitivity', 'specificity']:\n",
    "    print(stat, f'{stats[stat]:0.2f}')\n",
    "missed_patients[['Age', 'Sex', 'MOI']]"
   ]
  },
  {
   "cell_type": "code",
   "execution_count": 43,
   "metadata": {},
   "outputs": [
    {
     "name": "stdout",
     "output_type": "stream",
     "text": [
      "Initial                   62 / 2188\n",
      "AbdTrauma_or_SeatBeltSign 18 / 1708\t44 / 480 (9.2)\n",
      "GCSScore                  8 / 1441\t10 / 267 (3.7)\n",
      "AbdTenderDegree           2 / 1216\t6 / 225 (2.7)\n",
      "ThoracicTrauma            2 / 1123\t0 / 93 (0.0)\n",
      "AbdomenPain               2 / 993\t0 / 130 (0.0)\n",
      "DecrBreathSound           2 / 993\t0 / 0 (nan)\n",
      "VomitWretch               2 / 937\t0 / 56 (0.0)\n",
      "sensitivity 96.77\n",
      "specificity 43.98\n"
     ]
    },
    {
     "name": "stderr",
     "output_type": "stream",
     "text": [
      "/accounts/projects/vision/.local/lib/python3.7/site-packages/ipykernel_launcher.py:22: RuntimeWarning: invalid value encountered in long_scalars\n"
     ]
    },
    {
     "data": {
      "text/html": [
       "<div>\n",
       "<style scoped>\n",
       "    .dataframe tbody tr th:only-of-type {\n",
       "        vertical-align: middle;\n",
       "    }\n",
       "\n",
       "    .dataframe tbody tr th {\n",
       "        vertical-align: top;\n",
       "    }\n",
       "\n",
       "    .dataframe thead th {\n",
       "        text-align: right;\n",
       "    }\n",
       "</style>\n",
       "<table border=\"1\" class=\"dataframe\">\n",
       "  <thead>\n",
       "    <tr style=\"text-align: right;\">\n",
       "      <th></th>\n",
       "      <th>Age</th>\n",
       "      <th>MOI</th>\n",
       "    </tr>\n",
       "  </thead>\n",
       "  <tbody>\n",
       "    <tr>\n",
       "      <th>1164</th>\n",
       "      <td>1.0</td>\n",
       "      <td>Motor vehicle collision</td>\n",
       "    </tr>\n",
       "    <tr>\n",
       "      <th>1755</th>\n",
       "      <td>6.0</td>\n",
       "      <td>Fall from an elevation</td>\n",
       "    </tr>\n",
       "  </tbody>\n",
       "</table>\n",
       "</div>"
      ],
      "text/plain": [
       "      Age                      MOI\n",
       "1164  1.0  Motor vehicle collision\n",
       "1755  6.0   Fall from an elevation"
      ]
     },
     "execution_count": 43,
     "metadata": {},
     "output_type": "execute_result"
    }
   ],
   "source": [
    "low_risk_patients, missed_patients, stats = pecarn_rule_predict(df_psrc)\n",
    "for stat in ['sensitivity', 'specificity']:\n",
    "    print(stat, f'{stats[stat]:0.2f}')\n",
    "missed_patients[['Age', 'MOI']]"
   ]
  },
  {
   "cell_type": "code",
   "execution_count": 7,
   "metadata": {},
   "outputs": [],
   "source": [
    "df_psrc.loc[missed_patients.index].to_csv('processed/missed_patients_psrc.csv')"
   ]
  }
 ],
 "metadata": {
  "kernelspec": {
   "display_name": "Python 3",
   "language": "python",
   "name": "python3"
  },
  "language_info": {
   "codemirror_mode": {
    "name": "ipython",
    "version": 3
   },
   "file_extension": ".py",
   "mimetype": "text/x-python",
   "name": "python",
   "nbconvert_exporter": "python",
   "pygments_lexer": "ipython3",
   "version": "3.7.5"
  }
 },
 "nbformat": 4,
 "nbformat_minor": 4
}
