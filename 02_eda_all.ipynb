{
 "cells": [
  {
   "cell_type": "code",
   "execution_count": 49,
   "metadata": {},
   "outputs": [
    {
     "name": "stdout",
     "output_type": "stream",
     "text": [
      "The autoreload extension is already loaded. To reload it, use:\n",
      "  %reload_ext autoreload\n"
     ]
    }
   ],
   "source": [
    "import os\n",
    "from os.path import join as oj\n",
    "import sys, time\n",
    "import seaborn as sns\n",
    "import numpy as np\n",
    "import matplotlib.pyplot as plt\n",
    "from tqdm import tqdm\n",
    "from copy import deepcopy\n",
    "import pickle as pkl\n",
    "import pandas as pd\n",
    "import data_pecarn\n",
    "import data_psrc\n",
    "import data\n",
    "import train\n",
    "import matplotlib.gridspec as grd\n",
    "import viz\n",
    "import style\n",
    "\n",
    "# sns.set(style=\"black\")\n",
    "# plt.style.use('dark_background')\n",
    "outcome_def = 'iai_intervention' # output\n",
    "%matplotlib inline\n",
    "%load_ext autoreload\n",
    "%autoreload 2"
   ]
  },
  {
   "cell_type": "markdown",
   "metadata": {},
   "source": [
    "# combined"
   ]
  },
  {
   "cell_type": "code",
   "execution_count": 50,
   "metadata": {},
   "outputs": [
    {
     "name": "stdout",
     "output_type": "stream",
     "text": [
      "computing pecarn preprocessing...\n",
      "computing psrc preprocessing...\n"
     ]
    }
   ],
   "source": [
    "dummy = True\n",
    "df_pecarn = data_pecarn.get_data(dummy=dummy)\n",
    "feat_names, pecarn_feat_names = data.get_feat_names(df_pecarn)\n",
    "\n",
    "df_psrc = data_psrc.get_data(dummy=dummy)\n",
    "feat_names, psrc_feat_names = data.get_feat_names(df_psrc)"
   ]
  },
  {
   "cell_type": "code",
   "execution_count": 51,
   "metadata": {},
   "outputs": [
    {
     "name": "stdout",
     "output_type": "stream",
     "text": [
      "27 ['VomitWretch_yes', 'AbdDistention_unknown', 'DecrBreathSound_yes', 'RtCostalTender', 'AbdomenPain_yes', 'Hypotension', 'MOI_Motor vehicle collision', 'AbdDistention_yes', 'ThoracicTrauma_yes', 'CostalTender', 'AbdTenderDegree_Moderate', 'MOI_unknown', 'MOI_Object struck abdomen', 'AbdTrauma_yes', 'Age', 'VomitWretch_unknown', 'MOI_Bike collision/fall', 'AbdTenderDegree_Severe', 'MOI_Motorcycle/ATV/Scooter collision', 'InitSysBPRange', 'InitHeartRate', 'MOI_Pedestrian/bicyclist struck by moving vehicle', 'LtCostalTender', 'GCSScore', 'SeatBeltSign_yes', 'MOI_Fall from an elevation', 'AbdTenderDegree_Mild']\n"
     ]
    }
   ],
   "source": [
    "feat_names = [k for k in psrc_feat_names if k in pecarn_feat_names]\n",
    "meta = [outcome_def, 'cv_fold', 'dset']\n",
    "common_feats = feat_names + meta\n",
    "df1 = df_pecarn[common_feats]\n",
    "df2 = df_psrc[common_feats]\n",
    "df = df1.append(df2) # pd.concat((df1, df2), axis=0)\n",
    "\n",
    "\n",
    "df = df[df.cv_fold.isin(data.pecarn_train_idxs)] # only use train idxs\n",
    "# don't include doubles for binary features\n",
    "feat_names = [f for f in feat_names if not f.endswith('_no')]\n",
    "# print(len(feat_names), feat_names)\n",
    "\n",
    "# don't include race or \n",
    "df['AbdTenderDegree_Mild'] = df['AbdTenderDegree_unknown'] | df['AbdTenderDegree_Mild']\n",
    "feat_names = [f for f in feat_names if not 'Race' in f\n",
    "              and '_or_' not in f\n",
    "              and not f == 'AbdTenderDegree_unknown']\n",
    "print(len(feat_names), feat_names)"
   ]
  },
  {
   "cell_type": "code",
   "execution_count": null,
   "metadata": {},
   "outputs": [],
   "source": [
    "corrs = df[feat_names].corr()\n",
    "sns.clustermap(corrs, cmap=style.cmap_div)\n",
    "plt.savefig('results/corrplot.png', dpi=300, bbox_inches='tight')"
   ]
  }
 ],
 "metadata": {
  "kernelspec": {
   "display_name": "Python 3",
   "language": "python",
   "name": "python3"
  },
  "language_info": {
   "codemirror_mode": {
    "name": "ipython",
    "version": 3
   },
   "file_extension": ".py",
   "mimetype": "text/x-python",
   "name": "python",
   "nbconvert_exporter": "python",
   "pygments_lexer": "ipython3",
   "version": "3.7.5"
  }
 },
 "nbformat": 4,
 "nbformat_minor": 4
}
