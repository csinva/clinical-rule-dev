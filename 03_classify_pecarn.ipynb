{
 "cells": [
  {
   "cell_type": "code",
   "execution_count": 3,
   "metadata": {},
   "outputs": [
    {
     "name": "stdout",
     "output_type": "stream",
     "text": [
      "The autoreload extension is already loaded. To reload it, use:\n",
      "  %reload_ext autoreload\n"
     ]
    }
   ],
   "source": [
    "%matplotlib inline\n",
    "%load_ext autoreload\n",
    "%autoreload 2\n",
    "\n",
    "import os\n",
    "from os.path import join as oj\n",
    "import sys, time\n",
    "sys.path.insert(1, oj(sys.path[0], '..'))  # insert parent path\n",
    "import seaborn as sns\n",
    "from sklearn.model_selection import train_test_split\n",
    "import numpy as np\n",
    "import matplotlib.pyplot as plt\n",
    "from tqdm import tqdm\n",
    "from copy import deepcopy\n",
    "import pickle as pkl\n",
    "from sklearn.tree import DecisionTreeClassifier, plot_tree\n",
    "from sklearn.model_selection import cross_validate, ShuffleSplit, train_test_split\n",
    "from sklearn.linear_model import LogisticRegressionCV\n",
    "from sklearn import metrics\n",
    "import pandas as pd\n",
    "import data \n",
    "import data_pecarn\n",
    "from collections import Counter\n",
    "import train\n",
    "plt.style.use('dark_background')\n",
    "# sns.set(style=\"white\")\n",
    "NUM_PATIENTS = 12044\n",
    "# import warnings\n",
    "# warnings.filterwarnings(\"ignore\", category=DeprecationWarning)"
   ]
  },
  {
   "cell_type": "code",
   "execution_count": 20,
   "metadata": {},
   "outputs": [],
   "source": [
    "df = data_pecarn.get_data(use_processed=True)\n",
    "feat_names, pecarn_feat_names = data.get_feat_names(df)\n",
    "outcome_def = 'iai_intervention' # output"
   ]
  },
  {
   "cell_type": "code",
   "execution_count": 21,
   "metadata": {},
   "outputs": [
    {
     "name": "stdout",
     "output_type": "stream",
     "text": [
      "num keys 105 Index(['id', 'AbdCTScan', 'AbdCTScan1', 'AbdUltrasound', 'AbdUltrasound1',\n",
      "       'AbdomenTender', 'AbnChestAusc', 'AlcDrgSuspicion', 'BowelSounds',\n",
      "       'Certification',\n",
      "       ...\n",
      "       'ThoracicTender_yes', 'ThoracicTrauma_no', 'ThoracicTrauma_unk',\n",
      "       'ThoracicTrauma_yes', 'VomitWretch_no', 'VomitWretch_unk',\n",
      "       'VomitWretch_yes', 'AbdTrauma_or_SeatBeltSign_False',\n",
      "       'AbdTrauma_or_SeatBeltSign_True', 'cv_fold'],\n",
      "      dtype='object', length=105)\n"
     ]
    }
   ],
   "source": [
    "print('num keys', len(df.keys()), df.keys())"
   ]
  },
  {
   "cell_type": "markdown",
   "metadata": {},
   "source": [
    "# predict"
   ]
  },
  {
   "cell_type": "code",
   "execution_count": null,
   "metadata": {},
   "outputs": [],
   "source": [
    "out_dir = 'results/pecarn_apri19_1'\n",
    "for balancing_ratio in [1, 5, 100, 1000]: \n",
    "    for balancing in ['ros', 'smote']:\n",
    "         for model_type in tqdm(['logistic', 'dt']): # 'rf', 'mlp2', 'svm', 'gb'\n",
    "            for num_feats in [20, 30, 52]: #111]:\n",
    "                # feats = feat_names[:num_feats]\n",
    "                feats = pecarn_feat_names[:num_feats]\n",
    "                os.makedirs(out_dir, exist_ok=True)\n",
    "                out_name = f'{model_type}_{len(feats)}_{balancing}={balancing_ratio}'\n",
    "                train.train(df, feat_names=feats, model_type=model_type, \n",
    "                            balancing=balancing, outcome_def=outcome_def,\n",
    "                            balancing_ratio=balancing_ratio,\n",
    "                            out_name=f'{out_dir}/{out_name}.pkl')"
   ]
  },
  {
   "cell_type": "code",
   "execution_count": null,
   "metadata": {},
   "outputs": [],
   "source": []
  }
 ],
 "metadata": {
  "kernelspec": {
   "display_name": "Python 3",
   "language": "python",
   "name": "python3"
  },
  "language_info": {
   "codemirror_mode": {
    "name": "ipython",
    "version": 3
   },
   "file_extension": ".py",
   "mimetype": "text/x-python",
   "name": "python",
   "nbconvert_exporter": "python",
   "pygments_lexer": "ipython3",
   "version": "3.7.5"
  }
 },
 "nbformat": 4,
 "nbformat_minor": 4
}
