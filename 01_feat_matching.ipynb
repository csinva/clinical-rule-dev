{
 "cells": [
  {
   "cell_type": "code",
   "execution_count": 1,
   "metadata": {},
   "outputs": [],
   "source": [
    "import os\n",
    "from os.path import join as oj\n",
    "import sys, time\n",
    "sys.path.insert(1, oj(sys.path[0], '..'))  # insert parent path\n",
    "import seaborn as sns\n",
    "from sklearn.model_selection import train_test_split\n",
    "import numpy as np\n",
    "import matplotlib.pyplot as plt\n",
    "from tqdm import tqdm\n",
    "from copy import deepcopy\n",
    "import pickle as pkl\n",
    "from sklearn.tree import DecisionTreeClassifier, plot_tree\n",
    "from sklearn.model_selection import cross_validate, ShuffleSplit, train_test_split\n",
    "import pandas as pd\n",
    "import data_pecarn \n",
    "import data_psrc\n",
    "import data\n",
    "from style import *\n",
    "from collections import Counter\n",
    "plt.style.use('dark_background')\n",
    "# sns.set(style=\"white\")\n",
    "%matplotlib inline\n",
    "%load_ext autoreload\n",
    "%autoreload 2\n",
    "NUM_PATIENTS = 12044"
   ]
  },
  {
   "cell_type": "markdown",
   "metadata": {},
   "source": [
    "**load the data**"
   ]
  },
  {
   "cell_type": "code",
   "execution_count": 2,
   "metadata": {},
   "outputs": [
    {
     "name": "stdout",
     "output_type": "stream",
     "text": [
      "computing pecarn preprocessing...\n",
      "computing psrc preprocessing...\n"
     ]
    }
   ],
   "source": [
    "dummy = False\n",
    "df_pecarn = data_pecarn.get_data(use_processed=False,\n",
    "                                 frac_missing_allowed=0.1,\n",
    "                                 dummy=dummy)\n",
    "all_feats_pecarn, filtered_feats_pecarn = data.get_feat_names(df_pecarn)\n",
    "df_psrc = data_psrc.get_data(use_processed=False, dummy=dummy)\n",
    "all_feats_psrc, filtered_feats_psrc = data.get_feat_names(df_psrc)\n",
    "\n",
    "# resulting features\n",
    "outcome_def = 'iai_intervention' # output\n",
    "meta = [outcome_def, 'cv_fold', 'dset']\n",
    "common_feats = list(filtered_feats_pecarn.intersection(filtered_feats_psrc))\n",
    "common_feats = common_feats + meta\n",
    "feats_numerical = ['InitSysBPRange', 'InitHeartRate', 'GCSScore', 'Age']\n",
    "feats_categorical = ['AbdTenderDegree', 'Race', 'RecodedMOI']\n",
    "feats_binary = [feat for feat in common_feats\n",
    "                if not feat in feats_numerical + feats_categorical + meta]"
   ]
  },
  {
   "cell_type": "markdown",
   "metadata": {},
   "source": [
    "# see what feats matched / are missing"
   ]
  },
  {
   "cell_type": "code",
   "execution_count": 59,
   "metadata": {},
   "outputs": [
    {
     "name": "stdout",
     "output_type": "stream",
     "text": [
      "num features 20\n"
     ]
    }
   ],
   "source": [
    "print('num features', len(common_feats) - len(meta))"
   ]
  },
  {
   "cell_type": "code",
   "execution_count": null,
   "metadata": {},
   "outputs": [],
   "source": [
    "for feat in common_feats:\n",
    "    print(feat, '\\t', df_pecarn[feat].min(), '\\t', df_pecarn[feat].max())"
   ]
  },
  {
   "cell_type": "markdown",
   "metadata": {},
   "source": [
    "**look at resulting feats**"
   ]
  },
  {
   "cell_type": "code",
   "execution_count": null,
   "metadata": {},
   "outputs": [],
   "source": [
    "filtered_feats_pecarn.intersection(filtered_feats_psrc)"
   ]
  },
  {
   "cell_type": "code",
   "execution_count": 17,
   "metadata": {},
   "outputs": [
    {
     "name": "stdout",
     "output_type": "stream",
     "text": [
      "psrc but not pecarn\n"
     ]
    },
    {
     "data": {
      "text/plain": [
       "{'FemurFracture'}"
      ]
     },
     "execution_count": 17,
     "metadata": {},
     "output_type": "execute_result"
    }
   ],
   "source": [
    "print('psrc but not pecarn')\n",
    "filtered_feats_psrc.difference(filtered_feats_pecarn)"
   ]
  },
  {
   "cell_type": "code",
   "execution_count": 18,
   "metadata": {},
   "outputs": [
    {
     "name": "stdout",
     "output_type": "stream",
     "text": [
      "pecarn but not psrc\n",
      "{'ThoracicTender'}\n"
     ]
    }
   ],
   "source": [
    "print('pecarn but not psrc')\n",
    "print(filtered_feats_pecarn.difference(filtered_feats_psrc))"
   ]
  },
  {
   "cell_type": "markdown",
   "metadata": {},
   "source": [
    "# look for feat shift"
   ]
  },
  {
   "cell_type": "code",
   "execution_count": null,
   "metadata": {},
   "outputs": [],
   "source": [
    "R, C, = 1, 4\n",
    "plt.figure(figsize=(12, 3), dpi=500)\n",
    "for i in range(len(feats_numerical)):\n",
    "    plt.subplot(R, C, i + 1)\n",
    "    feat = feats_numerical[i]\n",
    "    plt.hist(df_pecarn[feat], density=True, alpha=1, label='pecarn', color=cb)\n",
    "    plt.hist(df_psrc[feat], density=True, alpha=0.5, label='psrc', color=cr)\n",
    "    plt.xlabel(feat, fontsize=14)\n",
    "plt.legend()\n",
    "plt.tight_layout()\n",
    "plt.show()"
   ]
  },
  {
   "cell_type": "code",
   "execution_count": null,
   "metadata": {},
   "outputs": [],
   "source": [
    "R, C, = 1, 4\n",
    "plt.figure(figsize=(12, 3), dpi=500)\n",
    "# print(feats_categorical)\n",
    "for i in range(len(feats_categorical)):\n",
    "    plt.subplot(R, C, i + 1)\n",
    "    feat = feats_categorical[i]\n",
    "    plt.hist(df_pecarn[feat], density=True, alpha=1, label='pecarn', color=cb)\n",
    "    plt.hist(df_psrc[feat], density=True, alpha=0.5, label='psrc', color=cr)\n",
    "    plt.xticks(rotation='vertical')\n",
    "    plt.title(feat)\n",
    "plt.legend()\n",
    "plt.tight_layout()\n",
    "plt.show()"
   ]
  },
  {
   "cell_type": "code",
   "execution_count": null,
   "metadata": {},
   "outputs": [],
   "source": [
    "R, C = 3, 4\n",
    "n = len(feats_binary)\n",
    "def true_or_yes(vals):\n",
    "    return (vals==True) | (vals=='yes')\n",
    "frac_psrc = true_or_yes(df_psrc[feats_binary]).mean().values\n",
    "frac_pecarn = true_or_yes(df_pecarn[feats_binary]).mean().values\n",
    "\n",
    "width = 0.4\n",
    "plt.figure(dpi=500, figsize=(3, 6))\n",
    "plt.barh(np.arange(n), frac_pecarn, height=0.4, label='pecarn', color=cb)\n",
    "plt.barh(np.arange(n) - width, frac_psrc, height=0.4, label='psrc', color=cr)\n",
    "plt.yticks(np.arange(n) - width + 0.2, feats_binary)\n",
    "plt.xlabel('fraction of patients which have this')\n",
    "plt.legend()\n",
    "plt.show()"
   ]
  },
  {
   "cell_type": "markdown",
   "metadata": {},
   "source": [
    "**missing features**"
   ]
  },
  {
   "cell_type": "code",
   "execution_count": null,
   "metadata": {},
   "outputs": [],
   "source": [
    "R, C = 3, 4\n",
    "feats_all = [feat for feat in common_feats\n",
    "         if not feat in meta]\n",
    "n = len(feats_all)\n",
    "frac_psrc = (df_psrc[feats_all]=='unknown').mean().values\n",
    "frac_pecarn = (df_pecarn[feats_all]=='unknown').mean().values\n",
    "\n",
    "width = 0.4\n",
    "plt.figure(dpi=300, figsize=(3, 6))\n",
    "plt.xlabel('Fraction of patients\\nmissing this feature')\n",
    "plt.barh(np.arange(n), frac_pecarn, height=0.4, label='pecarn', color=cb)\n",
    "plt.barh(np.arange(n) - width, frac_psrc, height=0.4, label='psrc', color=cr)\n",
    "plt.yticks(np.arange(n) - width + 0.2, feats_all)\n",
    "\n",
    "plt.legend()\n",
    "plt.show()"
   ]
  },
  {
   "cell_type": "markdown",
   "metadata": {},
   "source": [
    "# write csvs"
   ]
  },
  {
   "cell_type": "code",
   "execution_count": 23,
   "metadata": {},
   "outputs": [],
   "source": [
    "df_pecarn.astype('object').describe().transpose().to_csv('processed/pecarn_vars.csv')\n",
    "df_psrc.astype('object').describe().transpose().to_csv('processed/psrc_vars.csv')"
   ]
  },
  {
   "cell_type": "code",
   "execution_count": 117,
   "metadata": {},
   "outputs": [],
   "source": [
    "common_feats = [x for x in feat_names_pecarn if x in feat_names_psrc]"
   ]
  },
  {
   "cell_type": "code",
   "execution_count": 17,
   "metadata": {},
   "outputs": [
    {
     "data": {
      "text/plain": [
       "array([ 0., nan,  1.])"
      ]
     },
     "execution_count": 17,
     "metadata": {},
     "output_type": "execute_result"
    }
   ],
   "source": [
    "df_psrc['Emesis post injury'].unique()"
   ]
  }
 ],
 "metadata": {
  "kernelspec": {
   "display_name": "Python 3",
   "language": "python",
   "name": "python3"
  },
  "language_info": {
   "codemirror_mode": {
    "name": "ipython",
    "version": 3
   },
   "file_extension": ".py",
   "mimetype": "text/x-python",
   "name": "python",
   "nbconvert_exporter": "python",
   "pygments_lexer": "ipython3",
   "version": "3.7.5"
  }
 },
 "nbformat": 4,
 "nbformat_minor": 4
}
