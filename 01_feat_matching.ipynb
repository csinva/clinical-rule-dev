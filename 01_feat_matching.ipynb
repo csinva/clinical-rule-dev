{
 "cells": [
  {
   "cell_type": "code",
   "execution_count": 1,
   "metadata": {},
   "outputs": [],
   "source": [
    "import os\n",
    "from os.path import join as oj\n",
    "import sys, time\n",
    "sys.path.insert(1, oj(sys.path[0], '..'))  # insert parent path\n",
    "import seaborn as sns\n",
    "from sklearn.model_selection import train_test_split\n",
    "import numpy as np\n",
    "import matplotlib.pyplot as plt\n",
    "from tqdm import tqdm\n",
    "from copy import deepcopy\n",
    "import pickle as pkl\n",
    "from sklearn.tree import DecisionTreeClassifier, plot_tree\n",
    "from sklearn.model_selection import cross_validate, ShuffleSplit, train_test_split\n",
    "import pandas as pd\n",
    "import data_pecarn \n",
    "import data_psrc\n",
    "import data\n",
    "from collections import Counter\n",
    "plt.style.use('dark_background')\n",
    "# sns.set(style=\"white\")\n",
    "%matplotlib inline\n",
    "%load_ext autoreload\n",
    "%autoreload 2\n",
    "NUM_PATIENTS = 12044"
   ]
  },
  {
   "cell_type": "code",
   "execution_count": 51,
   "metadata": {},
   "outputs": [
    {
     "name": "stdout",
     "output_type": "stream",
     "text": [
      "computing pecarn preprocessing...\n",
      "computing psrc preprocessing...\n"
     ]
    }
   ],
   "source": [
    "dummy = False\n",
    "df_pecarn = data_pecarn.get_data(use_processed=False,\n",
    "                                 frac_missing_allowed=0.1,\n",
    "                                 dummy=dummy)\n",
    "all_feats_pecarn, filtered_feats_pecarn = data.get_feat_names(df_pecarn)\n",
    "df_psrc = data_psrc.get_data(use_processed=False, dummy=dummy)\n",
    "all_feats_psrc, filtered_feats_psrc = data.get_feat_names(df_psrc)"
   ]
  },
  {
   "cell_type": "code",
   "execution_count": 34,
   "metadata": {},
   "outputs": [
    {
     "data": {
      "text/plain": [
       "[]"
      ]
     },
     "execution_count": 34,
     "metadata": {},
     "output_type": "execute_result"
    }
   ],
   "source": [
    "[k for k in df_psrc if 'skull' in k]"
   ]
  },
  {
   "cell_type": "markdown",
   "metadata": {},
   "source": [
    "# still need to find all the rel vars for distracting pain"
   ]
  },
  {
   "cell_type": "code",
   "execution_count": 50,
   "metadata": {},
   "outputs": [
    {
     "name": "stdout",
     "output_type": "stream",
     "text": [
      "47\n",
      "102\n"
     ]
    }
   ],
   "source": [
    "df = df_psrc\n",
    "df['DistractingPain'] = np.array([False] * df.shape[0])\n",
    "for k in ['Chest X-ray (choice=Rib fracture)', 'Indicate thoracic injury (choice=Clavicle fracture)']:\n",
    "    df['DistractingPain'] = df['DistractingPain'] | df[k]\n",
    "    print(df['DistractingPain'].sum())"
   ]
  },
  {
   "cell_type": "code",
   "execution_count": null,
   "metadata": {},
   "outputs": [],
   "source": [
    "list(df_psrc.keys())"
   ]
  },
  {
   "cell_type": "code",
   "execution_count": 26,
   "metadata": {},
   "outputs": [
    {
     "name": "stdout",
     "output_type": "stream",
     "text": [
      "['AbdDistention', 'Hypotension', 'LtCostalTender', 'RecodedMOI', 'DecrBreathSound', 'Age', 'AbdTrauma_or_SeatBeltSign', 'AbdTrauma', 'GCSScore', 'AbdomenPain', 'InitSysBPRange', 'SeatBeltSign', 'VomitWretch', 'CostalTender', 'RtCostalTender', 'InitHeartRate', 'Race', 'ThoracicTrauma', 'AbdTenderDegree', 'iai_intervention', 'cv_fold', 'dset'] 22\n"
     ]
    }
   ],
   "source": [
    "outcome_def = 'iai_intervention' # output\n",
    "common_feats = list(filtered_feats_pecarn.intersection(filtered_feats_psrc))\n",
    "common_feats = common_feats + [outcome_def, 'cv_fold', 'dset']\n",
    "print(common_feats, len(common_feats))"
   ]
  },
  {
   "cell_type": "code",
   "execution_count": null,
   "metadata": {},
   "outputs": [],
   "source": [
    "for feat in common_feats:\n",
    "    print(feat, df_pecarn[feat].unique(),\n",
    "          df_pecarn[feat].min(), df_pecarn[feat].max())"
   ]
  },
  {
   "cell_type": "markdown",
   "metadata": {},
   "source": [
    "**look at resulting feats**"
   ]
  },
  {
   "cell_type": "code",
   "execution_count": 42,
   "metadata": {},
   "outputs": [
    {
     "data": {
      "text/plain": [
       "{'AbdDistention',\n",
       " 'AbdTenderDegree',\n",
       " 'AbdTrauma',\n",
       " 'AbdTrauma_or_SeatBeltSign',\n",
       " 'AbdomenPain',\n",
       " 'Age',\n",
       " 'CostalTender',\n",
       " 'DecrBreathSound',\n",
       " 'GCSScore',\n",
       " 'Hypotension',\n",
       " 'InitHeartRate',\n",
       " 'InitSysBPRange',\n",
       " 'LtCostalTender',\n",
       " 'Race',\n",
       " 'RecodedMOI',\n",
       " 'RtCostalTender',\n",
       " 'SeatBeltSign',\n",
       " 'ThoracicTrauma',\n",
       " 'VomitWretch'}"
      ]
     },
     "execution_count": 42,
     "metadata": {},
     "output_type": "execute_result"
    }
   ],
   "source": [
    "filtered_feats_pecarn.intersection(filtered_feats_psrc)"
   ]
  },
  {
   "cell_type": "code",
   "execution_count": 43,
   "metadata": {},
   "outputs": [
    {
     "name": "stdout",
     "output_type": "stream",
     "text": [
      "psrc but not pecarn\n"
     ]
    },
    {
     "data": {
      "text/plain": [
       "set()"
      ]
     },
     "execution_count": 43,
     "metadata": {},
     "output_type": "execute_result"
    }
   ],
   "source": [
    "print('psrc but not pecarn')\n",
    "filtered_feats_psrc.difference(filtered_feats_pecarn)"
   ]
  },
  {
   "cell_type": "code",
   "execution_count": 45,
   "metadata": {},
   "outputs": [
    {
     "name": "stdout",
     "output_type": "stream",
     "text": [
      "pecarn but not psrc\n",
      "{'ThoracicTender', 'DistractingPain'}\n",
      "(also still missing femur fracture)\n"
     ]
    }
   ],
   "source": [
    "print('pecarn but not psrc')\n",
    "print(filtered_feats_pecarn.difference(filtered_feats_psrc))\n",
    "print('(also still missing femur fracture)')"
   ]
  },
  {
   "cell_type": "markdown",
   "metadata": {},
   "source": [
    "# look for feat shift"
   ]
  },
  {
   "cell_type": "code",
   "execution_count": null,
   "metadata": {},
   "outputs": [],
   "source": [
    "R, C, = 2, 2\n",
    "feats = ['InitSysBPRange', 'InitHeartRate', 'GCSScore', 'Age']\n",
    "for i in range(R * C):\n",
    "    plt.subplot(R, C, i + 1)\n",
    "    feat = feats[i]\n",
    "    plt.hist(df_pecarn[feat], density=True, alpha=0.5, label='pecarn')\n",
    "    plt.hist(df_psrc[feat], density=True, alpha=0.5, label='')\n",
    "    plt.xlabel(feat)\n",
    "plt.tight_layout()\n",
    "plt.show()"
   ]
  },
  {
   "cell_type": "markdown",
   "metadata": {},
   "source": [
    "# write csvs"
   ]
  },
  {
   "cell_type": "code",
   "execution_count": 23,
   "metadata": {},
   "outputs": [],
   "source": [
    "df_pecarn.astype('object').describe().transpose().to_csv('processed/pecarn_vars.csv')\n",
    "df_psrc.astype('object').describe().transpose().to_csv('processed/psrc_vars.csv')"
   ]
  },
  {
   "cell_type": "code",
   "execution_count": 117,
   "metadata": {},
   "outputs": [],
   "source": [
    "common_feats = [x for x in feat_names_pecarn if x in feat_names_psrc]"
   ]
  },
  {
   "cell_type": "code",
   "execution_count": 17,
   "metadata": {},
   "outputs": [
    {
     "data": {
      "text/plain": [
       "array([ 0., nan,  1.])"
      ]
     },
     "execution_count": 17,
     "metadata": {},
     "output_type": "execute_result"
    }
   ],
   "source": [
    "df_psrc['Emesis post injury'].unique()"
   ]
  },
  {
   "cell_type": "code",
   "execution_count": null,
   "metadata": {},
   "outputs": [],
   "source": []
  }
 ],
 "metadata": {
  "kernelspec": {
   "display_name": "Python 3",
   "language": "python",
   "name": "python3"
  },
  "language_info": {
   "codemirror_mode": {
    "name": "ipython",
    "version": 3
   },
   "file_extension": ".py",
   "mimetype": "text/x-python",
   "name": "python",
   "nbconvert_exporter": "python",
   "pygments_lexer": "ipython3",
   "version": "3.7.5"
  }
 },
 "nbformat": 4,
 "nbformat_minor": 4
}
