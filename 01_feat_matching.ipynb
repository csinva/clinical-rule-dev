{
 "cells": [
  {
   "cell_type": "code",
   "execution_count": 6,
   "metadata": {},
   "outputs": [
    {
     "name": "stdout",
     "output_type": "stream",
     "text": [
      "The autoreload extension is already loaded. To reload it, use:\n",
      "  %reload_ext autoreload\n"
     ]
    }
   ],
   "source": [
    "import os\n",
    "from os.path import join as oj\n",
    "import sys, time\n",
    "sys.path.insert(1, oj(sys.path[0], '..'))  # insert parent path\n",
    "import seaborn as sns\n",
    "from sklearn.model_selection import train_test_split\n",
    "import numpy as np\n",
    "import matplotlib.pyplot as plt\n",
    "from tqdm import tqdm\n",
    "from copy import deepcopy\n",
    "import pickle as pkl\n",
    "from sklearn.tree import DecisionTreeClassifier, plot_tree\n",
    "from sklearn.model_selection import cross_validate, ShuffleSplit, train_test_split\n",
    "import pandas as pd\n",
    "import data_pecarn \n",
    "import data_psrc\n",
    "import data\n",
    "from collections import Counter\n",
    "\n",
    "# plt.style.use('dark_background')\n",
    "# sns.set(style=\"white\")\n",
    "%matplotlib inline\n",
    "%load_ext autoreload\n",
    "%autoreload 2\n",
    "NUM_PATIENTS = 12044"
   ]
  },
  {
   "cell_type": "code",
   "execution_count": 193,
   "metadata": {},
   "outputs": [
    {
     "name": "stdout",
     "output_type": "stream",
     "text": [
      "computing pecarn preprocessing...\n",
      "computing psrc preprocessing...\n"
     ]
    }
   ],
   "source": [
    "df_pecarn = data_pecarn.get_data(use_processed=False,\n",
    "                                 frac_missing_allowed=1.0)\n",
    "all_feats_pecarn, filtered_feats_pecarn = data.get_feat_names(df_pecarn)\n",
    "df_psrc = data_psrc.get_data(use_processed=False)\n",
    "all_feats_psrc, filtered_feats_psrc = data.get_feat_names(df_psrc)"
   ]
  },
  {
   "cell_type": "markdown",
   "metadata": {},
   "source": [
    "**look at resulting feats**"
   ]
  },
  {
   "cell_type": "code",
   "execution_count": 195,
   "metadata": {},
   "outputs": [
    {
     "data": {
      "text/plain": [
       "{'AbdDistention_no',\n",
       " 'AbdDistention_unknown',\n",
       " 'AbdDistention_yes',\n",
       " 'AbdTenderDegree_Mild',\n",
       " 'AbdTenderDegree_Moderate',\n",
       " 'AbdTenderDegree_Severe',\n",
       " 'AbdTenderDegree_unknown',\n",
       " 'AbdTrauma_no',\n",
       " 'AbdTrauma_yes',\n",
       " 'AbdomenPain_no',\n",
       " 'AbdomenPain_yes',\n",
       " 'Age',\n",
       " 'DecrBreathSound_no',\n",
       " 'DecrBreathSound_yes',\n",
       " 'GCSScore',\n",
       " 'InitHeartRate',\n",
       " 'InitSysBPRange',\n",
       " 'LtCostalTender',\n",
       " 'Race_American Indian or Alaska Native',\n",
       " 'Race_Asian',\n",
       " 'Race_Black or African American',\n",
       " 'Race_White',\n",
       " 'RecodedMOI_Bike collision/fall',\n",
       " 'RecodedMOI_Fall from an elevation',\n",
       " 'RecodedMOI_Motor vehicle collision',\n",
       " 'RecodedMOI_Motorcycle/ATV/Scooter collision',\n",
       " 'RecodedMOI_Object struck abdomen',\n",
       " 'RecodedMOI_Pedestrian/bicyclist struck by moving vehicle',\n",
       " 'RecodedMOI_unknown',\n",
       " 'RtCostalTender',\n",
       " 'SeatBeltSign_no',\n",
       " 'SeatBeltSign_yes',\n",
       " 'ThoracicTrauma_no',\n",
       " 'ThoracicTrauma_yes',\n",
       " 'VomitWretch_no',\n",
       " 'VomitWretch_unknown',\n",
       " 'VomitWretch_yes'}"
      ]
     },
     "execution_count": 195,
     "metadata": {},
     "output_type": "execute_result"
    }
   ],
   "source": [
    "filtered_feats_pecarn.intersection(filtered_feats_psrc)"
   ]
  },
  {
   "cell_type": "code",
   "execution_count": 196,
   "metadata": {},
   "outputs": [
    {
     "name": "stdout",
     "output_type": "stream",
     "text": [
      "psrc but not pecarn\n"
     ]
    },
    {
     "data": {
      "text/plain": [
       "{'Race_Native Hawaiian or other Pacific Islander', 'Race_nan'}"
      ]
     },
     "execution_count": 196,
     "metadata": {},
     "output_type": "execute_result"
    }
   ],
   "source": [
    "print('psrc but not pecarn')\n",
    "filtered_feats_psrc.difference(filtered_feats_pecarn)"
   ]
  },
  {
   "cell_type": "code",
   "execution_count": 197,
   "metadata": {},
   "outputs": [
    {
     "name": "stdout",
     "output_type": "stream",
     "text": [
      "pecarn but not psrc\n"
     ]
    },
    {
     "data": {
      "text/plain": [
       "{'AbdTrauma_or_SeatBeltSign_False',\n",
       " 'AbdTrauma_or_SeatBeltSign_True',\n",
       " 'AbdTrauma_unknown',\n",
       " 'AbdomenPain_other',\n",
       " 'AbdomenPain_unknown',\n",
       " 'CostalTender',\n",
       " 'DecrBreathSound_unknown',\n",
       " 'DistractingPain_no',\n",
       " 'DistractingPain_unknown',\n",
       " 'DistractingPain_yes',\n",
       " 'OTHER_RACE_Ethnicity Recorded in Other Race',\n",
       " 'OTHER_RACE_Mixed Race',\n",
       " 'OTHER_RACE_Physician Did Not Answer Race and Ethinicity',\n",
       " 'OTHER_RACE_Race and ethnicity not indicated y physician',\n",
       " 'Race_Native Hawaiian or Other Pacific Islander',\n",
       " 'Race_Other',\n",
       " 'Race_Stated as unknown',\n",
       " 'RecodedMOI_Fall down stairs',\n",
       " 'SeatBeltSign_unknown',\n",
       " 'ThoracicTender_no',\n",
       " 'ThoracicTender_unknown',\n",
       " 'ThoracicTender_yes',\n",
       " 'ThoracicTrauma_unknown'}"
      ]
     },
     "execution_count": 197,
     "metadata": {},
     "output_type": "execute_result"
    }
   ],
   "source": [
    "print('pecarn but not psrc')\n",
    "filtered_feats_pecarn.difference(filtered_feats_psrc)"
   ]
  },
  {
   "cell_type": "markdown",
   "metadata": {},
   "source": [
    "# write csvs"
   ]
  },
  {
   "cell_type": "code",
   "execution_count": 23,
   "metadata": {},
   "outputs": [],
   "source": [
    "df_pecarn.astype('object').describe().transpose().to_csv('processed/pecarn_vars.csv')\n",
    "df_psrc.astype('object').describe().transpose().to_csv('processed/psrc_vars.csv')"
   ]
  },
  {
   "cell_type": "code",
   "execution_count": 117,
   "metadata": {},
   "outputs": [],
   "source": [
    "common_feats = [x for x in feat_names_pecarn if x in feat_names_psrc]"
   ]
  },
  {
   "cell_type": "code",
   "execution_count": 17,
   "metadata": {},
   "outputs": [
    {
     "data": {
      "text/plain": [
       "array([ 0., nan,  1.])"
      ]
     },
     "execution_count": 17,
     "metadata": {},
     "output_type": "execute_result"
    }
   ],
   "source": [
    "df_psrc['Emesis post injury'].unique()"
   ]
  },
  {
   "cell_type": "code",
   "execution_count": null,
   "metadata": {},
   "outputs": [],
   "source": []
  }
 ],
 "metadata": {
  "kernelspec": {
   "display_name": "Python 3",
   "language": "python",
   "name": "python3"
  },
  "language_info": {
   "codemirror_mode": {
    "name": "ipython",
    "version": 3
   },
   "file_extension": ".py",
   "mimetype": "text/x-python",
   "name": "python",
   "nbconvert_exporter": "python",
   "pygments_lexer": "ipython3",
   "version": "3.7.5"
  }
 },
 "nbformat": 4,
 "nbformat_minor": 4
}
