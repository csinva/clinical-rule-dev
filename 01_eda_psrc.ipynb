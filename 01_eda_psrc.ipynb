{
 "cells": [
  {
   "cell_type": "code",
   "execution_count": 1,
   "metadata": {},
   "outputs": [],
   "source": [
    "import os\n",
    "from os.path import join as oj\n",
    "import sys, time\n",
    "import seaborn as sns\n",
    "import numpy as np\n",
    "import matplotlib.pyplot as plt\n",
    "from tqdm import tqdm\n",
    "from copy import deepcopy\n",
    "import pickle as pkl\n",
    "import pandas as pd\n",
    "import data_pecarn\n",
    "import data_psrc\n",
    "from data import classification_setup, get_feat_names\n",
    "\n",
    "import matplotlib.gridspec as grd\n",
    "\n",
    "# sns.set(style=\"black\")\n",
    "# plt.style.use('dark_background')\n",
    "%matplotlib inline\n",
    "%load_ext autoreload\n",
    "%autoreload 2"
   ]
  },
  {
   "cell_type": "markdown",
   "metadata": {},
   "source": [
    "# look at all dsets"
   ]
  },
  {
   "cell_type": "code",
   "execution_count": 31,
   "metadata": {},
   "outputs": [
    {
     "name": "stdout",
     "output_type": "stream",
     "text": [
      "2188\n"
     ]
    }
   ],
   "source": [
    "data_file='data_psrc/psrc_data_processed.csv'\n",
    "df = pd.read_csv(data_file)\n",
    "\n",
    "\n",
    "NUM_PATIENTS = df.shape[0]\n",
    "print(NUM_PATIENTS)\n",
    "\n",
    "# fix col names\n",
    "df['id'] = np.arange(1, NUM_PATIENTS + 1)\n",
    "df = df.rename(columns=lambda x: x.replace('choice=0ne', 'choice=None').strip())\n",
    "df = df.replace('0ne', 'None')\n",
    "df['ageinyrs'] = df['Age in years'].fillna(0) + df['Age in months'].fillna(0) / 12\n",
    "\n",
    "# drop unnecessary\n",
    "df = df.drop(columns=['Record ID',  'Arrival time in ED', 'Age', 'Age in months', 'Age in years'])\n",
    "\n",
    "# done\n",
    "df = df.rename(columns={'Seatbelt sign': 'SeatBeltSign', \n",
    "                        'Initial GCS': 'GCSScore',\n",
    "                        'Lower chest wall/costal margin tenderness to palpation  (choice=1 on left)': 'LtCostalTender',\n",
    "                        'Lower chest wall/costal margin tenderness to palpation  (choice=1 on right)': 'RtCostalTender'\n",
    "                       })\n",
    "\n",
    "# fill with unknown\n",
    "df['GCSScore'] = (df['GCSScore'].fillna(df['GCSScore'].median())).astype(int)\n",
    "df = df.fillna('unknown')"
   ]
  },
  {
   "cell_type": "code",
   "execution_count": 32,
   "metadata": {},
   "outputs": [
    {
     "data": {
      "text/plain": [
       "\"\\nfor k in moi:\\n    print(k, (df[k]==1).sum())\\n    df.loc[df[k] == 1, 'RecodedMOI'] = moi[k]\\nprint('tot', (df['RecodedMOI']!='unknown').sum())\\n\""
      ]
     },
     "execution_count": 32,
     "metadata": {},
     "output_type": "execute_result"
    }
   ],
   "source": [
    "# these need matching\n",
    "df = df.rename(columns={'Abdominal distension': 'AbdDistention',\n",
    "                        'Abdominal tenderness to palpation': 'AbdTenderDegree',\n",
    "                       })\n",
    "binary = {\n",
    "    0: 'no',\n",
    "    1: 'yes',\n",
    "    'unknown': 'unknown'\n",
    "}\n",
    "df['AbdDistention'] = [binary[v] for v in df.AbdDistention.values]\n",
    "\n",
    "abdTenderDegree = {\n",
    "    'None': 'Mild',\n",
    "    'Mild': 'Mild',\n",
    "    'Moderate': 'Moderate',\n",
    "    'Severe': 'Severe',\n",
    "    'Limited exam secondary to intubation/sedation': 'unknown',\n",
    "    'unknown': 'unknown'\n",
    "}\n",
    "df['AbdTenderDegree'] = [abdTenderDegree[v] for v in df.AbdTenderDegree.values]\n",
    "\n",
    "moi = {\n",
    "    'Mechanism of injury (choice=Assault/struck)': 'Object struck abdomen',\n",
    "    'Mechanism of injury (choice=ATV injury)': 'Motorcycle/ATV/Scooter collision',\n",
    "    'Mechanism of injury (choice=Bike crash)': 'Bike collision/fall',\n",
    "    'Mechanism of injury (choice=Bike struck by auto)': 'Pedestrian/bicyclist struck by moving vehicle',\n",
    "    'Mechanism of injury (choice=Fall > 10 ft. height)': 'Fall from an elevation',\n",
    "    'Mechanism of injury (choice=Golf cart injury)': 'Motorcycle/ATV/Scooter collision',\n",
    "    'Mechanism of injury (choice=Motorcycle/dirt bike crash)': 'Motorcycle/ATV/Scooter collision',\n",
    "    'Mechanism of injury (choice=MVC)': 'Motor vehicle collision',\n",
    "    'Mechanism of injury (choice=Pedestrian struck by auto)': 'Pedestrian/bicyclist struck by moving vehicle',\n",
    "    'Mechanism of injury (choice=Other blunt mechanism)': 'Object struck abdomen',\n",
    "}\n",
    "df['RecodedMOI'] = ['unknown'] * df.shape[0]\n",
    "\n",
    "'''\n",
    "for k in moi:\n",
    "    print(k, (df[k]==1).sum())\n",
    "    df.loc[df[k] == 1, 'RecodedMOI'] = moi[k]\n",
    "print('tot', (df['RecodedMOI']!='unknown').sum())\n",
    "'''\n",
    "# other vars present\n",
    "# MOI\n",
    "# Race\n",
    "\n",
    "# Thoracic injury - matches ThoracicTrauma\n"
   ]
  },
  {
   "cell_type": "code",
   "execution_count": 33,
   "metadata": {},
   "outputs": [
    {
     "data": {
      "text/plain": [
       "['Race',\n",
       " 'Hispanic ethnicity',\n",
       " 'Mechanism of injury (choice=Assault/struck)',\n",
       " 'Mechanism of injury (choice=ATV injury)',\n",
       " 'Mechanism of injury (choice=Bike crash)',\n",
       " 'Mechanism of injury (choice=Bike struck by auto)',\n",
       " 'Mechanism of injury (choice=Fall > 10 ft. height)',\n",
       " 'Mechanism of injury (choice=Golf cart injury)',\n",
       " 'Mechanism of injury (choice=Motorcycle/dirt bike crash)',\n",
       " 'Mechanism of injury (choice=MVC)',\n",
       " 'Mechanism of injury (choice=Pedestrian struck by auto)',\n",
       " 'Mechanism of injury (choice=Other blunt mechanism)',\n",
       " 'If bike crash, landed on handle bar',\n",
       " 'MVC details (choice=>40 MPH)',\n",
       " 'MVC details (choice=Ejection)',\n",
       " 'MVC details (choice=Rollover)',\n",
       " 'MVC details (choice=Prolonged extrication)',\n",
       " 'MVC details (choice=Unrestrained)',\n",
       " 'MVC details (choice=Death in vehicle)',\n",
       " 'MVC details (choice=0t reported)',\n",
       " 'Other mechanism of injury',\n",
       " 'Alert level',\n",
       " 'Complainabd. pain',\n",
       " 'Emesis post injury',\n",
       " 'Intubated prior to arrival',\n",
       " 'Intubated during trauma resuscitation',\n",
       " 'Initial ED HR',\n",
       " 'Initial ED systolic BP',\n",
       " 'GCSScore',\n",
       " 'Evidence of abdominal wall trauma (choice=None)',\n",
       " 'Evidence of abdominal wall trauma (choice=Abrasion)',\n",
       " 'Contusion',\n",
       " 'SeatBeltSign',\n",
       " 'Evidence of thoracic trauma  (choice=None)',\n",
       " 'Evidence of thoracic trauma  (choice=Abrasion)',\n",
       " 'Evidence of thoracic trauma  (choice=Contusion)',\n",
       " 'Evidence of thoracic trauma  (choice=Decreased breath sounds)',\n",
       " 'Evidence of thoracic trauma  (choice=SQ air)',\n",
       " 'Lower chest wall/costal margin tenderness to palpation  (choice=None)',\n",
       " 'LtCostalTender',\n",
       " 'RtCostalTender',\n",
       " 'Lower chest wall/costal margin tenderness to palpation  (choice=Limited exam secondary to intubation/sedation)',\n",
       " 'AbdTenderDegree',\n",
       " 'AbdDistention',\n",
       " 'Pelvic bone tenderness or instability on palpation',\n",
       " 'Femur fracture',\n",
       " 'Chest X-ray (choice=0rmal)',\n",
       " 'Chest X-ray (choice=Hemothorax)',\n",
       " 'Chest X-ray (choice=Pneumothorax)',\n",
       " 'Chest X-ray (choice=Subcutaneous emphysema (without evident hemo/pneumo thorax))',\n",
       " 'Chest X-ray (choice=Pulmonary contusion)',\n",
       " 'Chest X-ray (choice=Clavicle fracture)',\n",
       " 'Chest X-ray (choice=Scapula fracture)',\n",
       " 'Chest X-ray (choice=Rib fracture)',\n",
       " 'Chest X-ray (choice=Thoracic spine fracture)',\n",
       " 'Chest X-ray (choice=Mediastinal widening)',\n",
       " 'Chest X-ray (choice=0t ordered)',\n",
       " 'Pelvis X-ray',\n",
       " 'FAST (choice=Negative)',\n",
       " 'FAST (choice=+ cardiac)',\n",
       " 'FAST (choice=+ right)',\n",
       " 'FAST (choice=+ left)',\n",
       " 'FAST (choice=+ pelvis)',\n",
       " 'FAST (choice=0t performed)',\n",
       " 'CT abdomen/pelvis ordered from trauma bay',\n",
       " 'Time patient trauma alert concluded/ left trauma bay (military time)',\n",
       " 'Disposition from trauma bay',\n",
       " 'Abdominal CT scan performed',\n",
       " 'Time CT performed',\n",
       " 'Intra-abdominal injury',\n",
       " 'Spleen injury',\n",
       " 'Spleen injury grade',\n",
       " 'Blush/extravasation of IV contrast in spleen',\n",
       " 'Liver injury',\n",
       " 'Liver injury grade',\n",
       " 'Blush/extravasation of IV contrast in liver',\n",
       " 'Kidney injury',\n",
       " 'Kidney injury grade',\n",
       " 'Blush/extravasation of IV contrast in kidney',\n",
       " 'Mesentery injury',\n",
       " 'Duodenum injury',\n",
       " 'Duodenum hematoma',\n",
       " 'Duodenum perforation',\n",
       " 'Jejunum/ileum injury',\n",
       " 'Jejunum/ileum hematoma',\n",
       " 'Jejunum/ileum perforation',\n",
       " 'Colon injury',\n",
       " 'Colon hematoma',\n",
       " 'Colon perforation',\n",
       " 'Adrenal injury',\n",
       " 'Pancreas injury',\n",
       " 'Major intra-abdominal vascular injury',\n",
       " 'Bladder injury',\n",
       " 'Intra or extra abdominal bladder injury',\n",
       " 'Ureter injury',\n",
       " 'Gallbladder injury',\n",
       " 'Gallbladder hematoma',\n",
       " 'Gallbladder perforation',\n",
       " 'Abdominal wall fascial injury',\n",
       " 'Interventions for IAI  (choice=Angio-embolization)',\n",
       " 'Interventions for IAI  (choice=Laparoscopy)',\n",
       " 'Interventions for IAI  (choice=Laparotomy)',\n",
       " 'Interventions for IAI  (choice=Transfusion for IAI)',\n",
       " 'Interventions for IAI  (choice=Death caused by IAI)',\n",
       " 'Interventions for IAI  (choice=None)',\n",
       " 'Hours past ED arrival',\n",
       " 'Positive or negative exploration',\n",
       " 'Organs found injured during exploration (choice=Spleen)',\n",
       " 'Organs found injured during exploration (choice=Liver)',\n",
       " 'Organs found injured during exploration (choice=Kidney)',\n",
       " 'Organs found injured during exploration (choice=Duodenum)',\n",
       " 'Organs found injured during exploration (choice=Jejunum/ileum)',\n",
       " 'Organs found injured during exploration (choice=Colon)',\n",
       " 'Organs found injured during exploration (choice=Adrenal gland)',\n",
       " 'Organs found injured during exploration (choice=Pancreas)',\n",
       " 'Organs found injured during exploration (choice=Major intra-abdominal vasculature)',\n",
       " 'Organs found injured during exploration (choice=Bladder)',\n",
       " 'Organs found injured during exploration (choice=Ureter)',\n",
       " 'Organs found injured during exploration (choice=Gallbladder)',\n",
       " 'Organs found injured during exploration (choice=Abdominal wall fascia)',\n",
       " 'Organs found injured during exploration (choice=None)',\n",
       " 'TBI (with evidence of traumatic injury on head CT)',\n",
       " 'ICP Monitor',\n",
       " 'Craniotomy',\n",
       " 'Skull fracture',\n",
       " 'Facial fracture (other than nasal bone)',\n",
       " 'Cervical spine injury',\n",
       " 'Cervical fracture',\n",
       " 'Cervical spinal cord injury',\n",
       " 'T/L spine injury',\n",
       " 'T/L spine fracture',\n",
       " 'T/L spinal cord injury',\n",
       " 'Thoracic injury',\n",
       " 'Indicate thoracic injury (choice=Pneumothorax)',\n",
       " 'Indicate thoracic injury (choice=Hemothorax)',\n",
       " 'Indicate thoracic injury (choice=Pulmonary contusion)',\n",
       " 'Indicate thoracic injury (choice=Rib fracture)',\n",
       " 'Indicate thoracic injury (choice=Clavicle fracture)',\n",
       " 'Laterality of pulmonary contusion',\n",
       " 'Laterality of rib fracture (choice=Left)',\n",
       " 'Laterality of rib fracture (choice=Right)',\n",
       " 'Laterality of rib fracture (choice=Sternum)',\n",
       " 'Laterality of clavicle fracture',\n",
       " 'Pelvic fracture',\n",
       " 'Femur fracture',\n",
       " 'Any other extremity fracture',\n",
       " 'Admission',\n",
       " 'ICU admission',\n",
       " 'Length of inpatient stay (days)',\n",
       " 'Delayed inpatient diagnosis of IAI (more than 24 hours after admission)',\n",
       " 'Mortality (within 30 days of injury)',\n",
       " 'Mortality related to trauma',\n",
       " 'Mortality secondary to intra-abdominal injury',\n",
       " 'Missed diagnosis of IAI (following discharge)',\n",
       " 'id',\n",
       " 'ageinyrs',\n",
       " 'RecodedMOI']"
      ]
     },
     "execution_count": 33,
     "metadata": {},
     "output_type": "execute_result"
    }
   ],
   "source": [
    "list(df.keys())"
   ]
  },
  {
   "cell_type": "code",
   "execution_count": 34,
   "metadata": {},
   "outputs": [
    {
     "data": {
      "text/plain": [
       "['AbdDistention_no',\n",
       " 'AbdDistention_unknown',\n",
       " 'AbdDistention_yes',\n",
       " 'AbdTenderDegree_Mild',\n",
       " 'AbdTenderDegree_Moderate',\n",
       " 'AbdTenderDegree_Severe',\n",
       " 'AbdTenderDegree_unknown',\n",
       " 'GCSScore',\n",
       " 'LtCostalTender',\n",
       " 'RecodedMOI_unknown',\n",
       " 'RtCostalTender',\n",
       " 'SeatBeltSign',\n",
       " 'ageinyrs']"
      ]
     },
     "execution_count": 34,
     "metadata": {},
     "output_type": "execute_result"
    }
   ],
   "source": [
    "d = classification_setup(df)\n",
    "# d = df\n",
    "feat_names, common_feats = get_feat_names(d)\n",
    "common_feats"
   ]
  },
  {
   "cell_type": "code",
   "execution_count": 8,
   "metadata": {},
   "outputs": [],
   "source": [
    "# outcomes\n",
    "iai_keys = [k for k in df.keys() if 'Interventions for IAI' in k]\n",
    "iai_with_intervention_keys = [k for k in iai_keys if not 'choice=None' in k]\n",
    "outcomes = ['Admission', \n",
    "            'ICU admission', \n",
    "            'Length of inpatient stay (days)',\n",
    "            'Delayed inpatient diagnosis of IAI (more than 24 hours after admission)',\n",
    "            'Mortality (within 30 days of injury)',\n",
    "            'Mortality related to trauma',\n",
    "            'Mortality secondary to intra-abdominal injury',\n",
    "            'Missed diagnosis of IAI (following discharge)'\n",
    "            ] + iai_keys\n",
    "\n",
    "# iai\n",
    "df['iai'] = df[iai_keys].sum(axis=1) > 0\n",
    "df['iai_with_intervention'] = df[iai_with_intervention_keys].sum(axis=1) > 0"
   ]
  },
  {
   "cell_type": "markdown",
   "metadata": {},
   "source": [
    "### eda plots"
   ]
  },
  {
   "cell_type": "code",
   "execution_count": 4,
   "metadata": {},
   "outputs": [],
   "source": [
    "fnames = df.keys()\n",
    "missing_arr = np.zeros((len(fnames), data.NUM_PATIENTS + 1), dtype=np.bool)\n",
    "\n",
    "for i, fname in enumerate(fnames):\n",
    "#     df = r[fname]\n",
    "    ids = np.unique(df.id.values)\n",
    "#     print(np.min(ids), np.max(ids))\n",
    "    missing_arr[i, ids] = 1"
   ]
  },
  {
   "cell_type": "code",
   "execution_count": null,
   "metadata": {},
   "outputs": [],
   "source": [
    "plt.figure(figsize=(5, 10))\n",
    "sns.barplot(x=missing_arr.sum(axis=1), y=fnames, orient='h')\n",
    "plt.xlabel('number of patients')\n",
    "plt.show()"
   ]
  },
  {
   "cell_type": "code",
   "execution_count": null,
   "metadata": {},
   "outputs": [],
   "source": [
    "# plt.imshow(not_missing)\n",
    "plt.figure(figsize=(12, 20), dpi=300)\n",
    "sns.clustermap(missing_arr, yticklabels=fnames)\n",
    "# plt.tight_layout()\n",
    "plt.show()"
   ]
  },
  {
   "cell_type": "code",
   "execution_count": null,
   "metadata": {},
   "outputs": [],
   "source": [
    "# Compute the correlation matrix\n",
    "corr = df.corr()\n",
    "\n",
    "# Generate a mask for the upper triangle\n",
    "mask = np.zeros_like(corr, dtype=np.bool)\n",
    "mask[np.triu_indices_from(mask)] = True\n",
    "f, ax = plt.subplots(figsize=(11, 9))\n",
    "cmap = sns.diverging_palette(10, 220, as_cmap=True)\n",
    "\n",
    "# Draw the heatmap with the mask and correct aspect ratio\n",
    "sns.heatmap(corr, mask=mask, cmap=cmap, center=0,\n",
    "            square=True, linewidths=.5, cbar_kws={\"shrink\": .5})\n",
    "# sns.clustermap(corr) #, mask=mask, cmap=cmap, vmax=.3, center=0,\n",
    "#             square=True, linewidths=.5, cbar_kws={\"shrink\": .5})"
   ]
  },
  {
   "cell_type": "markdown",
   "metadata": {},
   "source": [
    "# look at demographics"
   ]
  },
  {
   "cell_type": "code",
   "execution_count": 19,
   "metadata": {},
   "outputs": [
    {
     "name": "stdout",
     "output_type": "stream",
     "text": [
      "Index(['id', 'SEX', 'RACE', 'OTHER_RACE', 'HISPANIC_ETHNICITY', 'ageinyrs',\n",
      "       'EDTriageDay_1', 'EDTriageTime_1', 'InjuryDay_1', 'InjuryTime_1'],\n",
      "      dtype='object')\n"
     ]
    }
   ],
   "source": [
    "# demographics = pd.read_csv('iaip_data/Datasets/demographics.csv').rename(columns={'SubjectID': 'id'})\n",
    "# ids_np = np.array(list(ids)) - 1\n",
    "ids_np = df.iai_intervention == 1\n",
    "# vals = demographics.values[ids_np]\n",
    "# print(list(demographics))\n",
    "print(df.keys()[:10])"
   ]
  },
  {
   "cell_type": "code",
   "execution_count": 21,
   "metadata": {},
   "outputs": [
    {
     "name": "stdout",
     "output_type": "stream",
     "text": [
      "age 9.339901477832512 9.767270009963468\n",
      "age<2 10 1167\n",
      "sex 125 7384\n",
      "hispanic ethnicity 119 7656\n"
     ]
    }
   ],
   "source": [
    "# the mean age is the only one which is wrong\n",
    "print('age', np.mean(df.ageinyrs[ids_np]), np.mean(df.ageinyrs))\n",
    "print('age<2', np.sum(df.ageinyrs[ids_np] < 2), np.sum(df.ageinyrs < 2))\n",
    "print('sex', np.sum(df.SEX[ids_np] == 'M'), np.sum(df.SEX == 'M'))\n",
    "print('hispanic ethnicity', np.sum(df.HISPANIC_ETHNICITY[ids_np] == 0), np.sum(df.HISPANIC_ETHNICITY == 0))"
   ]
  }
 ],
 "metadata": {
  "kernelspec": {
   "display_name": "Python 3",
   "language": "python",
   "name": "python3"
  },
  "language_info": {
   "codemirror_mode": {
    "name": "ipython",
    "version": 3
   },
   "file_extension": ".py",
   "mimetype": "text/x-python",
   "name": "python",
   "nbconvert_exporter": "python",
   "pygments_lexer": "ipython3",
   "version": "3.7.5"
  }
 },
 "nbformat": 4,
 "nbformat_minor": 4
}
