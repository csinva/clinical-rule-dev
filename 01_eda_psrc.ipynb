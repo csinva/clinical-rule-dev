{
 "cells": [
  {
   "cell_type": "code",
   "execution_count": 6,
   "metadata": {},
   "outputs": [
    {
     "name": "stdout",
     "output_type": "stream",
     "text": [
      "The autoreload extension is already loaded. To reload it, use:\n",
      "  %reload_ext autoreload\n"
     ]
    }
   ],
   "source": [
    "import os\n",
    "from os.path import join as oj\n",
    "import sys, time\n",
    "import seaborn as sns\n",
    "import numpy as np\n",
    "import matplotlib.pyplot as plt\n",
    "from tqdm import tqdm\n",
    "from copy import deepcopy\n",
    "import pickle as pkl\n",
    "import pandas as pd\n",
    "import data_pecarn\n",
    "import data_psrc\n",
    "import data\n",
    "from data import classification_setup, get_feat_names\n",
    "\n",
    "import matplotlib.gridspec as grd\n",
    "\n",
    "# sns.set(style=\"black\")\n",
    "# plt.style.use('dark_background')\n",
    "%matplotlib inline\n",
    "%load_ext autoreload\n",
    "%autoreload 2"
   ]
  },
  {
   "cell_type": "markdown",
   "metadata": {},
   "source": [
    "# look at all dsets"
   ]
  },
  {
   "cell_type": "code",
   "execution_count": 7,
   "metadata": {},
   "outputs": [],
   "source": [
    "df = data_psrc.get_data()\n",
    "feat_names, psrc_feats = get_feat_names(df)\n",
    "ks = [k for k in feat_names if not 'time' in k.lower() and not 'other' in k.lower()]"
   ]
  },
  {
   "cell_type": "code",
   "execution_count": 9,
   "metadata": {},
   "outputs": [],
   "source": [
    "d = df[ks]"
   ]
  },
  {
   "cell_type": "code",
   "execution_count": null,
   "metadata": {},
   "outputs": [],
   "source": [
    "d"
   ]
  },
  {
   "cell_type": "markdown",
   "metadata": {},
   "source": [
    "### eda plots"
   ]
  },
  {
   "cell_type": "code",
   "execution_count": 65,
   "metadata": {},
   "outputs": [],
   "source": [
    "fnames = df.keys()\n",
    "missing_arr = np.zeros((len(fnames), NUM_PATIENTS + 1), dtype=np.bool)\n",
    "\n",
    "for i, fname in enumerate(fnames):\n",
    "#     df = r[fname]\n",
    "    ids = np.unique(df.id.values)\n",
    "#     print(np.min(ids), np.max(ids))\n",
    "    missing_arr[i, ids] = 1"
   ]
  },
  {
   "cell_type": "code",
   "execution_count": null,
   "metadata": {},
   "outputs": [],
   "source": [
    "plt.figure(figsize=(5, 10))\n",
    "sns.barplot(x=missing_arr.sum(axis=1), y=fnames, orient='h')\n",
    "plt.xlabel('number of patients')\n",
    "plt.show()"
   ]
  },
  {
   "cell_type": "code",
   "execution_count": null,
   "metadata": {},
   "outputs": [],
   "source": [
    "# plt.imshow(not_missing)\n",
    "plt.figure(figsize=(12, 20), dpi=300)\n",
    "sns.clustermap(missing_arr, yticklabels=fnames)\n",
    "# plt.tight_layout()\n",
    "plt.show()"
   ]
  },
  {
   "cell_type": "code",
   "execution_count": null,
   "metadata": {},
   "outputs": [],
   "source": [
    "# Compute the correlation matrix\n",
    "corr = df.corr()\n",
    "\n",
    "# Generate a mask for the upper triangle\n",
    "mask = np.zeros_like(corr, dtype=np.bool)\n",
    "mask[np.triu_indices_from(mask)] = True\n",
    "f, ax = plt.subplots(figsize=(11, 9))\n",
    "cmap = sns.diverging_palette(10, 220, as_cmap=True)\n",
    "\n",
    "# Draw the heatmap with the mask and correct aspect ratio\n",
    "sns.heatmap(corr, mask=mask, cmap=cmap, center=0,\n",
    "            square=True, linewidths=.5, cbar_kws={\"shrink\": .5})\n",
    "# sns.clustermap(corr) #, mask=mask, cmap=cmap, vmax=.3, center=0,\n",
    "#             square=True, linewidths=.5, cbar_kws={\"shrink\": .5})"
   ]
  },
  {
   "cell_type": "markdown",
   "metadata": {},
   "source": [
    "# look at demographics"
   ]
  },
  {
   "cell_type": "code",
   "execution_count": 46,
   "metadata": {},
   "outputs": [
    {
     "name": "stdout",
     "output_type": "stream",
     "text": [
      "Index(['Race', 'Hispanic ethnicity',\n",
      "       'Mechanism of injury (choice=Assault/struck)',\n",
      "       'Mechanism of injury (choice=ATV injury)',\n",
      "       'Mechanism of injury (choice=Bike crash)',\n",
      "       'Mechanism of injury (choice=Bike struck by auto)',\n",
      "       'Mechanism of injury (choice=Fall > 10 ft. height)',\n",
      "       'Mechanism of injury (choice=Golf cart injury)',\n",
      "       'Mechanism of injury (choice=Motorcycle/dirt bike crash)',\n",
      "       'Mechanism of injury (choice=MVC)'],\n",
      "      dtype='object')\n"
     ]
    }
   ],
   "source": [
    "# demographics = pd.read_csv('iaip_data/Datasets/demographics.csv').rename(columns={'SubjectID': 'id'})\n",
    "# ids_np = np.array(list(ids)) - 1\n",
    "ids_np = df.iai_intervention == 1\n",
    "# vals = demographics.values[ids_np]\n",
    "# print(list(demographics))\n",
    "print(df.keys()[:10])"
   ]
  },
  {
   "cell_type": "code",
   "execution_count": 53,
   "metadata": {},
   "outputs": [
    {
     "name": "stdout",
     "output_type": "stream",
     "text": [
      "age 7.244623655913979 7.7972653869591735\n",
      "age<2 6 216\n"
     ]
    }
   ],
   "source": [
    "# the mean age is the only one which is wrong\n",
    "print('age', np.mean(df.ageinyrs[ids_np]), np.mean(df.ageinyrs))\n",
    "print('age<2', np.sum(df.ageinyrs[ids_np] < 2), np.sum(df.ageinyrs < 2))\n",
    "# print('sex', np.sum(df.SEX[ids_np] == 'M'), np.sum(df.SEX == 'M'))\n",
    "# print('hispanic ethnicity', np.sum(df.HISPANIC_ETHNICITY[ids_np] == 0), np.sum(df.HISPANIC_ETHNICITY == 0))"
   ]
  }
 ],
 "metadata": {
  "kernelspec": {
   "display_name": "Python 3",
   "language": "python",
   "name": "python3"
  },
  "language_info": {
   "codemirror_mode": {
    "name": "ipython",
    "version": 3
   },
   "file_extension": ".py",
   "mimetype": "text/x-python",
   "name": "python",
   "nbconvert_exporter": "python",
   "pygments_lexer": "ipython3",
   "version": "3.7.5"
  }
 },
 "nbformat": 4,
 "nbformat_minor": 4
}
