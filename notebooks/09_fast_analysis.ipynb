{
 "cells": [
  {
   "cell_type": "code",
   "execution_count": 2,
   "metadata": {},
   "outputs": [],
   "source": [
    "import sys\n",
    "from os.path import join as oj\n",
    "sys.path.insert(1, oj(sys.path[0], '..'))  # insert parent path\n",
    "sys.path.append('../src')\n",
    "import numpy as np\n",
    "import data_pecarn, data_psrc\n",
    "from sklearn.metrics import confusion_matrix\n",
    "import matplotlib.pyplot as plt\n",
    "\n",
    "%matplotlib inline\n",
    "%load_ext autoreload\n",
    "%autoreload 2\n",
    "\n",
    "d = data_pecarn.get_data(use_processed=True, dummy=True, frac_missing_allowed=1, impute_feats=False)"
   ]
  },
  {
   "cell_type": "markdown",
   "metadata": {},
   "source": [
    "![](../docs/ultrasound.png)"
   ]
  },
  {
   "cell_type": "code",
   "execution_count": null,
   "metadata": {},
   "outputs": [],
   "source": [
    "y = d['iai_intervention']\n",
    "meanings = ['<1%', '1-5%', '6-10%', '11-50%', \">50%\", 'Physician did not answer']\n",
    "# y"
   ]
  },
  {
   "cell_type": "code",
   "execution_count": 38,
   "metadata": {},
   "outputs": [],
   "source": [
    "fast = d['UltrasoundType'] == 1\n",
    "abnormal = d['UltrasoundRes'] == 2\n",
    "# np.unique(d['UltrasoundRes'][fast], return_counts=True)\n",
    "fast = (fast & (d['UltrasoundRes'] != 3)) # drop patients with \"no interpretation\"\n",
    "# ((d['UltrasoundType'] == 1) & (d['UltrasoundRes'] == 3) & (d['iai'] == 1)).sum() # look at patients with no interpretation\n",
    "fast_abnormal = fast & abnormal"
   ]
  },
  {
   "cell_type": "code",
   "execution_count": 37,
   "metadata": {},
   "outputs": [
    {
     "name": "stdout",
     "output_type": "stream",
     "text": [
      "# patients 12044\n",
      "# iai-i 203\n",
      "# FAST (UltrasoundType==1) 837\n",
      "# FAST abnormal 26\n",
      "tp=12 fp=14\n",
      "fn=18 tn=793\n"
     ]
    }
   ],
   "source": [
    "print('# patients', d.shape[0])\n",
    "print('# iai-i', y.sum())\n",
    "print('# FAST (UltrasoundType==1)', fast.sum())\n",
    "print('# FAST abnormal', fast_abnormal.sum())\n",
    "# print('# \\ttotal abnormal (UltrasoundRes==2)', abnormal.sum())\n",
    "\n",
    "tn, fp, fn, tp = confusion_matrix(y[fast],\n",
    "                                  fast_abnormal[fast]).ravel()\n",
    "\n",
    "# print('assume no interpretation means negative')\n",
    "print(f'{tp=} {fp=}')\n",
    "print(f'{fn=} {tn=}')"
   ]
  },
  {
   "cell_type": "code",
   "execution_count": 49,
   "metadata": {},
   "outputs": [
    {
     "data": {
      "text/plain": [
       "2"
      ]
     },
     "execution_count": 49,
     "metadata": {},
     "output_type": "execute_result"
    }
   ],
   "source": [
    "# false positives that still had iai (but not iai-i)\n",
    "d[(fast) & (fast_abnormal) & (d['iai_intervention'] == 0)]['iai'].sum()"
   ]
  },
  {
   "cell_type": "markdown",
   "metadata": {},
   "source": [
    "# Net benefit\n",
    "\n",
    "$\\text { Net benefit }=\\frac{\\text { True positives }}{N}-\\frac{\\text { False positives }}{N} \\times \\frac{p_{t}}{1-p_{t}}$"
   ]
  },
  {
   "cell_type": "code",
   "execution_count": 70,
   "metadata": {},
   "outputs": [
    {
     "data": {
      "image/png": "[encoded data removed]",
      "text/plain": [
       "<Figure size 432x288 with 1 Axes>"
      ]
     },
     "metadata": {
      "needs_background": "light"
     },
     "output_type": "display_data"
    }
   ],
   "source": [
    "N = fast.sum()\n",
    "ratios = [2, 5, 10, 50, 250, 500, 1000]\n",
    "ps = []\n",
    "nbs = []\n",
    "for ratio in ratios:\n",
    "    p = 1 / ratio\n",
    "    net_benefit  = tp / N - fp / N * p / (1-p)\n",
    "    nbs.append(net_benefit)\n",
    "    ps.append(p)\n",
    "plt.plot(ps, nbs, '.-')\n",
    "plt.axhline(0, color='gray', ls='--')\n",
    "plt.xlabel('Probability threshold')\n",
    "plt.ylabel('Net benefit')\n",
    "plt.show()"
   ]
  },
  {
   "cell_type": "code",
   "execution_count": null,
   "metadata": {},
   "outputs": [],
   "source": [
    "sorted(list([x for x in d.columns if x.lower().startswith('u')]))"
   ]
  },
  {
   "cell_type": "markdown",
   "metadata": {},
   "source": [
    "# net benefit on patients missed by pecarn"
   ]
  },
  {
   "cell_type": "code",
   "execution_count": 75,
   "metadata": {},
   "outputs": [],
   "source": [
    "d['Age<2'] = d['Age'] < 2"
   ]
  },
  {
   "cell_type": "code",
   "execution_count": null,
   "metadata": {},
   "outputs": [],
   "source": [
    "# can also check vars that were not used\n",
    "rules = [\n",
    "    ('AbdTrauma_or_SeatBeltSign', ['yes']),\n",
    "    ('GCSScore', range(14)),\n",
    "#     ('AbdTenderDegree', ['Mild', 'Moderate', 'Severe']),\n",
    "    ('AbdTenderDegree', ['None']),    \n",
    "    ('AbdTenderDegree', ['Mild']),    \n",
    "    ('AbdTenderDegree', ['Moderate']),    \n",
    "    ('AbdTenderDegree', ['Severe']),        \n",
    "    ('ThoracicTrauma', ['yes']),        \n",
    "    ('AbdomenPain', ['yes']),\n",
    "    ('DecrBreathSound', ['yes']),\n",
    "    ('VomitWretch', ['yes']),\n",
    "    \n",
    "    # not used in rule\n",
    "    ('Age<2', [True]),    \n",
    "    ('AbdDistention', ['yes']),\n",
    "    ('MOI', ['Motor vehicle collision']),\n",
    "    ('DistractingPain', ['yes']),    \n",
    "    ('CostalTender', ['yes']),\n",
    "    ('ThoracicTender', ['yes']),    \n",
    "    ('Hypotension', ['yes']),        \n",
    "    ('AbdomenTender', [1]),    \n",
    "]\n",
    "index = ['NA', 'IAIw/I', 'No IAIw/I', 'Difference']\n",
    "o = 'iai_intervention'\n",
    "r = {k + ' = ' + str(v[0]) : [] for k, v in rules}\n",
    "io = d[o] == 1\n",
    "print('num IwI and key / num IwI (not nan) \\t num without IwI and key / num without IwI (not nane) ')\n",
    "for rule in rules:\n",
    "    k, vals = rule\n",
    "    kk = k + ' = ' + str(vals[0])\n",
    "    ik = d[k].isin(vals) # d[o]==1\n",
    "    inan = d[k].isna() | (d[k] == 'unknown')\n",
    "    r[kk].append(np.sum(inan))   \n",
    "    num1 = np.sum(d[ik][o]==1)\n",
    "    denom1 = (io & ~inan).sum()\n",
    "    r[kk].append(f'{num1}/{denom1}')\n",
    "    num2 = np.sum(d[ik][o]==0)\n",
    "    denom2 = (~io & ~inan).sum()\n",
    "    r[kk].append(f'{num2}/{denom2}')\n",
    "    r[kk].append(f'{num1/denom1 - num2/denom2:0.3f}')    \n",
    "r = pd.DataFrame.from_dict(r)\n",
    "r.index = index\n",
    "r.transpose()"
   ]
  }
 ],
 "metadata": {
  "kernelspec": {
   "display_name": "Python 3",
   "language": "python",
   "name": "python3"
  },
  "language_info": {
   "codemirror_mode": {
    "name": "ipython",
    "version": 3
   },
   "file_extension": ".py",
   "mimetype": "text/x-python",
   "name": "python",
   "nbconvert_exporter": "python",
   "pygments_lexer": "ipython3",
   "version": "3.8.3"
  },
  "pycharm": {
   "stem_cell": {
    "cell_type": "raw",
    "metadata": {
     "collapsed": false
    },
    "source": []
   }
  }
 },
 "nbformat": 4,
 "nbformat_minor": 4
}
