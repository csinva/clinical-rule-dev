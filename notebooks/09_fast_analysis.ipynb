{
 "cells": [
  {
   "cell_type": "code",
   "execution_count": 32,
   "metadata": {},
   "outputs": [
    {
     "name": "stdout",
     "output_type": "stream",
     "text": [
      "The autoreload extension is already loaded. To reload it, use:\n",
      "  %reload_ext autoreload\n"
     ]
    }
   ],
   "source": [
    "import sys\n",
    "from os.path import join as oj\n",
    "sys.path.insert(1, oj(sys.path[0], '..'))  # insert parent path\n",
    "sys.path.append('../src')\n",
    "import numpy as np\n",
    "import data_pecarn, data_psrc\n",
    "from sklearn.metrics import confusion_matrix\n",
    "\n",
    "%matplotlib inline\n",
    "%load_ext autoreload\n",
    "%autoreload 2\n",
    "\n",
    "d = data_pecarn.get_data(use_processed=True, dummy=True, frac_missing_allowed=1, impute_feats=False)"
   ]
  },
  {
   "cell_type": "markdown",
   "metadata": {},
   "source": [
    "![](../docs/ultrasound.png)"
   ]
  },
  {
   "cell_type": "code",
   "execution_count": 33,
   "metadata": {},
   "outputs": [
    {
     "data": {
      "text/plain": [
       "0        0\n",
       "1        0\n",
       "2        0\n",
       "3        0\n",
       "4        0\n",
       "        ..\n",
       "12039    0\n",
       "12040    0\n",
       "12041    0\n",
       "12042    0\n",
       "12043    0\n",
       "Name: iai_intervention, Length: 12044, dtype: int64"
      ]
     },
     "execution_count": 33,
     "metadata": {},
     "output_type": "execute_result"
    }
   ],
   "source": [
    "y = d['iai_intervention']\n",
    "meanings = ['<1%', '1-5%', '6-10%', '11-50%', \">50%\", 'Physician did not answer']\n",
    "y"
   ]
  },
  {
   "cell_type": "code",
   "execution_count": 34,
   "metadata": {},
   "outputs": [],
   "source": [
    "fast = d['UltrasoundType'] == 1\n",
    "abnormal = d['UltrasoundRes'] == 2\n",
    "fast_abnormal = fast & abnormal"
   ]
  },
  {
   "cell_type": "code",
   "execution_count": 38,
   "metadata": {},
   "outputs": [
    {
     "name": "stdout",
     "output_type": "stream",
     "text": [
      "# patients 12044\n",
      "# iai-i 203\n",
      "# FAST (UltrasoundType==1) 848\n",
      "# abnormal (UltrasoundRes==2) 80\n",
      "# FAST abnormal 26\n",
      "tp=12 fp=14\n",
      "fn=191 tp=12\n"
     ]
    }
   ],
   "source": [
    "print('# patients', d.shape[0])\n",
    "print('# iai-i', y.sum())\n",
    "print('# FAST (UltrasoundType==1)', fast.sum())\n",
    "print('# abnormal (UltrasoundRes==2)', abnormal.sum())\n",
    "print('# FAST abnormal', fast_abnormal.sum())\n",
    "\n",
    "tn, fp, fn, tp = confusion_matrix(y, fast_abnormal).ravel()\n",
    "print(f'{tp=} {fp=}')\n",
    "print(f'{fn=} {tp=}')"
   ]
  },
  {
   "cell_type": "code",
   "execution_count": 27,
   "metadata": {},
   "outputs": [
    {
     "data": {
      "text/plain": [
       "['US4BID',\n",
       " 'USID',\n",
       " 'UltrasoundLoc',\n",
       " 'UltrasoundRes',\n",
       " 'UltrasoundType',\n",
       " 'UpperGIAfterLap',\n",
       " 'UpperGIDay',\n",
       " 'UpperGIObtain',\n",
       " 'UpperGIOrgans',\n",
       " 'UpperGIShow',\n",
       " 'UpperGIText_Size not documented',\n",
       " 'UpperGIText_nan',\n",
       " 'UpperGITm',\n",
       " 'UrethralInj',\n",
       " 'Urinalysis',\n",
       " 'UrinalysisMicro_1496',\n",
       " 'UrinalysisMicro_1815',\n",
       " 'UrinalysisMicro_25',\n",
       " 'UrinalysisMicro_51',\n",
       " 'UrinalysisMicro_9',\n",
       " 'UrinalysisMicro_>100',\n",
       " 'UrinalysisMicro_>50',\n",
       " 'UrinalysisMicro_nan']"
      ]
     },
     "execution_count": 27,
     "metadata": {},
     "output_type": "execute_result"
    }
   ],
   "source": [
    "sorted(list([x for x in d.columns if x.lower().startswith('u')]))"
   ]
  },
  {
   "cell_type": "code",
   "execution_count": null,
   "metadata": {},
   "outputs": [],
   "source": []
  }
 ],
 "metadata": {
  "kernelspec": {
   "display_name": "Python 3",
   "language": "python",
   "name": "python3"
  },
  "language_info": {
   "codemirror_mode": {
    "name": "ipython",
    "version": 3
   },
   "file_extension": ".py",
   "mimetype": "text/x-python",
   "name": "python",
   "nbconvert_exporter": "python",
   "pygments_lexer": "ipython3",
   "version": "3.8.3"
  },
  "pycharm": {
   "stem_cell": {
    "cell_type": "raw",
    "metadata": {
     "collapsed": false
    },
    "source": []
   }
  }
 },
 "nbformat": 4,
 "nbformat_minor": 4
}
