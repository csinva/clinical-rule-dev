{
 "cells": [
  {
   "cell_type": "code",
   "execution_count": 30,
   "metadata": {},
   "outputs": [
    {
     "name": "stdout",
     "output_type": "stream",
     "text": [
      "The autoreload extension is already loaded. To reload it, use:\n",
      "  %reload_ext autoreload\n"
     ]
    },
    {
     "name": "stderr",
     "output_type": "stream",
     "text": [
      "/accounts/projects/vision/.local/lib/python3.7/site-packages/pandas/core/ops.py:1649: FutureWarning: elementwise comparison failed; returning scalar instead, but in the future will perform elementwise comparison\n",
      "  result = method(y)\n"
     ]
    },
    {
     "name": "stdout",
     "output_type": "stream",
     "text": [
      "16 ['AbdDistention_or_AbdomenPain_yes', 'AbdTenderDegree_None', 'AbdTrauma_or_SeatBeltSign_yes', 'Age<2_yes', 'CostalTender_yes', 'DecrBreathSound_yes', 'GCSScore_Full_yes', 'Hypotension_yes', 'MOI_Bike collision/fall', 'MOI_Fall from an elevation', 'MOI_Motor vehicle collision', 'MOI_Motorcycle/ATV/Scooter collision', 'MOI_Object struck abdomen', 'MOI_Pedestrian/bicyclist struck by moving vehicle', 'ThoracicTrauma_yes', 'VomitWretch_yes']\n"
     ]
    }
   ],
   "source": [
    "import sys\n",
    "sys.path.append('../src')\n",
    "\n",
    "import matplotlib.pyplot as plt\n",
    "import numpy as np\n",
    "from imodels import RuleListClassifier, RuleFit, SLIM, GreedyRuleList, SkopeRules\n",
    "from sklearn.tree import DecisionTreeClassifier, plot_tree\n",
    "\n",
    "import data\n",
    "import validate\n",
    "outcome_def = 'iai_intervention' # output\n",
    "%matplotlib inline\n",
    "%load_ext autoreload\n",
    "%autoreload 2\n",
    "\n",
    "df_pecarn, df_psrc, common_feats, filtered_feats_pecarn, filtered_feats_psrc = data.load_it_all(dummy=True)\n",
    "df = df_pecarn[common_feats].append(df_psrc[common_feats])\n",
    "processed_feats = data.select_final_feats(common_feats)\n",
    "\n",
    "train_idxs = data.pecarn_train_idxs\n",
    "test_idxs1 = data.pecarn_test_idxs\n",
    "test_idxs2 = data.psrc_train_idxs + data.psrc_test_idxs\n",
    "df = df[df.cv_fold.isin(train_idxs)]\n",
    "print(len(processed_feats), processed_feats)\n",
    "X, y = df[processed_feats], df[outcome_def]\n",
    "X_train, y_train = X[:len(y)//2], y[:len(y)//2]\n",
    "X_test, y_test = X[len(y)//2:], y[len(y)//2:]"
   ]
  },
  {
   "cell_type": "markdown",
   "metadata": {},
   "source": [
    "# fit simple models"
   ]
  },
  {
   "cell_type": "markdown",
   "metadata": {},
   "source": [
    "**decision tree**"
   ]
  },
  {
   "cell_type": "code",
   "execution_count": null,
   "metadata": {},
   "outputs": [],
   "source": [
    "# specify a decision tree with a maximum depth\n",
    "dt = DecisionTreeClassifier(max_depth=4, class_weight={0:1, 1:1e3})\n",
    "dt.fit(X_train, y_train)\n",
    "\n",
    "# calculat mse on the training data\n",
    "preds = dt.predict(X_test)\n",
    "preds_proba = dt.predict_proba(X_test)\n",
    "# print(preds)\n",
    "sens, spec, threshes = validate.sensitivity_specificity_curve(y_test, preds_proba[:, 1], plot=True)\n",
    "\n",
    "# print(f'test: {np.mean(np.square(preds-y_test)):0.2f}')\n",
    "# print(sklearn.metrics.classification_report(y_test, preds))\n",
    "plt.figure(dpi=300)\n",
    "plot_tree(dt, feature_names=processed_feats, impurity=False, filled=True)\n",
    "# plt.savefig('tree.pdf')\n",
    "plt.show()"
   ]
  },
  {
   "cell_type": "markdown",
   "metadata": {},
   "source": [
    "**bayesian rule lists**"
   ]
  },
  {
   "cell_type": "code",
   "execution_count": 4,
   "metadata": {},
   "outputs": [
    {
     "name": "stdout",
     "output_type": "stream",
     "text": [
      "training...\n"
     ]
    },
    {
     "name": "stderr",
     "output_type": "stream",
     "text": [
      "/accounts/projects/vision/.local/lib/python3.7/site-packages/sklearn/metrics/_classification.py:1268: UndefinedMetricWarning: Precision and F-score are ill-defined and being set to 0.0 in labels with no predicted samples. Use `zero_division` parameter to control this behavior.\n",
      "  _warn_prf(average, modifier, msg_start, len(result))\n"
     ]
    },
    {
     "name": "stdout",
     "output_type": "stream",
     "text": [
      "RuleListClassifier Accuracy: 0.9838187702265372 Learned interpretable model:\n",
      " Trained RuleListClassifier for detecting IwI\n",
      "=============================================\n",
      "IF DecrBreathSound_yes : 0.5_to_inf THEN probability of IwI: 14.9% (8.3%-23.1%)\n",
      "ELSE IF AbdTrauma_or_SeatBeltSign_yes : -inf_to_0.5 AND InitSysBPRange : 85.5_to_inf THEN probability of IwI: 0.4% (0.2%-0.7%)\n",
      "ELSE IF AbdDistention_yes : 0.5_to_inf THEN probability of IwI: 40.5% (25.5%-56.5%)\n",
      "ELSE IF AbdTenderDegree_Severe : 0.5_to_inf THEN probability of IwI: 25.0% (13.9%-38.0%)\n",
      "ELSE IF GCSScore_Full_yes : -inf_to_0.5 THEN probability of IwI: 11.5% (5.9%-18.5%)\n",
      "ELSE probability of IwI: 1.2% (0.4%-2.3%)\n",
      "============================================\n",
      "\n"
     ]
    },
    {
     "data": {
      "image/png": "[encoded data removed]",
      "text/plain": [
       "<Figure size 432x288 with 1 Axes>"
      ]
     },
     "metadata": {
      "needs_background": "light"
     },
     "output_type": "display_data"
    }
   ],
   "source": [
    "np.random.seed(13)\n",
    "# train classifier (allow more iterations for better accuracy; use BigDataRuleListClassifier for large datasets)\n",
    "print('training...')\n",
    "model = RuleListClassifier(max_iter=10000, class1label=\"IwI\", verbose=False)\n",
    "model.fit(X_train, y_train, feature_labels=processed_feats)\n",
    "sens, spec, threshes = validate.sensitivity_specificity_curve(y_test, model.predict_proba(X_test)[:, 1])\n",
    "print(\"RuleListClassifier Accuracy:\", model.score(X_test, y_test), \"Learned interpretable model:\\n\", model)"
   ]
  },
  {
   "cell_type": "markdown",
   "metadata": {},
   "source": [
    "**rulefit**"
   ]
  },
  {
   "cell_type": "code",
   "execution_count": null,
   "metadata": {},
   "outputs": [],
   "source": [
    "# fit a rulefit model\n",
    "rf = RuleFit()\n",
    "rf.fit(X_train, y_train, feature_names=processed_feats)"
   ]
  },
  {
   "cell_type": "code",
   "execution_count": 20,
   "metadata": {},
   "outputs": [
    {
     "name": "stderr",
     "output_type": "stream",
     "text": [
      "100%|██████████| 165/165 [00:01<00:00, 137.44it/s]\n"
     ]
    },
    {
     "name": "stdout",
     "output_type": "stream",
     "text": [
      "[0.96923077 0.96923077 0.95384615 0.95384615 0.95384615 0.93846154\n",
      " 0.93846154 0.93846154 0.90769231 0.90769231 0.90769231] [0.38183198 0.43598178 0.45394737 0.47343117 0.49671053 0.49797571\n",
      " 0.50885628 0.51771255 0.52327935 0.52530364 0.52606275]\n"
     ]
    },
    {
     "data": {
      "image/png": "[encoded data removed]",
      "text/plain": [
       "<Figure size 432x288 with 1 Axes>"
      ]
     },
     "metadata": {
      "needs_background": "light"
     },
     "output_type": "display_data"
    }
   ],
   "source": [
    "preds = rf.predict(X_test)\n",
    "# preds_proba = rf.predict_proba(X_test)\n",
    "# print(preds)\n",
    "sens, spec, threshes = validate.sensitivity_specificity_curve(y_test, preds, plot=True)\n",
    "def print_best(sens, spec):\n",
    "    idxs = np.array(sens) > 0.9\n",
    "    print(np.array(sens)[idxs], np.array(spec)[idxs])\n",
    "print_best(sens, spec)\n",
    "# print(sklearn.metrics.classification_report(y_test, preds))"
   ]
  },
  {
   "cell_type": "code",
   "execution_count": null,
   "metadata": {},
   "outputs": [],
   "source": [
    "rules = rf.get_rules()\n",
    "\n",
    "rules = rules[rules.coef != 0].sort_values(\"support\", ascending=False)\n",
    "\n",
    "print(rules)"
   ]
  },
  {
   "cell_type": "markdown",
   "metadata": {},
   "source": [
    "**slim**"
   ]
  },
  {
   "cell_type": "code",
   "execution_count": 17,
   "metadata": {},
   "outputs": [
    {
     "name": "stdout",
     "output_type": "stream",
     "text": [
      "shapes (100,) (100,)\n",
      "[-55  -3   0  14  -4   0 -81 -15   0   0  -5   0] 0\n"
     ]
    }
   ],
   "source": [
    "# specify a decision tree with a maximum depth\n",
    "fewest_feats = data.fewest_feats\n",
    "X_train_small = X_train[fewest_feats]\n",
    "m = SLIM()\n",
    "n = 100\n",
    "\n",
    "# optionally upweight positive samples\n",
    "CLASS_WEIGHT = 100\n",
    "sample_weight = np.ones((n))\n",
    "sample_weight[y_train[:n] == 1] *= CLASS_WEIGHT\n",
    "sample_weight /= sample_weight.max()\n",
    "\n",
    "# fit\n",
    "m.fit(X_train_small[:n], y_train[:n] * 100, lambda_reg=10,\n",
    "      sample_weight=sample_weight)\n",
    "\n",
    "# calculate mse on the training data\n",
    "X_test_small = X_test[fewest_feats]\n",
    "preds = m.predict(X_test_small)\n",
    "preds_proba = [1 / (1 + np.exp(-y)) for y in preds]\n",
    "# preds_proba = m.predict_proba(X_test)\n",
    "print(m.model.coef_.astype(int), m.model.intercept_)"
   ]
  },
  {
   "cell_type": "code",
   "execution_count": 18,
   "metadata": {},
   "outputs": [
    {
     "name": "stderr",
     "output_type": "stream",
     "text": [
      " 94%|█████████▍| 140/149 [00:01<00:00, 133.01it/s]/accounts/projects/vision/.local/lib/python3.7/site-packages/sklearn/metrics/_classification.py:1268: UndefinedMetricWarning: Precision and F-score are ill-defined and being set to 0.0 in labels with no predicted samples. Use `zero_division` parameter to control this behavior.\n",
      "  _warn_prf(average, modifier, msg_start, len(result))\n",
      "100%|██████████| 149/149 [00:01<00:00, 134.66it/s]\n"
     ]
    },
    {
     "data": {
      "image/png": "[encoded data removed]",
      "text/plain": [
       "<Figure size 432x288 with 1 Axes>"
      ]
     },
     "metadata": {
      "needs_background": "light"
     },
     "output_type": "display_data"
    }
   ],
   "source": [
    "sens, spec, threshes = validate.sensitivity_specificity_curve(y_test, preds_proba)"
   ]
  },
  {
   "cell_type": "markdown",
   "metadata": {},
   "source": [
    "**skope rules**"
   ]
  },
  {
   "cell_type": "code",
   "execution_count": 5,
   "metadata": {},
   "outputs": [
    {
     "name": "stderr",
     "output_type": "stream",
     "text": [
      "100%|██████████| 5/5 [00:00<00:00, 149.30it/s]"
     ]
    },
    {
     "name": "stdout",
     "output_type": "stream",
     "text": [
      "Rules for iai\n",
      "('AbdTenderDegree_None <= 0.5 and VomitWretch_yes > 0.5 and AbdTrauma_or_SeatBeltSign_yes > 0.5', (0.3374102177022088, 0.1972376642964878, 5))\n",
      "('ThoracicTrauma_yes > 0.5 and GCSScore_Full_yes <= 0.5 and Hypotension_yes > 0.5', (0.6666666666666666, 0.11538461538461539, 1))\n",
      "('MOI_Motor vehicle collision > 0.5 and AbdTrauma_or_SeatBeltSign_yes > 0.5 and Hypotension_yes > 0.5', (0.6696428571428572, 0.10536823425022182, 2))\n",
      "('MOI_Motor vehicle collision > 0.5 and ThoracicTrauma_yes > 0.5 and DecrBreathSound_yes > 0.5', (0.45454545454545453, 0.10204081632653061, 1))\n"
     ]
    },
    {
     "name": "stderr",
     "output_type": "stream",
     "text": [
      "\n"
     ]
    },
    {
     "data": {
      "image/png": "[encoded data removed]",
      "text/plain": [
       "<Figure size 432x288 with 1 Axes>"
      ]
     },
     "metadata": {
      "needs_background": "light"
     },
     "output_type": "display_data"
    }
   ],
   "source": [
    "# feature_names = ['sepal_length', 'sepal_width', 'petal_length', 'petal_width']\n",
    "clf = SkopeRules(max_depth_duplication=3,\n",
    "                 n_estimators=30,\n",
    "                 precision_min=0.3,\n",
    "                 recall_min=0.1,\n",
    "                 feature_names=processed_feats)\n",
    "clf.fit(X_train, y_train)\n",
    "# print the rules\n",
    "rules = clf.rules_\n",
    "print(\"Rules for iai\")\n",
    "for rule in rules:\n",
    "    print(rule)\n",
    "\n",
    "# evaluate\n",
    "y_score = clf.score_top_rules(X_test) # Get a risk score for each test example\n",
    "\n",
    "sens, spec, threshes = validate.sensitivity_specificity_curve(y_test, y_score)\n",
    "plt.show()"
   ]
  },
  {
   "cell_type": "markdown",
   "metadata": {},
   "source": [
    "**greedy rule list**"
   ]
  },
  {
   "cell_type": "code",
   "execution_count": 43,
   "metadata": {},
   "outputs": [
    {
     "name": "stdout",
     "output_type": "stream",
     "text": [
      "mean 1.619\n"
     ]
    },
    {
     "data": {
      "text/plain": [
       "[{'col': 'VomitWretch_yes',\n",
       "  'index_col': 15,\n",
       "  'cutoff': 0,\n",
       "  'val': 0.016185258964143426,\n",
       "  'flip': False,\n",
       "  'val_right': 0.016185258964143426,\n",
       "  'num_pts': 4016,\n",
       "  'num_pts_right': 4016}]"
      ]
     },
     "execution_count": 43,
     "metadata": {},
     "output_type": "execute_result"
    }
   ],
   "source": [
    "class_weight = {0: 1, 1: 500}\n",
    "d = GreedyRuleList(max_depth=7, class_weight=class_weight, criterion='gini')\n",
    "d.fit(X_train, y_train, verbose=True)"
   ]
  },
  {
   "cell_type": "code",
   "execution_count": 42,
   "metadata": {},
   "outputs": [
    {
     "name": "stdout",
     "output_type": "stream",
     "text": [
      "\t                                    => \u001b[96m1.62\u001b[00m% risk (4016 pts)\n",
      "                     if DecrBreathSound_yes ===> \u001b[91m14.1\u001b[00m% risk (85 pts)\n",
      "\t                                    => \u001b[96m1.35\u001b[00m% risk (3931 pts)\n",
      "                         if Hypotension_yes ===> \u001b[91m14.3\u001b[00m% risk (56 pts)\n",
      "\t                                    => \u001b[96m1.16\u001b[00m% risk (3875 pts)\n",
      "           if AbdTrauma_or_SeatBeltSign_yes ===> \u001b[91m5.2\u001b[00m% risk (599 pts)\n",
      "\t                                    => \u001b[96m0.43\u001b[00m% risk (3276 pts)\n",
      "                      if ~GCSScore_Full_yes ===> \u001b[91m1.4\u001b[00m% risk (424 pts)\n",
      "\t                                    => \u001b[96m0.28\u001b[00m% risk (2852 pts)\n",
      "                 if MOI_Bike collision/fall ===> \u001b[91m1.3\u001b[00m% risk (153 pts)\n",
      "\t                                    => \u001b[96m0.22\u001b[00m% risk (2699 pts)\n",
      "                   if ~AbdTenderDegree_None ===> \u001b[91m0.5\u001b[00m% risk (752 pts)\n",
      "\t                                    => \u001b[96m0.1\u001b[00m% risk (1947 pts)\n",
      "    if MOI_Motorcycle/ATV/Scooter collision ===> \u001b[91m0.9\u001b[00m% risk (112 pts)\n",
      "\n"
     ]
    }
   ],
   "source": [
    "d.print_list()"
   ]
  },
  {
   "cell_type": "code",
   "execution_count": 17,
   "metadata": {},
   "outputs": [
    {
     "name": "stderr",
     "output_type": "stream",
     "text": [
      "100%|██████████| 8/8 [00:00<00:00, 144.60it/s]\n",
      "100%|██████████| 8/8 [00:00<00:00, 147.28it/s]\n"
     ]
    },
    {
     "data": {
      "image/png": "[encoded data removed]",
      "text/plain": [
       "<Figure size 432x288 with 1 Axes>"
      ]
     },
     "metadata": {
      "needs_background": "light"
     },
     "output_type": "display_data"
    }
   ],
   "source": [
    "preds_proba = d.predict_proba(X_train)[:, 1]\n",
    "sens1, spec1, threshes = validate.sensitivity_specificity_curve(y_train, preds_proba, plot=False)\n",
    "preds_proba = d.predict_proba(X_test)[:, 1]\n",
    "sens, spec, threshes = validate.sensitivity_specificity_curve(y_test, preds_proba, plot=True)\n",
    "plt.show()"
   ]
  },
  {
   "cell_type": "code",
   "execution_count": 16,
   "metadata": {},
   "outputs": [
    {
     "name": "stderr",
     "output_type": "stream",
     "text": [
      "  3%|▎         | 5/196 [00:00<00:04, 47.53it/s]"
     ]
    },
    {
     "name": "stdout",
     "output_type": "stream",
     "text": [
      "[0 0 0 ... 0 0 0]\n"
     ]
    },
    {
     "name": "stderr",
     "output_type": "stream",
     "text": [
      "100%|██████████| 196/196 [00:03<00:00, 65.07it/s]\n"
     ]
    },
    {
     "name": "stdout",
     "output_type": "stream",
     "text": [
      "test: 0.02\n"
     ]
    },
    {
     "data": {
      "image/png": "[encoded data removed]",
      "text/plain": [
       "<Figure size 432x288 with 1 Axes>"
      ]
     },
     "metadata": {
      "needs_background": "light"
     },
     "output_type": "display_data"
    }
   ],
   "source": [
    "from imodels import IRFClassifier\n",
    "# specify a decision tree with a maximum depth\n",
    "irf = IRFClassifier()\n",
    "irf.fit(X_train, y_train)\n",
    "\n",
    "# calculat mse on the training data\n",
    "preds = irf.predict(X_test)\n",
    "preds_proba = irf.predict_proba(X_test)\n",
    "print(preds)\n",
    "sens, spec, threshes = validate.sensitivity_specificity_curve(y_test, preds_proba[:, 1], plot=True)\n",
    "\n",
    "# irf.model.all_rf_weights # look at model weights\n",
    "\n",
    "print(f'test: {np.mean(np.square(preds-y_test)):0.2f}')\n",
    "# print(sklearn.metrics.classification_report(y_test, preds))"
   ]
  },
  {
   "cell_type": "code",
   "execution_count": 29,
   "metadata": {},
   "outputs": [
    {
     "name": "stdout",
     "output_type": "stream",
     "text": [
      "MOI_Motorcycle/ATV/Scooter collision 2.6\n",
      "MOI_Bike collision/fall 3.3000000000000003\n",
      "MOI_Pedestrian/bicyclist struck by moving vehicle 3.6999999999999997\n",
      "AbdDistention_or_AbdomenPain_yes 3.8\n",
      "MOI_Fall from an elevation 4.0\n",
      "Age<2_yes 4.2\n",
      "MOI_Object struck abdomen 4.3999999999999995\n",
      "MOI_Motor vehicle collision 6.7\n",
      "CostalTender_yes 7.000000000000001\n",
      "Hypotension_yes 7.3999999999999995\n",
      "DecrBreathSound_yes 7.6\n",
      "AbdTenderDegree_None 8.0\n",
      "AbdTrauma_or_SeatBeltSign_yes 8.6\n",
      "GCSScore_Full_yes 8.799999999999999\n",
      "VomitWretch_yes 9.1\n",
      "ThoracicTrauma_yes 10.8\n"
     ]
    }
   ],
   "source": [
    "imps = irf.model.feature_importances_.round(3) * 100\n",
    "args = np.argsort(imps)\n",
    "imps = imps[args]\n",
    "feats = np.array(processed_feats)[args]\n",
    "for imp, feat in zip(imps, feats):\n",
    "    print(feat, imp)"
   ]
  }
 ],
 "metadata": {
  "kernelspec": {
   "display_name": "Python 3",
   "language": "python",
   "name": "python3"
  },
  "language_info": {
   "codemirror_mode": {
    "name": "ipython",
    "version": 3
   },
   "file_extension": ".py",
   "mimetype": "text/x-python",
   "name": "python",
   "nbconvert_exporter": "python",
   "pygments_lexer": "ipython3",
   "version": "3.7.5"
  },
  "pycharm": {
   "stem_cell": {
    "cell_type": "raw",
    "metadata": {
     "collapsed": false
    },
    "source": []
   }
  }
 },
 "nbformat": 4,
 "nbformat_minor": 4
}
