{
 "cells": [
  {
   "cell_type": "markdown",
   "metadata": {},
   "source": [
    "Fit interpretable models to the training set and test on validation sets. Uses imodels package as of 10/25/2020."
   ]
  },
  {
   "cell_type": "code",
   "execution_count": 10,
   "metadata": {},
   "outputs": [
    {
     "name": "stdout",
     "output_type": "stream",
     "text": [
      "The autoreload extension is already loaded. To reload it, use:\n",
      "  %reload_ext autoreload\n"
     ]
    },
    {
     "name": "stderr",
     "output_type": "stream",
     "text": [
      "/accounts/projects/vision/.local/lib/python3.7/site-packages/pandas/core/ops.py:1649: FutureWarning: elementwise comparison failed; returning scalar instead, but in the future will perform elementwise comparison\n",
      "  result = method(y)\n"
     ]
    }
   ],
   "source": [
    "%matplotlib inline\n",
    "%load_ext autoreload\n",
    "%autoreload 2\n",
    "import sys\n",
    "sys.path.append('../src')\n",
    "import viz\n",
    "import pickle as pkl\n",
    "import matplotlib.pyplot as plt\n",
    "from os.path import join as oj\n",
    "import os\n",
    "import numpy as np\n",
    "from dtreeviz.trees import *\n",
    "import imodels\n",
    "from sklearn.tree import DecisionTreeClassifier, plot_tree\n",
    "from sklearn.ensemble import RandomForestClassifier\n",
    "\n",
    "import data\n",
    "import validate\n",
    "outcome_def = 'iai_intervention' # output\n",
    "MODELS_DIR = '../models/simple_3_splits'\n",
    "os.makedirs(MODELS_DIR, exist_ok=True)\n",
    "\n",
    "\n",
    "# load the data\n",
    "df_pecarn, df_psrc, common_feats, filtered_feats_pecarn, filtered_feats_psrc = data.load_it_all(dummy=True)\n",
    "df = df_pecarn[common_feats].append(df_psrc[common_feats])\n",
    "processed_feats = data.select_final_feats(common_feats)\n",
    "\n",
    "# split the idxs\n",
    "train_idxs = df.cv_fold.isin(data.pecarn_train_idxs)\n",
    "test_idxs1 = df.cv_fold.isin(data.pecarn_test_idxs)\n",
    "test_idxs2 = df.cv_fold.isin(data.psrc_train_idxs + data.psrc_test_idxs)\n",
    "\n",
    "# split the data\n",
    "X, y = df[processed_feats], df[outcome_def]\n",
    "half = train_idxs.sum() // 2\n",
    "split_to_plot = '_test2'\n",
    "\n",
    "# 3-split\n",
    "X_train, y_train = X[train_idxs], y[train_idxs]\n",
    "X_cv, y_cv = X_train, y_train\n",
    "X_test1, y_test1 = X[test_idxs1], y[test_idxs1]\n",
    "\n",
    "# try loading psrc data\n",
    "if df_psrc.shape[0] > 0:\n",
    "    X_test2, y_test2 = X[test_idxs2], y[test_idxs2]\n",
    "else:\n",
    "    X_test2, y_test2 = X_test1, y_test1\n",
    "    \n",
    "data_sizes = {\n",
    "    'train': (y_train.sum(), X_train.shape[0]),\n",
    "    'cv': (y_cv.sum(), X_cv.shape[0]),\n",
    "    'test1': (y_test1.sum(), X_test1.shape[0]),\n",
    "    'test2': (y_test2.sum(), X_test2.shape[0]),\n",
    "}\n",
    "\n",
    "def predict_and_save(model, model_name='decision_tree', split_to_plot='_cv'):\n",
    "    '''Plots cv and returns cv, saves all stats\n",
    "    '''\n",
    "    results = {'model': model}\n",
    "    for x, y, suffix in zip([X_train, X_test1, X_test2, X_cv], [y_train, y_test1, y_test2, y_cv], \n",
    "                            ['_train', '_test1', '_test2', '_cv']):\n",
    "        stats, threshes = validate.all_stats_curve(y, model.predict_proba(x)[:, 1],\n",
    "                                                  plot=suffix == split_to_plot)\n",
    "        plt.title(split_to_plot[1:])\n",
    "        for stat in stats.keys():\n",
    "            results[stat + suffix] = stats[stat]\n",
    "#         results['sens' + suffix] = sens\n",
    "#         results['spec' + suffix] = spec\n",
    "        results['threshes' + suffix] = threshes\n",
    "    pkl.dump(results, open(oj(MODELS_DIR, model_name + '.pkl'), 'wb'))        \n",
    "    return stats, threshes"
   ]
  },
  {
   "cell_type": "markdown",
   "metadata": {},
   "source": [
    "# fit simple models"
   ]
  },
  {
   "cell_type": "markdown",
   "metadata": {},
   "source": [
    "**decision tree**"
   ]
  },
  {
   "cell_type": "code",
   "execution_count": null,
   "metadata": {},
   "outputs": [],
   "source": [
    "# fit decition tree\n",
    "dt = DecisionTreeClassifier(max_depth=4, class_weight={0:1, 1:1e3})\n",
    "dt.fit(X_train, y_train)\n",
    "stats, threshes = predict_and_save(dt, model_name='decision_tree', split_to_plot=split_to_plot)\n",
    "# plt.xlim((0.8, 1.0))\n",
    "# plt.ylim((0.5, 1.0))\n",
    "plt.show()\n",
    "\n",
    "# visualize tree\n",
    "# dviz = dtreeviz(dt,\n",
    "#                X_train,\n",
    "#                y_train.values,\n",
    "#                feature_names=list(X_train),\n",
    "#                class_names=[\"healty\", \"iai-i\"],\n",
    "#                fancy=True)\n",
    "# dviz"
   ]
  },
  {
   "cell_type": "markdown",
   "metadata": {},
   "source": [
    "**bayesian rule list**"
   ]
  },
  {
   "cell_type": "code",
   "execution_count": null,
   "metadata": {},
   "outputs": [],
   "source": [
    "np.random.seed(13)\n",
    "# train classifier (allow more iterations for better accuracy; use BigDataRuleListClassifier for large datasets)\n",
    "print('training bayesian_rule_list...')\n",
    "brl = imodels.BayesianRuleListClassifier(listlengthprior=2, max_iter=10000, class1label=\"IwI\", verbose=False)\n",
    "brl.fit(X_train, y_train, feature_labels=processed_feats)\n",
    "stats, threshes = predict_and_save(brl, model_name='bayesian_rule_list', split_to_plot=split_to_plot)\n",
    "print(brl)"
   ]
  },
  {
   "cell_type": "code",
   "execution_count": 22,
   "metadata": {},
   "outputs": [
    {
     "name": "stdout",
     "output_type": "stream",
     "text": [
      "Trained RuleListClassifier for detecting IwI\n",
      "=============================================\n",
      "IF GCSScore_Full_yes_0.5_to_inf AND AbdTenderDegree_None_0.5_to_inf THEN probability of IwI: 0.3% (0.2%-0.5%)\n",
      "ELSE IF DecrBreathSound_yes_0.5_to_inf AND ThoracicTrauma_yes_0.5_to_inf THEN probability of IwI: 23.3% (13.6%-34.7%)\n",
      "ELSE IF AbdTrauma_or_SeatBeltSign_yes_-inf_to_0.5 AND Hypotension_yes_-inf_to_0.5 THEN probability of IwI: 1.6% (1.1%-2.1%)\n",
      "ELSE IF GCSScore_Full_yes_0.5_to_inf THEN probability of IwI: 5.3% (3.7%-7.2%)\n",
      "ELSE probability of IwI: 20.7% (15.0%-27.0%)\n",
      "============================================\n",
      "\n"
     ]
    }
   ],
   "source": [
    "print(brl)"
   ]
  },
  {
   "cell_type": "markdown",
   "metadata": {},
   "source": [
    "**rulefit**"
   ]
  },
  {
   "cell_type": "code",
   "execution_count": 5,
   "metadata": {},
   "outputs": [
    {
     "name": "stderr",
     "output_type": "stream",
     "text": [
      "100%|██████████| 220/220 [00:14<00:00, 15.38it/s]\n",
      "100%|██████████| 196/196 [00:06<00:00, 31.07it/s]\n",
      "100%|██████████| 166/166 [00:03<00:00, 53.09it/s]\n",
      "100%|██████████| 220/220 [00:13<00:00, 15.46it/s]\n"
     ]
    },
    {
     "data": {
      "text/plain": [
       "'\\ndef print_best(sens, spec):\\n    idxs = np.array(sens) > 0.9\\n    print(np.array(sens)[idxs], np.array(spec)[idxs])\\nprint_best(sens, spec)\\n'"
      ]
     },
     "execution_count": 5,
     "metadata": {},
     "output_type": "execute_result"
    },
    {
     "data": {
      "image/png": "[encoded data removed]",
      "text/plain": [
       "<Figure size 432x288 with 1 Axes>"
      ]
     },
     "metadata": {
      "needs_background": "light"
     },
     "output_type": "display_data"
    }
   ],
   "source": [
    "# fit a rulefit model\n",
    "np.random.seed(13)\n",
    "rulefit = imodels.RuleFitRegressor(max_rules=4)\n",
    "rulefit.fit(X_train, y_train, feature_names=processed_feats)\n",
    "\n",
    "# preds = rulefit.predict(X_test)\n",
    "stats, threshes = predict_and_save(rulefit, model_name='rulefit', split_to_plot=split_to_plot)\n",
    "'''\n",
    "def print_best(sens, spec):\n",
    "    idxs = np.array(sens) > 0.9\n",
    "    print(np.array(sens)[idxs], np.array(spec)[idxs])\n",
    "print_best(sens, spec)\n",
    "'''"
   ]
  },
  {
   "cell_type": "code",
   "execution_count": 7,
   "metadata": {},
   "outputs": [
    {
     "data": {
      "text/html": [
       "<div>\n",
       "<style scoped>\n",
       "    .dataframe tbody tr th:only-of-type {\n",
       "        vertical-align: middle;\n",
       "    }\n",
       "\n",
       "    .dataframe tbody tr th {\n",
       "        vertical-align: top;\n",
       "    }\n",
       "\n",
       "    .dataframe thead th {\n",
       "        text-align: right;\n",
       "    }\n",
       "</style>\n",
       "<table border=\"1\" class=\"dataframe\">\n",
       "  <thead>\n",
       "    <tr style=\"text-align: right;\">\n",
       "      <th></th>\n",
       "      <th>rule</th>\n",
       "      <th>coef</th>\n",
       "    </tr>\n",
       "  </thead>\n",
       "  <tbody>\n",
       "    <tr>\n",
       "      <th>1</th>\n",
       "      <td>AbdTenderDegree_None</td>\n",
       "      <td>-0.011</td>\n",
       "    </tr>\n",
       "    <tr>\n",
       "      <th>2</th>\n",
       "      <td>AbdTrauma_or_SeatBeltSign_yes</td>\n",
       "      <td>0.040</td>\n",
       "    </tr>\n",
       "    <tr>\n",
       "      <th>4</th>\n",
       "      <td>CostalTender_yes</td>\n",
       "      <td>0.011</td>\n",
       "    </tr>\n",
       "    <tr>\n",
       "      <th>6</th>\n",
       "      <td>GCSScore_Full_yes</td>\n",
       "      <td>-0.041</td>\n",
       "    </tr>\n",
       "    <tr>\n",
       "      <th>8</th>\n",
       "      <td>MOI_Bike_collision/fall</td>\n",
       "      <td>0.002</td>\n",
       "    </tr>\n",
       "    <tr>\n",
       "      <th>10</th>\n",
       "      <td>MOI_Motor_vehicle_collision</td>\n",
       "      <td>0.009</td>\n",
       "    </tr>\n",
       "    <tr>\n",
       "      <th>11</th>\n",
       "      <td>MOI_Motorcycle/ATV/Scooter_collision</td>\n",
       "      <td>-0.001</td>\n",
       "    </tr>\n",
       "    <tr>\n",
       "      <th>12</th>\n",
       "      <td>MOI_Object_struck_abdomen</td>\n",
       "      <td>-0.001</td>\n",
       "    </tr>\n",
       "    <tr>\n",
       "      <th>14</th>\n",
       "      <td>ThoracicTrauma_yes</td>\n",
       "      <td>0.008</td>\n",
       "    </tr>\n",
       "    <tr>\n",
       "      <th>15</th>\n",
       "      <td>VomitWretch_yes</td>\n",
       "      <td>0.015</td>\n",
       "    </tr>\n",
       "    <tr>\n",
       "      <th>17</th>\n",
       "      <td>GCSScore_Full_yes &gt; 0.5</td>\n",
       "      <td>-0.000</td>\n",
       "    </tr>\n",
       "    <tr>\n",
       "      <th>19</th>\n",
       "      <td>GCSScore_Full_yes &lt;= 0.5</td>\n",
       "      <td>0.002</td>\n",
       "    </tr>\n",
       "    <tr>\n",
       "      <th>20</th>\n",
       "      <td>GCSScore_Full_yes &lt;= 0.5 and AbdTenderDegree_None &lt;= 0.5</td>\n",
       "      <td>0.048</td>\n",
       "    </tr>\n",
       "  </tbody>\n",
       "</table>\n",
       "</div>"
      ],
      "text/plain": [
       "                                                        rule   coef\n",
       "1   AbdTenderDegree_None                                     -0.011\n",
       "2   AbdTrauma_or_SeatBeltSign_yes                             0.040\n",
       "4   CostalTender_yes                                          0.011\n",
       "6   GCSScore_Full_yes                                        -0.041\n",
       "8   MOI_Bike_collision/fall                                   0.002\n",
       "10  MOI_Motor_vehicle_collision                               0.009\n",
       "11  MOI_Motorcycle/ATV/Scooter_collision                     -0.001\n",
       "12  MOI_Object_struck_abdomen                                -0.001\n",
       "14  ThoracicTrauma_yes                                        0.008\n",
       "15  VomitWretch_yes                                           0.015\n",
       "17  GCSScore_Full_yes > 0.5                                  -0.000\n",
       "19  GCSScore_Full_yes <= 0.5                                  0.002\n",
       "20  GCSScore_Full_yes <= 0.5 and AbdTenderDegree_None <= 0.5  0.048"
      ]
     },
     "execution_count": 7,
     "metadata": {},
     "output_type": "execute_result"
    }
   ],
   "source": [
    "# pd.reset_option('display.max_colwidth')\n",
    "rulefit.visualize()"
   ]
  },
  {
   "cell_type": "markdown",
   "metadata": {},
   "source": [
    "**slim - sparse linear integer model**"
   ]
  },
  {
   "cell_type": "code",
   "execution_count": null,
   "metadata": {},
   "outputs": [],
   "source": [
    "fewest_feats = data.fewest_feats\n",
    "CLASS_WEIGHT = 100\n",
    "n = X_train.shape[0]\n",
    "lambda_reg = 10\n",
    "\n",
    "# optionally upweight positive samples\n",
    "sample_weight = np.ones((n))\n",
    "sample_weight[y_train[:n] == 1] *= CLASS_WEIGHT\n",
    "sample_weight /= sample_weight.max()\n",
    "\n",
    "# fit\n",
    "X_train_small = X_train[fewest_feats]\n",
    "slim = imodels.SLIMRegressor()\n",
    "slim.fit(X_train_small[:n], y_train[:n] * 100, lambda_reg=lambda_reg,\n",
    "         sample_weight=sample_weight)\n",
    "\n",
    "# calculate mse on the training data\n",
    "# sens, spec, threshes = predict_and_save(slim, model_name='slim')\n",
    "\n",
    "X_test_small = X_test1[fewest_feats]\n",
    "# preds = slim.predict(X_test_small)\n",
    "# preds_proba = [1 / (1 + np.exp(-y)) for y in preds]\n",
    "preds_proba = slim.predict_proba(X_test_small)\n",
    "print('considered ', len(fewest_feats), 'feats')\n",
    "coefs = slim.model.coef_.astype(int)\n",
    "intercept = slim.model.intercept_\n",
    "for i in range(len(fewest_feats)):\n",
    "    if coefs[i] != 0:\n",
    "        print(fewest_feats[i], coefs[i])\n",
    "print('intercept', intercept)\n",
    "stats, threshes = validate.all_stats_curve(y_test1, preds_proba[:, 1], plot=True)"
   ]
  },
  {
   "cell_type": "markdown",
   "metadata": {},
   "source": [
    "**skope rules**"
   ]
  },
  {
   "cell_type": "code",
   "execution_count": 7,
   "metadata": {},
   "outputs": [],
   "source": [
    "# # feature_names = ['sepal_length', 'sepal_width', 'petal_length', 'petal_width']\n",
    "# clf = imodels.SkopeRulesClassifier(max_depth_duplication=100,\n",
    "#                  n_estimators=100,\n",
    "#                  precision_min=0.01, # per rule precision min\n",
    "#                  recall_min=0.1,     # per rule recall min\n",
    "#                  feature_names=processed_feats)\n",
    "# clf.fit(X_train, y_train)\n",
    "# # print the rules\n",
    "# rules = clf.rules_\n",
    "# print(\"Rules for iai\")\n",
    "# for rule in rules:\n",
    "#     print(rule)\n",
    "\n",
    "# # evaluate\n",
    "# sens, spec, threshes = predict_and_save(clf, model_name='skope', split_to_plot=split_to_plot)\n",
    "\n",
    "# plt.show()"
   ]
  },
  {
   "cell_type": "markdown",
   "metadata": {},
   "source": [
    "**greedy (CART) rule list**"
   ]
  },
  {
   "cell_type": "code",
   "execution_count": 6,
   "metadata": {},
   "outputs": [
    {
     "name": "stderr",
     "output_type": "stream",
     "text": [
      "/accounts/projects/vision/.local/lib/python3.7/site-packages/numpy/lib/function_base.py:2530: RuntimeWarning: invalid value encountered in true_divide\n",
      "  c /= stddev[:, None]\n",
      "/accounts/projects/vision/.local/lib/python3.7/site-packages/numpy/lib/function_base.py:2531: RuntimeWarning: invalid value encountered in true_divide\n",
      "  c /= stddev[None, :]\n",
      "  0%|          | 0/9 [00:00<?, ?it/s]"
     ]
    },
    {
     "name": "stdout",
     "output_type": "stream",
     "text": [
      "1.67 -> Hypotension_yes -> 1.45 (7869) 16.38 (116)\n",
      "1.45 -> AbdTrauma_or_SeatBeltSign_yes -> 0.78 (6657) 5.12 (1212)\n",
      "0.78 -> DecrBreathSound_yes -> 0.66 (6529) 7.03 (128)\n",
      "0.66 -> ThoracicTrauma_yes -> 0.58 (5709) 1.22 (820)\n",
      "0.58 -> MOI_Motor vehicle collision -> 0.47 (4011) 0.82 (1698)\n",
      "0.47 -> MOI_Bike collision/fall -> 0.43 (3740) 1.11 (271)\n",
      "0.43 -> MOI_Motorcycle/ATV/Scooter collision -> 0.40 (3481) 0.77 (259)\n",
      "0.40 -> MOI_Fall from an elevation -> 0.35 (2305) 0.51 (1176)\n",
      "0.35 -> VomitWretch_yes -> 0.33 (2116) 0.53 (189)\n"
     ]
    },
    {
     "name": "stderr",
     "output_type": "stream",
     "text": [
      "100%|██████████| 9/9 [00:00<00:00, 33.37it/s]\n",
      "100%|██████████| 9/9 [00:00<00:00, 64.72it/s]\n",
      "100%|██████████| 9/9 [00:00<00:00, 117.47it/s]\n",
      "100%|██████████| 9/9 [00:00<00:00, 33.64it/s]\n"
     ]
    },
    {
     "name": "stdout",
     "output_type": "stream",
     "text": [
      "\t                                    => \u001b[96m1.67\u001b[00m% risk (7985 pts)\n",
      "                         if Hypotension_yes ===> \u001b[91m16.4\u001b[00m% risk (116 pts)\n",
      "\t                                    => \u001b[96m1.45\u001b[00m% risk (7869 pts)\n",
      "           if AbdTrauma_or_SeatBeltSign_yes ===> \u001b[91m5.1\u001b[00m% risk (1212 pts)\n",
      "\t                                    => \u001b[96m0.78\u001b[00m% risk (6657 pts)\n",
      "                     if DecrBreathSound_yes ===> \u001b[91m7.0\u001b[00m% risk (128 pts)\n",
      "\t                                    => \u001b[96m0.66\u001b[00m% risk (6529 pts)\n",
      "                      if ThoracicTrauma_yes ===> \u001b[91m1.2\u001b[00m% risk (820 pts)\n",
      "\t                                    => \u001b[96m0.58\u001b[00m% risk (5709 pts)\n",
      "             if MOI_Motor vehicle collision ===> \u001b[91m0.8\u001b[00m% risk (1698 pts)\n",
      "\t                                    => \u001b[96m0.47\u001b[00m% risk (4011 pts)\n",
      "                 if MOI_Bike collision/fall ===> \u001b[91m1.1\u001b[00m% risk (271 pts)\n",
      "\t                                    => \u001b[96m0.43\u001b[00m% risk (3740 pts)\n",
      "    if MOI_Motorcycle/ATV/Scooter collision ===> \u001b[91m0.8\u001b[00m% risk (259 pts)\n",
      "\t                                    => \u001b[96m0.4\u001b[00m% risk (3481 pts)\n",
      "              if MOI_Fall from an elevation ===> \u001b[91m0.5\u001b[00m% risk (1176 pts)\n",
      "\t                                    => \u001b[96m0.35\u001b[00m% risk (2305 pts)\n",
      "                         if VomitWretch_yes ===> \u001b[91m0.5\u001b[00m% risk (189 pts)\n",
      "\n"
     ]
    },
    {
     "data": {
      "image/png": "[encoded data removed]",
      "text/plain": [
       "<Figure size 432x288 with 1 Axes>"
      ]
     },
     "metadata": {
      "needs_background": "light"
     },
     "output_type": "display_data"
    }
   ],
   "source": [
    "class_weight = {0: 1, 1: 100}\n",
    "d = imodels.GreedyRuleListClassifier(max_depth=9, class_weight=class_weight, criterion='neg_corr')\n",
    "d.fit(X_train, y_train, verbose=True)\n",
    "stats, threshes = predict_and_save(d, model_name='grl', split_to_plot=split_to_plot)\n",
    "d.print_list()"
   ]
  },
  {
   "cell_type": "markdown",
   "metadata": {},
   "source": [
    "**irf - iterative Random Forest**"
   ]
  },
  {
   "cell_type": "code",
   "execution_count": 5,
   "metadata": {},
   "outputs": [
    {
     "name": "stderr",
     "output_type": "stream",
     "text": [
      "100%|██████████| 269/269 [00:07<00:00, 34.72it/s]\n",
      "100%|██████████| 227/227 [00:03<00:00, 67.05it/s]\n",
      "100%|██████████| 165/165 [00:01<00:00, 120.50it/s]\n",
      "100%|██████████| 269/269 [00:07<00:00, 34.49it/s]\n"
     ]
    },
    {
     "data": {
      "image/png": "[encoded data removed]",
      "text/plain": [
       "<Figure size 432x288 with 1 Axes>"
      ]
     },
     "metadata": {
      "needs_background": "light"
     },
     "output_type": "display_data"
    }
   ],
   "source": [
    "# specify a decision tree with a maximum depth\n",
    "from irf.ensemble.wrf import RandomForestClassifierWithWeights as IRFClassifier\n",
    "irf = IRFClassifier()\n",
    "irf.fit(X_train, y_train)\n",
    "stats, threshes = predict_and_save(irf, model_name='irf', split_to_plot=split_to_plot)\n",
    "# sens, spec, threshes = validate.sensitivity_specificity_curve(y_test, preds_proba[:, 1], plot=True)"
   ]
  },
  {
   "cell_type": "code",
   "execution_count": null,
   "metadata": {},
   "outputs": [],
   "source": [
    "imps = irf.model.feature_importances_.round(3)\n",
    "args = np.argsort(imps)[::-1]\n",
    "imps = imps[args]\n",
    "feats = np.array(processed_feats)[args]\n",
    "for imp, feat in zip(imps, feats):\n",
    "    print(feat, imp)\n",
    "\n",
    "# # visualize one tree\n",
    "# dviz = dtreeviz(irf.model.estimators_[-1],\n",
    "#                X_train,\n",
    "#                y_train.values,\n",
    "#                feature_names=list(X_train),\n",
    "#                class_names=[\"healty\", \"iai-i\"],\n",
    "#                fancy=True)\n",
    "# dviz"
   ]
  },
  {
   "cell_type": "markdown",
   "metadata": {},
   "source": [
    "**rf**"
   ]
  },
  {
   "cell_type": "code",
   "execution_count": 11,
   "metadata": {},
   "outputs": [],
   "source": [
    "# # specify a decision tree with a maximum depth\n",
    "# rf = RandomForestClassifier()\n",
    "# rf.fit(X_train, y_train)\n",
    "# sens, spec, threshes = predict_and_save(rf, model_name='rf')\n",
    "# # sens, spec, threshes = validate.sensitivity_specificity_curve(y_test, preds_proba[:, 1], plot=True)\n",
    "# imps = rf.feature_importances_.round(3)\n",
    "# args = np.argsort(imps)\n",
    "# imps = imps[args]\n",
    "# feats = np.array(processed_feats)[args]\n",
    "# for imp, feat in zip(imps, feats):\n",
    "#     print(feat, imp)"
   ]
  },
  {
   "cell_type": "markdown",
   "metadata": {},
   "source": [
    "# look at all the results"
   ]
  },
  {
   "cell_type": "code",
   "execution_count": null,
   "metadata": {},
   "outputs": [],
   "source": [
    "def plot_metrics(suffix, title=None, fs=15):\n",
    "    for fname in sorted(os.listdir(MODELS_DIR)):\n",
    "        if 'pkl' in fname:\n",
    "            if not fname[:-4] == 'rf':\n",
    "                r = pkl.load(open(oj(MODELS_DIR, fname), 'rb'))\n",
    "        #         print(r)\n",
    "#                 print(r.keys())\n",
    "                threshes = np.array(r['threshes' + suffix])\n",
    "                sens = np.array(r['sens' + suffix])\n",
    "                spec = np.array(r['spec' + suffix])\n",
    "                plt.plot(100 * sens, 100 * spec, 'o-', label=viz.rename(fname[:-4]), alpha=0.6, markersize=3)\n",
    "                plt.xlabel('Sensitivity (%)', fontsize=fs)\n",
    "                plt.ylabel('Specificity (%)', fontsize=fs)\n",
    "                s = suffix[1:]\n",
    "                if title is None:\n",
    "                    plt.title(f'{s}\\n{data_sizes[s][0]} IAI-I / {data_sizes[s][1]}')\n",
    "                else:\n",
    "                    plt.title(title, fontsize=fs)\n",
    "                \n",
    "                # print best results\n",
    "                if suffix == '_test2': \n",
    "                    idxs = (sens > 0.95) & (spec > 0.43)\n",
    "                    if np.sum(idxs) > 0:\n",
    "                        idx_max = np.argmax(spec[idxs])\n",
    "                        print(fname, f'{100 * sens[idxs][idx_max]:0.2f} {100 * spec[idxs][idx_max]:0.2f}')\n",
    "                    \n",
    "    if suffix == '_test2':\n",
    "        plt.plot(96.77, 43.98, 'o', color='black', label='Original CDR', ms=4)\n",
    "    else:\n",
    "        plt.plot(97.0, 42.5, 'o', color='black', label='Original CDR', ms=4)\n",
    "    plt.grid()\n",
    "\n",
    "\n",
    "\n",
    "suffixes = ['_train', '_test1', '_test2',] # _train, _test1, _test2, _cv    \n",
    "titles = ['Training (PECARN)', 'Validation (PECARN)', 'Test (PSRC)']\n",
    "R, C = 1, len(suffixes)\n",
    "plt.figure(dpi=200, figsize=(C * 2.5, R * 3), facecolor='w')\n",
    "fs = 10\n",
    "for i, suffix in enumerate(suffixes):\n",
    "    ax = plt.subplot(R, C, i + 1)\n",
    "    plot_metrics(suffix, title=titles[i], fs=fs)\n",
    "    if i > 0:\n",
    "        plt.ylabel('')\n",
    "        plt.yticks([0, 25, 50, 75, 100], labels=[''] * 5)\n",
    "#         ax.yaxis.set_visible(False) \n",
    "    plt.xlim((50, 101))\n",
    "    plt.ylim((0, 101))    \n",
    "plt.tight_layout()\n",
    "# plt.subplot(R, C, 1)\n",
    "# plt.legend(fontsize=20)\n",
    "plt.legend(bbox_to_anchor=(1.1, 1), fontsize=fs, frameon=False)\n",
    "viz.savefig('metrics_3_splits')\n",
    "plt.show()\n",
    "\n",
    "'''x\n",
    "plt.figure(dpi=200, figsize=(C * 6, R * 6))\n",
    "for i, suffix in enumerate(suffixes):\n",
    "    plt.subplot(R, C, i + 1)\n",
    "    plot_metrics(suffix, title=titles[i])\n",
    "    plt.xlim((80, 101))\n",
    "    plt.ylim((25, 70))\n",
    "plt.subplot(R, C, 1)    \n",
    "plt.legend()\n",
    "plt.tight_layout()\n",
    "viz.savefig('metrics_3_splits_zoom')\n",
    "plt.show()\n",
    "plt.legend(bbox_to_anchor=(1.05, 1.05))\n",
    "'''"
   ]
  },
  {
   "cell_type": "code",
   "execution_count": 8,
   "metadata": {},
   "outputs": [],
   "source": [
    "def print_metrics(suffix):\n",
    "    vals = {s: [] for s in ['sens', 'spec', 'ppv', 'npv', 'lr+', 'lr-']}\n",
    "    fnames = []\n",
    "    for fname in sorted(os.listdir(MODELS_DIR)):\n",
    "        if 'pkl' in fname:\n",
    "            if not fname[:-4] == 'rf':\n",
    "                r = pkl.load(open(oj(MODELS_DIR, fname), 'rb'))\n",
    "                threshes = np.array(r['threshes' + suffix])\n",
    "                \n",
    "                sens = np.array(r['sens' + suffix])\n",
    "                spec = np.array(r['spec' + suffix])\n",
    "                best_idx = np.argmax(5 * sens + spec)\n",
    "                for k in vals.keys():\n",
    "                    vals[k].append(r[k + suffix][best_idx])\n",
    "                fnames.append(viz.rename(fname[:-4]))\n",
    "    stats = pd.DataFrame.from_dict(vals)\n",
    "    stats.index = fnames\n",
    "    return (stats).round(2).transpose()\n",
    "\n",
    "suffixes = ['_test1', '_test2',] # _train, _test1, _test2\n",
    "stats_list = []\n",
    "for i, suffix in enumerate(suffixes):\n",
    "    stats_list.append(print_metrics(suffix))"
   ]
  },
  {
   "cell_type": "code",
   "execution_count": 9,
   "metadata": {},
   "outputs": [
    {
     "data": {
      "text/html": [
       "<div>\n",
       "<style scoped>\n",
       "    .dataframe tbody tr th:only-of-type {\n",
       "        vertical-align: middle;\n",
       "    }\n",
       "\n",
       "    .dataframe tbody tr th {\n",
       "        vertical-align: top;\n",
       "    }\n",
       "\n",
       "    .dataframe thead th {\n",
       "        text-align: right;\n",
       "    }\n",
       "</style>\n",
       "<table border=\"1\" class=\"dataframe\">\n",
       "  <thead>\n",
       "    <tr style=\"text-align: right;\">\n",
       "      <th></th>\n",
       "      <th>Bayesian rule list</th>\n",
       "      <th>CART decision tree</th>\n",
       "      <th>CART rule list</th>\n",
       "      <th>Iterative random forest</th>\n",
       "    </tr>\n",
       "  </thead>\n",
       "  <tbody>\n",
       "    <tr>\n",
       "      <th>sens</th>\n",
       "      <td>0.90</td>\n",
       "      <td>0.84</td>\n",
       "      <td>0.91</td>\n",
       "      <td>0.73</td>\n",
       "    </tr>\n",
       "    <tr>\n",
       "      <th>spec</th>\n",
       "      <td>0.58</td>\n",
       "      <td>0.56</td>\n",
       "      <td>0.28</td>\n",
       "      <td>0.68</td>\n",
       "    </tr>\n",
       "    <tr>\n",
       "      <th>ppv</th>\n",
       "      <td>0.04</td>\n",
       "      <td>0.03</td>\n",
       "      <td>0.02</td>\n",
       "      <td>0.04</td>\n",
       "    </tr>\n",
       "    <tr>\n",
       "      <th>npv</th>\n",
       "      <td>1.00</td>\n",
       "      <td>1.00</td>\n",
       "      <td>0.99</td>\n",
       "      <td>0.99</td>\n",
       "    </tr>\n",
       "    <tr>\n",
       "      <th>lr+</th>\n",
       "      <td>2.13</td>\n",
       "      <td>1.93</td>\n",
       "      <td>1.26</td>\n",
       "      <td>2.29</td>\n",
       "    </tr>\n",
       "    <tr>\n",
       "      <th>lr-</th>\n",
       "      <td>0.17</td>\n",
       "      <td>0.28</td>\n",
       "      <td>0.31</td>\n",
       "      <td>0.40</td>\n",
       "    </tr>\n",
       "  </tbody>\n",
       "</table>\n",
       "</div>"
      ],
      "text/plain": [
       "      Bayesian rule list  CART decision tree  CART rule list  \\\n",
       "sens                0.90                0.84            0.91   \n",
       "spec                0.58                0.56            0.28   \n",
       "ppv                 0.04                0.03            0.02   \n",
       "npv                 1.00                1.00            0.99   \n",
       "lr+                 2.13                1.93            1.26   \n",
       "lr-                 0.17                0.28            0.31   \n",
       "\n",
       "      Iterative random forest  \n",
       "sens                     0.73  \n",
       "spec                     0.68  \n",
       "ppv                      0.04  \n",
       "npv                      0.99  \n",
       "lr+                      2.29  \n",
       "lr-                      0.40  "
      ]
     },
     "execution_count": 9,
     "metadata": {},
     "output_type": "execute_result"
    }
   ],
   "source": [
    "stats_list[0]"
   ]
  },
  {
   "cell_type": "code",
   "execution_count": 10,
   "metadata": {},
   "outputs": [
    {
     "data": {
      "text/html": [
       "<div>\n",
       "<style scoped>\n",
       "    .dataframe tbody tr th:only-of-type {\n",
       "        vertical-align: middle;\n",
       "    }\n",
       "\n",
       "    .dataframe tbody tr th {\n",
       "        vertical-align: top;\n",
       "    }\n",
       "\n",
       "    .dataframe thead th {\n",
       "        text-align: right;\n",
       "    }\n",
       "</style>\n",
       "<table border=\"1\" class=\"dataframe\">\n",
       "  <thead>\n",
       "    <tr style=\"text-align: right;\">\n",
       "      <th></th>\n",
       "      <th>Bayesian rule list</th>\n",
       "      <th>CART decision tree</th>\n",
       "      <th>CART rule list</th>\n",
       "      <th>Iterative random forest</th>\n",
       "    </tr>\n",
       "  </thead>\n",
       "  <tbody>\n",
       "    <tr>\n",
       "      <th>sens</th>\n",
       "      <td>0.95</td>\n",
       "      <td>0.94</td>\n",
       "      <td>0.94</td>\n",
       "      <td>0.82</td>\n",
       "    </tr>\n",
       "    <tr>\n",
       "      <th>spec</th>\n",
       "      <td>0.60</td>\n",
       "      <td>0.60</td>\n",
       "      <td>0.22</td>\n",
       "      <td>0.64</td>\n",
       "    </tr>\n",
       "    <tr>\n",
       "      <th>ppv</th>\n",
       "      <td>0.07</td>\n",
       "      <td>0.06</td>\n",
       "      <td>0.03</td>\n",
       "      <td>0.06</td>\n",
       "    </tr>\n",
       "    <tr>\n",
       "      <th>npv</th>\n",
       "      <td>1.00</td>\n",
       "      <td>1.00</td>\n",
       "      <td>0.99</td>\n",
       "      <td>0.99</td>\n",
       "    </tr>\n",
       "    <tr>\n",
       "      <th>lr+</th>\n",
       "      <td>2.39</td>\n",
       "      <td>2.33</td>\n",
       "      <td>1.21</td>\n",
       "      <td>2.26</td>\n",
       "    </tr>\n",
       "    <tr>\n",
       "      <th>lr-</th>\n",
       "      <td>0.08</td>\n",
       "      <td>0.11</td>\n",
       "      <td>0.29</td>\n",
       "      <td>0.28</td>\n",
       "    </tr>\n",
       "  </tbody>\n",
       "</table>\n",
       "</div>"
      ],
      "text/plain": [
       "      Bayesian rule list  CART decision tree  CART rule list  \\\n",
       "sens                0.95                0.94            0.94   \n",
       "spec                0.60                0.60            0.22   \n",
       "ppv                 0.07                0.06            0.03   \n",
       "npv                 1.00                1.00            0.99   \n",
       "lr+                 2.39                2.33            1.21   \n",
       "lr-                 0.08                0.11            0.29   \n",
       "\n",
       "      Iterative random forest  \n",
       "sens                     0.82  \n",
       "spec                     0.64  \n",
       "ppv                      0.06  \n",
       "npv                      0.99  \n",
       "lr+                      2.26  \n",
       "lr-                      0.28  "
      ]
     },
     "execution_count": 10,
     "metadata": {},
     "output_type": "execute_result"
    }
   ],
   "source": [
    "stats_list[1]"
   ]
  }
 ],
 "metadata": {
  "kernelspec": {
   "display_name": "Python 3",
   "language": "python",
   "name": "python3"
  },
  "language_info": {
   "codemirror_mode": {
    "name": "ipython",
    "version": 3
   },
   "file_extension": ".py",
   "mimetype": "text/x-python",
   "name": "python",
   "nbconvert_exporter": "python",
   "pygments_lexer": "ipython3",
   "version": "3.7.5"
  },
  "pycharm": {
   "stem_cell": {
    "cell_type": "raw",
    "metadata": {
     "collapsed": false
    },
    "source": []
   }
  }
 },
 "nbformat": 4,
 "nbformat_minor": 4
}
