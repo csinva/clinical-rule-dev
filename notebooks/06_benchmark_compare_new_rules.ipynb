{
 "cells": [
  {
   "cell_type": "code",
   "execution_count": 2,
   "metadata": {},
   "outputs": [
    {
     "name": "stderr",
     "output_type": "stream",
     "text": [
      "/accounts/projects/vision/.local/lib/python3.7/site-packages/pandas/core/ops.py:1649: FutureWarning: elementwise comparison failed; returning scalar instead, but in the future will perform elementwise comparison\n",
      "  result = method(y)\n"
     ]
    }
   ],
   "source": [
    "%matplotlib inline\n",
    "%load_ext autoreload\n",
    "%autoreload 2\n",
    "import sys\n",
    "sys.path.append('../src')\n",
    "import viz\n",
    "import pickle as pkl\n",
    "import matplotlib.pyplot as plt\n",
    "from os.path import join as oj\n",
    "import os\n",
    "import numpy as np\n",
    "from sklearn.tree import DecisionTreeClassifier, plot_tree\n",
    "from sklearn.ensemble import RandomForestClassifier\n",
    "from matplotlib_venn import venn2\n",
    "\n",
    "import data\n",
    "import validate\n",
    "outcome_def = 'iai_intervention' # output\n",
    "MODELS_DIR = '../models/simple_3_splits'\n",
    "os.makedirs(MODELS_DIR, exist_ok=True)\n",
    "\n",
    "\n",
    "# load the data\n",
    "df_pecarn, df_psrc, common_feats, filtered_feats_pecarn, filtered_feats_psrc = data.load_it_all(dummy=True)\n",
    "df = df_pecarn[common_feats].append(df_psrc[common_feats])\n",
    "processed_feats = data.select_final_feats(common_feats)\n",
    "\n",
    "# split the idxs\n",
    "train_idxs = df.cv_fold.isin(data.pecarn_train_idxs)\n",
    "test_idxs1 = df.cv_fold.isin(data.pecarn_test_idxs)\n",
    "test_idxs2 = df.cv_fold.isin(data.psrc_train_idxs + data.psrc_test_idxs)\n",
    "\n",
    "# split the data\n",
    "X, y = df, df[outcome_def]\n",
    "half = train_idxs.sum() // 2\n",
    "split_to_plot = '_test2'\n",
    "\n",
    "# 3-split\n",
    "X_train, y_train = X[train_idxs], y[train_idxs]\n",
    "X_cv, y_cv = X_train, y_train\n",
    "X_test1, y_test1 = X[test_idxs1], y[test_idxs1]\n",
    "X_test2, y_test2 = X[test_idxs2], y[test_idxs2]\n",
    "\n",
    "data_sizes = {\n",
    "    'train': (y_train.sum(), X_train.shape[0]),\n",
    "    'cv': (y_cv.sum(), X_cv.shape[0]),\n",
    "    'test1': (y_test1.sum(), X_test1.shape[0]),\n",
    "    'test2': (y_test2.sum(), X_test2.shape[0]),\n",
    "}     \n",
    "def predict_and_save(model, model_name='decision_tree', split_to_plot='_cv'):\n",
    "    '''Plots cv and returns cv, saves all stats\n",
    "    '''\n",
    "    results = {'model': model}\n",
    "    for x, y, suffix in zip([X_train, X_test1, X_test2, X_cv], [y_train, y_test1, y_test2, y_cv], \n",
    "                            ['_train', '_test1', '_test2', '_cv']):\n",
    "        sens, spec, threshes = validate.sensitivity_specificity_curve(y,\n",
    "                                                                      model.predict_proba(x)[:, 1],\n",
    "                                                                      plot=suffix == split_to_plot)\n",
    "        plt.title(split_to_plot[1:])\n",
    "        results['sens' + suffix] = sens\n",
    "        results['spec' + suffix] = spec\n",
    "        results['threshes' + suffix] = threshes\n",
    "    pkl.dump(results, open(oj(MODELS_DIR, model_name + '.pkl'), 'wb'))        \n",
    "    return sens, spec, threshes"
   ]
  },
  {
   "cell_type": "code",
   "execution_count": 4,
   "metadata": {},
   "outputs": [
    {
     "data": {
      "text/html": [
       "<div>\n",
       "<style scoped>\n",
       "    .dataframe tbody tr th:only-of-type {\n",
       "        vertical-align: middle;\n",
       "    }\n",
       "\n",
       "    .dataframe tbody tr th {\n",
       "        vertical-align: top;\n",
       "    }\n",
       "\n",
       "    .dataframe thead th {\n",
       "        text-align: right;\n",
       "    }\n",
       "</style>\n",
       "<table border=\"1\" class=\"dataframe\">\n",
       "  <thead>\n",
       "    <tr style=\"text-align: right;\">\n",
       "      <th></th>\n",
       "      <th>SeatBeltSign_no</th>\n",
       "      <th>Race_orig_Native Hawaiian or other Pacific Islander</th>\n",
       "      <th>AbdDistention_or_AbdomenPain_no</th>\n",
       "      <th>AbdDistention_yes</th>\n",
       "      <th>Age</th>\n",
       "      <th>AbdTrauma_yes</th>\n",
       "      <th>Race_orig_Black or African American</th>\n",
       "      <th>Race_Black or African American</th>\n",
       "      <th>Hypotension_yes</th>\n",
       "      <th>DecrBreathSound_no</th>\n",
       "      <th>...</th>\n",
       "      <th>AbdTenderDegree_Moderate</th>\n",
       "      <th>Race_Asian</th>\n",
       "      <th>Age&lt;2_no</th>\n",
       "      <th>InitHeartRate</th>\n",
       "      <th>Race_orig_White</th>\n",
       "      <th>ThoracicTrauma_no</th>\n",
       "      <th>InitSysBPRange</th>\n",
       "      <th>iai_intervention</th>\n",
       "      <th>cv_fold</th>\n",
       "      <th>dset</th>\n",
       "    </tr>\n",
       "  </thead>\n",
       "  <tbody>\n",
       "    <tr>\n",
       "      <th>1</th>\n",
       "      <td>1</td>\n",
       "      <td>0</td>\n",
       "      <td>1</td>\n",
       "      <td>0</td>\n",
       "      <td>3.0</td>\n",
       "      <td>0</td>\n",
       "      <td>0</td>\n",
       "      <td>0</td>\n",
       "      <td>0</td>\n",
       "      <td>1</td>\n",
       "      <td>...</td>\n",
       "      <td>0</td>\n",
       "      <td>0</td>\n",
       "      <td>1</td>\n",
       "      <td>102.0</td>\n",
       "      <td>1</td>\n",
       "      <td>0</td>\n",
       "      <td>87.0</td>\n",
       "      <td>0</td>\n",
       "      <td>4</td>\n",
       "      <td>pecarn</td>\n",
       "    </tr>\n",
       "    <tr>\n",
       "      <th>3</th>\n",
       "      <td>1</td>\n",
       "      <td>0</td>\n",
       "      <td>1</td>\n",
       "      <td>0</td>\n",
       "      <td>11.0</td>\n",
       "      <td>0</td>\n",
       "      <td>1</td>\n",
       "      <td>1</td>\n",
       "      <td>0</td>\n",
       "      <td>1</td>\n",
       "      <td>...</td>\n",
       "      <td>0</td>\n",
       "      <td>0</td>\n",
       "      <td>1</td>\n",
       "      <td>74.0</td>\n",
       "      <td>0</td>\n",
       "      <td>1</td>\n",
       "      <td>133.0</td>\n",
       "      <td>0</td>\n",
       "      <td>1</td>\n",
       "      <td>pecarn</td>\n",
       "    </tr>\n",
       "    <tr>\n",
       "      <th>4</th>\n",
       "      <td>1</td>\n",
       "      <td>0</td>\n",
       "      <td>1</td>\n",
       "      <td>0</td>\n",
       "      <td>16.0</td>\n",
       "      <td>0</td>\n",
       "      <td>0</td>\n",
       "      <td>0</td>\n",
       "      <td>0</td>\n",
       "      <td>1</td>\n",
       "      <td>...</td>\n",
       "      <td>0</td>\n",
       "      <td>0</td>\n",
       "      <td>1</td>\n",
       "      <td>103.0</td>\n",
       "      <td>0</td>\n",
       "      <td>1</td>\n",
       "      <td>119.0</td>\n",
       "      <td>0</td>\n",
       "      <td>2</td>\n",
       "      <td>pecarn</td>\n",
       "    </tr>\n",
       "    <tr>\n",
       "      <th>5</th>\n",
       "      <td>1</td>\n",
       "      <td>0</td>\n",
       "      <td>1</td>\n",
       "      <td>0</td>\n",
       "      <td>1.0</td>\n",
       "      <td>1</td>\n",
       "      <td>0</td>\n",
       "      <td>0</td>\n",
       "      <td>0</td>\n",
       "      <td>1</td>\n",
       "      <td>...</td>\n",
       "      <td>0</td>\n",
       "      <td>0</td>\n",
       "      <td>0</td>\n",
       "      <td>124.0</td>\n",
       "      <td>1</td>\n",
       "      <td>0</td>\n",
       "      <td>118.0</td>\n",
       "      <td>0</td>\n",
       "      <td>4</td>\n",
       "      <td>pecarn</td>\n",
       "    </tr>\n",
       "    <tr>\n",
       "      <th>7</th>\n",
       "      <td>1</td>\n",
       "      <td>0</td>\n",
       "      <td>1</td>\n",
       "      <td>0</td>\n",
       "      <td>9.0</td>\n",
       "      <td>0</td>\n",
       "      <td>0</td>\n",
       "      <td>0</td>\n",
       "      <td>0</td>\n",
       "      <td>1</td>\n",
       "      <td>...</td>\n",
       "      <td>0</td>\n",
       "      <td>0</td>\n",
       "      <td>1</td>\n",
       "      <td>122.0</td>\n",
       "      <td>1</td>\n",
       "      <td>0</td>\n",
       "      <td>120.0</td>\n",
       "      <td>0</td>\n",
       "      <td>1</td>\n",
       "      <td>pecarn</td>\n",
       "    </tr>\n",
       "  </tbody>\n",
       "</table>\n",
       "<p>5 rows × 59 columns</p>\n",
       "</div>"
      ],
      "text/plain": [
       "   SeatBeltSign_no  Race_orig_Native Hawaiian or other Pacific Islander  \\\n",
       "1                1                                                  0     \n",
       "3                1                                                  0     \n",
       "4                1                                                  0     \n",
       "5                1                                                  0     \n",
       "7                1                                                  0     \n",
       "\n",
       "   AbdDistention_or_AbdomenPain_no  AbdDistention_yes   Age  AbdTrauma_yes  \\\n",
       "1                                1                  0   3.0              0   \n",
       "3                                1                  0  11.0              0   \n",
       "4                                1                  0  16.0              0   \n",
       "5                                1                  0   1.0              1   \n",
       "7                                1                  0   9.0              0   \n",
       "\n",
       "   Race_orig_Black or African American  Race_Black or African American  \\\n",
       "1                                    0                               0   \n",
       "3                                    1                               1   \n",
       "4                                    0                               0   \n",
       "5                                    0                               0   \n",
       "7                                    0                               0   \n",
       "\n",
       "   Hypotension_yes  DecrBreathSound_no  ...  AbdTenderDegree_Moderate  \\\n",
       "1                0                   1  ...                         0   \n",
       "3                0                   1  ...                         0   \n",
       "4                0                   1  ...                         0   \n",
       "5                0                   1  ...                         0   \n",
       "7                0                   1  ...                         0   \n",
       "\n",
       "   Race_Asian  Age<2_no  InitHeartRate  Race_orig_White  ThoracicTrauma_no  \\\n",
       "1           0         1          102.0                1                  0   \n",
       "3           0         1           74.0                0                  1   \n",
       "4           0         1          103.0                0                  1   \n",
       "5           0         0          124.0                1                  0   \n",
       "7           0         1          122.0                1                  0   \n",
       "\n",
       "   InitSysBPRange  iai_intervention  cv_fold    dset  \n",
       "1            87.0                 0        4  pecarn  \n",
       "3           133.0                 0        1  pecarn  \n",
       "4           119.0                 0        2  pecarn  \n",
       "5           118.0                 0        4  pecarn  \n",
       "7           120.0                 0        1  pecarn  \n",
       "\n",
       "[5 rows x 59 columns]"
      ]
     },
     "execution_count": 4,
     "metadata": {},
     "output_type": "execute_result"
    }
   ],
   "source": [
    "X_train.head()"
   ]
  },
  {
   "cell_type": "markdown",
   "metadata": {},
   "source": [
    "**test individual rule**"
   ]
  },
  {
   "cell_type": "code",
   "execution_count": 52,
   "metadata": {},
   "outputs": [
    {
     "name": "stdout",
     "output_type": "stream",
     "text": [
      "train sens: 88.72, 59.35\n",
      "test1 sens: 90.00, 57.83\n",
      "test2 sens: 95.16, 60.16\n"
     ]
    }
   ],
   "source": [
    "def pred_rule(X):\n",
    "    yhat = (X['AbdTenderDegree_None']==0) | (X['GCSScore_Full_yes'] == 0)\n",
    "    return yhat.astype(int)\n",
    "\n",
    "y_train_pred = pred_rule(X_train)\n",
    "print(f'train sens: {100*validate.sensitivity_score(y_train, y_train_pred):.2f}, {100*validate.specificity_score(y_train, y_train_pred):0.2f}')\n",
    "y_test1_pred = pred_rule(X_test1)\n",
    "print(f'test1 sens: {100*validate.sensitivity_score(y_test1, y_test1_pred):.2f}, {100*validate.specificity_score(y_test1, y_test1_pred):0.2f}')\n",
    "y_test2_pred = pred_rule(X_test2)\n",
    "print(f'test2 sens: {100*validate.sensitivity_score(y_test2, y_test2_pred):.2f}, {100*validate.specificity_score(y_test2, y_test2_pred):0.2f}')"
   ]
  },
  {
   "cell_type": "code",
   "execution_count": 4,
   "metadata": {},
   "outputs": [
    {
     "name": "stdout",
     "output_type": "stream",
     "text": [
      "train sens: 91.73, 57.65\n",
      "test1 sens: 91.43, 55.73\n",
      "test2 sens: 96.77, 57.10\n"
     ]
    }
   ],
   "source": [
    "def pecarn_top_rules(X):\n",
    "    yhat = X['AbdTrauma_or_SeatBeltSign_yes'] | X['GCSScore'].isin(range(14)) | \\\n",
    "           X['AbdTenderDegree_Mild'] | X['AbdTenderDegree_Moderate'] | \\\n",
    "           X['AbdTenderDegree_Severe']\n",
    "    return yhat.astype(int)\n",
    "\n",
    "y_train_pec3 = pecarn_top_rules(X_train)\n",
    "print(f'train sens: {100*validate.sensitivity_score(y_train, y_train_pec3):.2f}, {100*validate.specificity_score(y_train, y_train_pec3):0.2f}')\n",
    "y_test1_pec3 = pecarn_top_rules(X_test1)\n",
    "print(f'test1 sens: {100*validate.sensitivity_score(y_test1, y_test1_pec3):.2f}, {100*validate.specificity_score(y_test1, y_test1_pec3):0.2f}')\n",
    "y_test2_pec3 = pecarn_top_rules(X_test2)\n",
    "print(f'test2 sens: {100*validate.sensitivity_score(y_test2, y_test2_pec3):.2f}, {100*validate.specificity_score(y_test2, y_test2_pec3):0.2f}')"
   ]
  },
  {
   "cell_type": "markdown",
   "metadata": {},
   "source": [
    "# test overlap of different rules"
   ]
  },
  {
   "cell_type": "markdown",
   "metadata": {},
   "source": [
    "**rules make different predictions**"
   ]
  },
  {
   "cell_type": "code",
   "execution_count": 46,
   "metadata": {},
   "outputs": [
    {
     "data": {
      "text/plain": [
       "array([[1.        , 0.79301379],\n",
       "       [0.79301379, 1.        ]])"
      ]
     },
     "execution_count": 46,
     "metadata": {},
     "output_type": "execute_result"
    }
   ],
   "source": [
    "np.corrcoef(y_train_pred, y_train_pec3)"
   ]
  },
  {
   "cell_type": "code",
   "execution_count": 47,
   "metadata": {},
   "outputs": [
    {
     "data": {
      "text/plain": [
       "array([[1.        , 0.78537365],\n",
       "       [0.78537365, 1.        ]])"
      ]
     },
     "execution_count": 47,
     "metadata": {},
     "output_type": "execute_result"
    }
   ],
   "source": [
    "np.corrcoef(y_test1_pred, y_test1_pec3)"
   ]
  },
  {
   "cell_type": "code",
   "execution_count": 48,
   "metadata": {},
   "outputs": [
    {
     "data": {
      "image/png": "[encoded data removed]",
      "text/plain": [
       "<Figure size 432x288 with 1 Axes>"
      ]
     },
     "metadata": {},
     "output_type": "display_data"
    }
   ],
   "source": [
    "n_train = y_train.size\n",
    "venn2([set(np.arange(n_train)[y_train_pred==1]),\n",
    "       set(np.arange(n_train)[y_train_pec3==1])])\n",
    "plt.show()"
   ]
  },
  {
   "cell_type": "markdown",
   "metadata": {},
   "source": [
    "**difference in predictions makes little difference for IAI-I**"
   ]
  },
  {
   "cell_type": "code",
   "execution_count": 51,
   "metadata": {},
   "outputs": [
    {
     "data": {
      "image/png": "[encoded data removed]",
      "text/plain": [
       "<Figure size 432x288 with 1 Axes>"
      ]
     },
     "metadata": {},
     "output_type": "display_data"
    }
   ],
   "source": [
    "n_train = y_train.size\n",
    "venn2([set(np.arange(n_train)[(y_train_pred==1) & (y_train==1)]),\n",
    "       set(np.arange(n_train)[(y_train_pec3==1) & (y_train==1)])],\n",
    "      set_labels=['2-rules', 'Pecarn top3'])\n",
    "plt.show()"
   ]
  },
  {
   "cell_type": "code",
   "execution_count": null,
   "metadata": {},
   "outputs": [],
   "source": []
  }
 ],
 "metadata": {
  "kernelspec": {
   "display_name": "Python 3",
   "language": "python",
   "name": "python3"
  },
  "language_info": {
   "codemirror_mode": {
    "name": "ipython",
    "version": 3
   },
   "file_extension": ".py",
   "mimetype": "text/x-python",
   "name": "python",
   "nbconvert_exporter": "python",
   "pygments_lexer": "ipython3",
   "version": "3.7.5"
  },
  "pycharm": {
   "stem_cell": {
    "cell_type": "raw",
    "metadata": {
     "collapsed": false
    },
    "source": []
   }
  }
 },
 "nbformat": 4,
 "nbformat_minor": 4
}
