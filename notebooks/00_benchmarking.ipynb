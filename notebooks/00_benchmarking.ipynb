{
 "cells": [
  {
   "cell_type": "code",
   "execution_count": 2,
   "metadata": {},
   "outputs": [],
   "source": [
    "import sys\n",
    "from os.path import join as oj\n",
    "sys.path.insert(1, oj(sys.path[0], '..'))  # insert parent path\n",
    "sys.path.append('../src')\n",
    "import numpy as np\n",
    "import data_pecarn, data_psrc\n",
    "\n",
    "# plt.style.use('dark_background')\n",
    "# sns.set(style=\"white\")\n",
    "%matplotlib inline\n",
    "%load_ext autoreload\n",
    "%autoreload 2\n",
    "\n",
    "df_pecarn = data_pecarn.get_data(use_processed=True, dummy=True)\n",
    "df_psrc = data_psrc.get_data(use_processed=True, dummy=True)"
   ]
  },
  {
   "cell_type": "markdown",
   "metadata": {},
   "source": [
    "# compare rule to clinician suspicion\n",
    "This only applies to pecarn"
   ]
  },
  {
   "cell_type": "code",
   "execution_count": 5,
   "metadata": {},
   "outputs": [],
   "source": [
    "d = df_pecarn\n",
    "y = df['iai_intervention']\n",
    "meanings = ['<1%', '1-5%', '6-10%', '11-50%', \">50%\", 'Physician did not answer']\n",
    "y1 = df['IAISuspicion'].values\n",
    "y2 = df['IAIAcuteInterv'].values"
   ]
  },
  {
   "cell_type": "code",
   "execution_count": 13,
   "metadata": {},
   "outputs": [
    {
     "name": "stdout",
     "output_type": "stream",
     "text": [
      "IAISuspicion: Clinical suspicion for the presence of IAI identified on CT (split into 5 levels)\n",
      "Score\tiaiw/i\tTot\tPerc\tPhysician Target\n",
      "1\t10 \t 6591\t0.15\t <1%\n",
      "2\t23 \t 3124\t0.74\t 1-5%\n",
      "3\t30 \t 1166\t2.57\t 6-10%\n",
      "4\t63 \t 758\t8.31\t 11-50%\n",
      "5\t77 \t 298\t25.84\t >50%\n",
      "6\t0 \t 107\t0.00\t Physician did not answer\n"
     ]
    }
   ],
   "source": [
    "print('IAISuspicion: Clinical suspicion for the presence of IAI identified on CT (split into 5 levels)')\n",
    "print('Score\\tiaiw/i\\tTot\\tPerc\\tPhysician Target')\n",
    "\n",
    "for i in range(1, 7):\n",
    "    num_iai = np.sum(y[y1==i])\n",
    "    num_tot = np.size(y[y1==i])\n",
    "    print(f'{i}\\t{num_iai} \\t {num_tot}\\t{100 * num_iai/num_tot:0.2f}\\t {meanings[i - 1]}')"
   ]
  },
  {
   "cell_type": "code",
   "execution_count": 15,
   "metadata": {},
   "outputs": [
    {
     "name": "stdout",
     "output_type": "stream",
     "text": [
      "IAIAcuteInterv_1 - Clinical suspicion for IAI in need of acute intervention (split into 5 levels)\n",
      "Score\tiaiw/i\tTot\tPerc\tPhysician Target\n",
      "1\t35 \t 9252\t0.38\t <1%\n",
      "2\t40 \t 1793\t2.23\t 1-5%\n",
      "3\t33 \t 506\t6.52\t 6-10%\n",
      "4\t59 \t 281\t21.00\t 11-50%\n",
      "5\t36 \t 87\t41.38\t >50%\n",
      "6\t0 \t 125\t0.00\t Physician did not answer\n"
     ]
    }
   ],
   "source": [
    "print('IAIAcuteInterv_1 - Clinical suspicion for IAI in need of acute intervention (split into 5 levels)')\n",
    "print('Score\\tiaiw/i\\tTot\\tPerc\\tPhysician Target')\n",
    "for i in range(1, 7):\n",
    "    num_iai = np.sum(y[y2==i])\n",
    "    num_tot = np.size(y[y2==i])\n",
    "    print(f'{i}\\t{num_iai} \\t {num_tot}\\t{100 * num_iai/num_tot:0.2f}\\t {meanings[i - 1]}')"
   ]
  },
  {
   "cell_type": "markdown",
   "metadata": {},
   "source": [
    "# counts should match pecarn paper"
   ]
  },
  {
   "cell_type": "code",
   "execution_count": 17,
   "metadata": {},
   "outputs": [
    {
     "name": "stdout",
     "output_type": "stream",
     "text": [
      "iai 761 203\n",
      "age 9.339901477832512 9.767270009963468\n",
      "age<2 10 1167\n",
      "sex 125 7384\n",
      "hispanic ethnicity 1291 1291\n"
     ]
    }
   ],
   "source": [
    "d = df_pecarn\n",
    "ids_np = df.iai_intervention == 1\n",
    "# print(list(d.keys()))\n",
    "\n",
    "# the mean age is the only one which is wrong\n",
    "print('iai', np.sum(d['iai']), np.sum(d['iai_intervention']))\n",
    "print('age', np.mean(d.Age[ids_np]), np.mean(d.Age))\n",
    "print('age<2', np.sum(d.Age[ids_np] < 2), np.sum(d.Age < 2))\n",
    "print('sex', np.sum(d.Sex_M[ids_np]==1), np.sum(d.Sex_M==1))\n",
    "print('hispanic ethnicity', np.sum(d.Race_Hispanic == 1), np.sum(d.Race_Hispanic))"
   ]
  }
 ],
 "metadata": {
  "kernelspec": {
   "display_name": "Python 3",
   "language": "python",
   "name": "python3"
  },
  "language_info": {
   "codemirror_mode": {
    "name": "ipython",
    "version": 3
   },
   "file_extension": ".py",
   "mimetype": "text/x-python",
   "name": "python",
   "nbconvert_exporter": "python",
   "pygments_lexer": "ipython3",
   "version": "3.7.5"
  },
  "pycharm": {
   "stem_cell": {
    "cell_type": "raw",
    "metadata": {
     "collapsed": false
    },
    "source": []
   }
  }
 },
 "nbformat": 4,
 "nbformat_minor": 4
}
