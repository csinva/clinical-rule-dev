{
 "cells": [
  {
   "cell_type": "code",
   "execution_count": 1,
   "metadata": {},
   "outputs": [],
   "source": [
    "from os.path import join as oj\n",
    "import sys\n",
    "sys.path.append('../src')\n",
    "\n",
    "import numpy as np\n",
    "import matplotlib.pyplot as plt\n",
    "import pandas as pd\n",
    "import data\n",
    "from viz import *\n",
    "import viz\n",
    "from data import feats_numerical, feats_categorical, meta\n",
    "%matplotlib inline\n",
    "%load_ext autoreload\n",
    "%autoreload 2"
   ]
  },
  {
   "cell_type": "markdown",
   "metadata": {},
   "source": [
    "**load the data**"
   ]
  },
  {
   "cell_type": "code",
   "execution_count": 2,
   "metadata": {},
   "outputs": [
    {
     "name": "stderr",
     "output_type": "stream",
     "text": [
      "/accounts/projects/vision/.local/lib/python3.7/site-packages/pandas/core/ops.py:1649: FutureWarning: elementwise comparison failed; returning scalar instead, but in the future will perform elementwise comparison\n",
      "  result = method(y)\n"
     ]
    }
   ],
   "source": [
    "df_pecarn, df_psrc, common_feats, filtered_feats_pecarn, filtered_feats_psrc = data.load_it_all(dummy=False, impute=True)\n",
    "feats_binary = [feat for feat in common_feats\n",
    "                if not feat in feats_numerical + feats_categorical + meta]\n",
    "# df_pecarn = df_pecarn[df_pecarn.cv_fold.isin(data.pecarn_train_idxs)]\n",
    "# df_psrc = df_psrc[df_psrc.cv_fold.isin(data.psrc_train_idxs)]"
   ]
  },
  {
   "cell_type": "markdown",
   "metadata": {},
   "source": [
    "# see what feats matched / are missing"
   ]
  },
  {
   "cell_type": "code",
   "execution_count": 3,
   "metadata": {},
   "outputs": [
    {
     "name": "stdout",
     "output_type": "stream",
     "text": [
      "matched feats ['DistractingPain', 'AbdDistention_or_AbdomenPain', 'Age', 'VomitWretch', 'Race', 'DecrBreathSound', 'MOI', 'InitSysBPRange', 'AbdTrauma_or_SeatBeltSign', 'Age<2', 'GCSScore_Full', 'Hypotension', 'AbdDistention', 'CostalTender', 'AbdomenPain', 'AbdTenderDegree', 'RtCostalTender', 'SeatBeltSign', 'InitHeartRate', 'Race_orig', 'AbdTrauma', 'ThoracicTrauma', 'GCSScore', 'LtCostalTender']\n"
     ]
    }
   ],
   "source": [
    "# matched feats\n",
    "# for feat in common_feats:\n",
    "#     print(feat, '\\t', df_pecarn[feat].min(), '\\t', df_pecarn[feat].max())\n",
    "print('matched feats', list(filtered_feats_pecarn.intersection(filtered_feats_psrc)))"
   ]
  },
  {
   "cell_type": "code",
   "execution_count": 4,
   "metadata": {},
   "outputs": [
    {
     "name": "stdout",
     "output_type": "stream",
     "text": [
      "psrc but not pecarn\n"
     ]
    },
    {
     "data": {
      "text/plain": [
       "{'FemurFracture'}"
      ]
     },
     "execution_count": 4,
     "metadata": {},
     "output_type": "execute_result"
    }
   ],
   "source": [
    "print('psrc but not pecarn')\n",
    "filtered_feats_psrc.difference(filtered_feats_pecarn)"
   ]
  },
  {
   "cell_type": "code",
   "execution_count": 5,
   "metadata": {},
   "outputs": [
    {
     "name": "stdout",
     "output_type": "stream",
     "text": [
      "pecarn but not psrc\n",
      "{'Sex', 'ThoracicTender'}\n"
     ]
    }
   ],
   "source": [
    "print('pecarn but not psrc')\n",
    "print(filtered_feats_pecarn.difference(filtered_feats_psrc))"
   ]
  },
  {
   "cell_type": "markdown",
   "metadata": {},
   "source": [
    "# look for feat shift"
   ]
  },
  {
   "cell_type": "markdown",
   "metadata": {},
   "source": [
    "**continuous features**"
   ]
  },
  {
   "cell_type": "code",
   "execution_count": null,
   "metadata": {},
   "outputs": [],
   "source": [
    "def plot_hist(data, kw={}, bins=None):\n",
    "    if bins == 'unique':\n",
    "        bins, counts = np.unique(data, return_counts=True)\n",
    "#         print(bins, counts, bins.shape, counts.shape)\n",
    "    elif bins is not None:\n",
    "        counts, bins = np.histogram(data, bins=bins)\n",
    "        bins = bins[:-1]\n",
    "    else:\n",
    "        counts, bins = np.histogram(data)\n",
    "        bins = bins[:-1]\n",
    "    height = (data.max() - data.min()) / bins.size * 0.9\n",
    "        \n",
    "    counts = counts / counts.sum() * 100\n",
    "#     print(bins.shape, counts.shape)\n",
    "    plt.barh(bins, counts, align='edge', height=height, **kw)\n",
    "    \n",
    "R, C, = 4, 1\n",
    "plt.figure(figsize=(3, 12), dpi=500)\n",
    "for i in range(len(feats_numerical)):\n",
    "    ax = plt.subplot(R, C, i + 1)\n",
    "    ax.spines['right'].set_visible(False)\n",
    "    ax.spines['top'].set_visible(False)\n",
    "    feat = sorted(feats_numerical)[i]\n",
    "    kw1 = {\n",
    "        'label': 'pecarn',\n",
    "        'color': cb,\n",
    "    }\n",
    "    kw2 = {\n",
    "        'label': 'psrc',\n",
    "        'color': cr,\n",
    "        'alpha': 0.5\n",
    "    }\n",
    "    if feat == 'Age':\n",
    "        plot_hist(df_pecarn[feat], kw1, bins=np.arange(19))\n",
    "        plot_hist(df_psrc[feat], kw2, bins=np.arange(19))\n",
    "        plt.yticks(np.array([0, 5, 10, 15, 17]) + 0.5,\n",
    "                   labels=['0', '5', '10', '15', '17'], fontsize=13)\n",
    "    elif feat == 'GCSScore':\n",
    "        plot_hist(df_pecarn[feat], kw1, bins='unique') #, bins=np.arange(3, 16)-0.5) #, bins=np.arange(19))\n",
    "        plot_hist(df_psrc[feat], kw2, bins='unique') #, bins=np.arange(3, 16)-0.5) #, bins=np.arange(19))\n",
    "#         plt.hist(df_pecarn[feat], #bins=np.arange(15),\n",
    "#                  alpha=1, label='pecarn', color=cb)\n",
    "#         plt.hist(df_psrc[feat], #bins=np.arange(15),\n",
    "#                  alpha=0.5, label='psrc', color=cr)\n",
    "        plt.yticks(np.array([3, 6, 9, 12, 15]) + 0.5,\n",
    "                   labels=['3', '6', '9', '12', '15'], fontsize=13)   \n",
    "#         plt.ylim((2.5, 15.5))\n",
    "    elif feat == 'InitHeartRate':\n",
    "        plot_hist(df_pecarn[feat], kw1, bins=13)#, bins=np.arange(19))\n",
    "        plot_hist(df_psrc[feat], kw2, bins=13)#, bins=np.arange(19))\n",
    "        plt.yticks(fontsize=13)\n",
    "    else:\n",
    "        plot_hist(df_pecarn[feat], kw1, bins=13)#, bins=np.arange(19))\n",
    "        plot_hist(df_psrc[feat], kw2, bins=24)#, bins=np.arange(19))        ]\n",
    "        plt.ylim((0, 200))\n",
    "        plt.yticks(fontsize=13)\n",
    "    plt.xticks(fontsize=13)\n",
    "    plt.ylabel(viz.rename(feat), fontsize=14, fontweight='bold')\n",
    "    if i == R - 1:\n",
    "        plt.xlabel('Proportion of patients (%)', fontsize=14)\n",
    "#     plt.yticks([])\n",
    "# plt.legend()\n",
    "plt.tight_layout()\n",
    "viz.savefig('matched_hists_continuous')\n",
    "plt.show()"
   ]
  },
  {
   "cell_type": "markdown",
   "metadata": {},
   "source": [
    "**categorical features**"
   ]
  },
  {
   "cell_type": "code",
   "execution_count": null,
   "metadata": {},
   "outputs": [],
   "source": [
    "R, C = len(feats_categorical), 1\n",
    "plt.figure(figsize=(6, 8), dpi=200)\n",
    "# print(feats_categorical)\n",
    "for i in range(R):\n",
    "    plt.subplot(R, C, i + 1)\n",
    "    feat = feats_categorical[i]\n",
    "    vals_unique = np.unique(np.hstack((df_pecarn[feat], df_psrc[feat]))).tolist()\n",
    "    n = len(vals_unique)\n",
    "    frac_pecarn = np.array([(df_pecarn[feat]==val).sum() for val in vals_unique]) / df_pecarn.shape[0] * 100\n",
    "    frac_psrc = np.array([(df_psrc[feat]==val).sum() for val in vals_unique]) / df_psrc.shape[0] * 100\n",
    "    \n",
    "    width = 0.4\n",
    "    plt.barh(np.arange(n), frac_pecarn, height=0.4, label='pecarn', color=cb)\n",
    "    plt.barh(np.arange(n) - width, frac_psrc, height=0.4, label='psrc', color=cr)\n",
    "    plt.yticks(np.arange(n) - width + 0.2, [viz.rename(v) for v in vals_unique])\n",
    "\n",
    "\n",
    "    plt.xticks(rotation='vertical')\n",
    "    plt.ylabel(viz.rename(feat), fontweight='bold', fontsize=13)\n",
    "    if i == R - 1:\n",
    "        plt.xlabel('Proportion of patients (%)')    \n",
    "\n",
    "# plt.legend()\n",
    "plt.tight_layout()\n",
    "viz.savefig('matched_hists')\n",
    "plt.show()"
   ]
  },
  {
   "cell_type": "markdown",
   "metadata": {},
   "source": [
    "**binary feats**"
   ]
  },
  {
   "cell_type": "code",
   "execution_count": null,
   "metadata": {},
   "outputs": [],
   "source": [
    "R, C = 3, 4\n",
    "feats_binary_plot = [f for f in feats_binary\n",
    "                     if not '_or_' in f\n",
    "                     and not 'Race_orig' in f\n",
    "                     and not 'GCSScore_Full' in f\n",
    "                     and not '<' in f]\n",
    "n = len(feats_binary_plot)\n",
    "def true_or_yes(vals):\n",
    "    return (vals==True) | (vals=='yes')\n",
    "frac_psrc = true_or_yes(df_psrc[feats_binary_plot]).mean().values * 100\n",
    "frac_pecarn = true_or_yes(df_pecarn[feats_binary_plot]).mean().values * 100\n",
    "\n",
    "width = 0.4\n",
    "plt.figure(dpi=500, figsize=(3, 6))\n",
    "plt.barh(np.arange(n), frac_pecarn, height=0.4, label='pecarn', color=cb)\n",
    "plt.barh(np.arange(n) - width, frac_psrc, height=0.4, label='psrc', color=cr)\n",
    "plt.yticks(np.arange(n) - width + 0.2,\n",
    "           [viz.rename(f) for f in feats_binary_plot])\n",
    "plt.xlabel('Proportion of patients (%)')\n",
    "plt.legend(frameon=False, fontsize=13)\n",
    "plt.show()"
   ]
  },
  {
   "cell_type": "markdown",
   "metadata": {},
   "source": [
    "**missing features**"
   ]
  },
  {
   "cell_type": "code",
   "execution_count": null,
   "metadata": {},
   "outputs": [],
   "source": [
    "R, C = 3, 4\n",
    "feats_all = [feat for feat in common_feats\n",
    "         if not feat in meta]\n",
    "n = len(feats_all)\n",
    "frac_psrc = (df_psrc[feats_all]=='unknown').mean().values\n",
    "frac_pecarn = (df_pecarn[feats_all]=='unknown').mean().values\n",
    "\n",
    "width = 0.4\n",
    "plt.figure(dpi=300, figsize=(3, 6))\n",
    "plt.xlabel('Fraction of patients\\nmissing this feature')\n",
    "plt.barh(np.arange(n), frac_pecarn, height=0.4, label='pecarn', color=cb)\n",
    "plt.barh(np.arange(n) - width, frac_psrc, height=0.4, label='psrc', color=cr)\n",
    "plt.yticks(np.arange(n) - width + 0.2, feats_all)\n",
    "\n",
    "plt.legend()\n",
    "plt.show()"
   ]
  },
  {
   "cell_type": "markdown",
   "metadata": {},
   "source": [
    "**write csvs**"
   ]
  },
  {
   "cell_type": "code",
   "execution_count": 6,
   "metadata": {},
   "outputs": [],
   "source": [
    "df_pecarn.astype('object').describe().transpose().to_csv('processed/pecarn_vars.csv')\n",
    "df_psrc.astype('object').describe().transpose().to_csv('processed/psrc_vars.csv')"
   ]
  },
  {
   "cell_type": "markdown",
   "metadata": {},
   "source": [
    "# how are vars related to outcome"
   ]
  },
  {
   "cell_type": "code",
   "execution_count": 7,
   "metadata": {},
   "outputs": [],
   "source": [
    "def get_risks(df, feat, vals_unique, outcome='iai_intervention'):\n",
    "    '''Return iai with intervention as a percentage\n",
    "    '''\n",
    "    risks = []\n",
    "    for val in vals_unique:\n",
    "        risks.append(df[df[feat]==val][outcome].mean())\n",
    "    return np.array(risks) * 100"
   ]
  },
  {
   "cell_type": "code",
   "execution_count": null,
   "metadata": {},
   "outputs": [],
   "source": [
    "feats = feats_categorical\n",
    "R, C = len(feats), 1\n",
    "plt.figure(figsize=(6, 21), dpi=200)\n",
    "\n",
    "# feats = ['Sex', 'Age_discrete']\n",
    "# plt.figure(figsize=(6, 8), dpi=200)\n",
    "\n",
    "\n",
    "def agecut(age): # inclusive on right end\n",
    "    return pd.cut(age, bins=(-1, 4, 9, 1000), labels=['<5', '5-9', '>9'])\n",
    "df_psrc['Age_discrete'] = agecut(df_psrc['Age'])\n",
    "df_pecarn['Age_discrete'] = agecut(df_pecarn['Age'])\n",
    "\n",
    "\n",
    "for i in range(R):\n",
    "    WIDTH = 0.4\n",
    "    plt.subplot(R, C, i + 1)\n",
    "    feat = feats[i]\n",
    "    \n",
    "    # get unique values\n",
    "    if feat in df_psrc.keys(): # need to check bc Sex is not there\n",
    "        vals_unique = list(set(df_pecarn[feat].unique().tolist() + df_psrc[feat].unique().tolist()))\n",
    "    else:\n",
    "        vals_unique = np.unique(df_pecarn[feat]).tolist()\n",
    "        WIDTH = 0.2\n",
    "    n = len(vals_unique)\n",
    "    \n",
    "    # plot pecarn\n",
    "    risks = get_risks(df_pecarn, feat, vals_unique)\n",
    "    plt.barh(np.arange(n), risks, height=0.4, label='pecarn', color=cb) #, color=cb)\n",
    "    plt.yticks(np.arange(n) - WIDTH + 0.2, vals_unique, fontsize=18)\n",
    "    plt.xlabel('IAI-I Risk (%)', fontsize=18)\n",
    "    plt.xticks(rotation='vertical')\n",
    "    plt.title(feat, fontsize=18)\n",
    "    \n",
    "    if feat in df_psrc.keys(): # need to check bc Sex is not there\n",
    "        risks = get_risks(df_psrc, feat, vals_unique)\n",
    "        plt.barh(np.arange(n) - WIDTH, risks, height=0.4, label='psrc', color=cr) #, color=cr)\n",
    "\n",
    "plt.legend(fontsize=18)\n",
    "plt.tight_layout()\n",
    "plt.show()"
   ]
  },
  {
   "cell_type": "code",
   "execution_count": null,
   "metadata": {},
   "outputs": [],
   "source": []
  }
 ],
 "metadata": {
  "kernelspec": {
   "display_name": "Python 3",
   "language": "python",
   "name": "python3"
  },
  "language_info": {
   "codemirror_mode": {
    "name": "ipython",
    "version": 3
   },
   "file_extension": ".py",
   "mimetype": "text/x-python",
   "name": "python",
   "nbconvert_exporter": "python",
   "pygments_lexer": "ipython3",
   "version": "3.7.5"
  },
  "pycharm": {
   "stem_cell": {
    "cell_type": "raw",
    "metadata": {
     "collapsed": false
    },
    "source": []
   }
  }
 },
 "nbformat": 4,
 "nbformat_minor": 4
}
