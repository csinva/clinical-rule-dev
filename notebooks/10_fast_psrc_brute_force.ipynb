{
 "cells": [
  {
   "cell_type": "code",
   "execution_count": 9,
   "metadata": {},
   "outputs": [
    {
     "name": "stdout",
     "output_type": "stream",
     "text": [
      "The autoreload extension is already loaded. To reload it, use:\n",
      "  %reload_ext autoreload\n"
     ]
    }
   ],
   "source": [
    "import sys\n",
    "from os.path import join as oj\n",
    "sys.path.insert(1, oj(sys.path[0], '..'))  # insert parent path\n",
    "sys.path.append('../src')\n",
    "import numpy as np\n",
    "import data_pecarn, data_psrc\n",
    "from validate import calc_stats\n",
    "import pandas as pd\n",
    "from collections import defaultdict\n",
    "import matplotlib.pyplot as plt\n",
    "import itertools\n",
    "\n",
    "%matplotlib inline\n",
    "%load_ext autoreload\n",
    "%autoreload 2\n",
    "\n",
    "DATASET = 'PECARN'\n",
    "\n",
    "if DATASET == 'PECARN':\n",
    "    d = data_pecarn.get_data(use_processed=True, dummy=True, frac_missing_allowed=1, impute_feats=False)\n",
    "    iaii = d['iai_intervention']\n",
    "    iai = d['iai']\n",
    "    fast_study_cohort, fast_abnormal = data_pecarn.get_FAST(d)    \n",
    "else:\n",
    "    d = data_psrc.get_data(use_processed=False, dummy=True) #use_processed_feats=True,)\n",
    "    iaii = d['iai_intervention']\n",
    "    iai = d['iai']\n",
    "    d['FAST (choice=not performed)'] = d['FAST (choice=0t performed)']\n",
    "    fast_study_cohort, fast_abnormal = data_psrc.get_FAST(d)    "
   ]
  },
  {
   "cell_type": "code",
   "execution_count": 10,
   "metadata": {},
   "outputs": [
    {
     "name": "stdout",
     "output_type": "stream",
     "text": [
      "fast options []\n"
     ]
    }
   ],
   "source": [
    "print('fast options', [k for k in d.keys() if k.lower().startswith('fast')])"
   ]
  },
  {
   "cell_type": "code",
   "execution_count": 11,
   "metadata": {},
   "outputs": [
    {
     "data": {
      "text/plain": [
       "[('Abdominal wall trauma or seatbelt sign',),\n",
       " ('GCSScore < 14',),\n",
       " ('Abdominal tenderness',),\n",
       " ('FAST',),\n",
       " ('Abdominal wall trauma or seatbelt sign', 'GCSScore < 14'),\n",
       " ('Abdominal wall trauma or seatbelt sign', 'Abdominal tenderness'),\n",
       " ('Abdominal wall trauma or seatbelt sign', 'FAST'),\n",
       " ('GCSScore < 14', 'Abdominal tenderness'),\n",
       " ('GCSScore < 14', 'FAST'),\n",
       " ('Abdominal tenderness', 'FAST'),\n",
       " ('Abdominal wall trauma or seatbelt sign',\n",
       "  'GCSScore < 14',\n",
       "  'Abdominal tenderness'),\n",
       " ('Abdominal wall trauma or seatbelt sign', 'GCSScore < 14', 'FAST'),\n",
       " ('Abdominal wall trauma or seatbelt sign', 'Abdominal tenderness', 'FAST'),\n",
       " ('GCSScore < 14', 'Abdominal tenderness', 'FAST'),\n",
       " ('Abdominal wall trauma or seatbelt sign',\n",
       "  'GCSScore < 14',\n",
       "  'Abdominal tenderness',\n",
       "  'FAST')]"
      ]
     },
     "execution_count": 11,
     "metadata": {},
     "output_type": "execute_result"
    }
   ],
   "source": [
    "combs = []\n",
    "if DATASET == 'PSRC':\n",
    "    rules = {\n",
    "        'Abdominal wall trauma or seatbelt sign': d['AbdTrauma_or_SeatBeltSign_yes']==1,\n",
    "        'GCSScore < 14': d['GCSScore'] < 14,\n",
    "        'Abdominal tenderness': d['AbdTenderDegree_None'] == 0,\n",
    "        'FAST': fast_abnormal,\n",
    "    }\n",
    "else:\n",
    "    rules = {\n",
    "        'Abdominal wall trauma or seatbelt sign': d['AbdTrauma_or_SeatBeltSign_yes']==1,\n",
    "        'GCSScore < 14': d['GCSScore'] < 14,\n",
    "        'Abdominal tenderness': d['AbdTenderDegree_unknown'] == 0,\n",
    "        'FAST': fast_abnormal,\n",
    "    }\n",
    "ks = list(rules.keys())\n",
    "for r in range(len(ks)):\n",
    "    combs += list(itertools.combinations(ks, r=r + 1))\n",
    "combs\n"
   ]
  },
  {
   "cell_type": "code",
   "execution_count": 12,
   "metadata": {},
   "outputs": [],
   "source": [
    "outcome = iaii\n",
    "r = defaultdict(list)\n",
    "for comb in combs:\n",
    "    preds = np.zeros_like(outcome)\n",
    "    for k in comb:\n",
    "        preds = preds | rules[k]\n",
    "    tn, fp, fn, tp, sens, spec = calc_stats(outcome[fast_study_cohort],\n",
    "                                            preds[fast_study_cohort])\n",
    "    r['sens'].append(sens)\n",
    "    r['spec'].append(spec)\n",
    "    r['fast'].append('FAST' in comb)\n",
    "    r['rules'].append(comb)\n",
    "r = pd.DataFrame.from_dict(r)"
   ]
  },
  {
   "cell_type": "code",
   "execution_count": 13,
   "metadata": {},
   "outputs": [
    {
     "data": {
      "text/html": [
       "<div>\n",
       "<style scoped>\n",
       "    .dataframe tbody tr th:only-of-type {\n",
       "        vertical-align: middle;\n",
       "    }\n",
       "\n",
       "    .dataframe tbody tr th {\n",
       "        vertical-align: top;\n",
       "    }\n",
       "\n",
       "    .dataframe thead th {\n",
       "        text-align: right;\n",
       "    }\n",
       "</style>\n",
       "<table border=\"1\" class=\"dataframe\">\n",
       "  <thead>\n",
       "    <tr style=\"text-align: right;\">\n",
       "      <th></th>\n",
       "      <th>sens</th>\n",
       "      <th>spec</th>\n",
       "      <th>fast</th>\n",
       "      <th>rules</th>\n",
       "    </tr>\n",
       "  </thead>\n",
       "  <tbody>\n",
       "    <tr>\n",
       "      <th>10</th>\n",
       "      <td>0.83</td>\n",
       "      <td>0.60</td>\n",
       "      <td>False</td>\n",
       "      <td>(Abdominal wall trauma or seatbelt sign, GCSScore &lt; 14, Abdominal tenderness)</td>\n",
       "    </tr>\n",
       "    <tr>\n",
       "      <th>14</th>\n",
       "      <td>0.83</td>\n",
       "      <td>0.60</td>\n",
       "      <td>True</td>\n",
       "      <td>(Abdominal wall trauma or seatbelt sign, GCSScore &lt; 14, Abdominal tenderness, FAST)</td>\n",
       "    </tr>\n",
       "    <tr>\n",
       "      <th>11</th>\n",
       "      <td>0.80</td>\n",
       "      <td>0.73</td>\n",
       "      <td>True</td>\n",
       "      <td>(Abdominal wall trauma or seatbelt sign, GCSScore &lt; 14, FAST)</td>\n",
       "    </tr>\n",
       "    <tr>\n",
       "      <th>13</th>\n",
       "      <td>0.80</td>\n",
       "      <td>0.68</td>\n",
       "      <td>True</td>\n",
       "      <td>(GCSScore &lt; 14, Abdominal tenderness, FAST)</td>\n",
       "    </tr>\n",
       "    <tr>\n",
       "      <th>4</th>\n",
       "      <td>0.77</td>\n",
       "      <td>0.74</td>\n",
       "      <td>False</td>\n",
       "      <td>(Abdominal wall trauma or seatbelt sign, GCSScore &lt; 14)</td>\n",
       "    </tr>\n",
       "    <tr>\n",
       "      <th>7</th>\n",
       "      <td>0.73</td>\n",
       "      <td>0.69</td>\n",
       "      <td>False</td>\n",
       "      <td>(GCSScore &lt; 14, Abdominal tenderness)</td>\n",
       "    </tr>\n",
       "    <tr>\n",
       "      <th>5</th>\n",
       "      <td>0.70</td>\n",
       "      <td>0.69</td>\n",
       "      <td>False</td>\n",
       "      <td>(Abdominal wall trauma or seatbelt sign, Abdominal tenderness)</td>\n",
       "    </tr>\n",
       "    <tr>\n",
       "      <th>12</th>\n",
       "      <td>0.70</td>\n",
       "      <td>0.68</td>\n",
       "      <td>True</td>\n",
       "      <td>(Abdominal wall trauma or seatbelt sign, Abdominal tenderness, FAST)</td>\n",
       "    </tr>\n",
       "    <tr>\n",
       "      <th>6</th>\n",
       "      <td>0.67</td>\n",
       "      <td>0.81</td>\n",
       "      <td>True</td>\n",
       "      <td>(Abdominal wall trauma or seatbelt sign, FAST)</td>\n",
       "    </tr>\n",
       "    <tr>\n",
       "      <th>9</th>\n",
       "      <td>0.67</td>\n",
       "      <td>0.78</td>\n",
       "      <td>True</td>\n",
       "      <td>(Abdominal tenderness, FAST)</td>\n",
       "    </tr>\n",
       "    <tr>\n",
       "      <th>0</th>\n",
       "      <td>0.63</td>\n",
       "      <td>0.83</td>\n",
       "      <td>False</td>\n",
       "      <td>(Abdominal wall trauma or seatbelt sign,)</td>\n",
       "    </tr>\n",
       "    <tr>\n",
       "      <th>8</th>\n",
       "      <td>0.53</td>\n",
       "      <td>0.88</td>\n",
       "      <td>True</td>\n",
       "      <td>(GCSScore &lt; 14, FAST)</td>\n",
       "    </tr>\n",
       "    <tr>\n",
       "      <th>3</th>\n",
       "      <td>0.40</td>\n",
       "      <td>0.98</td>\n",
       "      <td>True</td>\n",
       "      <td>(FAST,)</td>\n",
       "    </tr>\n",
       "    <tr>\n",
       "      <th>2</th>\n",
       "      <td>0.40</td>\n",
       "      <td>0.79</td>\n",
       "      <td>False</td>\n",
       "      <td>(Abdominal tenderness,)</td>\n",
       "    </tr>\n",
       "    <tr>\n",
       "      <th>1</th>\n",
       "      <td>0.33</td>\n",
       "      <td>0.89</td>\n",
       "      <td>False</td>\n",
       "      <td>(GCSScore &lt; 14,)</td>\n",
       "    </tr>\n",
       "  </tbody>\n",
       "</table>\n",
       "</div>"
      ],
      "text/plain": [
       "    sens  spec   fast  \\\n",
       "10  0.83  0.60  False   \n",
       "14  0.83  0.60   True   \n",
       "11  0.80  0.73   True   \n",
       "13  0.80  0.68   True   \n",
       "4   0.77  0.74  False   \n",
       "7   0.73  0.69  False   \n",
       "5   0.70  0.69  False   \n",
       "12  0.70  0.68   True   \n",
       "6   0.67  0.81   True   \n",
       "9   0.67  0.78   True   \n",
       "0   0.63  0.83  False   \n",
       "8   0.53  0.88   True   \n",
       "3   0.40  0.98   True   \n",
       "2   0.40  0.79  False   \n",
       "1   0.33  0.89  False   \n",
       "\n",
       "                                                                                  rules  \n",
       "10        (Abdominal wall trauma or seatbelt sign, GCSScore < 14, Abdominal tenderness)  \n",
       "14  (Abdominal wall trauma or seatbelt sign, GCSScore < 14, Abdominal tenderness, FAST)  \n",
       "11                        (Abdominal wall trauma or seatbelt sign, GCSScore < 14, FAST)  \n",
       "13                                          (GCSScore < 14, Abdominal tenderness, FAST)  \n",
       "4                               (Abdominal wall trauma or seatbelt sign, GCSScore < 14)  \n",
       "7                                                 (GCSScore < 14, Abdominal tenderness)  \n",
       "5                        (Abdominal wall trauma or seatbelt sign, Abdominal tenderness)  \n",
       "12                 (Abdominal wall trauma or seatbelt sign, Abdominal tenderness, FAST)  \n",
       "6                                        (Abdominal wall trauma or seatbelt sign, FAST)  \n",
       "9                                                          (Abdominal tenderness, FAST)  \n",
       "0                                             (Abdominal wall trauma or seatbelt sign,)  \n",
       "8                                                                 (GCSScore < 14, FAST)  \n",
       "3                                                                               (FAST,)  \n",
       "2                                                               (Abdominal tenderness,)  \n",
       "1                                                                      (GCSScore < 14,)  "
      ]
     },
     "execution_count": 13,
     "metadata": {},
     "output_type": "execute_result"
    }
   ],
   "source": [
    "pd.set_option('display.max_colwidth', None)\n",
    "r.round(2).sort_values(by=['sens', 'spec'], ascending=False)"
   ]
  },
  {
   "cell_type": "code",
   "execution_count": 14,
   "metadata": {},
   "outputs": [
    {
     "data": {
      "image/png": "[encoded data removed]",
      "text/plain": [
       "<Figure size 640x480 with 1 Axes>"
      ]
     },
     "metadata": {},
     "output_type": "display_data"
    }
   ],
   "source": [
    "plt.plot(r['sens'][r['fast']], r['spec'][r['fast']], '.', label='Includes FAST')\n",
    "plt.plot(r['sens'][~r['fast']], r['spec'][~r['fast']], '.', label='No FAST')\n",
    "plt.xlabel('Sensitivity')\n",
    "plt.ylabel('Specificity')\n",
    "plt.legend()\n",
    "plt.show()"
   ]
  },
  {
   "cell_type": "code",
   "execution_count": null,
   "metadata": {},
   "outputs": [],
   "source": []
  }
 ],
 "metadata": {
  "kernelspec": {
   "display_name": "Python 3.9.13 ('.iai': venv)",
   "language": "python",
   "name": "python3"
  },
  "language_info": {
   "codemirror_mode": {
    "name": "ipython",
    "version": 3
   },
   "file_extension": ".py",
   "mimetype": "text/x-python",
   "name": "python",
   "nbconvert_exporter": "python",
   "pygments_lexer": "ipython3",
   "version": "3.9.13"
  },
  "pycharm": {
   "stem_cell": {
    "cell_type": "raw",
    "metadata": {
     "collapsed": false
    },
    "source": []
   }
  },
  "vscode": {
   "interpreter": {
    "hash": "e2191c6e2dc39f323f815df2a766e6de0a6735913e8e8699ce6573efd3f6121c"
   }
  }
 },
 "nbformat": 4,
 "nbformat_minor": 4
}
