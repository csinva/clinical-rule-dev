{
 "cells": [
  {
   "cell_type": "code",
   "execution_count": 1,
   "metadata": {},
   "outputs": [],
   "source": [
    "import sys\n",
    "from os.path import join as oj\n",
    "sys.path.insert(1, oj(sys.path[0], '..'))  # insert parent path\n",
    "sys.path.append('../src')\n",
    "import numpy as np\n",
    "import data_pecarn, data_psrc\n",
    "from sklearn.metrics import confusion_matrix\n",
    "import matplotlib.pyplot as plt\n",
    "\n",
    "%matplotlib inline\n",
    "%load_ext autoreload\n",
    "%autoreload 2\n",
    "\n",
    "d = data_psrc.get_data(use_processed=False, dummy=True) #use_processed_feats=True,)\n",
    "iaii = d['iai_intervention']\n",
    "iai = d['iai']\n",
    "d['FAST (choice=not performed)'] = d['FAST (choice=0t performed)']"
   ]
  },
  {
   "cell_type": "code",
   "execution_count": 2,
   "metadata": {},
   "outputs": [
    {
     "name": "stdout",
     "output_type": "stream",
     "text": [
      "fast options ['FAST (choice=Negative)', 'FAST (choice=+ cardiac)', 'FAST (choice=+ right)', 'FAST (choice=+ left)', 'FAST (choice=+ pelvis)', 'FAST (choice=0t performed)', 'FAST (choice=not performed)']\n"
     ]
    }
   ],
   "source": [
    "print('fast options', [k for k in d.keys() if k.lower().startswith('fast')])"
   ]
  },
  {
   "cell_type": "code",
   "execution_count": 3,
   "metadata": {},
   "outputs": [],
   "source": [
    "def calc_stats(y_true, y_pred):\n",
    "    tn, fp, fn, tp = confusion_matrix(y_true, y_pred).ravel()\n",
    "    sens = tp / (tp + fn)\n",
    "    spec = tn / (tn + fp)\n",
    "    return tn, fp, fn, tp, sens, spec"
   ]
  },
  {
   "cell_type": "markdown",
   "metadata": {},
   "source": [
    "# Performance of FAST exam in isolation"
   ]
  },
  {
   "cell_type": "code",
   "execution_count": 12,
   "metadata": {},
   "outputs": [],
   "source": [
    "fast_recieved = d['FAST (choice=not performed)'] == 0\n",
    "# fast_interpretation_known = (d['UltrasoundRes'] != 3) # some patients have \"no interpretetation\"\n",
    "fast_study_cohort = fast_recieved # & fast_interpretation_known\n",
    "abnormal = ~(d['FAST (choice=Negative)'] == 1)\n",
    "fast_abnormal = fast_study_cohort & abnormal\n",
    "# ((d['UltrasoundType'] == 1) & (d['UltrasoundRes'] == 3) & (d['iai'] == 1)).sum() # look at patients with no interpretation"
   ]
  },
  {
   "cell_type": "code",
   "execution_count": 13,
   "metadata": {},
   "outputs": [
    {
     "data": {
      "text/plain": [
       "1423"
      ]
     },
     "execution_count": 13,
     "metadata": {},
     "output_type": "execute_result"
    }
   ],
   "source": [
    "abnormal.sum()"
   ]
  },
  {
   "cell_type": "code",
   "execution_count": 21,
   "metadata": {},
   "outputs": [
    {
     "name": "stdout",
     "output_type": "stream",
     "text": [
      "2188 total patients (62 IAI-I, 261 IAI)\n",
      "\t FAST received 829 patients 27 IAI-I 97 IAI\n",
      "\t FAST abnormal 65 patients 12 IAI-I 31 IAI\n",
      "Here's the breakdown of FAST patients:\n",
      "\t FAST (choice=not performed) 1359 patients 35 IAI-I 164 IAI\n",
      "\t FAST (choice=Negative) 765 patients 15 IAI-I 66 IAI\n",
      "\t FAST (choice=+ cardiac) 3 patients 0 IAI-I 0 IAI\n",
      "\t FAST (choice=+ right) 20 patients 6 IAI-I 12 IAI\n",
      "\t FAST (choice=+ left) 18 patients 4 IAI-I 11 IAI\n",
      "\t FAST (choice=+ pelvis) 24 patients 4 IAI-I 11 IAI\n"
     ]
    }
   ],
   "source": [
    "print(f'{d.shape[0]} total patients ({iaii.sum()} IAI-I, {iai.sum()} IAI)', )\n",
    "print('\\t FAST received', d[fast_recieved].shape[0], 'patients', iaii[fast_recieved].sum(), 'IAI-I', iai[fast_recieved].sum(), 'IAI')\n",
    "print('\\t FAST abnormal', d[fast_abnormal].shape[0], 'patients', iaii[fast_abnormal].sum(), 'IAI-I', iai[fast_abnormal].sum(), 'IAI')\n",
    "print(f'Here\\'s the breakdown of FAST patients:')\n",
    "# print(f'\\tOf these {fast_study_cohort.sum()} patients, {fast_abnormal.sum()} have an abnormal scan')\n",
    "for k in ['FAST (choice=not performed)', 'FAST (choice=Negative)', 'FAST (choice=+ cardiac)', 'FAST (choice=+ right)', 'FAST (choice=+ left)', 'FAST (choice=+ pelvis)']:\n",
    "    print('\\t', k, d[k].sum(), 'patients', iaii[d[k].astype(bool)].sum(), 'IAI-I', iai[d[k].astype(bool)].sum(), 'IAI')"
   ]
  },
  {
   "cell_type": "code",
   "execution_count": 15,
   "metadata": {},
   "outputs": [
    {
     "name": "stdout",
     "output_type": "stream",
     "text": [
      "If we use FAST alone to detect IAI-I, we get the following results:\n",
      "\tSensitivity=0.44\n",
      "\tSpecificity=0.93\n",
      "\t----------------\n",
      "\ttp=12 fp=53\n",
      "\tfn=15 tn=749\n"
     ]
    }
   ],
   "source": [
    "print('If we use FAST alone to detect IAI-I, we get the following results:')\n",
    "# print('assume no interpretation means negative')\n",
    "tn, fp, fn, tp, sens, spec = calc_stats(iaii[fast_study_cohort],\n",
    "                                  fast_abnormal[fast_study_cohort])\n",
    "print(f'\\tSensitivity={sens:0.2f}')\n",
    "print(f'\\tSpecificity={spec:0.2f}')\n",
    "print(f'\\t----------------')\n",
    "print(f'\\t{tp=} {fp=}')\n",
    "print(f'\\t{fn=} {tn=}')"
   ]
  },
  {
   "cell_type": "code",
   "execution_count": 16,
   "metadata": {},
   "outputs": [
    {
     "name": "stdout",
     "output_type": "stream",
     "text": [
      "If we use FAST alone to detect IAI, we get the following results:\n",
      "\tSensitivity=0.32\n",
      "\tSpecificity=0.95\n",
      "\t----------------\n",
      "\ttp=31 fp=34\n",
      "\tfn=66 tn=698\n"
     ]
    }
   ],
   "source": [
    "print('If we use FAST alone to detect IAI, we get the following results:')\n",
    "# print('assume no interpretation means negative')\n",
    "tn, fp, fn, tp, sens, spec = calc_stats(iai[fast_study_cohort],\n",
    "                                  fast_abnormal[fast_study_cohort])\n",
    "print(f'\\tSensitivity={sens:0.2f}')\n",
    "print(f'\\tSpecificity={spec:0.2f}')\n",
    "print(f'\\t----------------')\n",
    "print(f'\\t{tp=} {fp=}')\n",
    "print(f'\\t{fn=} {tn=}')"
   ]
  },
  {
   "cell_type": "markdown",
   "metadata": {},
   "source": [
    "# FAST performance in conjunction with CDR rules\n",
    "By itself, FAST has very low sensitivity so we might try combining it with rules from the PECARN CDR. However, we shouldn't use too many of the rules, as we will very quickly run out of data (especially considering we have very few abnormal FAST exams!)"
   ]
  },
  {
   "cell_type": "code",
   "execution_count": 18,
   "metadata": {},
   "outputs": [
    {
     "name": "stdout",
     "output_type": "stream",
     "text": [
      "We can try using any of the first three rules of the CDR + FAST to get a decent score. These are: ['Abdominal wall trauma or seatbelt sign', 'GCSScore < 14', 'Abdominal tenderness']\n"
     ]
    }
   ],
   "source": [
    "rules = {\n",
    "    'Abdominal wall trauma or seatbelt sign': d['AbdTrauma_or_SeatBeltSign_yes']==1,\n",
    "    'GCSScore < 14': d['GCSScore'] < 14,\n",
    "    'Abdominal tenderness': d['AbdTenderDegree_None'] == 0\n",
    "}\n",
    "print(f'We can try using any of the first three rules of the CDR + FAST to get a decent score. These are: {list(rules.keys())}')"
   ]
  },
  {
   "cell_type": "code",
   "execution_count": 25,
   "metadata": {},
   "outputs": [
    {
     "name": "stdout",
     "output_type": "stream",
     "text": [
      "If we use Abdominal wall trauma or seatbelt sign + FAST to detect IAI-I, we get the following results:\n",
      "\t\tSensitivity=0.78 (without FAST, 0.70)\n",
      "\t\tSpecificity=0.73 (without FAST, 0.77)\n",
      "\t\t----------------\n",
      "\t\ttp=21 fp=215\n",
      "\t\tfn=6 tn=587\n",
      "If we use GCSScore < 14 + FAST to detect IAI-I, we get the following results:\n",
      "\t\tSensitivity=0.78 (without FAST, 0.52)\n",
      "\t\tSpecificity=0.80 (without FAST, 0.85)\n",
      "\t\t----------------\n",
      "\t\ttp=21 fp=158\n",
      "\t\tfn=6 tn=644\n",
      "If we use Abdominal tenderness + FAST to detect IAI-I, we get the following results:\n",
      "\t\tSensitivity=0.93 (without FAST, 0.89)\n",
      "\t\tSpecificity=0.68 (without FAST, 0.72)\n",
      "\t\t----------------\n",
      "\t\ttp=25 fp=253\n",
      "\t\tfn=2 tn=549\n"
     ]
    }
   ],
   "source": [
    "outcome = iaii\n",
    "for k in rules.keys():\n",
    "    print(f'If we use {k} + FAST to detect IAI-I, we get the following results:')\n",
    "    # print('assume no interpretation means negative')\n",
    "    tn, fp, fn, tp, sens, spec = calc_stats(outcome[fast_study_cohort],\n",
    "                                      rules[k][fast_study_cohort] | fast_abnormal[fast_study_cohort])\n",
    "    tn_k, fp_k, fn_k, tp_k, sens_k, spec_k = calc_stats(outcome[fast_study_cohort],  # without FAST\n",
    "                                      rules[k][fast_study_cohort])\n",
    "    print(f'\\t\\tSensitivity={sens:0.2f} (without FAST, {sens_k:0.2f})')\n",
    "    print(f'\\t\\tSpecificity={spec:0.2f} (without FAST, {spec_k:0.2f})')\n",
    "    print(f'\\t\\t----------------')\n",
    "    print(f'\\t\\t{tp=} {fp=}')\n",
    "    print(f'\\t\\t{fn=} {tn=}')"
   ]
  },
  {
   "cell_type": "markdown",
   "metadata": {},
   "source": [
    "These specificities are too low. The same happens happens if we try FAST + all three of these rules:"
   ]
  },
  {
   "cell_type": "code",
   "execution_count": 26,
   "metadata": {},
   "outputs": [
    {
     "name": "stdout",
     "output_type": "stream",
     "text": [
      "If we use all three rules + FAST to detect IAI-I, we get the following results:\n",
      "\tSensitivity=0.96 (without FAST, 0.96)\n",
      "\tSpecificity=0.54 (without FAST, 0.56)\n",
      "\t----------------\n",
      "\ttp=26 fp=367\n",
      "\tfn=1 tn=435\n",
      "\t------without FAST----------\n",
      "\ttp_k=26 fp_k=350\n",
      "\tfn_k=1 tn_k=452\n"
     ]
    }
   ],
   "source": [
    "print(f'If we use all three rules + FAST to detect IAI-I, we get the following results:')\n",
    "# print('assume no interpretation means negative')\n",
    "rule_pred = rules['Abdominal wall trauma or seatbelt sign'][fast_study_cohort] | rules['GCSScore < 14'][fast_study_cohort] | rules['Abdominal tenderness'][fast_study_cohort]\n",
    "tn, fp, fn, tp, sens, spec = calc_stats(outcome[fast_study_cohort],\n",
    "                                  rule_pred | fast_abnormal[fast_study_cohort])\n",
    "tn_k, fp_k, fn_k, tp_k, sens_k, spec_k = calc_stats(outcome[fast_study_cohort],  # without FAST\n",
    "                                  rule_pred)\n",
    "print(f'\\tSensitivity={sens:0.2f} (without FAST, {sens_k:0.2f})')\n",
    "print(f'\\tSpecificity={spec:0.2f} (without FAST, {spec_k:0.2f})')\n",
    "print(f'\\t----------------')\n",
    "print(f'\\t{tp=} {fp=}')\n",
    "print(f'\\t{fn=} {tn=}')\n",
    "print(f'\\t------without FAST----------')\n",
    "print(f'\\t{tp_k=} {fp_k=}')\n",
    "print(f'\\t{fn_k=} {tn_k=}')"
   ]
  },
  {
   "cell_type": "markdown",
   "metadata": {},
   "source": [
    "# Net benefit"
   ]
  },
  {
   "cell_type": "markdown",
   "metadata": {},
   "source": [
    "**Net benefit calculation** - This is not all that meaningful. We have a lot of true negatives (tn), so the more we say that it is important, the more positive this metric will come out to be. The sensitivity/specificity and confusion matrices above are much clearer to interpret.\n",
    "\n",
    "$\\text { Net benefit }=\\frac{\\text { True positives }}{N}-\\frac{\\text { False positives }}{N} \\times \\frac{p_{t}}{1-p_{t}}$"
   ]
  },
  {
   "cell_type": "code",
   "execution_count": 17,
   "metadata": {},
   "outputs": [
    {
     "data": {
      "image/png": "[encoded data removed]",
      "text/plain": [
       "<Figure size 640x480 with 1 Axes>"
      ]
     },
     "metadata": {},
     "output_type": "display_data"
    }
   ],
   "source": [
    "N = fast_study_cohort.sum()\n",
    "ratios = [2, 5, 10, 50, 250, 500, 1000]\n",
    "ps = []\n",
    "nbs = []\n",
    "for ratio in ratios:\n",
    "    p = 1 / ratio\n",
    "    net_benefit  = tp / N - fp / N * p / (1-p)\n",
    "    nbs.append(net_benefit)\n",
    "    ps.append(p)\n",
    "plt.plot(ps, nbs, '.-')\n",
    "plt.axhline(0, color='gray', ls='--')\n",
    "plt.xlabel('Probability threshold')\n",
    "plt.ylabel('Net benefit (for IAI)')\n",
    "plt.show()"
   ]
  }
 ],
 "metadata": {
  "kernelspec": {
   "display_name": "Python 3.9.13 ('.iai': venv)",
   "language": "python",
   "name": "python3"
  },
  "language_info": {
   "codemirror_mode": {
    "name": "ipython",
    "version": 3
   },
   "file_extension": ".py",
   "mimetype": "text/x-python",
   "name": "python",
   "nbconvert_exporter": "python",
   "pygments_lexer": "ipython3",
   "version": "3.9.13"
  },
  "pycharm": {
   "stem_cell": {
    "cell_type": "raw",
    "metadata": {
     "collapsed": false
    },
    "source": []
   }
  },
  "vscode": {
   "interpreter": {
    "hash": "e2191c6e2dc39f323f815df2a766e6de0a6735913e8e8699ce6573efd3f6121c"
   }
  }
 },
 "nbformat": 4,
 "nbformat_minor": 4
}
