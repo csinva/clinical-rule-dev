{
 "cells": [
  {
   "cell_type": "code",
   "execution_count": 8,
   "metadata": {},
   "outputs": [
    {
     "name": "stdout",
     "output_type": "stream",
     "text": [
      "The autoreload extension is already loaded. To reload it, use:\n",
      "  %reload_ext autoreload\n"
     ]
    },
    {
     "name": "stderr",
     "output_type": "stream",
     "text": [
      "/accounts/projects/vision/.local/lib/python3.7/site-packages/pandas/core/ops.py:1649: FutureWarning: elementwise comparison failed; returning scalar instead, but in the future will perform elementwise comparison\n",
      "  result = method(y)\n",
      "/accounts/projects/vision/.local/lib/python3.7/site-packages/pandas/core/frame.py:6692: FutureWarning: Sorting because non-concatenation axis is not aligned. A future version\n",
      "of pandas will change to not sort by default.\n",
      "\n",
      "To accept the future behavior, pass 'sort=False'.\n",
      "\n",
      "To retain the current behavior and silence the warning, pass 'sort=True'.\n",
      "\n",
      "  sort=sort)\n"
     ]
    }
   ],
   "source": [
    "%matplotlib inline\n",
    "%load_ext autoreload\n",
    "%autoreload 2\n",
    "import sys\n",
    "sys.path.append('../src')\n",
    "import viz\n",
    "import pickle as pkl\n",
    "import matplotlib.pyplot as plt\n",
    "from os.path import join as oj\n",
    "import os\n",
    "import numpy as np\n",
    "import imodels\n",
    "from sklearn.tree import DecisionTreeClassifier, plot_tree\n",
    "from sklearn.ensemble import RandomForestClassifier\n",
    "\n",
    "import data\n",
    "import validate\n",
    "outcome_def = 'iai_intervention' # output\n",
    "MODELS_DIR = '../models/simple_3_splits'\n",
    "os.makedirs(MODELS_DIR, exist_ok=True)\n",
    "\n",
    "\n",
    "# load the data\n",
    "df_pecarn, df_psrc, common_feats, filtered_feats_pecarn, filtered_feats_psrc = \\\n",
    "    data.load_it_all(dummy=True, frac_missing_allowed=0.05)\n",
    "common_feats += ['iai', 'CTScan']\n",
    "df = df_pecarn[common_feats + ['Sex_M']].append(df_psrc[common_feats])\n",
    "processed_feats = data.select_final_feats(common_feats)\n",
    "\n",
    "# split the idxs\n",
    "train_idxs = df.cv_fold.isin(data.pecarn_train_idxs)\n",
    "test_idxs1 = df.cv_fold.isin(data.pecarn_test_idxs)\n",
    "test_idxs2 = df.cv_fold.isin(data.psrc_train_idxs + data.psrc_test_idxs)\n",
    "\n",
    "# split the data\n",
    "X, y = df[processed_feats], df[outcome_def]\n",
    "half = train_idxs.sum() // 2\n",
    "split_to_plot = '_test2'\n",
    "\n",
    "# 3-split\n",
    "pec = df[train_idxs | test_idxs1]\n",
    "train = df[train_idxs]\n",
    "test1 = df[test_idxs1]\n",
    "test2 = df[test_idxs2]"
   ]
  },
  {
   "cell_type": "code",
   "execution_count": 9,
   "metadata": {},
   "outputs": [],
   "source": [
    "dsets = [pec, train, test1, test2]"
   ]
  },
  {
   "cell_type": "code",
   "execution_count": 17,
   "metadata": {},
   "outputs": [
    {
     "name": "stdout",
     "output_type": "stream",
     "text": [
      "pec\n",
      "\t num 12044\n",
      "\t Sex_M 7384 (61.3%)\n",
      "\t Age<2_yes 1167 (9.7%)\n",
      "\t iai_intervention 203 (1.7%)\n",
      "\t iai 761 (6.3%)\n",
      "\t MOI_Motor vehicle collision 3832 (31.8%)\n",
      "\t MOI_Fall from an elevation 2161 (17.9%)\n",
      "\t MOI_Bike collision/fall 767 (6.4%)\n",
      "\t CTScan 5179 (43.0%)\n",
      "train\n",
      "\t num 7985\n",
      "\t Sex_M 4887 (61.2%)\n",
      "\t Age<2_yes 761 (9.5%)\n",
      "\t iai_intervention 133 (1.7%)\n",
      "\t iai 485 (6.1%)\n",
      "\t MOI_Motor vehicle collision 2505 (31.4%)\n",
      "\t MOI_Fall from an elevation 1471 (18.4%)\n",
      "\t MOI_Bike collision/fall 489 (6.1%)\n",
      "\t CTScan 3393 (42.5%)\n",
      "test1\n",
      "\t num 4059\n",
      "\t Sex_M 2497 (61.5%)\n",
      "\t Age<2_yes 406 (10.0%)\n",
      "\t iai_intervention 70 (1.7%)\n",
      "\t iai 276 (6.8%)\n",
      "\t MOI_Motor vehicle collision 1327 (32.7%)\n",
      "\t MOI_Fall from an elevation 690 (17.0%)\n",
      "\t MOI_Bike collision/fall 278 (6.8%)\n",
      "\t CTScan 1786 (44.0%)\n",
      "psrc\n",
      "\t num 2188\n",
      "\t Sex_M 0 (0.0%)\n",
      "\t Age<2_yes 216 (9.9%)\n",
      "\t iai_intervention 62 (2.8%)\n",
      "\t iai 261 (11.9%)\n",
      "\t MOI_Motor vehicle collision 1014 (46.3%)\n",
      "\t MOI_Fall from an elevation 155 (7.1%)\n",
      "\t MOI_Bike collision/fall 77 (3.5%)\n",
      "\t CTScan 967 (44.2%)\n"
     ]
    }
   ],
   "source": [
    "feats = ['Age<2_yes', 'iai_intervention', 'iai', \n",
    "         'MOI_Motor vehicle collision', 'MOI_Fall from an elevation', 'MOI_Bike collision/fall',\n",
    "         'CTScan']\n",
    "for dd, d in zip(['pec', 'train', 'test1', 'psrc'], dsets):\n",
    "    print(dd)\n",
    "    print('\\t', 'num', d.shape[0])\n",
    "    try:\n",
    "        k = 'Sex_M'\n",
    "        print(f'\\t {k} {int(d[k].sum())} ({100*d[k].sum()/d.shape[0]:.1f}%)')\n",
    "    except:\n",
    "        pass\n",
    "    for k in feats:\n",
    "        print(f'\\t {k} {int(d[k].sum())} ({100*d[k].sum()/d.shape[0]:.1f}%)')"
   ]
  },
  {
   "cell_type": "code",
   "execution_count": 16,
   "metadata": {},
   "outputs": [
    {
     "data": {
      "text/plain": [
       "count    2188.000000\n",
       "mean        7.797265\n",
       "std         4.634462\n",
       "min         0.000000\n",
       "25%         4.000000\n",
       "50%         8.000000\n",
       "75%        12.000000\n",
       "max        15.000000\n",
       "Name: Age, dtype: float64"
      ]
     },
     "execution_count": 16,
     "metadata": {},
     "output_type": "execute_result"
    }
   ],
   "source": [
    "test2['Age'].describe()"
   ]
  }
 ],
 "metadata": {
  "kernelspec": {
   "display_name": "Python 3",
   "language": "python",
   "name": "python3"
  },
  "language_info": {
   "codemirror_mode": {
    "name": "ipython",
    "version": 3
   },
   "file_extension": ".py",
   "mimetype": "text/x-python",
   "name": "python",
   "nbconvert_exporter": "python",
   "pygments_lexer": "ipython3",
   "version": "3.7.5"
  },
  "pycharm": {
   "stem_cell": {
    "cell_type": "raw",
    "metadata": {
     "collapsed": false
    },
    "source": []
   }
  }
 },
 "nbformat": 4,
 "nbformat_minor": 4
}
