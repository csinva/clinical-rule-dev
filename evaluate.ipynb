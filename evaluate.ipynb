{
 "cells": [
  {
   "cell_type": "code",
   "execution_count": 1,
   "metadata": {},
   "outputs": [],
   "source": [
    "import os\n",
    "from os.path import join as oj\n",
    "import sys, time\n",
    "sys.path.insert(1, oj(sys.path[0], '..'))  # insert parent path\n",
    "import seaborn as sns\n",
    "from sklearn.model_selection import train_test_split\n",
    "import numpy as np\n",
    "import matplotlib.pyplot as plt\n",
    "from tqdm import tqdm\n",
    "from copy import deepcopy\n",
    "import pickle as pkl\n",
    "from sklearn.tree import DecisionTreeClassifier, plot_tree\n",
    "from sklearn.model_selection import cross_validate, ShuffleSplit, train_test_split\n",
    "import pandas as pd\n",
    "import data \n",
    "from collections import Counter\n",
    "\n",
    "# plt.style.use('dark_background')\n",
    "# sns.set(style=\"white\")\n",
    "%matplotlib inline\n",
    "%load_ext autoreload\n",
    "%autoreload 2\n",
    "NUM_PATIENTS = 12044"
   ]
  },
  {
   "cell_type": "code",
   "execution_count": 16,
   "metadata": {},
   "outputs": [
    {
     "name": "stderr",
     "output_type": "stream",
     "text": [
      "100%|██████████| 49/49 [00:01<00:00, 35.77it/s]\n",
      "48it [00:03, 13.60it/s]\n"
     ]
    },
    {
     "name": "stdout",
     "output_type": "stream",
     "text": [
      "final shape (12044, 433)\n"
     ]
    }
   ],
   "source": [
    "features = data.get_features() # uses several forms\n",
    "outcomes = data.get_outcomes() # 2 outcomes: iai, and iai_intervention\n",
    "df = pd.merge(features, outcomes, on='id', how='left')\n",
    "X_feats = data.preprocess(features)\n",
    "\n",
    "# get actual features\n",
    "X_np = X_feats.values\n",
    "feature_names = list(X_feats)\n",
    "y = outcomes['iai_intervention']"
   ]
  },
  {
   "cell_type": "code",
   "execution_count": 12,
   "metadata": {},
   "outputs": [],
   "source": [
    "y1 = X_feats['IAISuspicion_1'].values\n",
    "y2 = X_feats['IAIAcuteInterv_1'].values"
   ]
  },
  {
   "cell_type": "code",
   "execution_count": 14,
   "metadata": {},
   "outputs": [
    {
     "data": {
      "text/plain": [
       "Counter({1: 6591, 2: 3124, 4: 758, 3: 1166, 5: 298, 6: 107})"
      ]
     },
     "execution_count": 14,
     "metadata": {},
     "output_type": "execute_result"
    }
   ],
   "source": [
    "Counter(y1)"
   ]
  },
  {
   "cell_type": "code",
   "execution_count": 15,
   "metadata": {},
   "outputs": [
    {
     "data": {
      "text/plain": [
       "Counter({1: 9252, 2: 1793, 3: 506, 5: 87, 4: 281, 6: 125})"
      ]
     },
     "execution_count": 15,
     "metadata": {},
     "output_type": "execute_result"
    }
   ],
   "source": [
    "Counter(y2)"
   ]
  },
  {
   "cell_type": "code",
   "execution_count": 36,
   "metadata": {},
   "outputs": [
    {
     "name": "stdout",
     "output_type": "stream",
     "text": [
      "IAISuspicion: Clinical suspicion for the presence of IAI identified on CT (split into 5 levels)\n",
      "score\tiaiw/i\ttot\tfrac\n",
      "1\t 10 \t 6591\t0.002\n",
      "2\t 23 \t 3124\t0.007\n",
      "3\t 30 \t 1166\t0.026\n",
      "4\t 63 \t 758\t0.083\n",
      "5\t 77 \t 298\t0.258\n",
      "6\t 0 \t 107\t0.000\n"
     ]
    }
   ],
   "source": [
    "print('IAISuspicion: Clinical suspicion for the presence of IAI identified on CT (split into 5 levels)')\n",
    "print('score\\tiaiw/i\\ttot\\tfrac')\n",
    "for i in range(1, 7):\n",
    "    num_iai = np.sum(y[y1==i])\n",
    "    num_tot = np.size(y[y1==i])\n",
    "    print(f'{i}\\t {num_iai} \\t {num_tot}\\t{num_iai/num_tot:0.3f}')"
   ]
  },
  {
   "cell_type": "markdown",
   "metadata": {},
   "source": [
    "1 - <1%\n",
    "2 - 1-5%\n",
    "3 - 6-10%\n",
    "4 - 11-50%\n",
    "5 - >50%\n",
    "6 - Physician did not answer"
   ]
  },
  {
   "cell_type": "code",
   "execution_count": 37,
   "metadata": {},
   "outputs": [
    {
     "name": "stdout",
     "output_type": "stream",
     "text": [
      "IAIAcuteInterv_1 - Clinical suspicion for IAI in need of acute intervention (split into 5 levels)\n",
      "score\tiaiw/i\ttot\tfrac\n",
      "1\t 35 \t 9252\t0.004\n",
      "2\t 40 \t 1793\t0.022\n",
      "3\t 33 \t 506\t0.065\n",
      "4\t 59 \t 281\t0.210\n",
      "5\t 36 \t 87\t0.414\n",
      "6\t 0 \t 125\t0.000\n"
     ]
    }
   ],
   "source": [
    "print('IAIAcuteInterv_1 - Clinical suspicion for IAI in need of acute intervention (split into 5 levels)')\n",
    "print('score\\tiaiw/i\\ttot\\tfrac')\n",
    "for i in range(1, 7):\n",
    "    num_iai = np.sum(y[y2==i])\n",
    "    num_tot = np.size(y[y2==i])\n",
    "    print(f'{i}\\t {num_iai} \\t {num_tot}\\t{num_iai/num_tot:0.3f}')"
   ]
  }
 ],
 "metadata": {
  "kernelspec": {
   "display_name": "Python 3",
   "language": "python",
   "name": "python3"
  },
  "language_info": {
   "codemirror_mode": {
    "name": "ipython",
    "version": 3
   },
   "file_extension": ".py",
   "mimetype": "text/x-python",
   "name": "python",
   "nbconvert_exporter": "python",
   "pygments_lexer": "ipython3",
   "version": "3.7.0"
  }
 },
 "nbformat": 4,
 "nbformat_minor": 4
}
