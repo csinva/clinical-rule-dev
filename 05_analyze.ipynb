{
 "cells": [
  {
   "cell_type": "code",
   "execution_count": 73,
   "metadata": {},
   "outputs": [
    {
     "name": "stdout",
     "output_type": "stream",
     "text": [
      "The autoreload extension is already loaded. To reload it, use:\n",
      "  %reload_ext autoreload\n"
     ]
    }
   ],
   "source": [
    "%matplotlib inline\n",
    "%load_ext autoreload\n",
    "%autoreload 2\n",
    "import os\n",
    "from collections import Counter\n",
    "from os.path import join as oj\n",
    "\n",
    "import numpy as np\n",
    "from matplotlib import pyplot as plt\n",
    "plt.style.use('dark_background')\n",
    "import pandas as pd\n",
    "import pickle as pkl\n",
    "from tqdm import tqdm\n",
    "from viz import *\n",
    "\n",
    "out_dir = 'results/aug7_1' # combined the different abdTender values\n",
    "# out_dir = 'results/aug6_6/' # has a lot of results"
   ]
  },
  {
   "cell_type": "markdown",
   "metadata": {},
   "source": [
    "# compare all models"
   ]
  },
  {
   "cell_type": "code",
   "execution_count": 74,
   "metadata": {},
   "outputs": [
    {
     "name": "stderr",
     "output_type": "stream",
     "text": [
      "100%|██████████| 166/166 [00:00<00:00, 202.71it/s]\n"
     ]
    }
   ],
   "source": [
    "def load_results(out_dir):\n",
    "    r = []\n",
    "    for fname in tqdm(os.listdir(out_dir)):\n",
    "        d = pkl.load(open(oj(out_dir, fname), 'rb'))\n",
    "        d['param_name'] = fname[:-4]\n",
    "        r.append(pd.Series(d))\n",
    "    r = pd.concat(r, axis=1, sort=False).T.infer_objects()\n",
    "    r = r.reindex(sorted(r.columns, reverse=True), axis=1) # sort the column names\n",
    "    r = r.round(3)\n",
    "    r = r.set_index('param_name')\n",
    "    return r\n",
    "\n",
    "results = load_results(out_dir)\n",
    "# print(results.keys())"
   ]
  },
  {
   "cell_type": "markdown",
   "metadata": {},
   "source": [
    "## look at prediction metrics\n",
    "\n",
    "Most important thing is to have very low false negatives (very close to zero). After that, we also want to minimize the false positives."
   ]
  },
  {
   "cell_type": "code",
   "execution_count": null,
   "metadata": {},
   "outputs": [],
   "source": [
    "# prev rule: sensitivity 0.97, specificity 0.425\n",
    "r = results\n",
    "# print(r.keys())\n",
    "# r = r[[k for k in r if not 'std' in k]]\n",
    "# r = r[[k for k in r if not '_test' in k]]\n",
    "# r = r[[k for k in r if not '_f' in k]]\n",
    "# r = r[r.index.str.contains('ros')] # only use random sampling\n",
    "# r = r.sort_values(by=['balanced_accuracy'], ascending=False)\n",
    "# r = r[r.model_type == 'grl']\n",
    "# r = r[r.model_type == 'brl']\n",
    "r = r[r['sensitivity_cv'] > 0.8] # what fraction of true pos do we return?\n",
    "r = r[r['specificity_cv'] > 0.4] # what fraction of true negs do we return?\n",
    "\n",
    "r = r.sort_values(by=['sensitivity_cv', 'specificity_cv'], ascending=False)\n",
    "r = r[['sensitivity_cv', 'specificity_cv', # 'precision',\n",
    "       'sensitivity_test1', 'specificity_test1',\n",
    "       'sensitivity_test2', 'specificity_test2',\n",
    "       'fn_cv', 'tn_cv', 'fp_cv', 'tp_cv',\n",
    "       'precision_cv', 'roc_auc_cv', \n",
    "#        'f1_cv', 'balanced_accuracy_cv', 'accuracy_cv',\n",
    "       'fn_test1', 'tn_test1', 'fp_test1', 'tp_test1',\n",
    "       'fn_test2', 'tn_test2', 'fp_test2', 'tp_test2']]\n",
    "# r.style.background_gradient(cmap='viridis', axis=None) # all values on same cmap\n",
    "# r = r[r.index == 'logistic_select_lasso=27_ros=100']\n",
    "# r.style.background_gradient(cmap='viridis', axis=0) # columns differently colored\n",
    "# r.style.apply(viz.highlight_max, subset=[k for k in r if not 'std' in k])\n",
    "r"
   ]
  },
  {
   "cell_type": "markdown",
   "metadata": {},
   "source": [
    "**look at feat importances**"
   ]
  },
  {
   "cell_type": "code",
   "execution_count": 76,
   "metadata": {},
   "outputs": [
    {
     "data": {
      "text/html": [
       "<style  type=\"text/css\" >\n",
       "    #T_2ae6c242_d8bb_11ea_8a0b_002590e83e0arow0_col1 {\n",
       "            background-color:  #da3b46;\n",
       "            color:  #f1f1f1;\n",
       "        }    #T_2ae6c242_d8bb_11ea_8a0b_002590e83e0arow1_col1 {\n",
       "            background-color:  #e5767e;\n",
       "            color:  #000000;\n",
       "        }    #T_2ae6c242_d8bb_11ea_8a0b_002590e83e0arow2_col1 {\n",
       "            background-color:  #e8858d;\n",
       "            color:  #000000;\n",
       "        }    #T_2ae6c242_d8bb_11ea_8a0b_002590e83e0arow3_col1 {\n",
       "            background-color:  #f2bcc0;\n",
       "            color:  #000000;\n",
       "        }    #T_2ae6c242_d8bb_11ea_8a0b_002590e83e0arow4_col1 {\n",
       "            background-color:  #f8dadc;\n",
       "            color:  #000000;\n",
       "        }    #T_2ae6c242_d8bb_11ea_8a0b_002590e83e0arow5_col1 {\n",
       "            background-color:  #6a98ba;\n",
       "            color:  #000000;\n",
       "        }    #T_2ae6c242_d8bb_11ea_8a0b_002590e83e0arow6_col1 {\n",
       "            background-color:  #417ca8;\n",
       "            color:  #000000;\n",
       "        }</style><table id=\"T_2ae6c242_d8bb_11ea_8a0b_002590e83e0a\" ><thead>    <tr>        <th class=\"blank level0\" ></th>        <th class=\"col_heading level0 col0\" >feats</th>        <th class=\"col_heading level0 col1\" >imps</th>    </tr></thead><tbody>\n",
       "                <tr>\n",
       "                        <th id=\"T_2ae6c242_d8bb_11ea_8a0b_002590e83e0alevel0_row0\" class=\"row_heading level0 row0\" >2</th>\n",
       "                        <td id=\"T_2ae6c242_d8bb_11ea_8a0b_002590e83e0arow0_col0\" class=\"data row0 col0\" >AbdTrauma_or_SeatBeltSign_yes</td>\n",
       "                        <td id=\"T_2ae6c242_d8bb_11ea_8a0b_002590e83e0arow0_col1\" class=\"data row0 col1\" >0.68</td>\n",
       "            </tr>\n",
       "            <tr>\n",
       "                        <th id=\"T_2ae6c242_d8bb_11ea_8a0b_002590e83e0alevel0_row1\" class=\"row_heading level0 row1\" >5</th>\n",
       "                        <td id=\"T_2ae6c242_d8bb_11ea_8a0b_002590e83e0arow1_col0\" class=\"data row1 col0\" >DecrBreathSound_yes</td>\n",
       "                        <td id=\"T_2ae6c242_d8bb_11ea_8a0b_002590e83e0arow1_col1\" class=\"data row1 col1\" >0.39</td>\n",
       "            </tr>\n",
       "            <tr>\n",
       "                        <th id=\"T_2ae6c242_d8bb_11ea_8a0b_002590e83e0alevel0_row2\" class=\"row_heading level0 row2\" >0</th>\n",
       "                        <td id=\"T_2ae6c242_d8bb_11ea_8a0b_002590e83e0arow2_col0\" class=\"data row2 col0\" >AbdDistention_yes</td>\n",
       "                        <td id=\"T_2ae6c242_d8bb_11ea_8a0b_002590e83e0arow2_col1\" class=\"data row2 col1\" >0.31</td>\n",
       "            </tr>\n",
       "            <tr>\n",
       "                        <th id=\"T_2ae6c242_d8bb_11ea_8a0b_002590e83e0alevel0_row3\" class=\"row_heading level0 row3\" >4</th>\n",
       "                        <td id=\"T_2ae6c242_d8bb_11ea_8a0b_002590e83e0arow3_col0\" class=\"data row3 col0\" >Age</td>\n",
       "                        <td id=\"T_2ae6c242_d8bb_11ea_8a0b_002590e83e0arow3_col1\" class=\"data row3 col1\" >0.04</td>\n",
       "            </tr>\n",
       "            <tr>\n",
       "                        <th id=\"T_2ae6c242_d8bb_11ea_8a0b_002590e83e0alevel0_row4\" class=\"row_heading level0 row4\" >3</th>\n",
       "                        <td id=\"T_2ae6c242_d8bb_11ea_8a0b_002590e83e0arow4_col0\" class=\"data row4 col0\" >AbdomenPain_yes</td>\n",
       "                        <td id=\"T_2ae6c242_d8bb_11ea_8a0b_002590e83e0arow4_col1\" class=\"data row4 col1\" >-0.11</td>\n",
       "            </tr>\n",
       "            <tr>\n",
       "                        <th id=\"T_2ae6c242_d8bb_11ea_8a0b_002590e83e0alevel0_row5\" class=\"row_heading level0 row5\" >6</th>\n",
       "                        <td id=\"T_2ae6c242_d8bb_11ea_8a0b_002590e83e0arow5_col0\" class=\"data row5 col0\" >GCSScore_Full_yes</td>\n",
       "                        <td id=\"T_2ae6c242_d8bb_11ea_8a0b_002590e83e0arow5_col1\" class=\"data row5 col1\" >-0.92</td>\n",
       "            </tr>\n",
       "            <tr>\n",
       "                        <th id=\"T_2ae6c242_d8bb_11ea_8a0b_002590e83e0alevel0_row6\" class=\"row_heading level0 row6\" >1</th>\n",
       "                        <td id=\"T_2ae6c242_d8bb_11ea_8a0b_002590e83e0arow6_col0\" class=\"data row6 col0\" >AbdTenderDegree_None</td>\n",
       "                        <td id=\"T_2ae6c242_d8bb_11ea_8a0b_002590e83e0arow6_col1\" class=\"data row6 col1\" >-1.13</td>\n",
       "            </tr>\n",
       "    </tbody></table>"
      ],
      "text/plain": [
       "<pandas.io.formats.style.Styler at 0x7f9a0f45a890>"
      ]
     },
     "execution_count": 76,
     "metadata": {},
     "output_type": "execute_result"
    }
   ],
   "source": [
    "best_model = 'logistic_select_stab_lasso=5_sample_weights=750' #logistic_select_rf=5_smote=5'\n",
    "r = results\n",
    "r = r[r.index.str.contains(best_model)].iloc[0]\n",
    "d = pd.DataFrame.from_dict({\n",
    "    'feats': r['feat_names_selected'],\n",
    "    'imps': r['imps_best'],\n",
    "})\n",
    "d = d.iloc[np.argsort(d['imps'])[::-1]]\n",
    "d = d.round(2)\n",
    "d.fillna(0).style.background_gradient(cmap=cm_rev) #, axis=0) #, subset=subset) # rows differently colored"
   ]
  },
  {
   "cell_type": "code",
   "execution_count": 77,
   "metadata": {},
   "outputs": [
    {
     "data": {
      "text/plain": [
       "sensitivity_cv       0.969\n",
       "specificity_cv       0.521\n",
       "sensitivity_test1    0.877\n",
       "specificity_test1    0.513\n",
       "sensitivity_test2    0.984\n",
       "specificity_test2    0.515\n",
       "Name: logistic_select_stab_lasso=5_sample_weights=750, dtype: object"
      ]
     },
     "execution_count": 77,
     "metadata": {},
     "output_type": "execute_result"
    }
   ],
   "source": [
    "r[['sensitivity_cv', 'specificity_cv', # 'precision',\n",
    "       'sensitivity_test1', 'specificity_test1',\n",
    "       'sensitivity_test2', 'specificity_test2']]"
   ]
  }
 ],
 "metadata": {
  "kernelspec": {
   "display_name": "Python 3",
   "language": "python",
   "name": "python3"
  },
  "language_info": {
   "codemirror_mode": {
    "name": "ipython",
    "version": 3
   },
   "file_extension": ".py",
   "mimetype": "text/x-python",
   "name": "python",
   "nbconvert_exporter": "python",
   "pygments_lexer": "ipython3",
   "version": "3.7.5"
  },
  "pycharm": {
   "stem_cell": {
    "cell_type": "raw",
    "metadata": {
     "collapsed": false
    },
    "source": []
   }
  }
 },
 "nbformat": 4,
 "nbformat_minor": 4
}
