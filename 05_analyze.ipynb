{
 "cells": [
  {
   "cell_type": "code",
   "execution_count": 88,
   "metadata": {},
   "outputs": [
    {
     "name": "stdout",
     "output_type": "stream",
     "text": [
      "The autoreload extension is already loaded. To reload it, use:\n",
      "  %reload_ext autoreload\n"
     ]
    }
   ],
   "source": [
    "%matplotlib inline\n",
    "%load_ext autoreload\n",
    "%autoreload 2\n",
    "import os\n",
    "from collections import Counter\n",
    "from os.path import join as oj\n",
    "\n",
    "import numpy as np\n",
    "from matplotlib import pyplot as plt\n",
    "plt.style.use('dark_background')\n",
    "import pandas as pd\n",
    "import pickle as pkl\n",
    "from tqdm import tqdm\n",
    "from viz import *\n",
    "\n",
    "# out_dir = 'results/aug7_1' # combined the different abdTender values\n",
    "# out_dir = 'results/aug6_6/' # has a lot of results\n",
    "out_dir = 'results/aug7_logistics' # has hyperparams for logistic"
   ]
  },
  {
   "cell_type": "markdown",
   "metadata": {},
   "source": [
    "# compare all models"
   ]
  },
  {
   "cell_type": "code",
   "execution_count": 89,
   "metadata": {},
   "outputs": [
    {
     "name": "stderr",
     "output_type": "stream",
     "text": [
      "100%|██████████| 6/6 [00:00<00:00, 352.81it/s]\n"
     ]
    }
   ],
   "source": [
    "def load_results(out_dir):\n",
    "    r = []\n",
    "    for fname in tqdm(os.listdir(out_dir)):\n",
    "        d = pkl.load(open(oj(out_dir, fname), 'rb'))\n",
    "        d['param_name'] = fname[:-4]\n",
    "        r.append(pd.Series(d))\n",
    "    r = pd.concat(r, axis=1, sort=False).T.infer_objects()\n",
    "    r = r.reindex(sorted(r.columns, reverse=True), axis=1) # sort the column names\n",
    "    r = r.round(3)\n",
    "    r = r.set_index('param_name')\n",
    "    return r\n",
    "\n",
    "results = load_results(out_dir)\n",
    "# print(results.keys())"
   ]
  },
  {
   "cell_type": "markdown",
   "metadata": {},
   "source": [
    "## look at prediction metrics\n",
    "\n",
    "Most important thing is to have very low false negatives (very close to zero). After that, we also want to minimize the false positives."
   ]
  },
  {
   "cell_type": "code",
   "execution_count": 90,
   "metadata": {},
   "outputs": [
    {
     "data": {
      "text/html": [
       "<div>\n",
       "<style scoped>\n",
       "    .dataframe tbody tr th:only-of-type {\n",
       "        vertical-align: middle;\n",
       "    }\n",
       "\n",
       "    .dataframe tbody tr th {\n",
       "        vertical-align: top;\n",
       "    }\n",
       "\n",
       "    .dataframe thead th {\n",
       "        text-align: right;\n",
       "    }\n",
       "</style>\n",
       "<table border=\"1\" class=\"dataframe\">\n",
       "  <thead>\n",
       "    <tr style=\"text-align: right;\">\n",
       "      <th></th>\n",
       "      <th>sensitivity_cv</th>\n",
       "      <th>specificity_cv</th>\n",
       "      <th>sensitivity_test1</th>\n",
       "      <th>specificity_test1</th>\n",
       "      <th>sensitivity_test2</th>\n",
       "      <th>specificity_test2</th>\n",
       "      <th>fn_cv</th>\n",
       "      <th>tn_cv</th>\n",
       "      <th>fp_cv</th>\n",
       "      <th>tp_cv</th>\n",
       "      <th>precision_cv</th>\n",
       "      <th>roc_auc_cv</th>\n",
       "      <th>fn_test1</th>\n",
       "      <th>tn_test1</th>\n",
       "      <th>fp_test1</th>\n",
       "      <th>tp_test1</th>\n",
       "      <th>fn_test2</th>\n",
       "      <th>tn_test2</th>\n",
       "      <th>fp_test2</th>\n",
       "      <th>tp_test2</th>\n",
       "    </tr>\n",
       "    <tr>\n",
       "      <th>param_name</th>\n",
       "      <th></th>\n",
       "      <th></th>\n",
       "      <th></th>\n",
       "      <th></th>\n",
       "      <th></th>\n",
       "      <th></th>\n",
       "      <th></th>\n",
       "      <th></th>\n",
       "      <th></th>\n",
       "      <th></th>\n",
       "      <th></th>\n",
       "      <th></th>\n",
       "      <th></th>\n",
       "      <th></th>\n",
       "      <th></th>\n",
       "      <th></th>\n",
       "      <th></th>\n",
       "      <th></th>\n",
       "      <th></th>\n",
       "      <th></th>\n",
       "    </tr>\n",
       "  </thead>\n",
       "  <tbody>\n",
       "  </tbody>\n",
       "</table>\n",
       "</div>"
      ],
      "text/plain": [
       "Empty DataFrame\n",
       "Columns: [sensitivity_cv, specificity_cv, sensitivity_test1, specificity_test1, sensitivity_test2, specificity_test2, fn_cv, tn_cv, fp_cv, tp_cv, precision_cv, roc_auc_cv, fn_test1, tn_test1, fp_test1, tp_test1, fn_test2, tn_test2, fp_test2, tp_test2]\n",
       "Index: []"
      ]
     },
     "execution_count": 90,
     "metadata": {},
     "output_type": "execute_result"
    }
   ],
   "source": [
    "# prev rule: sensitivity 0.97, specificity 0.425\n",
    "r = results\n",
    "# print(r.keys())\n",
    "# r = r[[k for k in r if not 'std' in k]]\n",
    "# r = r[[k for k in r if not '_test' in k]]\n",
    "# r = r[[k for k in r if not '_f' in k]]\n",
    "# r = r[r.index.str.contains('ros')] # only use random sampling\n",
    "# r = r.sort_values(by=['balanced_accuracy'], ascending=False)\n",
    "# r = r[r.model_type == 'grl']\n",
    "# r = r[r.model_type == 'brl']\n",
    "r = r[r['sensitivity_cv'] > 0.8] # what fraction of true pos do we return?\n",
    "r = r[r['specificity_cv'] > 0.4] # what fraction of true negs do we return?\n",
    "\n",
    "r = r.sort_values(by=['sensitivity_cv', 'specificity_cv'], ascending=False)\n",
    "r = r[['sensitivity_cv', 'specificity_cv', # 'precision',\n",
    "       'sensitivity_test1', 'specificity_test1',\n",
    "       'sensitivity_test2', 'specificity_test2',\n",
    "       'fn_cv', 'tn_cv', 'fp_cv', 'tp_cv',\n",
    "       'precision_cv', 'roc_auc_cv', \n",
    "#        'f1_cv', 'balanced_accuracy_cv', 'accuracy_cv',\n",
    "       'fn_test1', 'tn_test1', 'fp_test1', 'tp_test1',\n",
    "       'fn_test2', 'tn_test2', 'fp_test2', 'tp_test2']]\n",
    "# r.style.background_gradient(cmap='viridis', axis=None) # all values on same cmap\n",
    "# r = r[r.index == 'logistic_select_lasso=27_ros=100']\n",
    "# r.style.background_gradient(cmap='viridis', axis=0) # columns differently colored\n",
    "# r.style.apply(viz.highlight_max, subset=[k for k in r if not 'std' in k])\n",
    "r"
   ]
  },
  {
   "cell_type": "markdown",
   "metadata": {},
   "source": [
    "**look at feat importances**"
   ]
  },
  {
   "cell_type": "code",
   "execution_count": null,
   "metadata": {},
   "outputs": [],
   "source": [
    "best_model = 'logistic_select_stab_lasso=5_sample_weights=750' #logistic_select_rf=5_smote=5'\n",
    "r = results[results.index.str.contains(best_model)].iloc[0]\n",
    "\n",
    "d = pd.DataFrame.from_dict({\n",
    "    'feats': r['feat_names_selected'],\n",
    "    'imps': r['imps_best'],\n",
    "})\n",
    "d = d.iloc[np.argsort(d['imps'])[::-1]]\n",
    "d = d.round(2)\n",
    "d.fillna(0).style.background_gradient(cmap=cm_rev) #, axis=0) #, subset=subset) # rows differently colored"
   ]
  },
  {
   "cell_type": "code",
   "execution_count": 77,
   "metadata": {},
   "outputs": [
    {
     "data": {
      "text/plain": [
       "sensitivity_cv       0.969\n",
       "specificity_cv       0.521\n",
       "sensitivity_test1    0.877\n",
       "specificity_test1    0.513\n",
       "sensitivity_test2    0.984\n",
       "specificity_test2    0.515\n",
       "Name: logistic_select_stab_lasso=5_sample_weights=750, dtype: object"
      ]
     },
     "execution_count": 77,
     "metadata": {},
     "output_type": "execute_result"
    }
   ],
   "source": [
    "r[['sensitivity_cv', 'specificity_cv', # 'precision',\n",
    "       'sensitivity_test1', 'specificity_test1',\n",
    "       'sensitivity_test2', 'specificity_test2']]"
   ]
  }
 ],
 "metadata": {
  "kernelspec": {
   "display_name": "Python 3",
   "language": "python",
   "name": "python3"
  },
  "language_info": {
   "codemirror_mode": {
    "name": "ipython",
    "version": 3
   },
   "file_extension": ".py",
   "mimetype": "text/x-python",
   "name": "python",
   "nbconvert_exporter": "python",
   "pygments_lexer": "ipython3",
   "version": "3.7.5"
  },
  "pycharm": {
   "stem_cell": {
    "cell_type": "raw",
    "metadata": {
     "collapsed": false
    },
    "source": []
   }
  }
 },
 "nbformat": 4,
 "nbformat_minor": 4
}
