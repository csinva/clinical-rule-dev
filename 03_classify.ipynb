{
 "cells": [
  {
   "cell_type": "code",
   "execution_count": 5,
   "metadata": {},
   "outputs": [
    {
     "name": "stdout",
     "output_type": "stream",
     "text": [
      "The autoreload extension is already loaded. To reload it, use:\n",
      "  %reload_ext autoreload\n"
     ]
    }
   ],
   "source": [
    "%matplotlib inline\n",
    "%load_ext autoreload\n",
    "%autoreload 2\n",
    "\n",
    "import os\n",
    "from os.path import join as oj\n",
    "import sys, time\n",
    "sys.path.insert(1, oj(sys.path[0], '..'))  # insert parent path\n",
    "import seaborn as sns\n",
    "from sklearn.model_selection import train_test_split\n",
    "import numpy as np\n",
    "import matplotlib.pyplot as plt\n",
    "from tqdm import tqdm\n",
    "from copy import deepcopy\n",
    "import pickle as pkl\n",
    "from sklearn.tree import DecisionTreeClassifier, plot_tree\n",
    "from sklearn.model_selection import cross_validate, ShuffleSplit, train_test_split\n",
    "from sklearn.linear_model import LogisticRegressionCV\n",
    "from sklearn import metrics\n",
    "import pandas as pd\n",
    "import data \n",
    "from collections import Counter\n",
    "import train\n",
    "plt.style.use('dark_background')\n",
    "# sns.set(style=\"white\")\n",
    "NUM_PATIENTS = 12044\n",
    "# import warnings\n",
    "# warnings.filterwarnings(\"ignore\", category=DeprecationWarning)"
   ]
  },
  {
   "cell_type": "code",
   "execution_count": 6,
   "metadata": {},
   "outputs": [],
   "source": [
    "df = data.get_data(use_processed=True)\n",
    "feat_names = [k for k in df.keys() # features to use\n",
    "              if not k in ['id', 'cv_fold'] \n",
    "              and not 'iai' in k.lower()]\n",
    "outcome_def = 'iai_intervention' # output"
   ]
  },
  {
   "cell_type": "code",
   "execution_count": 7,
   "metadata": {},
   "outputs": [
    {
     "name": "stdout",
     "output_type": "stream",
     "text": [
      "num keys 115 Index(['id', 'ageinyrs', 'EDTriageTime_1', 'InjuryDay_1', 'InjTmKnown_1',\n",
      "       'TriageTmUnkown_1', 'Certification_1', 'LtCostalTender_1',\n",
      "       'RtCostalTender_1', 'AbnChestAusc_1',\n",
      "       ...\n",
      "       'AbdDistention_1_4', 'AbdTenderDegree_1_1.0', 'AbdTenderDegree_1_2.0',\n",
      "       'AbdTenderDegree_1_3.0', 'AbdTenderDegree_1_4.0',\n",
      "       'AbdTenderDegree_1_nan', 'Costal_1_True',\n",
      "       'AbdTrauma_or_SeatBeltSign_1_False', 'AbdTrauma_or_SeatBeltSign_1_True',\n",
      "       'cv_fold'],\n",
      "      dtype='object', length=115)\n"
     ]
    }
   ],
   "source": [
    "print('num keys', len(df.keys()), df.keys())"
   ]
  },
  {
   "cell_type": "markdown",
   "metadata": {},
   "source": [
    "# predict"
   ]
  },
  {
   "cell_type": "code",
   "execution_count": 9,
   "metadata": {},
   "outputs": [],
   "source": [
    "def get_pecarn_feats(feat_names):\n",
    "    '''Get dummy variable names\n",
    "    '''\n",
    "    pecarn_feats = ['VomitWretch_1', 'RecodedMOI_1', 'GCSScore_1', 'ThoracicTender_1', 'ThoracicTrauma_1', \n",
    "              'Cosatsl_1', 'DecrBreathSound_1', 'AbdDistention_1', 'AbdomenPain_1', 'AbdTenderDegree_1',\n",
    "              'AbdTrauma_1', 'SeatBeltSign_1', 'DistractingPain_1']\n",
    "    # InjuryMechanism_1, hypotension?, femure fracture\n",
    "    ks = set()\n",
    "    for pecarn_feat in pecarn_feats:\n",
    "        for feat_name in feat_names:\n",
    "            if pecarn_feat in feat_name:\n",
    "                ks.add(feat_name)\n",
    "    ks = np.array(list(ks))\n",
    "    return ks\n",
    "\n",
    "pecarn_feats = get_pecarn_feats(feat_names)"
   ]
  },
  {
   "cell_type": "code",
   "execution_count": null,
   "metadata": {},
   "outputs": [
    {
     "name": "stderr",
     "output_type": "stream",
     "text": [
      "  0%|          | 0/6 [00:00<?, ?it/s]"
     ]
    }
   ],
   "source": [
    "for balancing_ratio in [1, 2, 100]: \n",
    "    for balancing in ['ros', 'smote']:\n",
    "         for model_type in tqdm(['gb', 'logistic', 'dt', 'svm', 'rf', 'mlp2']):\n",
    "            for num_feats in [20, 30, 52]: #111]:\n",
    "                # feats = feat_names[:num_feats]\n",
    "                feats = pecarn_feats[:num_feats]\n",
    "                out_dir = f'results/outcome={outcome_def}'\n",
    "                os.makedirs(out_dir, exist_ok=True)\n",
    "                out_name = f'{model_type}_{len(feats)}_{balancing}={balancing_ratio}'\n",
    "                train.train(df, feat_names=feats, model_type=model_type, balancing=balancing, outcome_def=outcome_def,\n",
    "                            out_name=f'{out_dir}/{out_name}.pkl')"
   ]
  },
  {
   "cell_type": "code",
   "execution_count": null,
   "metadata": {},
   "outputs": [],
   "source": []
  }
 ],
 "metadata": {
  "kernelspec": {
   "display_name": "Python 3",
   "language": "python",
   "name": "python3"
  },
  "language_info": {
   "codemirror_mode": {
    "name": "ipython",
    "version": 3
   },
   "file_extension": ".py",
   "mimetype": "text/x-python",
   "name": "python",
   "nbconvert_exporter": "python",
   "pygments_lexer": "ipython3",
   "version": "3.7.5"
  }
 },
 "nbformat": 4,
 "nbformat_minor": 4
}
