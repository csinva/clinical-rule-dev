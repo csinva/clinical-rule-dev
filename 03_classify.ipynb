{
 "cells": [
  {
   "cell_type": "code",
   "execution_count": 1,
   "metadata": {},
   "outputs": [
    {
     "name": "stderr",
     "output_type": "stream",
     "text": [
      "Using TensorFlow backend.\n"
     ]
    }
   ],
   "source": [
    "%matplotlib inline\n",
    "%load_ext autoreload\n",
    "%autoreload 2\n",
    "\n",
    "import os\n",
    "from os.path import join as oj\n",
    "import sys, time\n",
    "sys.path.insert(1, oj(sys.path[0], '..'))  # insert parent path\n",
    "import seaborn as sns\n",
    "from sklearn.model_selection import train_test_split\n",
    "import numpy as np\n",
    "import matplotlib.pyplot as plt\n",
    "from tqdm import tqdm\n",
    "from copy import deepcopy\n",
    "import pickle as pkl\n",
    "from sklearn.tree import DecisionTreeClassifier, plot_tree\n",
    "from sklearn.model_selection import cross_validate, ShuffleSplit, train_test_split\n",
    "from sklearn.linear_model import LogisticRegressionCV\n",
    "from sklearn import metrics\n",
    "import eli5\n",
    "import pandas as pd\n",
    "import data \n",
    "from collections import Counter\n",
    "import train\n",
    "plt.style.use('dark_background')\n",
    "# sns.set(style=\"white\")\n",
    "NUM_PATIENTS = 12044\n",
    "# import warnings\n",
    "# warnings.filterwarnings(\"ignore\", category=DeprecationWarning)"
   ]
  },
  {
   "cell_type": "code",
   "execution_count": 39,
   "metadata": {},
   "outputs": [
    {
     "name": "stderr",
     "output_type": "stream",
     "text": [
      "100%|██████████| 49/49 [00:01<00:00, 28.95it/s]\n",
      "48it [00:05,  7.06it/s]\n"
     ]
    },
    {
     "name": "stdout",
     "output_type": "stream",
     "text": [
      "final shape (12044, 433)\n"
     ]
    }
   ],
   "source": [
    "# prep the dataframe\n",
    "df_feats = data.get_features() # uses several forms\n",
    "df_feats = data.preprocess(df_feats) # preprocess the feats\n",
    "outcomes = data.get_outcomes() # 2 outcomes: iai, and iai_intervention\n",
    "df = pd.merge(features, outcomes, on='id', how='left')\n",
    "\n",
    "\n",
    "# convert feats to dummy\n",
    "df = pd.get_dummies(df, dummy_na=True) # treat na as a separate category\n",
    "df = data.remove_zero_cols(df) # remove any cols that are all zero\n",
    "\n",
    "# set up train / test\n",
    "np.random.seed(42)\n",
    "df['cv_fold'] = np.random.randint(1, 7, size=df.shape[0]) # 6 is the test set\n",
    "\n",
    "# feats / outcome keys\n",
    "feat_names = [k for k in df.keys() if not k in ['id', 'cv_fold'] and not 'IAI' in k]\n",
    "outcome_def = 'iai_intervention'"
   ]
  },
  {
   "cell_type": "code",
   "execution_count": 16,
   "metadata": {},
   "outputs": [
    {
     "data": {
      "text/plain": [
       "\"\\nX_feats = pd.get_dummies(df_filt[keys], dummy_na=True) # treat na as a separate category\\nX_feats = remove_zero_cols(X_feats)\\n    \\ndf = df[feat_names+ [outcome_def]].replace('True', 1).replace('False', 0)\\ndf = df.replace('nan', -1)\\ndf = df.fillna(-1)\\ndf = df.infer_objects()\\ndf = df.astype(float).astype(int)\\n\""
      ]
     },
     "execution_count": 16,
     "metadata": {},
     "output_type": "execute_result"
    }
   ],
   "source": [
    "'''\n",
    "X_feats = pd.get_dummies(df_filt[keys], dummy_na=True) # treat na as a separate category\n",
    "X_feats = remove_zero_cols(X_feats)\n",
    "    \n",
    "df = df[feat_names+ [outcome_def]].replace('True', 1).replace('False', 0)\n",
    "df = df.replace('nan', -1)\n",
    "df = df.fillna(-1)\n",
    "df = df.infer_objects()\n",
    "df = df.astype(float).astype(int)\n",
    "'''\n",
    "\n",
    "# remove unusable features\n",
    "# X_feats_full= X_feats_full[ks]\n",
    "\n",
    "# get actual features\n",
    "# X_np = X_feats_full.values\n",
    "\n",
    "# y_np = outcomes['iai_intervention']"
   ]
  },
  {
   "cell_type": "code",
   "execution_count": 40,
   "metadata": {},
   "outputs": [],
   "source": [
    "d2 = df[[k for k in list(df.keys()) if 'GCS' in k]]"
   ]
  },
  {
   "cell_type": "code",
   "execution_count": 41,
   "metadata": {},
   "outputs": [
    {
     "data": {
      "text/plain": [
       "GCSEye_1                                                                       float64\n",
       "GCSVerbal_1                                                                    float64\n",
       "GCSMotor_1                                                                     float64\n",
       "GCSScore_1                                                                     float64\n",
       "AggregateGCS_1                                                                 float64\n",
       "GCSEye_2                                                                       float64\n",
       "GCSVerbal_2                                                                    float64\n",
       "GCSMotor_2                                                                     float64\n",
       "GCSScore_2                                                                     float64\n",
       "AggregateGCS_2                                                                 float64\n",
       "OtherMechanism_1_baseball bat to head with decreased mental status (GCS 14)      uint8\n",
       "OtherDescrip_1_indicforabdct_GCS 14@ ????                                        uint8\n",
       "OtherDescrip_1_indicforabdct_GCS SCORE                                           uint8\n",
       "OtherDescrip_1_indicforabdct_GCS unable to assess abdomen                        uint8\n",
       "OtherDescrip_1_indicforabdct_GCS< 8                                              uint8\n",
       "dtype: object"
      ]
     },
     "execution_count": 41,
     "metadata": {},
     "output_type": "execute_result"
    }
   ],
   "source": [
    "d2.dtypes"
   ]
  },
  {
   "cell_type": "code",
   "execution_count": 42,
   "metadata": {},
   "outputs": [
    {
     "data": {
      "text/plain": [
       "Index(['GCSEye_1', 'GCSVerbal_1', 'GCSMotor_1', 'GCSScore_1', 'AggregateGCS_1',\n",
       "       'GCSEye_2', 'GCSVerbal_2', 'GCSMotor_2', 'GCSScore_2', 'AggregateGCS_2',\n",
       "       'OtherMechanism_1_baseball bat to head with decreased mental status (GCS 14)',\n",
       "       'OtherDescrip_1_indicforabdct_GCS 14@ ????',\n",
       "       'OtherDescrip_1_indicforabdct_GCS SCORE',\n",
       "       'OtherDescrip_1_indicforabdct_GCS unable to assess abdomen',\n",
       "       'OtherDescrip_1_indicforabdct_GCS< 8'],\n",
       "      dtype='object')"
      ]
     },
     "execution_count": 42,
     "metadata": {},
     "output_type": "execute_result"
    }
   ],
   "source": [
    "d2.keys()"
   ]
  },
  {
   "cell_type": "markdown",
   "metadata": {},
   "source": [
    "# predict limited"
   ]
  },
  {
   "cell_type": "code",
   "execution_count": 45,
   "metadata": {},
   "outputs": [],
   "source": [
    "pecarn_feats = ['VomitWretch_1', 'RecodedMOI_1', 'GCSScore_1', 'ThoracicTender_1', 'ThoracicTrauma_1', \n",
    "          'Cosatsl_1', 'DecrBreathSound_1', 'AbdDistention_1', 'AbdomenPain_1', 'AbdTenderDegree_1',\n",
    "          'AbdTrauma_1', 'SeatBeltSign_1', 'DistractingPain_1']\n",
    "# InjuryMechanism_1, hypotension?, femure fracture\n",
    "ks = set()\n",
    "for k in pecarn_feats:\n",
    "    for feat_name in feat_names:\n",
    "        if feat_name in k:\n",
    "            ks.add(k)\n",
    "ks = np.array(list(ks))"
   ]
  },
  {
   "cell_type": "code",
   "execution_count": null,
   "metadata": {},
   "outputs": [],
   "source": [
    "for balancing in ['none', 'ros']:\n",
    "    for model_type in tqdm(['gb', 'logistic', 'dt', 'svm', 'rf', 'mlp2']):\n",
    "        for num_feats in [4]: #, 9, 11, 23, 35]: #[23]:# [4, 6, 7, 9, 11]:\n",
    "            # feats = feat_names[:num_feats]\n",
    "            feats = pecarn_feats[:num_feats]\n",
    "            out_dir = f'results/outcome={outcome_def}'\n",
    "            os.makedirs(out_dir, exist_ok=True)\n",
    "            out_name = f'{model_type}_{len(feat_names)}_{balancing}'\n",
    "            train.train(df, feat_names=feats, model_type=model_type, balancing=balancing, outcome_def=outcome_def,\n",
    "                        out_name=f'{out_dir}/{out_name}.pkl')"
   ]
  }
 ],
 "metadata": {
  "kernelspec": {
   "display_name": "Python 3",
   "language": "python",
   "name": "python3"
  },
  "language_info": {
   "codemirror_mode": {
    "name": "ipython",
    "version": 3
   },
   "file_extension": ".py",
   "mimetype": "text/x-python",
   "name": "python",
   "nbconvert_exporter": "python",
   "pygments_lexer": "ipython3",
   "version": "3.7.5"
  }
 },
 "nbformat": 4,
 "nbformat_minor": 4
}
