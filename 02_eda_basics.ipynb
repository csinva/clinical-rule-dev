{
 "cells": [
  {
   "cell_type": "code",
   "execution_count": 1,
   "metadata": {},
   "outputs": [],
   "source": [
    "import os\n",
    "from os.path import join as oj\n",
    "import sys, time\n",
    "import seaborn as sns\n",
    "import numpy as np\n",
    "import matplotlib.pyplot as plt\n",
    "from tqdm import tqdm\n",
    "from copy import deepcopy\n",
    "import pickle as pkl\n",
    "import pandas as pd\n",
    "import data_pecarn\n",
    "import matplotlib.gridspec as grd\n",
    "import data\n",
    "\n",
    "# sns.set(style=\"black\")\n",
    "plt.style.use('dark_background')\n",
    "%matplotlib inline\n",
    "%load_ext autoreload\n",
    "%autoreload 2"
   ]
  },
  {
   "cell_type": "markdown",
   "metadata": {},
   "source": [
    "# look at all dsets"
   ]
  },
  {
   "cell_type": "code",
   "execution_count": 2,
   "metadata": {},
   "outputs": [],
   "source": [
    "from data_pecarn import *\n",
    "df_features = get_features()  # read all features into df\n",
    "df_outcomes = get_outcomes()  # 2 outcomes: iai, and iai_intervention\n",
    "df = pd.merge(df_features, df_outcomes, on='id', how='left')\n",
    "df = rename_values(df)  # rename the features by their meaning"
   ]
  },
  {
   "cell_type": "code",
   "execution_count": 3,
   "metadata": {},
   "outputs": [],
   "source": [
    "df2 = deepcopy(df)"
   ]
  },
  {
   "cell_type": "code",
   "execution_count": 4,
   "metadata": {},
   "outputs": [],
   "source": [
    "ks_remap = ['Hispanic', 'VomitWretch', 'RecodedMOI', \n",
    "                'ThoracicTender', 'ThoracicTrauma', 'Costal', \n",
    "                'DecrBreathSound', 'AbdDistention', 'AbdTenderDegree',\n",
    "                'AbdTrauma', 'SeatBeltSign', 'AbdTrauma_or_SeatBeltSign', \n",
    "                'DistractingPain', 'AbdomenPain']"
   ]
  },
  {
   "cell_type": "code",
   "execution_count": 5,
   "metadata": {},
   "outputs": [
    {
     "name": "stdout",
     "output_type": "stream",
     "text": [
      "computing pecarn preprocessing...\n"
     ]
    }
   ],
   "source": [
    "# get without processing\n",
    "'''\n",
    "features = data_pecarn.get_features() # uses several forms\n",
    "outcomes = data_pecarn.get_outcomes() # 2 outcomes: iai, and iai_intervention\n",
    "d = pd.merge(features, outcomes, on='id', how='left')\n",
    "'''\n",
    "\n",
    "df_full = data_pecarn.get_data()\n",
    "feat_names, pecarn_feat_names = data.get_feat_names(df_full)\n",
    "# df = df_full[pecarn_feat_names + ['id', 'iai', 'iai_intervention']]\n",
    "# df = rename_values(df)\n",
    "# df = data.preprocess(features) # process the feats (should save into df)"
   ]
  },
  {
   "cell_type": "code",
   "execution_count": 6,
   "metadata": {},
   "outputs": [
    {
     "data": {
      "text/plain": [
       "0"
      ]
     },
     "execution_count": 6,
     "metadata": {},
     "output_type": "execute_result"
    }
   ],
   "source": [
    "np.isnan(df_features.RecodedMOI).sum()"
   ]
  },
  {
   "cell_type": "code",
   "execution_count": 7,
   "metadata": {},
   "outputs": [
    {
     "name": "stdout",
     "output_type": "stream",
     "text": [
      "['InitSysBPRange', 'InitHeartRate', 'Race', 'RtCostalTender', 'GCSScore_Full', 'ThoracicTrauma', 'AbdTenderDegree', 'RecodedMOI', 'AbdTrauma', 'GCSScore', 'Sex', 'AbdTrauma_or_SeatBeltSign', 'CostalTender', 'VomitWretch', 'DistractingPain', 'AbdDistention', 'ThoracicTender', 'SeatBeltSign', 'Age', 'Hypotension', 'DecrBreathSound', 'AbdomenPain', 'MOI', 'LtCostalTender']\n"
     ]
    }
   ],
   "source": [
    "print(list(df_full[pecarn_feat_names].keys()))"
   ]
  },
  {
   "cell_type": "markdown",
   "metadata": {},
   "source": [
    "# look at demographics"
   ]
  },
  {
   "cell_type": "code",
   "execution_count": 10,
   "metadata": {},
   "outputs": [],
   "source": [
    "d = df"
   ]
  },
  {
   "cell_type": "code",
   "execution_count": 11,
   "metadata": {},
   "outputs": [
    {
     "data": {
      "text/plain": [
       "203"
      ]
     },
     "execution_count": 11,
     "metadata": {},
     "output_type": "execute_result"
    }
   ],
   "source": [
    "np.sum(d['iai_intervention'][d['iai']==1])"
   ]
  },
  {
   "cell_type": "code",
   "execution_count": 22,
   "metadata": {},
   "outputs": [
    {
     "data": {
      "text/plain": [
       "array(['unknown', 'White', 'Black or African American', 'Asian',\n",
       "       'American Indian or Alaska Native',\n",
       "       'Native Hawaiian or other Pacific Islander'], dtype=object)"
      ]
     },
     "execution_count": 22,
     "metadata": {},
     "output_type": "execute_result"
    }
   ],
   "source": [
    "d['Race'].unique()"
   ]
  },
  {
   "cell_type": "code",
   "execution_count": 19,
   "metadata": {},
   "outputs": [
    {
     "name": "stdout",
     "output_type": "stream",
     "text": [
      "iai 761 203\n",
      "age 9.339901477832512 9.767270009963468\n",
      "age<2 10 1167\n",
      "sex 125 7384\n"
     ]
    },
    {
     "ename": "AttributeError",
     "evalue": "'DataFrame' object has no attribute 'HISPANIC_ETHNICITY_0'",
     "output_type": "error",
     "traceback": [
      "\u001b[0;31m---------------------------------------------------------------------------\u001b[0m",
      "\u001b[0;31mAttributeError\u001b[0m                            Traceback (most recent call last)",
      "\u001b[0;32m<ipython-input-19-92fcc8eb1595>\u001b[0m in \u001b[0;36m<module>\u001b[0;34m\u001b[0m\n\u001b[1;32m      8\u001b[0m \u001b[0mprint\u001b[0m\u001b[0;34m(\u001b[0m\u001b[0;34m'age<2'\u001b[0m\u001b[0;34m,\u001b[0m \u001b[0mnp\u001b[0m\u001b[0;34m.\u001b[0m\u001b[0msum\u001b[0m\u001b[0;34m(\u001b[0m\u001b[0md\u001b[0m\u001b[0;34m.\u001b[0m\u001b[0mAge\u001b[0m\u001b[0;34m[\u001b[0m\u001b[0mids_np\u001b[0m\u001b[0;34m]\u001b[0m \u001b[0;34m<\u001b[0m \u001b[0;36m2\u001b[0m\u001b[0;34m)\u001b[0m\u001b[0;34m,\u001b[0m \u001b[0mnp\u001b[0m\u001b[0;34m.\u001b[0m\u001b[0msum\u001b[0m\u001b[0;34m(\u001b[0m\u001b[0md\u001b[0m\u001b[0;34m.\u001b[0m\u001b[0mAge\u001b[0m \u001b[0;34m<\u001b[0m \u001b[0;36m2\u001b[0m\u001b[0;34m)\u001b[0m\u001b[0;34m)\u001b[0m\u001b[0;34m\u001b[0m\u001b[0;34m\u001b[0m\u001b[0m\n\u001b[1;32m      9\u001b[0m \u001b[0mprint\u001b[0m\u001b[0;34m(\u001b[0m\u001b[0;34m'sex'\u001b[0m\u001b[0;34m,\u001b[0m \u001b[0mnp\u001b[0m\u001b[0;34m.\u001b[0m\u001b[0msum\u001b[0m\u001b[0;34m(\u001b[0m\u001b[0md\u001b[0m\u001b[0;34m.\u001b[0m\u001b[0mSex\u001b[0m\u001b[0;34m[\u001b[0m\u001b[0mids_np\u001b[0m\u001b[0;34m]\u001b[0m\u001b[0;34m==\u001b[0m\u001b[0;34m'M'\u001b[0m\u001b[0;34m)\u001b[0m\u001b[0;34m,\u001b[0m \u001b[0mnp\u001b[0m\u001b[0;34m.\u001b[0m\u001b[0msum\u001b[0m\u001b[0;34m(\u001b[0m\u001b[0md\u001b[0m\u001b[0;34m.\u001b[0m\u001b[0mSex\u001b[0m\u001b[0;34m==\u001b[0m\u001b[0;34m'M'\u001b[0m\u001b[0;34m)\u001b[0m\u001b[0;34m)\u001b[0m\u001b[0;34m\u001b[0m\u001b[0;34m\u001b[0m\u001b[0m\n\u001b[0;32m---> 10\u001b[0;31m \u001b[0mprint\u001b[0m\u001b[0;34m(\u001b[0m\u001b[0;34m'hispanic ethnicity'\u001b[0m\u001b[0;34m,\u001b[0m \u001b[0mnp\u001b[0m\u001b[0;34m.\u001b[0m\u001b[0msum\u001b[0m\u001b[0;34m(\u001b[0m\u001b[0md\u001b[0m\u001b[0;34m.\u001b[0m\u001b[0mHISPANIC_ETHNICITY_0\u001b[0m\u001b[0;34m)\u001b[0m\u001b[0;34m,\u001b[0m \u001b[0mnp\u001b[0m\u001b[0;34m.\u001b[0m\u001b[0msum\u001b[0m\u001b[0;34m(\u001b[0m\u001b[0md\u001b[0m\u001b[0;34m.\u001b[0m\u001b[0mHISPANIC_ETHNICITY_1\u001b[0m\u001b[0;34m)\u001b[0m\u001b[0;34m)\u001b[0m\u001b[0;34m\u001b[0m\u001b[0;34m\u001b[0m\u001b[0m\n\u001b[0m",
      "\u001b[0;32m~/.local/lib/python3.7/site-packages/pandas/core/generic.py\u001b[0m in \u001b[0;36m__getattr__\u001b[0;34m(self, name)\u001b[0m\n\u001b[1;32m   5065\u001b[0m             \u001b[0;32mif\u001b[0m \u001b[0mself\u001b[0m\u001b[0;34m.\u001b[0m\u001b[0m_info_axis\u001b[0m\u001b[0;34m.\u001b[0m\u001b[0m_can_hold_identifiers_and_holds_name\u001b[0m\u001b[0;34m(\u001b[0m\u001b[0mname\u001b[0m\u001b[0;34m)\u001b[0m\u001b[0;34m:\u001b[0m\u001b[0;34m\u001b[0m\u001b[0;34m\u001b[0m\u001b[0m\n\u001b[1;32m   5066\u001b[0m                 \u001b[0;32mreturn\u001b[0m \u001b[0mself\u001b[0m\u001b[0;34m[\u001b[0m\u001b[0mname\u001b[0m\u001b[0;34m]\u001b[0m\u001b[0;34m\u001b[0m\u001b[0;34m\u001b[0m\u001b[0m\n\u001b[0;32m-> 5067\u001b[0;31m             \u001b[0;32mreturn\u001b[0m \u001b[0mobject\u001b[0m\u001b[0;34m.\u001b[0m\u001b[0m__getattribute__\u001b[0m\u001b[0;34m(\u001b[0m\u001b[0mself\u001b[0m\u001b[0;34m,\u001b[0m \u001b[0mname\u001b[0m\u001b[0;34m)\u001b[0m\u001b[0;34m\u001b[0m\u001b[0;34m\u001b[0m\u001b[0m\n\u001b[0m\u001b[1;32m   5068\u001b[0m \u001b[0;34m\u001b[0m\u001b[0m\n\u001b[1;32m   5069\u001b[0m     \u001b[0;32mdef\u001b[0m \u001b[0m__setattr__\u001b[0m\u001b[0;34m(\u001b[0m\u001b[0mself\u001b[0m\u001b[0;34m,\u001b[0m \u001b[0mname\u001b[0m\u001b[0;34m,\u001b[0m \u001b[0mvalue\u001b[0m\u001b[0;34m)\u001b[0m\u001b[0;34m:\u001b[0m\u001b[0;34m\u001b[0m\u001b[0;34m\u001b[0m\u001b[0m\n",
      "\u001b[0;31mAttributeError\u001b[0m: 'DataFrame' object has no attribute 'HISPANIC_ETHNICITY_0'"
     ]
    }
   ],
   "source": [
    "d = df_full\n",
    "ids_np = df.iai_intervention == 1\n",
    "# print(list(d.keys()))\n",
    "\n",
    "# the mean age is the only one which is wrong\n",
    "print('iai', np.sum(d['iai']), np.sum(d['iai_intervention']))\n",
    "print('age', np.mean(d.Age[ids_np]), np.mean(d.Age))\n",
    "print('age<2', np.sum(d.Age[ids_np] < 2), np.sum(d.Age < 2))\n",
    "print('sex', np.sum(d.Sex[ids_np]=='M'), np.sum(d.Sex=='M'))\n",
    "print('hispanic ethnicity', np.sum(d.HISPANIC_ETHNICITY_0), np.sum(d.HISPANIC_ETHNICITY_1))"
   ]
  },
  {
   "cell_type": "markdown",
   "metadata": {},
   "source": [
    "# correlations with outcome"
   ]
  },
  {
   "cell_type": "code",
   "execution_count": 73,
   "metadata": {},
   "outputs": [],
   "source": [
    "df_filt = df.dropna(axis=1, thresh=1)"
   ]
  },
  {
   "cell_type": "code",
   "execution_count": null,
   "metadata": {},
   "outputs": [],
   "source": [
    "X = df_full[['SEX_M', 'ageinyrs', 'GCSScore', 'iai', 'iai_intervention']]\n",
    "sns.pairplot(X, hue='iai_intervention')\n",
    "plt.show()"
   ]
  },
  {
   "cell_type": "markdown",
   "metadata": {},
   "source": [
    "# misc important vars"
   ]
  },
  {
   "cell_type": "code",
   "execution_count": null,
   "metadata": {},
   "outputs": [],
   "source": [
    "corrs_feat = df.corr(method='pearson')\n",
    "cs = corrs_feat.iai_intervention.sort_values(ascending=False)\n",
    "cs = cs[~cs.isnull()]\n",
    "print(cs[:30], cs[-30:])"
   ]
  },
  {
   "cell_type": "code",
   "execution_count": 82,
   "metadata": {},
   "outputs": [],
   "source": [
    "feat_names, pecarn_feat_names = data_pecarn.get_feat_names(df_full)"
   ]
  },
  {
   "cell_type": "markdown",
   "metadata": {},
   "source": [
    "# dim reduction"
   ]
  },
  {
   "cell_type": "code",
   "execution_count": 9,
   "metadata": {},
   "outputs": [],
   "source": [
    "df = data.get_data(use_processed=True)\n",
    "feat_names, pecarn_feat_names = data.get_feat_names(df)\n",
    "outcome_def = 'iai_intervention' # output"
   ]
  },
  {
   "cell_type": "code",
   "execution_count": 35,
   "metadata": {},
   "outputs": [],
   "source": [
    "import prince\n",
    "fca = prince.MCA(n_components=len(pecarn_feat_names)).fit(df[pecarn_feat_names])\n",
    "comps = fca.transform(df[pecarn_feat_names]).head()"
   ]
  },
  {
   "cell_type": "code",
   "execution_count": null,
   "metadata": {},
   "outputs": [],
   "source": [
    "# ax = mca.plot_coordinates(\n",
    "#     df[pecarn_feat_names],\n",
    "# #     color_labels=df[outcome_def]\n",
    "# )\n",
    "# ax.grid(False)"
   ]
  },
  {
   "cell_type": "code",
   "execution_count": null,
   "metadata": {},
   "outputs": [],
   "source": [
    "def plot_fcs(fca, comps):\n",
    "\n",
    "    # create a 2 X 2 grid \n",
    "    gs = grd.GridSpec(2, 2, height_ratios=[2,10], \n",
    "                      width_ratios=[12, 1], wspace=0.1, hspace=0)\n",
    "\n",
    "#     try:\n",
    "#     var_norm = pca.explained_variance_ / np.sum(pca.explained_variance_) * 100\n",
    "    fca.explained_intertia\n",
    "    # plot explained variance\n",
    "    ax2 = plt.subplot(gs[0])\n",
    "    ax2.bar(np.arange(0, comps.shape[1]), var_norm)\n",
    "#     , color='black', width=0.8)\n",
    "    plt.title('Explained variance (%)')\n",
    "    ax2.spines['right'].set_visible(False)\n",
    "    ax2.spines['top'].set_visible(False)\n",
    "#         ax2.xaxis.set_visible(False)\n",
    "    ax2.yaxis.set_ticks_position('left')\n",
    "    ax2.set_yticks([0, max(var_norm)])\n",
    "    plt.xlim((-0.5, comps.shape[1]-0.5))\n",
    "#     except:\n",
    "#         print('not pca')\n",
    "\n",
    "    # plot pcs\n",
    "    \n",
    "    ax = plt.subplot(gs[2])\n",
    "    p = ax.imshow(comps, interpolation='None', cmap='viridis',aspect='auto')\n",
    "    plt.xlabel('PCA component number')\n",
    "\n",
    "    # make colorbar\n",
    "    colorAx = plt.subplot(gs[3])\n",
    "    cb = plt.colorbar(p, cax = colorAx)\n",
    "\n",
    "    plt.show()\n",
    "    \n",
    "\n",
    "# perform pca\n",
    "# pca = decomposition.PCA()\n",
    "# # pca = decomposition.NMF()\n",
    "# pca.fit(df.transpose())\n",
    "# comps = pca.components_.transpose()\n",
    "# plt.figure(figsize=(6, 5))\n",
    "plot_fcs(fca, comps)"
   ]
  },
  {
   "cell_type": "markdown",
   "metadata": {},
   "source": [
    "# look at missing data"
   ]
  },
  {
   "cell_type": "code",
   "execution_count": null,
   "metadata": {},
   "outputs": [],
   "source": [
    "fnames = df.keys()\n",
    "missing_arr = np.zeros((len(fnames), data_pecarn.NUM_PATIENTS + 1), dtype=np.bool)\n",
    "\n",
    "for i, fname in enumerate(fnames):\n",
    "#     df = r[fname]\n",
    "    ids = np.unique(df.id.values)\n",
    "#     print(np.min(ids), np.max(ids))\n",
    "    missing_arr[i, ids] = 1\n",
    "    \n",
    "plt.figure(figsize=(5, 10))\n",
    "sns.barplot(x=data_pecarn.NUM_PATIENTS - missing_arr.sum(axis=1), y=fnames, orient='h')\n",
    "plt.xlabel('number of patients missing this feat')\n",
    "plt.tight_layout()\n",
    "plt.show()"
   ]
  },
  {
   "cell_type": "code",
   "execution_count": null,
   "metadata": {},
   "outputs": [],
   "source": [
    "# plt.imshow(not_missing)\n",
    "plt.figure(figsize=(12, 20), dpi=300)\n",
    "sns.clustermap(missing_arr, yticklabels=fnames)\n",
    "# plt.tight_layout()\n",
    "plt.show()"
   ]
  },
  {
   "cell_type": "code",
   "execution_count": null,
   "metadata": {},
   "outputs": [],
   "source": [
    "# Compute the correlation matrix\n",
    "corr = df.corr()\n",
    "\n",
    "# Generate a mask for the upper triangle\n",
    "mask = np.zeros_like(corr, dtype=np.bool)\n",
    "mask[np.triu_indices_from(mask)] = True\n",
    "f, ax = plt.subplots(figsize=(11, 9))\n",
    "cmap = sns.diverging_palette(10, 220, as_cmap=True)\n",
    "\n",
    "# Draw the heatmap with the mask and correct aspect ratio\n",
    "sns.heatmap(corr, mask=mask, cmap=cmap, center=0,\n",
    "            square=True, linewidths=.5, cbar_kws={\"shrink\": .5})\n",
    "# sns.clustermap(corr) #, mask=mask, cmap=cmap, vmax=.3, center=0,\n",
    "#             square=True, linewidths=.5, cbar_kws={\"shrink\": .5})\n",
    "plt.show()"
   ]
  }
 ],
 "metadata": {
  "kernelspec": {
   "display_name": "Python 3",
   "language": "python",
   "name": "python3"
  },
  "language_info": {
   "codemirror_mode": {
    "name": "ipython",
    "version": 3
   },
   "file_extension": ".py",
   "mimetype": "text/x-python",
   "name": "python",
   "nbconvert_exporter": "python",
   "pygments_lexer": "ipython3",
   "version": "3.7.5"
  }
 },
 "nbformat": 4,
 "nbformat_minor": 4
}
