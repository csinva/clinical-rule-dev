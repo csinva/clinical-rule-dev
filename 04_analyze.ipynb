{
 "cells": [
  {
   "cell_type": "code",
   "execution_count": 24,
   "metadata": {},
   "outputs": [
    {
     "name": "stdout",
     "output_type": "stream",
     "text": [
      "The autoreload extension is already loaded. To reload it, use:\n",
      "  %reload_ext autoreload\n"
     ]
    }
   ],
   "source": [
    "%matplotlib inline\n",
    "%load_ext autoreload\n",
    "%autoreload 2\n",
    "from matplotlib import pyplot as plt\n",
    "import seaborn as sns\n",
    "import numpy as np\n",
    "import os\n",
    "from os.path import join as oj\n",
    "from sklearn import metrics\n",
    "from sklearn.utils.multiclass import unique_labels\n",
    "from sklearn.metrics import confusion_matrix\n",
    "import numpy as np\n",
    "from collections import Counter\n",
    "from copy import deepcopy\n",
    "from sklearn import metrics\n",
    "plt.style.use('dark_background')\n",
    "import pandas as pd\n",
    "from colorama import Fore\n",
    "import pickle as pkl\n",
    "import data, viz\n",
    "from style import *\n",
    "out_dir = 'results/jun2_9'"
   ]
  },
  {
   "cell_type": "markdown",
   "metadata": {},
   "source": [
    "# compare all models"
   ]
  },
  {
   "cell_type": "code",
   "execution_count": 25,
   "metadata": {},
   "outputs": [],
   "source": [
    "def load_results(out_dir):\n",
    "    r = []\n",
    "    for fname in os.listdir(out_dir):\n",
    "        d = pkl.load(open(oj(out_dir, fname), 'rb'))\n",
    "        metrics = {k: d['cv'][k] for k in d['cv'].keys() if not 'curve' in k}\n",
    "        out = {k: np.mean(metrics[k]) for k in metrics}\n",
    "        out.update({k + '_std': np.std(metrics[k]) for k in metrics})\n",
    "        metrics_test = {k: d['test'][k] for k in d['test'].keys() if not 'curve' in k}\n",
    "        out_test = {k + '_test': np.mean(metrics_test[k]) for k in metrics_test}\n",
    "        out_test.update({k + '_test_std': np.std(metrics_test[k]) for k in metrics_test})\n",
    "        \n",
    "        \n",
    "        out['model_type'] = fname.replace('.pkl', '') #d['model_type']\n",
    "        imp_mat = np.array(d['imps']['imps'])\n",
    "        imp_mu = imp_mat.mean(axis=0)\n",
    "        imp_sd = imp_mat.std(axis=0)\n",
    "        \n",
    "        \n",
    "        feat_names = d['feat_names_selected']\n",
    "        out.update({feat_names[i] + '_f': imp_mu[i] for i in range(len(feat_names))})\n",
    "        out.update({feat_names[i]+'_std_f': imp_sd[i] for i in range(len(feat_names))})\n",
    "        r.append(pd.Series(out))\n",
    "    r = pd.concat(r, axis=1, sort=False).T.infer_objects()\n",
    "    r = r.reindex(sorted(r.columns, reverse=True), axis=1) # sort the column names\n",
    "    r = r.round(3)\n",
    "    r = r.set_index('model_type')\n",
    "    return r\n",
    "\n",
    "results = load_results(out_dir)"
   ]
  },
  {
   "cell_type": "markdown",
   "metadata": {},
   "source": [
    "**look at prediction metrics**"
   ]
  },
  {
   "cell_type": "code",
   "execution_count": 26,
   "metadata": {},
   "outputs": [
    {
     "data": {
      "text/html": [
       "<style  type=\"text/css\" >\n",
       "    #T_a6d2a4fe_a538_11ea_98a4_002590e83e0arow0_col0 {\n",
       "            background-color:  #fde725;\n",
       "            color:  #000000;\n",
       "        }    #T_a6d2a4fe_a538_11ea_98a4_002590e83e0arow0_col1 {\n",
       "            background-color:  #440154;\n",
       "            color:  #f1f1f1;\n",
       "        }    #T_a6d2a4fe_a538_11ea_98a4_002590e83e0arow0_col2 {\n",
       "            background-color:  #fde725;\n",
       "            color:  #000000;\n",
       "        }    #T_a6d2a4fe_a538_11ea_98a4_002590e83e0arow0_col3 {\n",
       "            background-color:  #440154;\n",
       "            color:  #f1f1f1;\n",
       "        }    #T_a6d2a4fe_a538_11ea_98a4_002590e83e0arow0_col4 {\n",
       "            background-color:  #440154;\n",
       "            color:  #f1f1f1;\n",
       "        }    #T_a6d2a4fe_a538_11ea_98a4_002590e83e0arow0_col5 {\n",
       "            background-color:  #fde725;\n",
       "            color:  #000000;\n",
       "        }    #T_a6d2a4fe_a538_11ea_98a4_002590e83e0arow0_col6 {\n",
       "            background-color:  #440154;\n",
       "            color:  #f1f1f1;\n",
       "        }    #T_a6d2a4fe_a538_11ea_98a4_002590e83e0arow0_col7 {\n",
       "            background-color:  #440154;\n",
       "            color:  #f1f1f1;\n",
       "        }    #T_a6d2a4fe_a538_11ea_98a4_002590e83e0arow0_col8 {\n",
       "            background-color:  #440154;\n",
       "            color:  #f1f1f1;\n",
       "        }    #T_a6d2a4fe_a538_11ea_98a4_002590e83e0arow0_col9 {\n",
       "            background-color:  #fde725;\n",
       "            color:  #000000;\n",
       "        }    #T_a6d2a4fe_a538_11ea_98a4_002590e83e0arow0_col10 {\n",
       "            background-color:  #440154;\n",
       "            color:  #f1f1f1;\n",
       "        }    #T_a6d2a4fe_a538_11ea_98a4_002590e83e0arow1_col0 {\n",
       "            background-color:  #440154;\n",
       "            color:  #f1f1f1;\n",
       "        }    #T_a6d2a4fe_a538_11ea_98a4_002590e83e0arow1_col1 {\n",
       "            background-color:  #fde725;\n",
       "            color:  #000000;\n",
       "        }    #T_a6d2a4fe_a538_11ea_98a4_002590e83e0arow1_col2 {\n",
       "            background-color:  #440154;\n",
       "            color:  #f1f1f1;\n",
       "        }    #T_a6d2a4fe_a538_11ea_98a4_002590e83e0arow1_col3 {\n",
       "            background-color:  #fde725;\n",
       "            color:  #000000;\n",
       "        }    #T_a6d2a4fe_a538_11ea_98a4_002590e83e0arow1_col4 {\n",
       "            background-color:  #fde725;\n",
       "            color:  #000000;\n",
       "        }    #T_a6d2a4fe_a538_11ea_98a4_002590e83e0arow1_col5 {\n",
       "            background-color:  #440154;\n",
       "            color:  #f1f1f1;\n",
       "        }    #T_a6d2a4fe_a538_11ea_98a4_002590e83e0arow1_col6 {\n",
       "            background-color:  #fde725;\n",
       "            color:  #000000;\n",
       "        }    #T_a6d2a4fe_a538_11ea_98a4_002590e83e0arow1_col7 {\n",
       "            background-color:  #440154;\n",
       "            color:  #f1f1f1;\n",
       "        }    #T_a6d2a4fe_a538_11ea_98a4_002590e83e0arow1_col8 {\n",
       "            background-color:  #440154;\n",
       "            color:  #f1f1f1;\n",
       "        }    #T_a6d2a4fe_a538_11ea_98a4_002590e83e0arow1_col9 {\n",
       "            background-color:  #440154;\n",
       "            color:  #f1f1f1;\n",
       "        }    #T_a6d2a4fe_a538_11ea_98a4_002590e83e0arow1_col10 {\n",
       "            background-color:  #fde725;\n",
       "            color:  #000000;\n",
       "        }</style><table id=\"T_a6d2a4fe_a538_11ea_98a4_002590e83e0a\" ><thead>    <tr>        <th class=\"blank level0\" ></th>        <th class=\"col_heading level0 col0\" >fp</th>        <th class=\"col_heading level0 col1\" >fn</th>        <th class=\"col_heading level0 col2\" >tp</th>        <th class=\"col_heading level0 col3\" >tn</th>        <th class=\"col_heading level0 col4\" >specificity</th>        <th class=\"col_heading level0 col5\" >sensitivity</th>        <th class=\"col_heading level0 col6\" >roc_auc</th>        <th class=\"col_heading level0 col7\" >precision</th>        <th class=\"col_heading level0 col8\" >f1</th>        <th class=\"col_heading level0 col9\" >balanced_accuracy</th>        <th class=\"col_heading level0 col10\" >accuracy</th>    </tr>    <tr>        <th class=\"index_name level0\" >model_type</th>        <th class=\"blank\" ></th>        <th class=\"blank\" ></th>        <th class=\"blank\" ></th>        <th class=\"blank\" ></th>        <th class=\"blank\" ></th>        <th class=\"blank\" ></th>        <th class=\"blank\" ></th>        <th class=\"blank\" ></th>        <th class=\"blank\" ></th>        <th class=\"blank\" ></th>        <th class=\"blank\" ></th>    </tr></thead><tbody>\n",
       "                <tr>\n",
       "                        <th id=\"T_a6d2a4fe_a538_11ea_98a4_002590e83e0alevel0_row0\" class=\"row_heading level0 row0\" >logistic_select_lasso=5_ros=100</th>\n",
       "                        <td id=\"T_a6d2a4fe_a538_11ea_98a4_002590e83e0arow0_col0\" class=\"data row0 col0\" >1980.8</td>\n",
       "                        <td id=\"T_a6d2a4fe_a538_11ea_98a4_002590e83e0arow0_col1\" class=\"data row0 col1\" >0</td>\n",
       "                        <td id=\"T_a6d2a4fe_a538_11ea_98a4_002590e83e0arow0_col2\" class=\"data row0 col2\" >33.4</td>\n",
       "                        <td id=\"T_a6d2a4fe_a538_11ea_98a4_002590e83e0arow0_col3\" class=\"data row0 col3\" >0</td>\n",
       "                        <td id=\"T_a6d2a4fe_a538_11ea_98a4_002590e83e0arow0_col4\" class=\"data row0 col4\" >0</td>\n",
       "                        <td id=\"T_a6d2a4fe_a538_11ea_98a4_002590e83e0arow0_col5\" class=\"data row0 col5\" >1</td>\n",
       "                        <td id=\"T_a6d2a4fe_a538_11ea_98a4_002590e83e0arow0_col6\" class=\"data row0 col6\" >0.712</td>\n",
       "                        <td id=\"T_a6d2a4fe_a538_11ea_98a4_002590e83e0arow0_col7\" class=\"data row0 col7\" >0.017</td>\n",
       "                        <td id=\"T_a6d2a4fe_a538_11ea_98a4_002590e83e0arow0_col8\" class=\"data row0 col8\" >0.033</td>\n",
       "                        <td id=\"T_a6d2a4fe_a538_11ea_98a4_002590e83e0arow0_col9\" class=\"data row0 col9\" >0.5</td>\n",
       "                        <td id=\"T_a6d2a4fe_a538_11ea_98a4_002590e83e0arow0_col10\" class=\"data row0 col10\" >0.017</td>\n",
       "            </tr>\n",
       "            <tr>\n",
       "                        <th id=\"T_a6d2a4fe_a538_11ea_98a4_002590e83e0alevel0_row1\" class=\"row_heading level0 row1\" >logistic_select_lasso=10_ros=100</th>\n",
       "                        <td id=\"T_a6d2a4fe_a538_11ea_98a4_002590e83e0arow1_col0\" class=\"data row1 col0\" >1967.8</td>\n",
       "                        <td id=\"T_a6d2a4fe_a538_11ea_98a4_002590e83e0arow1_col1\" class=\"data row1 col1\" >0.2</td>\n",
       "                        <td id=\"T_a6d2a4fe_a538_11ea_98a4_002590e83e0arow1_col2\" class=\"data row1 col2\" >33.2</td>\n",
       "                        <td id=\"T_a6d2a4fe_a538_11ea_98a4_002590e83e0arow1_col3\" class=\"data row1 col3\" >13</td>\n",
       "                        <td id=\"T_a6d2a4fe_a538_11ea_98a4_002590e83e0arow1_col4\" class=\"data row1 col4\" >0.167</td>\n",
       "                        <td id=\"T_a6d2a4fe_a538_11ea_98a4_002590e83e0arow1_col5\" class=\"data row1 col5\" >0.992</td>\n",
       "                        <td id=\"T_a6d2a4fe_a538_11ea_98a4_002590e83e0arow1_col6\" class=\"data row1 col6\" >0.864</td>\n",
       "                        <td id=\"T_a6d2a4fe_a538_11ea_98a4_002590e83e0arow1_col7\" class=\"data row1 col7\" >0.017</td>\n",
       "                        <td id=\"T_a6d2a4fe_a538_11ea_98a4_002590e83e0arow1_col8\" class=\"data row1 col8\" >0.033</td>\n",
       "                        <td id=\"T_a6d2a4fe_a538_11ea_98a4_002590e83e0arow1_col9\" class=\"data row1 col9\" >0.499</td>\n",
       "                        <td id=\"T_a6d2a4fe_a538_11ea_98a4_002590e83e0arow1_col10\" class=\"data row1 col10\" >0.023</td>\n",
       "            </tr>\n",
       "    </tbody></table>"
      ],
      "text/plain": [
       "<pandas.io.formats.style.Styler at 0x7f0dac7da550>"
      ]
     },
     "execution_count": 26,
     "metadata": {},
     "output_type": "execute_result"
    }
   ],
   "source": [
    "# prev rule: sensitivity 0.97, specificity 0.425\n",
    "r = results\n",
    "r = r[[k for k in r if not 'std' in k]]\n",
    "r = r[[k for k in r if not '_test' in k]]\n",
    "r = r[[k for k in r if not '_f' in k]]\n",
    "# r = r[r.index.str.contains('ros')] # only use random sampling\n",
    "# r = r.sort_values(by=['balanced_accuracy'], ascending=False)\n",
    "r = r.sort_values(by=['sensitivity', 'specificity'], ascending=False)\n",
    "r = r[['fp', 'fn', 'tp', 'tn', 'specificity', 'sensitivity', 'roc_auc', 'precision',\n",
    "       'f1', 'balanced_accuracy', 'accuracy']]\n",
    "# r.style.background_gradient(cmap='viridis', axis=None) # all values on same cmap\n",
    "\n",
    "r.style.background_gradient(cmap='viridis', axis=0) # columns differently colored\n",
    "# r.style.apply(viz.highlight_max, subset=[k for k in r if not 'std' in k])"
   ]
  },
  {
   "cell_type": "markdown",
   "metadata": {},
   "source": [
    "**look at feat importances**"
   ]
  },
  {
   "cell_type": "code",
   "execution_count": 28,
   "metadata": {},
   "outputs": [
    {
     "name": "stdout",
     "output_type": "stream",
     "text": [
      "Index(['tp_std', 'tp', 'tn_std', 'tn', 'specificity_std', 'specificity',\n",
      "       'sensitivity_std', 'sensitivity', 'roc_auc_std', 'roc_auc',\n",
      "       'precision_std', 'precision', 'fp_std', 'fp', 'fn_std', 'fn', 'f1_std',\n",
      "       'f1', 'balanced_accuracy_std', 'balanced_accuracy', 'accuracy_std',\n",
      "       'accuracy', 'ThoracicTrauma_yes_std_f', 'ThoracicTrauma_yes_f',\n",
      "       'RecodedMOI_Motor vehicle collision_std_f',\n",
      "       'RecodedMOI_Motor vehicle collision_f', 'LtCostalTender_std_f',\n",
      "       'LtCostalTender_f', 'InitSysBPRange_std_f', 'InitSysBPRange_f',\n",
      "       'InitHeartRate_std_f', 'InitHeartRate_f', 'Hypotension_std_f',\n",
      "       'Hypotension_f', 'DecrBreathSound_yes_std_f', 'DecrBreathSound_yes_f',\n",
      "       'AbdTrauma_or_SeatBeltSign_yes_std_f',\n",
      "       'AbdTrauma_or_SeatBeltSign_yes_f', 'AbdTenderDegree_Severe_std_f',\n",
      "       'AbdTenderDegree_Severe_f', 'AbdDistention_unknown_std_f',\n",
      "       'AbdDistention_unknown_f'],\n",
      "      dtype='object')\n"
     ]
    },
    {
     "ename": "NameError",
     "evalue": "name 'v' is not defined",
     "output_type": "error",
     "traceback": [
      "\u001b[0;31m---------------------------------------------------------------------------\u001b[0m",
      "\u001b[0;31mNameError\u001b[0m                                 Traceback (most recent call last)",
      "\u001b[0;32m<ipython-input-28-c6edbf55d2fb>\u001b[0m in \u001b[0;36m<module>\u001b[0;34m\u001b[0m\n\u001b[1;32m     37\u001b[0m \u001b[0;31m# r = r.reindex(r[\"logistic_20_ros=1\"].abs().sort_values(ascending=False).index) # sort by abs value\u001b[0m\u001b[0;34m\u001b[0m\u001b[0;34m\u001b[0m\u001b[0;34m\u001b[0m\u001b[0m\n\u001b[1;32m     38\u001b[0m \u001b[0;31m# r = r.sort_values(by='logistic_20_ros=1')\u001b[0m\u001b[0;34m\u001b[0m\u001b[0;34m\u001b[0m\u001b[0;34m\u001b[0m\u001b[0m\n\u001b[0;32m---> 39\u001b[0;31m \u001b[0mr\u001b[0m \u001b[0;34m=\u001b[0m \u001b[0mr\u001b[0m\u001b[0;34m.\u001b[0m\u001b[0mfillna\u001b[0m\u001b[0;34m(\u001b[0m\u001b[0;36m0\u001b[0m\u001b[0;34m)\u001b[0m\u001b[0;34m.\u001b[0m\u001b[0mstyle\u001b[0m\u001b[0;34m.\u001b[0m\u001b[0mbackground_gradient\u001b[0m\u001b[0;34m(\u001b[0m\u001b[0mcmap\u001b[0m\u001b[0;34m=\u001b[0m\u001b[0mcm\u001b[0m\u001b[0;34m,\u001b[0m \u001b[0maxis\u001b[0m\u001b[0;34m=\u001b[0m\u001b[0;36m0\u001b[0m\u001b[0;34m,\u001b[0m \u001b[0mvmin\u001b[0m\u001b[0;34m=\u001b[0m\u001b[0mv\u001b[0m\u001b[0;34m.\u001b[0m\u001b[0mmin\u001b[0m\u001b[0;34m(\u001b[0m\u001b[0;34m)\u001b[0m\u001b[0;34m,\u001b[0m \u001b[0mvmax\u001b[0m\u001b[0;34m=\u001b[0m\u001b[0mv\u001b[0m\u001b[0;34m.\u001b[0m\u001b[0mmax\u001b[0m\u001b[0;34m(\u001b[0m\u001b[0;34m)\u001b[0m\u001b[0;34m)\u001b[0m \u001b[0;31m#, subset=subset) # rows differently colored\u001b[0m\u001b[0;34m\u001b[0m\u001b[0;34m\u001b[0m\u001b[0m\n\u001b[0m\u001b[1;32m     40\u001b[0m \u001b[0;31m# r = background_gradient(r)\u001b[0m\u001b[0;34m\u001b[0m\u001b[0;34m\u001b[0m\u001b[0;34m\u001b[0m\u001b[0m\n\u001b[1;32m     41\u001b[0m \u001b[0mr\u001b[0m\u001b[0;34m\u001b[0m\u001b[0;34m\u001b[0m\u001b[0m\n",
      "\u001b[0;31mNameError\u001b[0m: name 'v' is not defined"
     ]
    }
   ],
   "source": [
    "r = results\n",
    "print(r.keys())\n",
    "# r.style.apply(viz.highlight_max, subset=[k for k in r if not 'std' in k])\n",
    "r = r.sort_values('balanced_accuracy', ascending=False)\n",
    "keys = [k for k in r if '_f' in k]\n",
    "keys_remapped = {k: k.replace('_f', '') for k in keys}\n",
    "r = r[keys].rename(columns=keys_remapped)\n",
    "# r = r.sort_values('lifetime')\n",
    "# r = r[r.index.str.contains('35')]\n",
    "# r = r[r.index.str.contains('11')]\n",
    "# r = r.rename(columns={'mean_square_displacement': 'msd', 'total_displacement': 'td'})\n",
    "\n",
    "# r = r[r.index.str.contains('20')]\n",
    "# r = r[r.index.str.contains('logistic')]\n",
    "r = r[[k for k in r if not 'std' in k]]\n",
    "\n",
    "\n",
    "def rank(r):\n",
    "    '''Rank feature importances appropriately\n",
    "    '''\n",
    "    r = r.abs()\n",
    "    r = r.rank(axis=1, ascending=False, method='min')\n",
    "    return r\n",
    "# \n",
    "# r = rank(r)\n",
    "r = r.reindex(r.mean().sort_values(ascending=True).index, axis=1) # sort cols by mean rank\n",
    "idxs = r.index\n",
    "# r.insert(0, 'balanced_acc', results.loc[idxs]['balanced_accuracy'])\n",
    "# r = r.sort_values('balanced_acc', ascending=False)\n",
    "# subset = list(r.keys())\n",
    "# subset.remove('balanced_acc')\n",
    "# r.to_html('table.html')\n",
    "# r = r.fillna(0).style.background_gradient(cmap='viridis_r', axis=1) #, subset=subset) # rows differently colored\n",
    "\n",
    "\n",
    "r = r.transpose()\n",
    "# r = r.reindex(r[\"logistic_20_ros=1\"].abs().sort_values(ascending=False).index) # sort by abs value\n",
    "# r = r.sort_values(by='logistic_20_ros=1')\n",
    "r = r.fillna(0).style.background_gradient(cmap=cm, axis=0, vmin=r.min(), vmax=r.max()) #, subset=subset) # rows differently colored\n",
    "# r = background_gradient(r)\n",
    "r"
   ]
  },
  {
   "cell_type": "markdown",
   "metadata": {},
   "source": [
    "# analyze on final test data"
   ]
  },
  {
   "cell_type": "code",
   "execution_count": null,
   "metadata": {},
   "outputs": [],
   "source": [
    "df = data.get_data()\n",
    "outcome_def = 'iai_intervention'\n",
    "idxs_test = df.cv_fold.isin([6])\n",
    "X_test, Y_test = df[idxs_test], df[outcome_def][idxs_test]"
   ]
  },
  {
   "cell_type": "code",
   "execution_count": null,
   "metadata": {},
   "outputs": [],
   "source": [
    "model_name = 'logistic_20_ros=5'\n",
    "# results = pkl.load(open('results/classify_outcome=y_consec_sig/rf_ros_11.pkl', 'rb'))\n",
    "results = pkl.load(open(f'results/outcome=iai_intervention/{model_name}.pkl', 'rb'))\n",
    "preds, preds_proba = viz.visualize_individual_results(results, X_test, Y_test, print_results=False)"
   ]
  },
  {
   "cell_type": "markdown",
   "metadata": {},
   "source": [
    "# misc analysis"
   ]
  },
  {
   "cell_type": "code",
   "execution_count": null,
   "metadata": {},
   "outputs": [],
   "source": [
    "def count_common_feats(m_cv, model_type='tree'):\n",
    "    if model_type == 'tree':\n",
    "        feats_used = []\n",
    "        for i in range(len(m_cv['estimator'])):\n",
    "            m_fit = m_cv['estimator'][i]\n",
    "            feats_used += list(ks[m_fit.feature_importances_ != 0])\n",
    "    elif model_type == 'logistic':\n",
    "        feats_used = []\n",
    "        for i in range(len(m_cv['estimator'])):\n",
    "            m_fit = m_cv['estimator'][i]\n",
    "            num_feats = 5\n",
    "            # get top num_feats features with biggest bsolute weights\n",
    "            idxs = np.abs(m_fit.coef_).flatten().argsort()[-num_feats:][::-1]\n",
    "            feats_used += list(ks[idxs])\n",
    "    return sorted(dict(Counter(feats_used)).items(), key=lambda kv: kv[1], reverse=True)\n",
    "        \n",
    "count_common_feats(m_cv, model_type)"
   ]
  },
  {
   "cell_type": "code",
   "execution_count": null,
   "metadata": {},
   "outputs": [],
   "source": [
    "# plot a tree\n",
    "m_fit = m_cv['estimator'][0]\n",
    "plt.figure(dpi=300)\n",
    "plot_tree(m_fit, feature_names=ks)\n",
    "plt.show()"
   ]
  },
  {
   "cell_type": "code",
   "execution_count": 13,
   "metadata": {},
   "outputs": [],
   "source": [
    "f = lambda a, b: a+b"
   ]
  },
  {
   "cell_type": "code",
   "execution_count": 14,
   "metadata": {},
   "outputs": [
    {
     "data": {
      "text/plain": [
       "7"
      ]
     },
     "execution_count": 14,
     "metadata": {},
     "output_type": "execute_result"
    }
   ],
   "source": [
    "f(3, 4)"
   ]
  },
  {
   "cell_type": "code",
   "execution_count": 16,
   "metadata": {},
   "outputs": [
    {
     "data": {
      "text/plain": [
       "0"
      ]
     },
     "execution_count": 16,
     "metadata": {},
     "output_type": "execute_result"
    }
   ],
   "source": [
    "confusion_matrix([0, 1, 0, 1], [1, 1, 1, 0]).ravel()[0]"
   ]
  },
  {
   "cell_type": "code",
   "execution_count": null,
   "metadata": {},
   "outputs": [],
   "source": []
  }
 ],
 "metadata": {
  "kernelspec": {
   "display_name": "Python 3",
   "language": "python",
   "name": "python3"
  },
  "language_info": {
   "codemirror_mode": {
    "name": "ipython",
    "version": 3
   },
   "file_extension": ".py",
   "mimetype": "text/x-python",
   "name": "python",
   "nbconvert_exporter": "python",
   "pygments_lexer": "ipython3",
   "version": "3.7.5"
  }
 },
 "nbformat": 4,
 "nbformat_minor": 4
}
