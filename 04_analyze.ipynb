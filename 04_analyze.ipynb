{
 "cells": [
  {
   "cell_type": "code",
   "execution_count": 3,
   "metadata": {},
   "outputs": [
    {
     "name": "stdout",
     "output_type": "stream",
     "text": [
      "The autoreload extension is already loaded. To reload it, use:\n",
      "  %reload_ext autoreload\n"
     ]
    }
   ],
   "source": [
    "%matplotlib inline\n",
    "%load_ext autoreload\n",
    "%autoreload 2\n",
    "from matplotlib import pyplot as plt\n",
    "import seaborn as sns\n",
    "import numpy as np\n",
    "import os\n",
    "from os.path import join as oj\n",
    "from sklearn import metrics\n",
    "from sklearn.utils.multiclass import unique_labels\n",
    "from sklearn.metrics import confusion_matrix\n",
    "import numpy as np\n",
    "from collections import Counter\n",
    "from copy import deepcopy\n",
    "from sklearn import metrics\n",
    "plt.style.use('dark_background')\n",
    "import pandas as pd\n",
    "from colorama import Fore\n",
    "import pickle as pkl\n",
    "import data, viz\n",
    "from style import *\n",
    "out_dir = 'results/jun3' # jun2_9"
   ]
  },
  {
   "cell_type": "markdown",
   "metadata": {},
   "source": [
    "# compare all models"
   ]
  },
  {
   "cell_type": "code",
   "execution_count": 4,
   "metadata": {},
   "outputs": [
    {
     "name": "stdout",
     "output_type": "stream",
     "text": [
      "Index(['tp_test_std', 'tp_test', 'tp_std', 'tp', 'tn_test_std', 'tn_test',\n",
      "       'tn_std', 'tn', 'specificity_test_std', 'specificity_test',\n",
      "       ...\n",
      "       'AbdTenderDegree_Severe_std_f', 'AbdTenderDegree_Severe_f',\n",
      "       'AbdTenderDegree_Moderate_std_f', 'AbdTenderDegree_Moderate_f',\n",
      "       'AbdTenderDegree_Mild_std_f', 'AbdTenderDegree_Mild_f',\n",
      "       'AbdDistention_yes_std_f', 'AbdDistention_yes_f',\n",
      "       'AbdDistention_unknown_std_f', 'AbdDistention_unknown_f'],\n",
      "      dtype='object', length=102)\n"
     ]
    }
   ],
   "source": [
    "def load_results(out_dir):\n",
    "    r = []\n",
    "    for fname in os.listdir(out_dir):\n",
    "        d = pkl.load(open(oj(out_dir, fname), 'rb'))\n",
    "        metrics = {k: d['cv'][k] for k in d['cv'].keys() if not 'curve' in k}\n",
    "        out = {k: np.mean(metrics[k]) for k in metrics}\n",
    "        out.update({k + '_std': np.std(metrics[k]) for k in metrics})\n",
    "        metrics_test = {k: d['test'][k] for k in d['test'].keys() if not 'curve' in k}\n",
    "        out.update({k + '_test': np.mean(metrics_test[k]) for k in metrics_test})\n",
    "        out.update({k + '_test_std': np.std(metrics_test[k]) for k in metrics_test})\n",
    "        \n",
    "        \n",
    "        out['model_type'] = fname.replace('.pkl', '') #d['model_type']\n",
    "        imp_mat = np.array(d['imps']['imps'])\n",
    "        imp_mu = imp_mat.mean(axis=0)\n",
    "        imp_sd = imp_mat.std(axis=0)\n",
    "        \n",
    "        \n",
    "        feat_names = d['feat_names_selected']\n",
    "        out.update({feat_names[i] + '_f': imp_mu[i] for i in range(len(feat_names))})\n",
    "        out.update({feat_names[i]+'_std_f': imp_sd[i] for i in range(len(feat_names))})\n",
    "        r.append(pd.Series(out))\n",
    "    r = pd.concat(r, axis=1, sort=False).T.infer_objects()\n",
    "    r = r.reindex(sorted(r.columns, reverse=True), axis=1) # sort the column names\n",
    "    r = r.round(3)\n",
    "    r = r.set_index('model_type')\n",
    "    return r\n",
    "\n",
    "results = load_results(out_dir)\n",
    "print(results.keys())"
   ]
  },
  {
   "cell_type": "markdown",
   "metadata": {},
   "source": [
    "**look at prediction metrics**"
   ]
  },
  {
   "cell_type": "code",
   "execution_count": null,
   "metadata": {},
   "outputs": [],
   "source": [
    "# prev rule: sensitivity 0.97, specificity 0.425\n",
    "r = results\n",
    "# print(r.keys())\n",
    "r = r[[k for k in r if not 'std' in k]]\n",
    "# r = r[[k for k in r if not '_test' in k]]\n",
    "r = r[[k for k in r if not '_f' in k]]\n",
    "# r = r[r.index.str.contains('ros')] # only use random sampling\n",
    "# r = r.sort_values(by=['balanced_accuracy'], ascending=False)\n",
    "\n",
    "# filter out if it always predits positive\n",
    "r = r[r['tn'] > 0]\n",
    "\n",
    "r = r.sort_values(by=['fn', 'tn'], ascending=True)\n",
    "# r = r[['fn', 'tn', 'fp', 'tp', 'specificity', 'sensitivity', 'roc_auc', 'precision',\n",
    "#        'f1', 'balanced_accuracy', 'accuracy']]\n",
    "r = r[['fn', 'tn', 'fp', 'tp', 'specificity', 'sensitivity', 'roc_auc', 'precision',\n",
    "       'f1', 'balanced_accuracy', 'accuracy', 'fn_test', 'tn_test', 'fp_test', 'tp_test']]\n",
    "# r.style.background_gradient(cmap='viridis', axis=None) # all values on same cmap\n",
    "# r = r[r.index == 'logistic_select_lasso=10_smote=5']\n",
    "r.style.background_gradient(cmap='viridis', axis=0) # columns differently colored\n",
    "# r.style.apply(viz.highlight_max, subset=[k for k in r if not 'std' in k])\n",
    "\n"
   ]
  },
  {
   "cell_type": "markdown",
   "metadata": {},
   "source": [
    "**look at feat importances**"
   ]
  },
  {
   "cell_type": "code",
   "execution_count": 11,
   "metadata": {},
   "outputs": [
    {
     "data": {
      "text/html": [
       "<style  type=\"text/css\" >\n",
       "    #T_65981db0_a615_11ea_98a4_002590e83e0arow0_col0 {\n",
       "            background-color:  #da3b46;\n",
       "            color:  #f1f1f1;\n",
       "        }    #T_65981db0_a615_11ea_98a4_002590e83e0arow1_col0 {\n",
       "            background-color:  #e5747c;\n",
       "            color:  #000000;\n",
       "        }    #T_65981db0_a615_11ea_98a4_002590e83e0arow2_col0 {\n",
       "            background-color:  #ed9da3;\n",
       "            color:  #000000;\n",
       "        }    #T_65981db0_a615_11ea_98a4_002590e83e0arow3_col0 {\n",
       "            background-color:  #417ca8;\n",
       "            color:  #000000;\n",
       "        }    #T_65981db0_a615_11ea_98a4_002590e83e0arow4_col0 {\n",
       "            background-color:  #f2f2f2;\n",
       "            color:  #000000;\n",
       "        }    #T_65981db0_a615_11ea_98a4_002590e83e0arow5_col0 {\n",
       "            background-color:  #d6e4ed;\n",
       "            color:  #000000;\n",
       "        }    #T_65981db0_a615_11ea_98a4_002590e83e0arow6_col0 {\n",
       "            background-color:  #d4e2ec;\n",
       "            color:  #000000;\n",
       "        }    #T_65981db0_a615_11ea_98a4_002590e83e0arow7_col0 {\n",
       "            background-color:  #cedee9;\n",
       "            color:  #000000;\n",
       "        }    #T_65981db0_a615_11ea_98a4_002590e83e0arow8_col0 {\n",
       "            background-color:  #bed3e2;\n",
       "            color:  #000000;\n",
       "        }    #T_65981db0_a615_11ea_98a4_002590e83e0arow9_col0 {\n",
       "            background-color:  #a5c1d6;\n",
       "            color:  #000000;\n",
       "        }    #T_65981db0_a615_11ea_98a4_002590e83e0arow10_col0 {\n",
       "            background-color:  #a3c0d6;\n",
       "            color:  #000000;\n",
       "        }    #T_65981db0_a615_11ea_98a4_002590e83e0arow11_col0 {\n",
       "            background-color:  #a3c0d6;\n",
       "            color:  #000000;\n",
       "        }    #T_65981db0_a615_11ea_98a4_002590e83e0arow12_col0 {\n",
       "            background-color:  #a3c0d6;\n",
       "            color:  #000000;\n",
       "        }    #T_65981db0_a615_11ea_98a4_002590e83e0arow13_col0 {\n",
       "            background-color:  #a3c0d6;\n",
       "            color:  #000000;\n",
       "        }    #T_65981db0_a615_11ea_98a4_002590e83e0arow14_col0 {\n",
       "            background-color:  #a3c0d6;\n",
       "            color:  #000000;\n",
       "        }    #T_65981db0_a615_11ea_98a4_002590e83e0arow15_col0 {\n",
       "            background-color:  #a3c0d6;\n",
       "            color:  #000000;\n",
       "        }    #T_65981db0_a615_11ea_98a4_002590e83e0arow16_col0 {\n",
       "            background-color:  #a3c0d6;\n",
       "            color:  #000000;\n",
       "        }    #T_65981db0_a615_11ea_98a4_002590e83e0arow17_col0 {\n",
       "            background-color:  #a3c0d6;\n",
       "            color:  #000000;\n",
       "        }    #T_65981db0_a615_11ea_98a4_002590e83e0arow18_col0 {\n",
       "            background-color:  #a3c0d6;\n",
       "            color:  #000000;\n",
       "        }    #T_65981db0_a615_11ea_98a4_002590e83e0arow19_col0 {\n",
       "            background-color:  #a3c0d6;\n",
       "            color:  #000000;\n",
       "        }    #T_65981db0_a615_11ea_98a4_002590e83e0arow20_col0 {\n",
       "            background-color:  #a3c0d6;\n",
       "            color:  #000000;\n",
       "        }    #T_65981db0_a615_11ea_98a4_002590e83e0arow21_col0 {\n",
       "            background-color:  #a3c0d6;\n",
       "            color:  #000000;\n",
       "        }    #T_65981db0_a615_11ea_98a4_002590e83e0arow22_col0 {\n",
       "            background-color:  #a3c0d6;\n",
       "            color:  #000000;\n",
       "        }    #T_65981db0_a615_11ea_98a4_002590e83e0arow23_col0 {\n",
       "            background-color:  #a3c0d6;\n",
       "            color:  #000000;\n",
       "        }    #T_65981db0_a615_11ea_98a4_002590e83e0arow24_col0 {\n",
       "            background-color:  #a3c0d6;\n",
       "            color:  #000000;\n",
       "        }    #T_65981db0_a615_11ea_98a4_002590e83e0arow25_col0 {\n",
       "            background-color:  #a3c0d6;\n",
       "            color:  #000000;\n",
       "        }    #T_65981db0_a615_11ea_98a4_002590e83e0arow26_col0 {\n",
       "            background-color:  #a3c0d6;\n",
       "            color:  #000000;\n",
       "        }    #T_65981db0_a615_11ea_98a4_002590e83e0arow27_col0 {\n",
       "            background-color:  #a3c0d6;\n",
       "            color:  #000000;\n",
       "        }    #T_65981db0_a615_11ea_98a4_002590e83e0arow28_col0 {\n",
       "            background-color:  #a3c0d6;\n",
       "            color:  #000000;\n",
       "        }</style><table id=\"T_65981db0_a615_11ea_98a4_002590e83e0a\" ><thead>    <tr>        <th class=\"index_name level0\" >model_type</th>        <th class=\"col_heading level0 col0\" >logistic_select_lasso=10_smote=5</th>    </tr></thead><tbody>\n",
       "                <tr>\n",
       "                        <th id=\"T_65981db0_a615_11ea_98a4_002590e83e0alevel0_row0\" class=\"row_heading level0 row0\" >AbdTenderDegree_unknown</th>\n",
       "                        <td id=\"T_65981db0_a615_11ea_98a4_002590e83e0arow0_col0\" class=\"data row0 col0\" >-1.732</td>\n",
       "            </tr>\n",
       "            <tr>\n",
       "                        <th id=\"T_65981db0_a615_11ea_98a4_002590e83e0alevel0_row1\" class=\"row_heading level0 row1\" >AbdTenderDegree_Mild</th>\n",
       "                        <td id=\"T_65981db0_a615_11ea_98a4_002590e83e0arow1_col0\" class=\"data row1 col0\" >-1.354</td>\n",
       "            </tr>\n",
       "            <tr>\n",
       "                        <th id=\"T_65981db0_a615_11ea_98a4_002590e83e0alevel0_row2\" class=\"row_heading level0 row2\" >AbdTenderDegree_Moderate</th>\n",
       "                        <td id=\"T_65981db0_a615_11ea_98a4_002590e83e0arow2_col0\" class=\"data row2 col0\" >-1.08</td>\n",
       "            </tr>\n",
       "            <tr>\n",
       "                        <th id=\"T_65981db0_a615_11ea_98a4_002590e83e0alevel0_row3\" class=\"row_heading level0 row3\" >AbdTrauma_or_SeatBeltSign_yes</th>\n",
       "                        <td id=\"T_65981db0_a615_11ea_98a4_002590e83e0arow3_col0\" class=\"data row3 col0\" >0.663</td>\n",
       "            </tr>\n",
       "            <tr>\n",
       "                        <th id=\"T_65981db0_a615_11ea_98a4_002590e83e0alevel0_row4\" class=\"row_heading level0 row4\" >InitSysBPRange</th>\n",
       "                        <td id=\"T_65981db0_a615_11ea_98a4_002590e83e0arow4_col0\" class=\"data row4 col0\" >-0.536</td>\n",
       "            </tr>\n",
       "            <tr>\n",
       "                        <th id=\"T_65981db0_a615_11ea_98a4_002590e83e0alevel0_row5\" class=\"row_heading level0 row5\" >CostalTender</th>\n",
       "                        <td id=\"T_65981db0_a615_11ea_98a4_002590e83e0arow5_col0\" class=\"data row5 col0\" >-0.337</td>\n",
       "            </tr>\n",
       "            <tr>\n",
       "                        <th id=\"T_65981db0_a615_11ea_98a4_002590e83e0alevel0_row6\" class=\"row_heading level0 row6\" >AbdDistention_unknown</th>\n",
       "                        <td id=\"T_65981db0_a615_11ea_98a4_002590e83e0arow6_col0\" class=\"data row6 col0\" >-0.312</td>\n",
       "            </tr>\n",
       "            <tr>\n",
       "                        <th id=\"T_65981db0_a615_11ea_98a4_002590e83e0alevel0_row7\" class=\"row_heading level0 row7\" >RecodedMOI_Fall from an elevation</th>\n",
       "                        <td id=\"T_65981db0_a615_11ea_98a4_002590e83e0arow7_col0\" class=\"data row7 col0\" >-0.281</td>\n",
       "            </tr>\n",
       "            <tr>\n",
       "                        <th id=\"T_65981db0_a615_11ea_98a4_002590e83e0alevel0_row8\" class=\"row_heading level0 row8\" >RecodedMOI_unknown</th>\n",
       "                        <td id=\"T_65981db0_a615_11ea_98a4_002590e83e0arow8_col0\" class=\"data row8 col0\" >-0.17</td>\n",
       "            </tr>\n",
       "            <tr>\n",
       "                        <th id=\"T_65981db0_a615_11ea_98a4_002590e83e0alevel0_row9\" class=\"row_heading level0 row9\" >VomitWretch_yes</th>\n",
       "                        <td id=\"T_65981db0_a615_11ea_98a4_002590e83e0arow9_col0\" class=\"data row9 col0\" >-0.007</td>\n",
       "            </tr>\n",
       "            <tr>\n",
       "                        <th id=\"T_65981db0_a615_11ea_98a4_002590e83e0alevel0_row10\" class=\"row_heading level0 row10\" >VomitWretch_unknown</th>\n",
       "                        <td id=\"T_65981db0_a615_11ea_98a4_002590e83e0arow10_col0\" class=\"data row10 col0\" >0</td>\n",
       "            </tr>\n",
       "            <tr>\n",
       "                        <th id=\"T_65981db0_a615_11ea_98a4_002590e83e0alevel0_row11\" class=\"row_heading level0 row11\" >ThoracicTrauma_yes</th>\n",
       "                        <td id=\"T_65981db0_a615_11ea_98a4_002590e83e0arow11_col0\" class=\"data row11 col0\" >0</td>\n",
       "            </tr>\n",
       "            <tr>\n",
       "                        <th id=\"T_65981db0_a615_11ea_98a4_002590e83e0alevel0_row12\" class=\"row_heading level0 row12\" >SeatBeltSign_yes</th>\n",
       "                        <td id=\"T_65981db0_a615_11ea_98a4_002590e83e0arow12_col0\" class=\"data row12 col0\" >0</td>\n",
       "            </tr>\n",
       "            <tr>\n",
       "                        <th id=\"T_65981db0_a615_11ea_98a4_002590e83e0alevel0_row13\" class=\"row_heading level0 row13\" >RtCostalTender</th>\n",
       "                        <td id=\"T_65981db0_a615_11ea_98a4_002590e83e0arow13_col0\" class=\"data row13 col0\" >0</td>\n",
       "            </tr>\n",
       "            <tr>\n",
       "                        <th id=\"T_65981db0_a615_11ea_98a4_002590e83e0alevel0_row14\" class=\"row_heading level0 row14\" >RecodedMOI_Pedestrian/bicyclist struck by moving vehicle</th>\n",
       "                        <td id=\"T_65981db0_a615_11ea_98a4_002590e83e0arow14_col0\" class=\"data row14 col0\" >0</td>\n",
       "            </tr>\n",
       "            <tr>\n",
       "                        <th id=\"T_65981db0_a615_11ea_98a4_002590e83e0alevel0_row15\" class=\"row_heading level0 row15\" >RecodedMOI_Object struck abdomen</th>\n",
       "                        <td id=\"T_65981db0_a615_11ea_98a4_002590e83e0arow15_col0\" class=\"data row15 col0\" >0</td>\n",
       "            </tr>\n",
       "            <tr>\n",
       "                        <th id=\"T_65981db0_a615_11ea_98a4_002590e83e0alevel0_row16\" class=\"row_heading level0 row16\" >RecodedMOI_Motorcycle/ATV/Scooter collision</th>\n",
       "                        <td id=\"T_65981db0_a615_11ea_98a4_002590e83e0arow16_col0\" class=\"data row16 col0\" >0</td>\n",
       "            </tr>\n",
       "            <tr>\n",
       "                        <th id=\"T_65981db0_a615_11ea_98a4_002590e83e0alevel0_row17\" class=\"row_heading level0 row17\" >RecodedMOI_Motor vehicle collision</th>\n",
       "                        <td id=\"T_65981db0_a615_11ea_98a4_002590e83e0arow17_col0\" class=\"data row17 col0\" >0</td>\n",
       "            </tr>\n",
       "            <tr>\n",
       "                        <th id=\"T_65981db0_a615_11ea_98a4_002590e83e0alevel0_row18\" class=\"row_heading level0 row18\" >RecodedMOI_Bike collision/fall</th>\n",
       "                        <td id=\"T_65981db0_a615_11ea_98a4_002590e83e0arow18_col0\" class=\"data row18 col0\" >0</td>\n",
       "            </tr>\n",
       "            <tr>\n",
       "                        <th id=\"T_65981db0_a615_11ea_98a4_002590e83e0alevel0_row19\" class=\"row_heading level0 row19\" >LtCostalTender</th>\n",
       "                        <td id=\"T_65981db0_a615_11ea_98a4_002590e83e0arow19_col0\" class=\"data row19 col0\" >0</td>\n",
       "            </tr>\n",
       "            <tr>\n",
       "                        <th id=\"T_65981db0_a615_11ea_98a4_002590e83e0alevel0_row20\" class=\"row_heading level0 row20\" >InitHeartRate</th>\n",
       "                        <td id=\"T_65981db0_a615_11ea_98a4_002590e83e0arow20_col0\" class=\"data row20 col0\" >0</td>\n",
       "            </tr>\n",
       "            <tr>\n",
       "                        <th id=\"T_65981db0_a615_11ea_98a4_002590e83e0alevel0_row21\" class=\"row_heading level0 row21\" >Hypotension</th>\n",
       "                        <td id=\"T_65981db0_a615_11ea_98a4_002590e83e0arow21_col0\" class=\"data row21 col0\" >0</td>\n",
       "            </tr>\n",
       "            <tr>\n",
       "                        <th id=\"T_65981db0_a615_11ea_98a4_002590e83e0alevel0_row22\" class=\"row_heading level0 row22\" >GCSScore</th>\n",
       "                        <td id=\"T_65981db0_a615_11ea_98a4_002590e83e0arow22_col0\" class=\"data row22 col0\" >0</td>\n",
       "            </tr>\n",
       "            <tr>\n",
       "                        <th id=\"T_65981db0_a615_11ea_98a4_002590e83e0alevel0_row23\" class=\"row_heading level0 row23\" >DecrBreathSound_yes</th>\n",
       "                        <td id=\"T_65981db0_a615_11ea_98a4_002590e83e0arow23_col0\" class=\"data row23 col0\" >0</td>\n",
       "            </tr>\n",
       "            <tr>\n",
       "                        <th id=\"T_65981db0_a615_11ea_98a4_002590e83e0alevel0_row24\" class=\"row_heading level0 row24\" >Age</th>\n",
       "                        <td id=\"T_65981db0_a615_11ea_98a4_002590e83e0arow24_col0\" class=\"data row24 col0\" >0</td>\n",
       "            </tr>\n",
       "            <tr>\n",
       "                        <th id=\"T_65981db0_a615_11ea_98a4_002590e83e0alevel0_row25\" class=\"row_heading level0 row25\" >AbdomenPain_yes</th>\n",
       "                        <td id=\"T_65981db0_a615_11ea_98a4_002590e83e0arow25_col0\" class=\"data row25 col0\" >0</td>\n",
       "            </tr>\n",
       "            <tr>\n",
       "                        <th id=\"T_65981db0_a615_11ea_98a4_002590e83e0alevel0_row26\" class=\"row_heading level0 row26\" >AbdTrauma_yes</th>\n",
       "                        <td id=\"T_65981db0_a615_11ea_98a4_002590e83e0arow26_col0\" class=\"data row26 col0\" >0</td>\n",
       "            </tr>\n",
       "            <tr>\n",
       "                        <th id=\"T_65981db0_a615_11ea_98a4_002590e83e0alevel0_row27\" class=\"row_heading level0 row27\" >AbdTenderDegree_Severe</th>\n",
       "                        <td id=\"T_65981db0_a615_11ea_98a4_002590e83e0arow27_col0\" class=\"data row27 col0\" >0</td>\n",
       "            </tr>\n",
       "            <tr>\n",
       "                        <th id=\"T_65981db0_a615_11ea_98a4_002590e83e0alevel0_row28\" class=\"row_heading level0 row28\" >AbdDistention_yes</th>\n",
       "                        <td id=\"T_65981db0_a615_11ea_98a4_002590e83e0arow28_col0\" class=\"data row28 col0\" >0</td>\n",
       "            </tr>\n",
       "    </tbody></table>"
      ],
      "text/plain": [
       "<pandas.io.formats.style.Styler at 0x7fd1a3993e50>"
      ]
     },
     "execution_count": 11,
     "metadata": {},
     "output_type": "execute_result"
    }
   ],
   "source": [
    "r = results\n",
    "best_model = 'logistic_select_lasso=10_smote=5'\n",
    "# print(r.keys())\n",
    "# r.style.apply(viz.highlight_max, subset=[k for k in r if not 'std' in k])\n",
    "r = r.sort_values('balanced_accuracy', ascending=False)\n",
    "keys = [k for k in r if '_f' in k]\n",
    "keys_remapped = {k: k.replace('_f', '') for k in keys}\n",
    "r = r[keys].rename(columns=keys_remapped)\n",
    "# r = r.sort_values('lifetime')\n",
    "# r = r[r.index.str.contains('35')]\n",
    "# r = r[r.index.str.contains('11')]\n",
    "# r = r.rename(columns={'mean_square_displacement': 'msd', 'total_displacement': 'td'})\n",
    "\n",
    "# r = r[r.index.str.contains('20')]\n",
    "r = r[r.index.str.contains(best_model)]\n",
    "\n",
    "r = r[[k for k in r if not 'std' in k]]\n",
    "\n",
    "\n",
    "def rank(r):\n",
    "    '''Rank feature importances appropriately\n",
    "    '''\n",
    "    r = r.abs()\n",
    "    r = r.rank(axis=1, ascending=False, method='min')\n",
    "    return r\n",
    "# \n",
    "# r = rank(r)\n",
    "r = r.reindex(r.mean().sort_values(ascending=True).index, axis=1) # sort cols by mean rank\n",
    "idxs = r.index\n",
    "# r.insert(0, 'balanced_acc', results.loc[idxs]['balanced_accuracy'])\n",
    "# r = r.sort_values('balanced_acc', ascending=False)\n",
    "# subset = list(r.keys())\n",
    "# subset.remove('balanced_acc')\n",
    "# r.to_html('table.html')\n",
    "# r = r.fillna(0).style.background_gradient(cmap='viridis_r', axis=1) #, subset=subset) # rows differently colored\n",
    "\n",
    "\n",
    "r = r.transpose()\n",
    "r = r.reindex(r[best_model].abs().sort_values(ascending=False).index) # sort by abs value\n",
    "# r = r.sort_values(by='logistic_20_ros=1')\n",
    "r = r.fillna(0).style.background_gradient(cmap=cm) #, axis=0) #, subset=subset) # rows differently colored\n",
    "# r = background_gradient(r)\n",
    "r"
   ]
  },
  {
   "cell_type": "markdown",
   "metadata": {},
   "source": [
    "# analyze on final test data"
   ]
  },
  {
   "cell_type": "code",
   "execution_count": null,
   "metadata": {},
   "outputs": [],
   "source": [
    "df = data.get_data()\n",
    "outcome_def = 'iai_intervention'\n",
    "idxs_test = df.cv_fold.isin([6])\n",
    "X_test, Y_test = df[idxs_test], df[outcome_def][idxs_test]"
   ]
  },
  {
   "cell_type": "code",
   "execution_count": null,
   "metadata": {},
   "outputs": [],
   "source": [
    "model_name = 'logistic_20_ros=5'\n",
    "# results = pkl.load(open('results/classify_outcome=y_consec_sig/rf_ros_11.pkl', 'rb'))\n",
    "results = pkl.load(open(f'results/outcome=iai_intervention/{model_name}.pkl', 'rb'))\n",
    "preds, preds_proba = viz.visualize_individual_results(results, X_test, Y_test, print_results=False)"
   ]
  },
  {
   "cell_type": "markdown",
   "metadata": {},
   "source": [
    "# misc analysis"
   ]
  },
  {
   "cell_type": "code",
   "execution_count": null,
   "metadata": {},
   "outputs": [],
   "source": [
    "def count_common_feats(m_cv, model_type='tree'):\n",
    "    if model_type == 'tree':\n",
    "        feats_used = []\n",
    "        for i in range(len(m_cv['estimator'])):\n",
    "            m_fit = m_cv['estimator'][i]\n",
    "            feats_used += list(ks[m_fit.feature_importances_ != 0])\n",
    "    elif model_type == 'logistic':\n",
    "        feats_used = []\n",
    "        for i in range(len(m_cv['estimator'])):\n",
    "            m_fit = m_cv['estimator'][i]\n",
    "            num_feats = 5\n",
    "            # get top num_feats features with biggest bsolute weights\n",
    "            idxs = np.abs(m_fit.coef_).flatten().argsort()[-num_feats:][::-1]\n",
    "            feats_used += list(ks[idxs])\n",
    "    return sorted(dict(Counter(feats_used)).items(), key=lambda kv: kv[1], reverse=True)\n",
    "        \n",
    "count_common_feats(m_cv, model_type)"
   ]
  },
  {
   "cell_type": "code",
   "execution_count": null,
   "metadata": {},
   "outputs": [],
   "source": [
    "# plot a tree\n",
    "m_fit = m_cv['estimator'][0]\n",
    "plt.figure(dpi=300)\n",
    "plot_tree(m_fit, feature_names=ks)\n",
    "plt.show()"
   ]
  },
  {
   "cell_type": "code",
   "execution_count": 13,
   "metadata": {},
   "outputs": [],
   "source": [
    "f = lambda a, b: a+b"
   ]
  },
  {
   "cell_type": "code",
   "execution_count": 14,
   "metadata": {},
   "outputs": [
    {
     "data": {
      "text/plain": [
       "7"
      ]
     },
     "execution_count": 14,
     "metadata": {},
     "output_type": "execute_result"
    }
   ],
   "source": [
    "f(3, 4)"
   ]
  },
  {
   "cell_type": "code",
   "execution_count": 16,
   "metadata": {},
   "outputs": [
    {
     "data": {
      "text/plain": [
       "0"
      ]
     },
     "execution_count": 16,
     "metadata": {},
     "output_type": "execute_result"
    }
   ],
   "source": [
    "confusion_matrix([0, 1, 0, 1], [1, 1, 1, 0]).ravel()[0]"
   ]
  },
  {
   "cell_type": "code",
   "execution_count": null,
   "metadata": {},
   "outputs": [],
   "source": []
  }
 ],
 "metadata": {
  "kernelspec": {
   "display_name": "Python 3",
   "language": "python",
   "name": "python3"
  },
  "language_info": {
   "codemirror_mode": {
    "name": "ipython",
    "version": 3
   },
   "file_extension": ".py",
   "mimetype": "text/x-python",
   "name": "python",
   "nbconvert_exporter": "python",
   "pygments_lexer": "ipython3",
   "version": "3.7.5"
  }
 },
 "nbformat": 4,
 "nbformat_minor": 4
}
