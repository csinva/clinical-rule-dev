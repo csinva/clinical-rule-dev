{
 "cells": [
  {
   "cell_type": "code",
   "execution_count": 4,
   "metadata": {},
   "outputs": [
    {
     "name": "stdout",
     "output_type": "stream",
     "text": [
      "The autoreload extension is already loaded. To reload it, use:\n",
      "  %reload_ext autoreload\n"
     ]
    }
   ],
   "source": [
    "import os\n",
    "from os.path import join as oj\n",
    "import sys, time\n",
    "import seaborn as sns\n",
    "import numpy as np\n",
    "import matplotlib.pyplot as plt\n",
    "from tqdm import tqdm\n",
    "from copy import deepcopy\n",
    "import pickle as pkl\n",
    "import pandas as pd\n",
    "import data_pecarn\n",
    "import data_psrc\n",
    "import data\n",
    "import train\n",
    "import matplotlib.gridspec as grd\n",
    "from data import feats_numerical, feats_categorical, meta\n",
    "\n",
    "# sns.set(style=\"black\")\n",
    "# plt.style.use('dark_background')\n",
    "outcome_def = 'iai_intervention' # output\n",
    "%matplotlib inline\n",
    "%load_ext autoreload\n",
    "%autoreload 2"
   ]
  },
  {
   "cell_type": "markdown",
   "metadata": {},
   "source": [
    "# prepare data"
   ]
  },
  {
   "cell_type": "code",
   "execution_count": 5,
   "metadata": {},
   "outputs": [
    {
     "name": "stdout",
     "output_type": "stream",
     "text": [
      "computing pecarn preprocessing...\n",
      "computing psrc preprocessing...\n"
     ]
    }
   ],
   "source": [
    "df_pecarn, df_psrc, common_feats, filtered_feats_pecarn, filtered_feats_psrc = data.load_it_all(dummy=True)\n",
    "df = df_pecarn[common_feats].append(df_psrc[common_feats])\n",
    "processed_feats = data.select_final_feats(common_feats)"
   ]
  },
  {
   "cell_type": "code",
   "execution_count": 6,
   "metadata": {},
   "outputs": [],
   "source": [
    "train_idxs = data.pecarn_train_idxs\n",
    "test_idxs1 = data.pecarn_test_idxs\n",
    "test_idxs2 = data.psrc_train_idxs + data.psrc_test_idxs\n",
    "df = df[df.cv_fold.isin(train_idxs)]"
   ]
  },
  {
   "cell_type": "code",
   "execution_count": 7,
   "metadata": {},
   "outputs": [
    {
     "name": "stdout",
     "output_type": "stream",
     "text": [
      "26 ['MOI_Bike collision/fall', 'ThoracicTrauma_yes', 'VomitWretch_unknown', 'MOI_Motor vehicle collision', 'Age', 'DecrBreathSound_yes', 'AbdDistention_yes', 'RtCostalTender', 'AbdomenPain_yes', 'InitHeartRate', 'MOI_Motorcycle/ATV/Scooter collision', 'AbdTenderDegree_Severe', 'AbdTenderDegree_Moderate', 'MOI_Fall from an elevation', 'InitSysBPRange', 'MOI_Pedestrian/bicyclist struck by moving vehicle', 'MOI_unknown', 'GCSScore_Full_yes', 'LtCostalTender', 'CostalTender', 'MOI_Object struck abdomen', 'AbdTrauma_or_SeatBeltSign_yes', 'VomitWretch_yes', 'AbdTenderDegree_Mild', 'AbdDistention_unknown', 'Hypotension_yes']\n"
     ]
    }
   ],
   "source": [
    "print(len(processed_feats), processed_feats)"
   ]
  },
  {
   "cell_type": "code",
   "execution_count": null,
   "metadata": {},
   "outputs": [],
   "source": [
    "print(train_idxs, test_idxs1, test_idxs2)"
   ]
  },
  {
   "cell_type": "markdown",
   "metadata": {},
   "source": [
    "# predict"
   ]
  },
  {
   "cell_type": "code",
   "execution_count": 22,
   "metadata": {},
   "outputs": [],
   "source": [
    "from sklearn.metrics import precision_recall_curve\n",
    "\n",
    "X, y = df[processed_feats], df[outcome_def]\n",
    "\n",
    "X_train, y_train = X[:len(y)//2], y[:len(y)//2]\n",
    "X_test, y_test = X[len(y)//2:], y[len(y)//2:]\n"
   ]
  },
  {
   "cell_type": "code",
   "execution_count": 18,
   "metadata": {},
   "outputs": [],
   "source": [
    "from imodels import RuleListClassifier, RuleFit\n",
    "from skrules import SkopeRules"
   ]
  },
  {
   "cell_type": "code",
   "execution_count": 19,
   "metadata": {},
   "outputs": [],
   "source": [
    "# feature_names = ['sepal_length', 'sepal_width', 'petal_length', 'petal_width']\n",
    "clf = SkopeRules(max_depth_duplication=3,\n",
    "                 n_estimators=30,\n",
    "                 precision_min=0.3,\n",
    "                 recall_min=0.1,\n",
    "                 feature_names=processed_feats)"
   ]
  },
  {
   "cell_type": "code",
   "execution_count": null,
   "metadata": {},
   "outputs": [],
   "source": [
    "clf.fit(X_train, y_train)"
   ]
  },
  {
   "cell_type": "code",
   "execution_count": 27,
   "metadata": {},
   "outputs": [
    {
     "name": "stdout",
     "output_type": "stream",
     "text": [
      "Rules for iai\n",
      "('AbdTenderDegree_Severe > 0.5 and InitSysBPRange <= 128.0 and InitHeartRate > 111.5', (0.5652173913043478, 0.19117647058823528, 1))\n",
      "('AbdTrauma_or_SeatBeltSign_yes > 0.5 and Hypotension_yes <= 0.5 and AbdDistention_yes > 0.5', (0.309863339275104, 0.1570048309178744, 3))\n",
      "('AbdTenderDegree_Severe <= 0.5 and LtCostalTender > 2.5 and AbdDistention_yes > 0.5', (0.3270474137931034, 0.14687432403201384, 2))\n",
      "('AbdTenderDegree_Severe > 0.5 and AbdDistention_yes <= 0.5 and InitHeartRate > 111.5', (0.3385989010989011, 0.14359034865199694, 3))\n"
     ]
    },
    {
     "name": "stderr",
     "output_type": "stream",
     "text": [
      "/accounts/projects/vision/.local/lib/python3.7/site-packages/sklearn/utils/validation.py:933: FutureWarning: Passing attributes to check_is_fitted is deprecated and will be removed in 0.23. The attributes argument is ignored.\n",
      "  \"argument is ignored.\", FutureWarning)\n"
     ]
    },
    {
     "data": {
      "image/png": "[encoded data removed]",
      "text/plain": [
       "<Figure size 432x288 with 1 Axes>"
      ]
     },
     "metadata": {
      "needs_background": "light"
     },
     "output_type": "display_data"
    }
   ],
   "source": [
    "# print the rules\n",
    "rules = clf.rules_\n",
    "print(\"Rules for iai\")\n",
    "for rule in rules:\n",
    "    print(rule)\n",
    "\n",
    "# evaluate\n",
    "y_score = clf.score_top_rules(X_test) # Get a risk score for each test example\n",
    "precision, recall, _ = precision_recall_curve(y_test, y_score)\n",
    "plt.plot(recall, precision)\n",
    "plt.xlabel('Recall')\n",
    "plt.ylabel('Precision')\n",
    "plt.title('Precision Recall curve')\n",
    "plt.show()"
   ]
  },
  {
   "cell_type": "code",
   "execution_count": null,
   "metadata": {},
   "outputs": [],
   "source": []
  }
 ],
 "metadata": {
  "kernelspec": {
   "display_name": "Python 3",
   "language": "python",
   "name": "python3"
  },
  "language_info": {
   "codemirror_mode": {
    "name": "ipython",
    "version": 3
   },
   "file_extension": ".py",
   "mimetype": "text/x-python",
   "name": "python",
   "nbconvert_exporter": "python",
   "pygments_lexer": "ipython3",
   "version": "3.7.5"
  }
 },
 "nbformat": 4,
 "nbformat_minor": 4
}
