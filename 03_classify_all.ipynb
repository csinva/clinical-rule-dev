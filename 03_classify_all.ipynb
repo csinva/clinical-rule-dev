{
 "cells": [
  {
   "cell_type": "code",
   "execution_count": 19,
   "metadata": {},
   "outputs": [
    {
     "name": "stdout",
     "output_type": "stream",
     "text": [
      "The autoreload extension is already loaded. To reload it, use:\n",
      "  %reload_ext autoreload\n"
     ]
    }
   ],
   "source": [
    "import os\n",
    "from os.path import join as oj\n",
    "import sys, time\n",
    "import seaborn as sns\n",
    "import numpy as np\n",
    "import matplotlib.pyplot as plt\n",
    "from tqdm import tqdm\n",
    "from copy import deepcopy\n",
    "import pickle as pkl\n",
    "import pandas as pd\n",
    "import data_pecarn\n",
    "import data_psrc\n",
    "import data\n",
    "import train\n",
    "import matplotlib.gridspec as grd\n",
    "from data import feats_numerical, feats_categorical, meta, outcome_def\n",
    "# sns.set(style=\"black\")\n",
    "# plt.style.use('dark_background')\n",
    "%matplotlib inline\n",
    "%load_ext autoreload\n",
    "%autoreload 2"
   ]
  },
  {
   "cell_type": "markdown",
   "metadata": {},
   "source": [
    "# combined"
   ]
  },
  {
   "cell_type": "code",
   "execution_count": 17,
   "metadata": {},
   "outputs": [
    {
     "name": "stdout",
     "output_type": "stream",
     "text": [
      "computing pecarn preprocessing...\n",
      "computing psrc preprocessing...\n",
      "26 ['MOI_Motorcycle/ATV/Scooter collision', 'AbdDistention_unknown', 'MOI_Motor vehicle collision', 'AbdTenderDegree_Severe', 'InitSysBPRange', 'GCSScore_Full_yes', 'ThoracicTrauma_yes', 'MOI_Bike collision/fall', 'MOI_unknown', 'InitHeartRate', 'RtCostalTender', 'MOI_Object struck abdomen', 'VomitWretch_yes', 'CostalTender', 'AbdTrauma_or_SeatBeltSign_yes', 'LtCostalTender', 'AbdTenderDegree_Moderate', 'MOI_Fall from an elevation', 'MOI_Pedestrian/bicyclist struck by moving vehicle', 'AbdDistention_yes', 'VomitWretch_unknown', 'AbdTenderDegree_Mild', 'Age', 'Hypotension_yes', 'AbdomenPain_yes', 'DecrBreathSound_yes']\n",
      "[1, 2, 3, 4] [5, 6] [8, 9, 10, 11, 12, 13]\n"
     ]
    }
   ],
   "source": [
    "df_pecarn, df_psrc, common_feats, filtered_feats_pecarn, filtered_feats_psrc = data.load_it_all(dummy=True)\n",
    "df = df_pecarn[common_feats].append(df_psrc[common_feats])\n",
    "\n",
    "processed_feats = data.select_final_feats(common_feats)\n",
    "train_idxs = data.pecarn_train_idxs\n",
    "test_idxs1 = data.pecarn_test_idxs\n",
    "test_idxs2 = data.psrc_train_idxs + data.psrc_test_idxs\n",
    "print(len(processed_feats), processed_feats)\n",
    "print(train_idxs, test_idxs1, test_idxs2)"
   ]
  },
  {
   "cell_type": "code",
   "execution_count": 62,
   "metadata": {},
   "outputs": [],
   "source": [
    "def get_sample_weights(balancing_ratio):\n",
    "    # class weights\n",
    "    class_weights = {0: 1, 1: balancing_ratio}\n",
    "    sample_weights_class = pd.Series(df[outcome_def]).map(class_weights).values\n",
    "    \n",
    "    # weights for different risk populations\n",
    "    age_discrete = pd.cut(df['Age'], bins=(-1, 4, 9, 1000), labels=['<5', '5-9', '>9']).values\n",
    "    # we don't have sex for psrc, so just fill in 0 (only matters for training anyway)\n",
    "    sex = pd.Series(np.hstack((df_pecarn['Sex_M'].values, np.zeros(df_psrc.shape[0])))).map({0: 'F', 1: 'M'}).values\n",
    "    risk_identity = [(sex[i], age_discrete[i]) for i in range(age_discrete.shape[0])]\n",
    "\n",
    "    risk_weights = {\n",
    "        ('F', '<5'): 2, ('F', '5-9'): 1, ('F', '>9'): 1,\n",
    "        ('M', '<5'): 1, ('M', '5-9'): 1, ('M', '>9'): 1                \n",
    "    }\n",
    "    sample_weights_identity = pd.Series(risk_identity).map(risk_weights).values\n",
    "    sample_weights = sample_weights_class * sample_weights_identity # elementwise multiply\n",
    "    return sample_weights"
   ]
  },
  {
   "cell_type": "markdown",
   "metadata": {},
   "source": [
    "# predict"
   ]
  },
  {
   "cell_type": "code",
   "execution_count": null,
   "metadata": {},
   "outputs": [],
   "source": [
    "out_dir = f'results/jun17_1'\n",
    "os.makedirs(out_dir, exist_ok=True)\n",
    "for balancing in ['sample_weights']: # ['ros', 'smote']:\n",
    "    for balancing_ratio in [100, 5]: \n",
    "        sample_weights = get_sample_weights(balancing_ratio)\n",
    "        for model_type in ['logistic', 'dt']: #, 'rf', 'mlp2', 'svm']): # 'rf', 'mlp2', 'svm', 'gb'\n",
    "            for feature_selection in ['select_stab_lasso', 'select_lasso', 'select_rf']: #, 'select_lasso', 'select_rf']: # select_lasso, select_rf, None\n",
    "                for feature_selection_num in tqdm([5, 6, 7, 10, len(processed_feats)]):\n",
    "                    out_name = f'{model_type}_{feature_selection}={feature_selection_num}_{balancing}={balancing_ratio}'\n",
    "                    train.train(df,\n",
    "                                feat_names=processed_feats,\n",
    "                                model_type=model_type, \n",
    "                                balancing=balancing,\n",
    "                                outcome_def=outcome_def,\n",
    "                                sample_weights=sample_weights,\n",
    "                                balancing_ratio=balancing_ratio,\n",
    "                                out_name=f'{out_dir}/{out_name}.pkl',\n",
    "                                feature_selection=feature_selection,\n",
    "                                feature_selection_num=feature_selection_num,\n",
    "                                train_idxs=train_idxs,\n",
    "                                test_idxs1=test_idxs1,\n",
    "                                test_idxs2=test_idxs2)"
   ]
  }
 ],
 "metadata": {
  "kernelspec": {
   "display_name": "Python 3",
   "language": "python",
   "name": "python3"
  },
  "language_info": {
   "codemirror_mode": {
    "name": "ipython",
    "version": 3
   },
   "file_extension": ".py",
   "mimetype": "text/x-python",
   "name": "python",
   "nbconvert_exporter": "python",
   "pygments_lexer": "ipython3",
   "version": "3.7.5"
  }
 },
 "nbformat": 4,
 "nbformat_minor": 4
}
