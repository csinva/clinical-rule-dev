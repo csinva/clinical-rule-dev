{
 "cells": [
  {
   "cell_type": "code",
   "execution_count": null,
   "metadata": {},
   "outputs": [],
   "source": [
    "import os\n",
    "from os.path import join as oj\n",
    "import sys, time\n",
    "import seaborn as sns\n",
    "import numpy as np\n",
    "import matplotlib.pyplot as plt\n",
    "from tqdm import tqdm\n",
    "from copy import deepcopy\n",
    "import pickle as pkl\n",
    "import pandas as pd\n",
    "import data_pecarn\n",
    "import data_psrc\n",
    "import data\n",
    "import train\n",
    "import matplotlib.gridspec as grd\n",
    "\n",
    "# sns.set(style=\"black\")\n",
    "# plt.style.use('dark_background')\n",
    "outcome_def = 'iai_intervention' # output\n",
    "%matplotlib inline\n",
    "%load_ext autoreload\n",
    "%autoreload 2"
   ]
  },
  {
   "cell_type": "markdown",
   "metadata": {},
   "source": [
    "# combined"
   ]
  },
  {
   "cell_type": "code",
   "execution_count": 2,
   "metadata": {},
   "outputs": [
    {
     "name": "stdout",
     "output_type": "stream",
     "text": [
      "computing pecarn preprocessing...\n",
      "computing psrc preprocessing...\n"
     ]
    }
   ],
   "source": [
    "dummy = True\n",
    "df_pecarn = data_pecarn.get_data(dummy=dummy)\n",
    "feat_names, pecarn_feat_names = data.get_feat_names(df_pecarn)\n",
    "\n",
    "df_psrc = data_psrc.get_data(dummy=dummy)\n",
    "feat_names, psrc_feat_names = data.get_feat_names(df_psrc)"
   ]
  },
  {
   "cell_type": "code",
   "execution_count": 11,
   "metadata": {},
   "outputs": [
    {
     "name": "stdout",
     "output_type": "stream",
     "text": [
      "27 ['CostalTender', 'VomitWretch_yes', 'RecodedMOI_Fall from an elevation', 'AbdTenderDegree_Mild', 'InitSysBPRange', 'RecodedMOI_unknown', 'AbdTenderDegree_Moderate', 'AbdDistention_unknown', 'AbdDistention_yes', 'AbdomenPain_yes', 'RecodedMOI_Bike collision/fall', 'RecodedMOI_Pedestrian/bicyclist struck by moving vehicle', 'RecodedMOI_Motorcycle/ATV/Scooter collision', 'SeatBeltSign_yes', 'InitHeartRate', 'Hypotension', 'RtCostalTender', 'VomitWretch_unknown', 'RecodedMOI_Motor vehicle collision', 'RecodedMOI_Object struck abdomen', 'AbdTenderDegree_Severe', 'Age', 'LtCostalTender', 'GCSScore', 'AbdTrauma_yes', 'ThoracicTrauma_yes', 'DecrBreathSound_yes']\n"
     ]
    }
   ],
   "source": [
    "feat_names = [k for k in psrc_feat_names if k in pecarn_feat_names]\n",
    "meta = [outcome_def, 'cv_fold', 'dset']\n",
    "common_feats = feat_names + meta\n",
    "df1 = df_pecarn[common_feats]\n",
    "df2 = df_psrc[common_feats]\n",
    "df = pd.concat((df1, df2), axis=0)\n",
    "\n",
    "# don't include doubles for binary features\n",
    "feat_names = [f for f in feat_names if not f.endswith('_no')]\n",
    "\n",
    "# don't include race\n",
    "# df['AbdTenderDegree_Mild'] = df['AbdTenderDegree_unknown'] | df['AbdTenderDegree_Mild']\n",
    "feat_names = [f for f in feat_names if not 'Race' in f\n",
    "              and '_or_' not in f\n",
    "              and not f == 'AbdTenderDegree_unknown']\n",
    "\n",
    "# rework GCSScore\n",
    "print(len(feat_names), feat_names)"
   ]
  },
  {
   "cell_type": "code",
   "execution_count": 12,
   "metadata": {},
   "outputs": [],
   "source": [
    "train_idxs = data.pecarn_train_idxs\n",
    "test_idxs = data.psrc_train_idxs"
   ]
  },
  {
   "cell_type": "markdown",
   "metadata": {},
   "source": [
    "# predict"
   ]
  },
  {
   "cell_type": "code",
   "execution_count": null,
   "metadata": {},
   "outputs": [],
   "source": [
    "for balancing in ['ros', 'smote']:\n",
    "    for balancing_ratio in [100, 5]: \n",
    "        for model_type in ['logistic', 'dt']: #, 'rf', 'mlp2', 'svm']): # 'rf', 'mlp2', 'svm', 'gb'\n",
    "            for feature_selection in ['select_lasso', 'select_rf']: # select_lasso, select_rf, None\n",
    "                for feature_selection_num in tqdm([5, 10, len(feat_names)]): # 34 total feats\n",
    "#                 feats = feat_names[:num_feats]\n",
    "                    out_dir = f'results/jun3_2'\n",
    "                    os.makedirs(out_dir, exist_ok=True)\n",
    "#                     f'{model_type}_{num_feats}_{balancing}={balancing_ratio}\n",
    "                    out_name = f'{model_type}_{feature_selection}={feature_selection_num}_{balancing}={balancing_ratio}'\n",
    "                    train.train(df,\n",
    "                                feat_names=feat_names,\n",
    "                                model_type=model_type, \n",
    "                                balancing=balancing,\n",
    "                                outcome_def=outcome_def,\n",
    "                                balancing_ratio=balancing_ratio,\n",
    "                                out_name=f'{out_dir}/{out_name}.pkl',\n",
    "                                feature_selection=feature_selection,\n",
    "                                feature_selection_num=feature_selection_num,\n",
    "                                train_idxs=train_idxs,\n",
    "                                test_idxs=test_idxs)"
   ]
  },
  {
   "cell_type": "code",
   "execution_count": null,
   "metadata": {},
   "outputs": [],
   "source": []
  }
 ],
 "metadata": {
  "kernelspec": {
   "display_name": "Python 3",
   "language": "python",
   "name": "python3"
  },
  "language_info": {
   "codemirror_mode": {
    "name": "ipython",
    "version": 3
   },
   "file_extension": ".py",
   "mimetype": "text/x-python",
   "name": "python",
   "nbconvert_exporter": "python",
   "pygments_lexer": "ipython3",
   "version": "3.7.5"
  }
 },
 "nbformat": 4,
 "nbformat_minor": 4
}
