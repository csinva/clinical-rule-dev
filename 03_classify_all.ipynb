{
 "cells": [
  {
   "cell_type": "code",
   "execution_count": 22,
   "metadata": {},
   "outputs": [
    {
     "name": "stdout",
     "output_type": "stream",
     "text": [
      "The autoreload extension is already loaded. To reload it, use:\n",
      "  %reload_ext autoreload\n"
     ]
    }
   ],
   "source": [
    "import os\n",
    "from os.path import join as oj\n",
    "import sys, time\n",
    "import seaborn as sns\n",
    "import numpy as np\n",
    "import matplotlib.pyplot as plt\n",
    "from tqdm import tqdm\n",
    "from copy import deepcopy\n",
    "import pickle as pkl\n",
    "import pandas as pd\n",
    "import data_pecarn\n",
    "import data_psrc\n",
    "import data\n",
    "import train\n",
    "import matplotlib.gridspec as grd\n",
    "from data import feats_numerical, feats_categorical, meta\n",
    "\n",
    "# sns.set(style=\"black\")\n",
    "# plt.style.use('dark_background')\n",
    "outcome_def = 'iai_intervention' # output\n",
    "%matplotlib inline\n",
    "%load_ext autoreload\n",
    "%autoreload 2"
   ]
  },
  {
   "cell_type": "markdown",
   "metadata": {},
   "source": [
    "# combined"
   ]
  },
  {
   "cell_type": "code",
   "execution_count": 28,
   "metadata": {},
   "outputs": [
    {
     "name": "stdout",
     "output_type": "stream",
     "text": [
      "computing pecarn preprocessing...\n",
      "computing psrc preprocessing...\n"
     ]
    }
   ],
   "source": [
    "df_pecarn, df_psrc, common_feats, filtered_feats_pecarn, filtered_feats_psrc = data.load_it_all(dummy=True)\n",
    "df = df_pecarn[common_feats].append(df_psrc[common_feats])\n",
    "processed_feats = data.select_final_feats(common_feats)"
   ]
  },
  {
   "cell_type": "code",
   "execution_count": 29,
   "metadata": {},
   "outputs": [],
   "source": [
    "train_idxs = data.pecarn_train_idxs\n",
    "test_idxs1 = data.pecarn_test_idxs\n",
    "test_idxs2 = data.psrc_train_idxs + data.psrc_test_idxs"
   ]
  },
  {
   "cell_type": "code",
   "execution_count": 30,
   "metadata": {},
   "outputs": [
    {
     "name": "stdout",
     "output_type": "stream",
     "text": [
      "26 ['MOI_Fall from an elevation', 'MOI_Motorcycle/ATV/Scooter collision', 'InitSysBPRange', 'AbdDistention_yes', 'AbdomenPain_yes', 'GCSScore_Full_yes', 'DecrBreathSound_yes', 'AbdTenderDegree_Severe', 'AbdTenderDegree_Mild', 'Age', 'InitHeartRate', 'RtCostalTender', 'CostalTender', 'MOI_Pedestrian/bicyclist struck by moving vehicle', 'ThoracicTrauma_yes', 'MOI_Object struck abdomen', 'AbdTenderDegree_Moderate', 'VomitWretch_yes', 'AbdTrauma_or_SeatBeltSign_yes', 'MOI_Motor vehicle collision', 'MOI_unknown', 'VomitWretch_unknown', 'AbdDistention_unknown', 'Hypotension_yes', 'LtCostalTender', 'MOI_Bike collision/fall']\n"
     ]
    }
   ],
   "source": [
    "print(len(processed_feats), processed_feats)"
   ]
  },
  {
   "cell_type": "code",
   "execution_count": 31,
   "metadata": {},
   "outputs": [
    {
     "name": "stdout",
     "output_type": "stream",
     "text": [
      "[1, 2, 3, 4, 5] [6] [8, 9, 10, 11, 12, 13]\n"
     ]
    }
   ],
   "source": [
    "print(train_idxs, test_idxs1, test_idxs2)"
   ]
  },
  {
   "cell_type": "markdown",
   "metadata": {},
   "source": [
    "# predict"
   ]
  },
  {
   "cell_type": "code",
   "execution_count": null,
   "metadata": {},
   "outputs": [
    {
     "name": "stderr",
     "output_type": "stream",
     "text": [
      "  0%|          | 0/3 [00:00<?, ?it/s]"
     ]
    },
    {
     "name": "stdout",
     "output_type": "stream",
     "text": [
      "shapes (14232, 26) (1973, 26) (2188, 26)\n"
     ]
    },
    {
     "name": "stderr",
     "output_type": "stream",
     "text": [
      "/accounts/projects/vision/.local/lib/python3.7/site-packages/imblearn/utils/_validation.py:253: UserWarning: After over-sampling, the number of samples (787100) in class 1 will be larger than the number of samples in the majority class (class #0 -> 7871)\n",
      "  n_samples_majority))\n",
      "/accounts/projects/vision/.local/lib/python3.7/site-packages/sklearn/utils/deprecation.py:87: FutureWarning: Function safe_indexing is deprecated; safe_indexing is deprecated in version 0.22 and will be removed in version 0.24.\n",
      "  warnings.warn(msg, category=FutureWarning)\n",
      "/accounts/projects/vision/.local/lib/python3.7/site-packages/imblearn/utils/_validation.py:253: UserWarning: After over-sampling, the number of samples (791500) in class 1 will be larger than the number of samples in the majority class (class #0 -> 7915)\n",
      "  n_samples_majority))\n",
      "/accounts/projects/vision/.local/lib/python3.7/site-packages/sklearn/utils/deprecation.py:87: FutureWarning: Function safe_indexing is deprecated; safe_indexing is deprecated in version 0.22 and will be removed in version 0.24.\n",
      "  warnings.warn(msg, category=FutureWarning)\n",
      "/accounts/projects/vision/.local/lib/python3.7/site-packages/imblearn/utils/_validation.py:253: UserWarning: After over-sampling, the number of samples (797800) in class 1 will be larger than the number of samples in the majority class (class #0 -> 7978)\n",
      "  n_samples_majority))\n",
      "/accounts/projects/vision/.local/lib/python3.7/site-packages/sklearn/utils/deprecation.py:87: FutureWarning: Function safe_indexing is deprecated; safe_indexing is deprecated in version 0.22 and will be removed in version 0.24.\n",
      "  warnings.warn(msg, category=FutureWarning)\n",
      "/accounts/projects/vision/.local/lib/python3.7/site-packages/imblearn/utils/_validation.py:253: UserWarning: After over-sampling, the number of samples (794900) in class 1 will be larger than the number of samples in the majority class (class #0 -> 7949)\n",
      "  n_samples_majority))\n",
      "/accounts/projects/vision/.local/lib/python3.7/site-packages/sklearn/utils/deprecation.py:87: FutureWarning: Function safe_indexing is deprecated; safe_indexing is deprecated in version 0.22 and will be removed in version 0.24.\n",
      "  warnings.warn(msg, category=FutureWarning)\n",
      "/accounts/projects/vision/.local/lib/python3.7/site-packages/imblearn/utils/_validation.py:253: UserWarning: After over-sampling, the number of samples (790300) in class 1 will be larger than the number of samples in the majority class (class #0 -> 7903)\n",
      "  n_samples_majority))\n",
      "/accounts/projects/vision/.local/lib/python3.7/site-packages/sklearn/utils/deprecation.py:87: FutureWarning: Function safe_indexing is deprecated; safe_indexing is deprecated in version 0.22 and will be removed in version 0.24.\n",
      "  warnings.warn(msg, category=FutureWarning)\n",
      " 33%|███▎      | 1/3 [00:11<00:22, 11.22s/it]"
     ]
    },
    {
     "name": "stdout",
     "output_type": "stream",
     "text": [
      "shapes (14232, 26) (1973, 26) (2188, 26)\n"
     ]
    },
    {
     "name": "stderr",
     "output_type": "stream",
     "text": [
      "/accounts/projects/vision/.local/lib/python3.7/site-packages/imblearn/utils/_validation.py:253: UserWarning: After over-sampling, the number of samples (787100) in class 1 will be larger than the number of samples in the majority class (class #0 -> 7871)\n",
      "  n_samples_majority))\n",
      "/accounts/projects/vision/.local/lib/python3.7/site-packages/sklearn/utils/deprecation.py:87: FutureWarning: Function safe_indexing is deprecated; safe_indexing is deprecated in version 0.22 and will be removed in version 0.24.\n",
      "  warnings.warn(msg, category=FutureWarning)\n",
      "/accounts/projects/vision/.local/lib/python3.7/site-packages/imblearn/utils/_validation.py:253: UserWarning: After over-sampling, the number of samples (791500) in class 1 will be larger than the number of samples in the majority class (class #0 -> 7915)\n",
      "  n_samples_majority))\n",
      "/accounts/projects/vision/.local/lib/python3.7/site-packages/sklearn/utils/deprecation.py:87: FutureWarning: Function safe_indexing is deprecated; safe_indexing is deprecated in version 0.22 and will be removed in version 0.24.\n",
      "  warnings.warn(msg, category=FutureWarning)\n",
      "/accounts/projects/vision/.local/lib/python3.7/site-packages/imblearn/utils/_validation.py:253: UserWarning: After over-sampling, the number of samples (797800) in class 1 will be larger than the number of samples in the majority class (class #0 -> 7978)\n",
      "  n_samples_majority))\n",
      "/accounts/projects/vision/.local/lib/python3.7/site-packages/sklearn/utils/deprecation.py:87: FutureWarning: Function safe_indexing is deprecated; safe_indexing is deprecated in version 0.22 and will be removed in version 0.24.\n",
      "  warnings.warn(msg, category=FutureWarning)\n",
      "/accounts/projects/vision/.local/lib/python3.7/site-packages/imblearn/utils/_validation.py:253: UserWarning: After over-sampling, the number of samples (794900) in class 1 will be larger than the number of samples in the majority class (class #0 -> 7949)\n",
      "  n_samples_majority))\n",
      "/accounts/projects/vision/.local/lib/python3.7/site-packages/sklearn/utils/deprecation.py:87: FutureWarning: Function safe_indexing is deprecated; safe_indexing is deprecated in version 0.22 and will be removed in version 0.24.\n",
      "  warnings.warn(msg, category=FutureWarning)\n",
      "/accounts/projects/vision/.local/lib/python3.7/site-packages/imblearn/utils/_validation.py:253: UserWarning: After over-sampling, the number of samples (790300) in class 1 will be larger than the number of samples in the majority class (class #0 -> 7903)\n",
      "  n_samples_majority))\n",
      "/accounts/projects/vision/.local/lib/python3.7/site-packages/sklearn/utils/deprecation.py:87: FutureWarning: Function safe_indexing is deprecated; safe_indexing is deprecated in version 0.22 and will be removed in version 0.24.\n",
      "  warnings.warn(msg, category=FutureWarning)\n",
      " 67%|██████▋   | 2/3 [00:22<00:11, 11.38s/it]"
     ]
    },
    {
     "name": "stdout",
     "output_type": "stream",
     "text": [
      "shapes (14232, 26) (1973, 26) (2188, 26)\n"
     ]
    },
    {
     "name": "stderr",
     "output_type": "stream",
     "text": [
      "/accounts/projects/vision/.local/lib/python3.7/site-packages/imblearn/utils/_validation.py:253: UserWarning: After over-sampling, the number of samples (787100) in class 1 will be larger than the number of samples in the majority class (class #0 -> 7871)\n",
      "  n_samples_majority))\n",
      "/accounts/projects/vision/.local/lib/python3.7/site-packages/sklearn/utils/deprecation.py:87: FutureWarning: Function safe_indexing is deprecated; safe_indexing is deprecated in version 0.22 and will be removed in version 0.24.\n",
      "  warnings.warn(msg, category=FutureWarning)\n",
      "/accounts/projects/vision/.local/lib/python3.7/site-packages/imblearn/utils/_validation.py:253: UserWarning: After over-sampling, the number of samples (791500) in class 1 will be larger than the number of samples in the majority class (class #0 -> 7915)\n",
      "  n_samples_majority))\n",
      "/accounts/projects/vision/.local/lib/python3.7/site-packages/sklearn/utils/deprecation.py:87: FutureWarning: Function safe_indexing is deprecated; safe_indexing is deprecated in version 0.22 and will be removed in version 0.24.\n",
      "  warnings.warn(msg, category=FutureWarning)\n",
      "/accounts/projects/vision/.local/lib/python3.7/site-packages/imblearn/utils/_validation.py:253: UserWarning: After over-sampling, the number of samples (797800) in class 1 will be larger than the number of samples in the majority class (class #0 -> 7978)\n",
      "  n_samples_majority))\n",
      "/accounts/projects/vision/.local/lib/python3.7/site-packages/sklearn/utils/deprecation.py:87: FutureWarning: Function safe_indexing is deprecated; safe_indexing is deprecated in version 0.22 and will be removed in version 0.24.\n",
      "  warnings.warn(msg, category=FutureWarning)\n",
      "/accounts/projects/vision/.local/lib/python3.7/site-packages/imblearn/utils/_validation.py:253: UserWarning: After over-sampling, the number of samples (794900) in class 1 will be larger than the number of samples in the majority class (class #0 -> 7949)\n",
      "  n_samples_majority))\n",
      "/accounts/projects/vision/.local/lib/python3.7/site-packages/sklearn/utils/deprecation.py:87: FutureWarning: Function safe_indexing is deprecated; safe_indexing is deprecated in version 0.22 and will be removed in version 0.24.\n",
      "  warnings.warn(msg, category=FutureWarning)\n",
      "/accounts/projects/vision/.local/lib/python3.7/site-packages/imblearn/utils/_validation.py:253: UserWarning: After over-sampling, the number of samples (790300) in class 1 will be larger than the number of samples in the majority class (class #0 -> 7903)\n",
      "  n_samples_majority))\n",
      "/accounts/projects/vision/.local/lib/python3.7/site-packages/sklearn/utils/deprecation.py:87: FutureWarning: Function safe_indexing is deprecated; safe_indexing is deprecated in version 0.22 and will be removed in version 0.24.\n",
      "  warnings.warn(msg, category=FutureWarning)\n",
      "100%|██████████| 3/3 [01:20<00:00, 25.09s/it]\n",
      "  0%|          | 0/3 [00:00<?, ?it/s]"
     ]
    },
    {
     "name": "stdout",
     "output_type": "stream",
     "text": [
      "shapes (14232, 26) (1973, 26) (2188, 26)\n"
     ]
    },
    {
     "name": "stderr",
     "output_type": "stream",
     "text": [
      "/accounts/projects/vision/.local/lib/python3.7/site-packages/imblearn/utils/_validation.py:253: UserWarning: After over-sampling, the number of samples (787100) in class 1 will be larger than the number of samples in the majority class (class #0 -> 7871)\n",
      "  n_samples_majority))\n",
      "/accounts/projects/vision/.local/lib/python3.7/site-packages/sklearn/utils/deprecation.py:87: FutureWarning: Function safe_indexing is deprecated; safe_indexing is deprecated in version 0.22 and will be removed in version 0.24.\n",
      "  warnings.warn(msg, category=FutureWarning)\n",
      "/accounts/projects/vision/.local/lib/python3.7/site-packages/imblearn/utils/_validation.py:253: UserWarning: After over-sampling, the number of samples (791500) in class 1 will be larger than the number of samples in the majority class (class #0 -> 7915)\n",
      "  n_samples_majority))\n",
      "/accounts/projects/vision/.local/lib/python3.7/site-packages/sklearn/utils/deprecation.py:87: FutureWarning: Function safe_indexing is deprecated; safe_indexing is deprecated in version 0.22 and will be removed in version 0.24.\n",
      "  warnings.warn(msg, category=FutureWarning)\n",
      "/accounts/projects/vision/.local/lib/python3.7/site-packages/imblearn/utils/_validation.py:253: UserWarning: After over-sampling, the number of samples (797800) in class 1 will be larger than the number of samples in the majority class (class #0 -> 7978)\n",
      "  n_samples_majority))\n",
      "/accounts/projects/vision/.local/lib/python3.7/site-packages/sklearn/utils/deprecation.py:87: FutureWarning: Function safe_indexing is deprecated; safe_indexing is deprecated in version 0.22 and will be removed in version 0.24.\n",
      "  warnings.warn(msg, category=FutureWarning)\n",
      "/accounts/projects/vision/.local/lib/python3.7/site-packages/imblearn/utils/_validation.py:253: UserWarning: After over-sampling, the number of samples (794900) in class 1 will be larger than the number of samples in the majority class (class #0 -> 7949)\n",
      "  n_samples_majority))\n",
      "/accounts/projects/vision/.local/lib/python3.7/site-packages/sklearn/utils/deprecation.py:87: FutureWarning: Function safe_indexing is deprecated; safe_indexing is deprecated in version 0.22 and will be removed in version 0.24.\n",
      "  warnings.warn(msg, category=FutureWarning)\n",
      "/accounts/projects/vision/.local/lib/python3.7/site-packages/imblearn/utils/_validation.py:253: UserWarning: After over-sampling, the number of samples (790300) in class 1 will be larger than the number of samples in the majority class (class #0 -> 7903)\n",
      "  n_samples_majority))\n",
      "/accounts/projects/vision/.local/lib/python3.7/site-packages/sklearn/utils/deprecation.py:87: FutureWarning: Function safe_indexing is deprecated; safe_indexing is deprecated in version 0.22 and will be removed in version 0.24.\n",
      "  warnings.warn(msg, category=FutureWarning)\n",
      " 33%|███▎      | 1/3 [00:12<00:24, 12.29s/it]"
     ]
    },
    {
     "name": "stdout",
     "output_type": "stream",
     "text": [
      "shapes (14232, 26) (1973, 26) (2188, 26)\n"
     ]
    },
    {
     "name": "stderr",
     "output_type": "stream",
     "text": [
      "/accounts/projects/vision/.local/lib/python3.7/site-packages/imblearn/utils/_validation.py:253: UserWarning: After over-sampling, the number of samples (787100) in class 1 will be larger than the number of samples in the majority class (class #0 -> 7871)\n",
      "  n_samples_majority))\n",
      "/accounts/projects/vision/.local/lib/python3.7/site-packages/sklearn/utils/deprecation.py:87: FutureWarning: Function safe_indexing is deprecated; safe_indexing is deprecated in version 0.22 and will be removed in version 0.24.\n",
      "  warnings.warn(msg, category=FutureWarning)\n",
      "/accounts/projects/vision/.local/lib/python3.7/site-packages/imblearn/utils/_validation.py:253: UserWarning: After over-sampling, the number of samples (791500) in class 1 will be larger than the number of samples in the majority class (class #0 -> 7915)\n",
      "  n_samples_majority))\n",
      "/accounts/projects/vision/.local/lib/python3.7/site-packages/sklearn/utils/deprecation.py:87: FutureWarning: Function safe_indexing is deprecated; safe_indexing is deprecated in version 0.22 and will be removed in version 0.24.\n",
      "  warnings.warn(msg, category=FutureWarning)\n",
      "/accounts/projects/vision/.local/lib/python3.7/site-packages/imblearn/utils/_validation.py:253: UserWarning: After over-sampling, the number of samples (797800) in class 1 will be larger than the number of samples in the majority class (class #0 -> 7978)\n",
      "  n_samples_majority))\n",
      "/accounts/projects/vision/.local/lib/python3.7/site-packages/sklearn/utils/deprecation.py:87: FutureWarning: Function safe_indexing is deprecated; safe_indexing is deprecated in version 0.22 and will be removed in version 0.24.\n",
      "  warnings.warn(msg, category=FutureWarning)\n",
      "/accounts/projects/vision/.local/lib/python3.7/site-packages/imblearn/utils/_validation.py:253: UserWarning: After over-sampling, the number of samples (794900) in class 1 will be larger than the number of samples in the majority class (class #0 -> 7949)\n",
      "  n_samples_majority))\n",
      "/accounts/projects/vision/.local/lib/python3.7/site-packages/sklearn/utils/deprecation.py:87: FutureWarning: Function safe_indexing is deprecated; safe_indexing is deprecated in version 0.22 and will be removed in version 0.24.\n",
      "  warnings.warn(msg, category=FutureWarning)\n",
      "/accounts/projects/vision/.local/lib/python3.7/site-packages/imblearn/utils/_validation.py:253: UserWarning: After over-sampling, the number of samples (790300) in class 1 will be larger than the number of samples in the majority class (class #0 -> 7903)\n",
      "  n_samples_majority))\n",
      "/accounts/projects/vision/.local/lib/python3.7/site-packages/sklearn/utils/deprecation.py:87: FutureWarning: Function safe_indexing is deprecated; safe_indexing is deprecated in version 0.22 and will be removed in version 0.24.\n",
      "  warnings.warn(msg, category=FutureWarning)\n",
      " 67%|██████▋   | 2/3 [00:26<00:13, 13.01s/it]"
     ]
    },
    {
     "name": "stdout",
     "output_type": "stream",
     "text": [
      "shapes (14232, 26) (1973, 26) (2188, 26)\n"
     ]
    },
    {
     "name": "stderr",
     "output_type": "stream",
     "text": [
      "/accounts/projects/vision/.local/lib/python3.7/site-packages/imblearn/utils/_validation.py:253: UserWarning: After over-sampling, the number of samples (787100) in class 1 will be larger than the number of samples in the majority class (class #0 -> 7871)\n",
      "  n_samples_majority))\n",
      "/accounts/projects/vision/.local/lib/python3.7/site-packages/sklearn/utils/deprecation.py:87: FutureWarning: Function safe_indexing is deprecated; safe_indexing is deprecated in version 0.22 and will be removed in version 0.24.\n",
      "  warnings.warn(msg, category=FutureWarning)\n"
     ]
    }
   ],
   "source": [
    "out_dir = f'results/jun17_0'\n",
    "os.makedirs(out_dir, exist_ok=True)\n",
    "\n",
    "for balancing in ['ros', 'smote']:\n",
    "    for balancing_ratio in [100, 5]: \n",
    "        for model_type in ['logistic', 'dt']: #, 'rf', 'mlp2', 'svm']): # 'rf', 'mlp2', 'svm', 'gb'\n",
    "            for feature_selection in ['select_lasso', 'select_rf']: # select_lasso, select_rf, None\n",
    "                for feature_selection_num in tqdm([5, 10, len(processed_feats)]):\n",
    "                    out_name = f'{model_type}_{feature_selection}={feature_selection_num}_{balancing}={balancing_ratio}'\n",
    "                    train.train(df,\n",
    "                                feat_names=processed_feats,\n",
    "                                model_type=model_type, \n",
    "                                balancing=balancing,\n",
    "                                outcome_def=outcome_def,\n",
    "                                balancing_ratio=balancing_ratio,\n",
    "                                out_name=f'{out_dir}/{out_name}.pkl',\n",
    "                                feature_selection=feature_selection,\n",
    "                                feature_selection_num=feature_selection_num,\n",
    "                                train_idxs=train_idxs,\n",
    "                                test_idxs1=test_idxs1,\n",
    "                                test_idxs2=test_idxs2)"
   ]
  },
  {
   "cell_type": "code",
   "execution_count": null,
   "metadata": {},
   "outputs": [],
   "source": []
  }
 ],
 "metadata": {
  "kernelspec": {
   "display_name": "Python 3",
   "language": "python",
   "name": "python3"
  },
  "language_info": {
   "codemirror_mode": {
    "name": "ipython",
    "version": 3
   },
   "file_extension": ".py",
   "mimetype": "text/x-python",
   "name": "python",
   "nbconvert_exporter": "python",
   "pygments_lexer": "ipython3",
   "version": "3.7.5"
  }
 },
 "nbformat": 4,
 "nbformat_minor": 4
}
