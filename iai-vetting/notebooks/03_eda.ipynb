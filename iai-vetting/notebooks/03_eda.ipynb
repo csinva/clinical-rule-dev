{
 "cells": [
  {
   "cell_type": "code",
   "execution_count": 1,
   "metadata": {},
   "outputs": [],
   "source": [
    "import sys\n",
    "sys.path.append('../src')\n",
    "import matplotlib.pyplot as plt\n",
    "import numpy as np\n",
    "import seaborn as sns\n",
    "import data\n",
    "import viz\n",
    "from tqdm import tqdm\n",
    "from viz import *\n",
    "outcome_def = 'iai_intervention' # output\n",
    "%matplotlib inline\n",
    "%load_ext autoreload\n",
    "%autoreload 2"
   ]
  },
  {
   "cell_type": "markdown",
   "metadata": {},
   "source": [
    "# combined"
   ]
  },
  {
   "cell_type": "code",
   "execution_count": 2,
   "metadata": {},
   "outputs": [
    {
     "name": "stderr",
     "output_type": "stream",
     "text": [
      "/accounts/projects/vision/.local/lib/python3.7/site-packages/pandas/core/ops.py:1649: FutureWarning: elementwise comparison failed; returning scalar instead, but in the future will perform elementwise comparison\n",
      "  result = method(y)\n"
     ]
    },
    {
     "name": "stdout",
     "output_type": "stream",
     "text": [
      "['AbdDistention_or_AbdomenPain_yes', 'AbdTenderDegree_None', 'AbdTrauma_or_SeatBeltSign_yes', 'Age<2_yes', 'CostalTender_yes', 'DecrBreathSound_yes', 'GCSScore_Full_yes', 'Hypotension_yes', 'MOI_Bike collision/fall', 'MOI_Fall from an elevation', 'MOI_Motor vehicle collision', 'MOI_Motorcycle/ATV/Scooter collision', 'MOI_Object struck abdomen', 'MOI_Pedestrian/bicyclist struck by moving vehicle', 'ThoracicTrauma_yes', 'VomitWretch_yes']\n"
     ]
    }
   ],
   "source": [
    "df_pecarn, df_psrc, common_feats, filtered_feats_pecarn, filtered_feats_psrc = data.load_it_all(dummy=True)\n",
    "# df = df_pecarn[common_feats].append(df_psrc[common_feats])\n",
    "processed_feats = data.select_final_feats(common_feats,\n",
    "                                          collapse_abd_tender=True,\n",
    "                                          collapse_abd_distention=True)\n",
    "df_pecarn = df_pecarn[df_pecarn.cv_fold.isin(data.pecarn_train_idxs)]\n",
    "df = df_pecarn[common_feats]\n",
    "# df_psrc = df_psrc[df_psrc.cv_fold.isin(data.psrc_train_idxs)]\n",
    "print(processed_feats)"
   ]
  },
  {
   "cell_type": "markdown",
   "metadata": {},
   "source": [
    "**correlations between features**"
   ]
  },
  {
   "cell_type": "code",
   "execution_count": null,
   "metadata": {},
   "outputs": [],
   "source": [
    "# corrs = df[feat_names + [outcome_def]].corr()\n",
    "corrs = df[processed_feats + [outcome_def]].corr(method='pearson')\n",
    "corrmap = sns.clustermap(corrs, cmap=viz.cmap_div, vmin=-1, vmax=1, cbar_kws={'label': 'Correlation'})\n",
    "#                figsize=(12, 12))\n",
    "corrmap.ax_row_dendrogram.set_visible(False)\n",
    "corrmap.ax_col_dendrogram.set_visible(False)\n",
    "\n",
    "plt.show()\n",
    "# plt.savefig('results/corrplot.png', dpi=300, bbox_inches='tight')"
   ]
  },
  {
   "cell_type": "markdown",
   "metadata": {},
   "source": [
    "**individual correlations with outcome**"
   ]
  },
  {
   "cell_type": "code",
   "execution_count": null,
   "metadata": {},
   "outputs": [],
   "source": [
    "plt.figure(dpi=250, figsize=(4, 7))\n",
    "vals = corrs[outcome_def]\n",
    "args = np.argsort(vals)\n",
    "labs = corrs['iai_intervention'][args].index.values\n",
    "ax = plt.subplot(111)\n",
    "plt.barh(labs[:-1], vals[args][:-1])\n",
    "plt.xlabel('Correlation w/ outcome')\n",
    "ax.spines['right'].set_visible(False)\n",
    "ax.spines['top'].set_visible(False)\n",
    "plt.show()"
   ]
  },
  {
   "cell_type": "markdown",
   "metadata": {},
   "source": [
    "**subgroup risks (with sizes)**"
   ]
  },
  {
   "cell_type": "code",
   "execution_count": null,
   "metadata": {},
   "outputs": [],
   "source": [
    "def plot_subgroup_risks(df, head=None, tail=None):\n",
    "    plt.figure(dpi=250, figsize=(4, 7))\n",
    "    ks = np.array([k for k in df.keys()\n",
    "                   if not k == outcome_def])\n",
    "    mean_risk_baseline = df_pecarn[outcome_def].mean() * 100\n",
    "    if head is not None or tail is not None:\n",
    "        ks = np.array([k for k in ks\n",
    "                       if np.sum(df[k]) >= 10\n",
    "                       and np.abs(np.mean(df[k]) - mean_risk_baseline) > 1\n",
    "                       and not np.sum([df[k] == 1]) == 0]) # should have at least one IAI-I\n",
    "    vals = np.array([np.mean(df[outcome_def][df[k] == 1]) for k in ks])\n",
    "    vals[np.isnan(vals)] = mean_risk_baseline\n",
    "    counts = np.array([np.sum([df[k] == 1]) for k in ks])\n",
    "    args = np.argsort(vals)\n",
    "    if head is not None:\n",
    "        args = args[:head]\n",
    "    if tail is not None:\n",
    "        args = args[-tail:]\n",
    "    labs = ks[args]\n",
    "    vals = vals[args] * 100\n",
    "    counts = counts[args]\n",
    "    counts_norm = counts / np.nanmax(counts)\n",
    "    ax = plt.subplot(111)\n",
    "    plt.plot(vals, np.arange(vals.size), 'o', ms=1)\n",
    "    plt.barh(y=np.arange(vals.size), width=vals, height=1.0 * counts_norm)\n",
    "    plt.yticks(np.arange(vals.size), [lab.replace('_yes', '') for lab in labs])\n",
    "    for i, (v, c) in enumerate(zip(vals, counts)):\n",
    "        ax.text(v, i - 0.1, str(c), color=cg, fontweight='bold')\n",
    "    plt.axvline(mean_risk_baseline, color='gray', linestyle='--', alpha=0.5)\n",
    "    ax.text(vals.max(), 1, 'Count in subgroup', color=cg, fontweight='bold')\n",
    "    ax.spines['right'].set_visible(False)\n",
    "    ax.spines['top'].set_visible(False)\n",
    "    plt.xlabel('IAI-I risk (%)')\n",
    "    plt.show()\n",
    "# plot_subgroup_risks(df[processed_feats + [outcome_def]])\n",
    "# dd = df[(df['AbdTenderDegree_None']==1) & (df['GCSScore_Full_yes'] == 1)] # low-risk group left to split\n",
    "# plot_subgroup_risks(dd[[k for k in processed_feats if not k in ['AbdTenderDegree_None', 'GCSScore_Full_yes']] + [outcome_def]])\n",
    "dd = df[(df['AbdTenderDegree_None']==1) & (df['GCSScore_Full_yes'] == 1)] # & (df['DecrBreathSound_yes'] == 0)] # low-risk group left to split\n",
    "plot_subgroup_risks(dd[[k for k in processed_feats if not k in ['AbdTenderDegree_None', 'GCSScore_Full_yes']] + [outcome_def]])"
   ]
  },
  {
   "cell_type": "markdown",
   "metadata": {},
   "source": [
    "**intersectional subgroup risks (with sizes)**"
   ]
  },
  {
   "cell_type": "code",
   "execution_count": 6,
   "metadata": {},
   "outputs": [
    {
     "name": "stderr",
     "output_type": "stream",
     "text": [
      "100%|██████████| 14/14 [00:00<00:00, 36.50it/s]\n"
     ]
    }
   ],
   "source": [
    "def get_intersectional_groups(df):\n",
    "    d = pd.DataFrame()\n",
    "    # func = lambda x, y: np.corrcoef(x, y)[0, 1] # corr\n",
    "    feats = [k for k in df.keys() if not k == outcome_def]\n",
    "    y = df[outcome_def]\n",
    "    for r in tqdm(range(len(feats))):\n",
    "        for c in range(r):\n",
    "            f1 = feats[r]\n",
    "            f2 = feats[c]\n",
    "            xr = df[f1] == 1\n",
    "            xc = df[f2] == 1\n",
    "            d[f'{f1}_{f2}'] = xr & xc\n",
    "            d[f'~{f1}_{f2}'] = ~xr & xc\n",
    "            d[f'{f1}_~{f2}'] = xr & ~xc\n",
    "            d[f'~{f1}_~{f2}'] = ~xr & ~xc\n",
    "    d[outcome_def] = df[outcome_def]\n",
    "    return d.astype(int)\n",
    "# d = get_intersectional_groups(df[processed_feats + [outcome_def]])\n",
    "dd = df[(df['AbdTenderDegree_None']==1) & (df['GCSScore_Full_yes'] == 1)] # low-risk group left to split\n",
    "dd = dd[[k for k in processed_feats if not k in ['AbdTenderDegree_None', 'GCSScore_Full_yes']] + [outcome_def]]\n",
    "d = get_intersectional_groups(dd)\n",
    "# plot_subgroup_risks(dd[] + [outcome_def]])"
   ]
  },
  {
   "cell_type": "code",
   "execution_count": null,
   "metadata": {},
   "outputs": [],
   "source": [
    "plot_subgroup_risks(d, head=30)"
   ]
  },
  {
   "cell_type": "code",
   "execution_count": null,
   "metadata": {},
   "outputs": [],
   "source": [
    "plot_subgroup_risks(d, tail=30)"
   ]
  },
  {
   "cell_type": "markdown",
   "metadata": {},
   "source": [
    "**joint correlations (or risks) with outcome joint**"
   ]
  },
  {
   "cell_type": "code",
   "execution_count": null,
   "metadata": {},
   "outputs": [],
   "source": [
    "func = lambda x, y: np.corrcoef(x, y)[0, 1] # corr\n",
    "# func = lambda x, y: np.mean(y[x]) # frac high-risk\n",
    "d = len(processed_feats)\n",
    "mat = np.zeros((2 * d, 2 * d))\n",
    "y = df[outcome_def]\n",
    "for r in range(d):\n",
    "    for c in range(d):\n",
    "        xr = df[processed_feats[r]] == 1\n",
    "        xc = df[processed_feats[c]] == 1\n",
    "        mat[2 * r, 2 * c] = func(xr & xc, y)\n",
    "        mat[2 * r + 1, 2 * c] = func(~xr & xc, y)\n",
    "        mat[2 * r, 2 * c + 1] = func(xr & ~xc, y)\n",
    "        mat[2 * r + 1, 2 * c + 1] = func(~xr & ~xc, y)\n",
    "        \n",
    "fs = np.array([[x, '~' + x] for x in processed_feats]).flatten()\n",
    "mat[np.isnan(mat)] = 0\n",
    "matt = pd.DataFrame(mat, index=fs, columns=fs)\n",
    "vabs = np.max([np.abs(np.min(mat)), np.max(mat)])\n",
    "vmin = -vabs\n",
    "cmap = viz.cmap_div\n",
    "if np.min(mat) >= 0:\n",
    "    vmin = 0\n",
    "    cmap = 'Blues'\n",
    "corrmap = sns.clustermap(matt, cmap=cmap, vmin=vmin, vmax=vabs,\n",
    "               dendrogram_ratio=0.2, figsize=(10, 10),)\n",
    "corrmap.ax_row_dendrogram.set_visible(False)\n",
    "corrmap.ax_col_dendrogram.set_visible(False)\n",
    "#                row_cluster=False, col_cluster=False)\n",
    "# plt.savefig('dendrogram.png', dpi=400)\n",
    "# plt.tight_layout()\n",
    "plt.show()"
   ]
  },
  {
   "cell_type": "markdown",
   "metadata": {},
   "source": [
    "# features scatter plots"
   ]
  },
  {
   "cell_type": "markdown",
   "metadata": {},
   "source": [
    "## continuous features"
   ]
  },
  {
   "cell_type": "code",
   "execution_count": null,
   "metadata": {},
   "outputs": [],
   "source": [
    "R, C, = 1, 4\n",
    "plt.figure(figsize=(12, 3), dpi=500)\n",
    "for i in range(len(data.feats_numerical)):\n",
    "    plt.subplot(R, C, i + 1)\n",
    "    feat = data.feats_numerical[i]\n",
    "    plt.hist(df[df[outcome_def] == 1][feat], density=True, alpha=1, label='pos', color=cb)\n",
    "    plt.hist(df[df[outcome_def] == 0][feat], density=True, alpha=0.5, label='neg', color=cr)\n",
    "    plt.xlabel(feat, fontsize=14)\n",
    "plt.legend()\n",
    "plt.tight_layout()\n",
    "plt.show()"
   ]
  },
  {
   "cell_type": "markdown",
   "metadata": {},
   "source": [
    "**we can cut GCSScore as whether it is 15 or not (14 is already pretty bad)**"
   ]
  },
  {
   "cell_type": "code",
   "execution_count": 3,
   "metadata": {},
   "outputs": [
    {
     "name": "stdout",
     "output_type": "stream",
     "text": [
      "(array([ 3.,  4.,  5.,  6.,  7.,  8.,  9., 10., 12., 13., 14., 15.]), array([21,  1,  1,  1,  6,  1,  4,  5,  1,  7, 16, 69]))\n",
      "(array([ 3.,  4.,  5.,  6.,  7.,  8.,  9., 10., 11., 12., 13., 14., 15.]), array([ 131,   19,   18,   49,   41,   27,   46,   37,   35,   56,  161,\n",
      "        412, 6820]))\n"
     ]
    }
   ],
   "source": [
    "feat = 'GCSScore'\n",
    "print(np.unique(df[df[outcome_def] == 1][feat], return_counts=True))\n",
    "print(np.unique(df[df[outcome_def] == 0][feat], return_counts=True))"
   ]
  },
  {
   "cell_type": "markdown",
   "metadata": {},
   "source": [
    "## scatter plots"
   ]
  },
  {
   "cell_type": "code",
   "execution_count": null,
   "metadata": {},
   "outputs": [],
   "source": [
    "viz.jointplot_grouped('Age', 'InitSysBPRange', 'iai_intervention', df)"
   ]
  },
  {
   "cell_type": "code",
   "execution_count": 8,
   "metadata": {},
   "outputs": [],
   "source": [
    "# viz.jointplot_grouped('Age', 'AbdDistention_yes', 'iai_intervention', df)"
   ]
  },
  {
   "cell_type": "code",
   "execution_count": null,
   "metadata": {},
   "outputs": [],
   "source": [
    "viz.jointplot_grouped('InitSysBPRange', 'InitHeartRate', 'iai_intervention', df)"
   ]
  },
  {
   "cell_type": "code",
   "execution_count": null,
   "metadata": {},
   "outputs": [],
   "source": [
    "viz.jointplot_grouped('Age', 'Hypotension_yes', 'iai_intervention', df)"
   ]
  },
  {
   "cell_type": "code",
   "execution_count": null,
   "metadata": {},
   "outputs": [],
   "source": [
    "viz.jointplot_grouped('Age', 'Sex_M', 'iai_intervention', df_pecarn) # this is using the df that still has gender"
   ]
  }
 ],
 "metadata": {
  "kernelspec": {
   "display_name": "Python 3",
   "language": "python",
   "name": "python3"
  },
  "language_info": {
   "codemirror_mode": {
    "name": "ipython",
    "version": 3
   },
   "file_extension": ".py",
   "mimetype": "text/x-python",
   "name": "python",
   "nbconvert_exporter": "python",
   "pygments_lexer": "ipython3",
   "version": "3.7.5"
  },
  "pycharm": {
   "stem_cell": {
    "cell_type": "raw",
    "metadata": {
     "collapsed": false
    },
    "source": []
   }
  }
 },
 "nbformat": 4,
 "nbformat_minor": 4
}
