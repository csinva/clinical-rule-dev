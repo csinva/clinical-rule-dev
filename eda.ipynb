{
 "cells": [
  {
   "cell_type": "code",
   "execution_count": 52,
   "metadata": {},
   "outputs": [
    {
     "name": "stdout",
     "output_type": "stream",
     "text": [
      "The autoreload extension is already loaded. To reload it, use:\n",
      "  %reload_ext autoreload\n"
     ]
    }
   ],
   "source": [
    "import os\n",
    "from os.path import join as oj\n",
    "import sys, time\n",
    "sys.path.insert(1, oj(sys.path[0], '..'))  # insert parent path\n",
    "import seaborn as sns\n",
    "from sklearn.model_selection import train_test_split\n",
    "import numpy as np\n",
    "import matplotlib.pyplot as plt\n",
    "import pmlb\n",
    "from tqdm import tqdm\n",
    "from copy import deepcopy\n",
    "import pickle as pkl\n",
    "from sklearn.tree import DecisionTreeClassifier, plot_tree\n",
    "import pandas as pd\n",
    "\n",
    "%matplotlib inline\n",
    "%load_ext autoreload\n",
    "%autoreload 2"
   ]
  },
  {
   "cell_type": "markdown",
   "metadata": {},
   "source": [
    "# get the outcome"
   ]
  },
  {
   "cell_type": "code",
   "execution_count": 56,
   "metadata": {},
   "outputs": [],
   "source": [
    "outcome_pi = pd.read_csv('iaip_data/Datasets/form6b.csv')\n",
    "outcome_surg = pd.read_csv('iaip_data/Datasets/form6c.csv')"
   ]
  },
  {
   "cell_type": "code",
   "execution_count": 57,
   "metadata": {},
   "outputs": [
    {
     "data": {
      "text/plain": [
       "Index(['SubjectID', 'IAIinED1', 'Liver', 'CTGrade', 'Spleen', 'CTGrade2',\n",
       "       'Kidney', 'CTGrade3', 'GITract', 'Mesenteric', 'SmallBowel',\n",
       "       'LargeBowel', 'Pancreas', 'Gallbladder', 'FascialInjury',\n",
       "       'AdrenalGland', 'UrinaryBladder', 'VascularStruct', 'HemoperitFluid',\n",
       "       'OtherChecked', 'TOrgansOther', 'BldTransfusion', 'IVFluids',\n",
       "       'ThoracicInjury1', 'Thoracotomy', 'PelvicFracture1', 'SurgicalRepair',\n",
       "       'Other1'],\n",
       "      dtype='object')"
      ]
     },
     "execution_count": 57,
     "metadata": {},
     "output_type": "execute_result"
    }
   ],
   "source": [
    "outcome_pi.keys()"
   ]
  },
  {
   "cell_type": "code",
   "execution_count": 58,
   "metadata": {},
   "outputs": [],
   "source": [
    "# Intra-abdominal injury diagnosed in the ED/during hospitalization by any diagnostic method\n",
    "# 1 is yes\n",
    "# 2 is no -> remap to 0\n",
    "outcome_pi.keys()\n",
    "outcome_pi['id'] = outcome_pi['SubjectID'] \n",
    "idxs = outcome_pi['IAIinED1'] == 2\n",
    "outcome_pi[idxs] = 0\n",
    "outcomes = outcome_pi[['id', 'IAIinED1']]"
   ]
  },
  {
   "cell_type": "markdown",
   "metadata": {},
   "source": [
    "# make full data matrix"
   ]
  },
  {
   "cell_type": "code",
   "execution_count": 59,
   "metadata": {},
   "outputs": [],
   "source": [
    "demographics = pd.read_csv('iaip_data/Datasets/demographics.csv')\n",
    "demographics['id'] = demographics['SubjectID']"
   ]
  },
  {
   "cell_type": "code",
   "execution_count": 60,
   "metadata": {},
   "outputs": [
    {
     "data": {
      "text/plain": [
       "Index(['SubjectID', 'SEX', 'RACE', 'OTHER_RACE', 'HISPANIC_ETHNICITY',\n",
       "       'ageinyrs', 'id'],\n",
       "      dtype='object')"
      ]
     },
     "execution_count": 60,
     "metadata": {},
     "output_type": "execute_result"
    }
   ],
   "source": [
    "demographics.keys()"
   ]
  },
  {
   "cell_type": "code",
   "execution_count": 61,
   "metadata": {},
   "outputs": [
    {
     "data": {
      "text/plain": [
       "Index(['SubjectID', 'SEX', 'RACE', 'OTHER_RACE', 'HISPANIC_ETHNICITY',\n",
       "       'ageinyrs', 'id', 'IAIinED1'],\n",
       "      dtype='object')"
      ]
     },
     "execution_count": 61,
     "metadata": {},
     "output_type": "execute_result"
    }
   ],
   "source": [
    "how = 'inner'\n",
    "X_merged = pd.merge(demographics, outcomes, on='id', how=how)\n",
    "X = pd.DataFrame()\n",
    "for k in ['RACE', 'SEX']:\n",
    "    X[k] = X_merged[k].astype(str)\n",
    "for k in ['ageinyrs']:\n",
    "    X[k] = X_merged[k].astype(float)\n",
    "\n",
    "X_merged.keys()"
   ]
  },
  {
   "cell_type": "code",
   "execution_count": 62,
   "metadata": {},
   "outputs": [],
   "source": [
    "X_np = pd.get_dummies(X).values\n",
    "y_np = X_merged['IAIinED1']"
   ]
  },
  {
   "cell_type": "markdown",
   "metadata": {},
   "source": [
    "# prediction"
   ]
  },
  {
   "cell_type": "code",
   "execution_count": 63,
   "metadata": {},
   "outputs": [],
   "source": [
    "m = DecisionTreeClassifier()"
   ]
  },
  {
   "cell_type": "code",
   "execution_count": 64,
   "metadata": {},
   "outputs": [
    {
     "data": {
      "text/plain": [
       "DecisionTreeClassifier(class_weight=None, criterion='gini', max_depth=None,\n",
       "                       max_features=None, max_leaf_nodes=None,\n",
       "                       min_impurity_decrease=0.0, min_impurity_split=None,\n",
       "                       min_samples_leaf=1, min_samples_split=2,\n",
       "                       min_weight_fraction_leaf=0.0, presort=False,\n",
       "                       random_state=None, splitter='best')"
      ]
     },
     "execution_count": 64,
     "metadata": {},
     "output_type": "execute_result"
    }
   ],
   "source": [
    "m.fit(X_np, y_np)"
   ]
  },
  {
   "cell_type": "code",
   "execution_count": 65,
   "metadata": {},
   "outputs": [
    {
     "data": {
      "text/plain": [
       "[Text(167.4, 108.72, 'entropy = 0.0\\nsamples = 761\\nvalue = 761.0')]"
      ]
     },
     "execution_count": 65,
     "metadata": {},
     "output_type": "execute_result"
    },
    {
     "data": {
      "image/png": "[encoded data removed]",
      "text/plain": [
       "<Figure size 432x288 with 1 Axes>"
      ]
     },
     "metadata": {
      "needs_background": "light"
     },
     "output_type": "display_data"
    }
   ],
   "source": [
    "plot_tree(m)"
   ]
  },
  {
   "cell_type": "code",
   "execution_count": null,
   "metadata": {},
   "outputs": [],
   "source": []
  }
 ],
 "metadata": {
  "kernelspec": {
   "display_name": "Python 3",
   "language": "python",
   "name": "python3"
  },
  "language_info": {
   "codemirror_mode": {
    "name": "ipython",
    "version": 3
   },
   "file_extension": ".py",
   "mimetype": "text/x-python",
   "name": "python",
   "nbconvert_exporter": "python",
   "pygments_lexer": "ipython3",
   "version": "3.7.0"
  }
 },
 "nbformat": 4,
 "nbformat_minor": 4
}
