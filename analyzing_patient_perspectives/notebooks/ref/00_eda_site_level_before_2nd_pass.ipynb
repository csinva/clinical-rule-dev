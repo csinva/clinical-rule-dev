{
 "cells": [
  {
   "cell_type": "code",
   "execution_count": 1,
   "metadata": {},
   "outputs": [],
   "source": [
    "import pandas as pd\n",
    "import os\n",
    "import os.path\n",
    "from os.path import join\n",
    "import numpy as np\n",
    "DATA_DIR_INITIAL = '../data/raw/'\n",
    "DATA_DIR = join(DATA_DIR_INITIAL, '2nd Pass Analysis')"
   ]
  },
  {
   "cell_type": "markdown",
   "metadata": {},
   "source": [
    "### Original analyses, can ignore these -- just look at 2nd Pass Analysis, since it has cleaner data (although it doesn't have the original transcripts.)"
   ]
  },
  {
   "cell_type": "code",
   "execution_count": 15,
   "metadata": {},
   "outputs": [
    {
     "data": {
      "text/plain": [
       "['Ann Arbor (MICH) C2-Manish',\n",
       " 'Atlanta (CHOA) C2-Corina',\n",
       " 'Buffalo, Manish, 18APR2022',\n",
       " 'Charlotte (AHCM) C2-Kammy',\n",
       " 'Cincinnati_Spencer',\n",
       " 'Columbus, Patty, 02May2022',\n",
       " 'Dallas_Corina_31May2022',\n",
       " 'Denver (DECH), Patty, TBD',\n",
       " 'Houston, Kevin, 29APR2022',\n",
       " 'Indianapolis, Corina, 29APR2022',\n",
       " 'LA, Katie, 01JUN2022',\n",
       " 'Milwaukee, Katie 05May2022',\n",
       " 'Pittsburgh (UPMC) C2-Kammy',\n",
       " 'Portland (OREG) C2- Kevin',\n",
       " 'Sacramento, Jonathan, 29APR2022',\n",
       " 'Salt_Lake_Jonathan_12May2022',\n",
       " 'San Francisco (UCSF) C2-Patty',\n",
       " 'Seattle_Spencer',\n",
       " 'Tucson (TUCS) C2-Manish',\n",
       " 'Washington DC (CNMC) C2-Katie']"
      ]
     },
     "execution_count": 15,
     "metadata": {},
     "output_type": "execute_result"
    }
   ],
   "source": [
    "sites = sorted([x for x in os.listdir(DATA_DIR_INITIAL) if not x.endswith(\n",
    "    '.xlsx') and not x in ['readme.md', '2nd Pass Analysis']])\n",
    "\n",
    "for site in sites:\n",
    "    interviews = [x for x in os.listdir(\n",
    "        join(DATA_DIR_INITIAL, site)) if x.endswith('.xlsx')]\n",
    "    if not len(interviews) == 1:\n",
    "        print(site, interviews)"
   ]
  },
  {
   "cell_type": "code",
   "execution_count": 16,
   "metadata": {},
   "outputs": [
    {
     "name": "stdout",
     "output_type": "stream",
     "text": [
      "Ann Arbor (MICH) C2-Manish []\n",
      "Charlotte (AHCM) C2-Kammy []\n",
      "Columbus, Patty, 02May2022 ['Interview Analysis_NWCH.xlsx', 'Interview Analysis Template.xlsx']\n",
      "Denver (DECH), Patty, TBD []\n",
      "Houston, Kevin, 29APR2022 ['Interview Analysis Houston.xlsx', 'Interview Analysis Template.xlsx']\n",
      "Indianapolis, Corina, 29APR2022 ['Interview Analysis Template Indianapolis Andriescu.xlsx', 'Interview Analysis Template.xlsx']\n",
      "Pittsburgh (UPMC) C2-Kammy ['UPMC Interview Analysis.xlsx', 'Interview Analysis Template.xlsx']\n",
      "Portland (OREG) C2- Kevin ['OHSU Interview Analysis.xlsx', 'Interview Analysis Template.xlsx']\n",
      "Sacramento, Jonathan, 29APR2022 ['Book2.xlsx', 'Sacramento, Jonathan Lall- Interview Analysis April 2022 Final.xlsx', 'Interview Analysis Template.xlsx']\n",
      "Salt_Lake_Jonathan_12May2022 ['Final Salt Lake City Jonathan Lall May 2022.xlsx', 'Salt Lake City Jonathan Lall May 2022.xlsx']\n",
      "Washington DC (CNMC) C2-Katie ['Analysis Example for Group.xlsx', 'Interview Analysis_AHCM-SF.xlsx', 'Interview Analysis Template.xlsx']\n"
     ]
    }
   ],
   "source": []
  },
  {
   "cell_type": "code",
   "execution_count": null,
   "metadata": {},
   "outputs": [],
   "source": []
  }
 ],
 "metadata": {
  "kernelspec": {
   "display_name": ".venv",
   "language": "python",
   "name": "python3"
  },
  "language_info": {
   "codemirror_mode": {
    "name": "ipython",
    "version": 3
   },
   "file_extension": ".py",
   "mimetype": "text/x-python",
   "name": "python",
   "nbconvert_exporter": "python",
   "pygments_lexer": "ipython3",
   "version": "3.11.7"
  }
 },
 "nbformat": 4,
 "nbformat_minor": 2
}
