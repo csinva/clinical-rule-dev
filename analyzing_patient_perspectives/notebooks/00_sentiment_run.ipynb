{
 "cells": [
  {
   "cell_type": "code",
   "execution_count": null,
   "metadata": {},
   "outputs": [],
   "source": [
    "%load_ext autoreload\n",
    "%autoreload 2\n",
    "\n",
    "import pandas as pd\n",
    "import os\n",
    "import math\n",
    "import os.path\n",
    "from os.path import join\n",
    "import numpy as np\n",
    "import imodelsx\n",
    "from tqdm import tqdm\n",
    "from collections import defaultdict\n",
    "import matplotlib.pyplot as plt\n",
    "import scipy.stats\n",
    "import imodelsx.viz\n",
    "import json\n",
    "import seaborn as sns\n",
    "import data\n",
    "import joblib\n",
    "from matplotlib.gridspec import GridSpec\n",
    "from scipy.stats import spearmanr\n",
    "LEVELS = ['Very Negative', 'Negative', 'Neutral',\n",
    "          'No response', 'Positive', 'Very Positive']\n",
    "files_dict = data.load_files_dict_single_site()"
   ]
  },
  {
   "cell_type": "markdown",
   "metadata": {},
   "source": [
    "### Filter data for single-site analysis"
   ]
  },
  {
   "cell_type": "code",
   "execution_count": null,
   "metadata": {},
   "outputs": [],
   "source": [
    "# checkpoint = 'meta-llama/Llama-2-7b-hf'\n",
    "# checkpoint = 'meta-llama/Llama-2-70b-hf'\n",
    "checkpoint = 'gpt-4'  # gpt-35-turbo\n",
    "# checkpoint = 'gpt-35-turbo'\n",
    "# checkpoint = 'mistralai/Mistral-7B-v0.1'\n",
    "\n",
    "\n",
    "# site = 'Atlanta'\n",
    "# site = 'Columbus'\n",
    "# site = 'WashingtonDC'\n",
    "site = 'Charlotte'  # Houston, Portland\n",
    "df = files_dict[site]\n",
    "qs, responses_df, themes_df = data.split_single_site_df(df)"
   ]
  },
  {
   "cell_type": "markdown",
   "metadata": {},
   "source": [
    "### Run sentiment\n",
    "Note: this uses a lot of API calls (num questions * num responses), maybe around 400"
   ]
  },
  {
   "cell_type": "code",
   "execution_count": null,
   "metadata": {},
   "outputs": [],
   "source": [
    "def run_sentiment(site, checkpoint, qs, responses_df, themes_df, llm=None):\n",
    "    sentiment_prompt = '''### You are given a question and a response. Rate the sentiment/supportiveness of the response on a scale of 1 to 5, where 1 is very negative and 5 is very positive. ###\n",
    "\n",
    "Question: {question}\n",
    "\n",
    "Response: {response}\n",
    "\n",
    "Rating (1-5):'''\n",
    "    if llm is None:\n",
    "        llm = imodelsx.llm.get_llm(checkpoint, repeat_delay=None)\n",
    "\n",
    "    num_questions = len(qs)\n",
    "    sentiments = defaultdict(list)\n",
    "    for question_num in tqdm(range(num_questions), position=0):\n",
    "        question, responses, theme_dict = data.get_data_for_question_single_site(\n",
    "            question_num=question_num, qs=qs, responses_df=responses_df, themes_df=themes_df)\n",
    "\n",
    "        for response_num in tqdm(range(len(responses)), position=1):\n",
    "            response = responses.values[response_num]\n",
    "\n",
    "            if pd.isna(response):\n",
    "                sentiments[question_num].append(np.nan)\n",
    "            else:\n",
    "                prompt = sentiment_prompt.format(\n",
    "                    question=question, response=response)\n",
    "                ans = llm(prompt)\n",
    "                sentiments[question_num].append(ans)\n",
    "\n",
    "    # save\n",
    "    pd.DataFrame(sentiments).T.to_pickle(\n",
    "        join(data.PROCESSED_DIR, f'sentiments_df_{site}_{checkpoint.split(\"/\")[-1]}.pkl'))\n",
    "    return sentiments\n",
    "\n",
    "\n",
    "def compute_and_save_sent_df(sentiments, site, checkpoint):\n",
    "\n",
    "    sent_df = pd.DataFrame([(key, var) for (key, L) in sentiments.items() for var in L],\n",
    "                           columns=['Question', 'Value'])\n",
    "\n",
    "    # round  values\n",
    "    sent_df['Value'] = sent_df['Value'].astype(float).round()\n",
    "    value_maps = {\n",
    "        1: 'Very Negative',\n",
    "        2: 'Negative',\n",
    "        3: 'Neutral',\n",
    "        4: 'Positive',\n",
    "        5: 'Very Positive',\n",
    "    }\n",
    "    sent_df['Value'] = sent_df['Value'].map(value_maps.get)\n",
    "    sent_df['Value'] = sent_df['Value'].fillna('No response')\n",
    "\n",
    "    sent_df = sent_df.groupby(\n",
    "        ['Question', 'Value']).size().unstack(fill_value=0)\n",
    "    sent_df = sent_df.reindex(LEVELS, axis=1)\n",
    "    if checkpoint == 'gpt-4':\n",
    "        joblib.dump(sent_df, join(data.PROCESSED_DIR,\n",
    "                    f'sent_df_{site}_gpt-4.pkl'))\n",
    "    return sent_df\n",
    "\n",
    "# run single\n",
    "# sentiments = run_sentiment(site, checkpoint, qs, responses_df, themes_df)\n",
    "\n",
    "\n",
    "# run all sites\n",
    "llm = imodelsx.llm.get_llm(checkpoint, repeat_delay=20)\n",
    "# ['Atlanta', 'Columbus', 'WashingtonDC']:\n",
    "# for site in ['Charlotte', 'Houston', 'Portland']:\n",
    "for site in ['Dallas', 'Seattle', 'Tucson']:\n",
    "    df = files_dict[site]\n",
    "    qs, responses_df, themes_df = data.split_single_site_df(df)\n",
    "    sentiments = run_sentiment(\n",
    "        site, checkpoint, qs, responses_df, themes_df, llm=llm)\n",
    "    sent_df = compute_and_save_sent_df(sentiments, site, checkpoint)"
   ]
  },
  {
   "cell_type": "markdown",
   "metadata": {},
   "source": [
    "### Plot sentiment"
   ]
  },
  {
   "cell_type": "code",
   "execution_count": null,
   "metadata": {},
   "outputs": [],
   "source": [
    "# make plot\n",
    "sent_df = compute_and_save_sent_df(sentiments, site, checkpoint)\n",
    "sent_df = sent_df.sort_values(by=LEVELS, ascending=False)\n",
    "colors = sns.diverging_palette(20, 220, n=6).as_hex()\n",
    "colors = colors[:2] + ['#ddd', '#eee'] + colors[-2:]\n",
    "sent_df.plot(kind='barh', stacked=True, figsize=(5, 10), color=colors)\n",
    "\n",
    "plt.yticks(range(46), labels=df['Domain'].values[sent_df.index.values])\n",
    "plt.legend(bbox_to_anchor=(0.5, 1.1), loc='center', ncol=3, title='Sentiment')\n",
    "plt.xlabel('Answer count')\n",
    "plt.ylabel('Question number and domain')\n",
    "plt.title(site)\n",
    "plt.savefig(f'../figs/eda/sentiment_example_{site}.pdf', bbox_inches='tight')\n",
    "plt.show()"
   ]
  }
 ],
 "metadata": {
  "kernelspec": {
   "display_name": ".venv",
   "language": "python",
   "name": "python3"
  },
  "language_info": {
   "codemirror_mode": {
    "name": "ipython",
    "version": 3
   },
   "file_extension": ".py",
   "mimetype": "text/x-python",
   "name": "python",
   "nbconvert_exporter": "python",
   "pygments_lexer": "ipython3",
   "version": "3.11.9"
  }
 },
 "nbformat": 4,
 "nbformat_minor": 2
}
