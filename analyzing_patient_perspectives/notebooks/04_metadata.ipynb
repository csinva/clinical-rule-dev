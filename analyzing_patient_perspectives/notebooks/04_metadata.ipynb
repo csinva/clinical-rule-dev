{
 "cells": [
  {
   "cell_type": "code",
   "execution_count": null,
   "metadata": {},
   "outputs": [],
   "source": [
    "%load_ext autoreload\n",
    "%autoreload 2\n",
    "\n",
    "import pandas as pd\n",
    "import os\n",
    "import math\n",
    "import os.path\n",
    "from os.path import join\n",
    "import numpy as np\n",
    "import imodelsx\n",
    "from tqdm import tqdm\n",
    "from collections import defaultdict\n",
    "import matplotlib.pyplot as plt\n",
    "import scipy.stats\n",
    "import imodelsx.viz\n",
    "import json\n",
    "import seaborn as sns\n",
    "import data\n",
    "import joblib\n",
    "from matplotlib.gridspec import GridSpec\n",
    "from scipy.stats import spearmanr\n",
    "LEVELS = ['Very Negative', 'Negative', 'Neutral',\n",
    "          'No response', 'Positive', 'Very Positive']\n",
    "files_dict = data.load_files_dict_single_site()"
   ]
  },
  {
   "cell_type": "code",
   "execution_count": null,
   "metadata": {},
   "outputs": [],
   "source": [
    "# checkpoint = 'meta-llama/Llama-2-7b-hf'\n",
    "# checkpoint = 'meta-llama/Llama-2-70b-hf'\n",
    "checkpoint = 'gpt-4'  # gpt-35-turbo\n",
    "# checkpoint = 'gpt-35-turbo'\n",
    "# checkpoint = 'mistralai/Mistral-7B-v0.1'\n",
    "\n",
    "\n",
    "# site = 'Atlanta'\n",
    "# site = 'Columbus'\n",
    "# site = 'WashingtonDC'\n",
    "site = 'Charlotte'  # Houston, Portland\n",
    "df = files_dict[site]\n",
    "qs, responses_df, themes_df = data.split_single_site_df(df)"
   ]
  },
  {
   "cell_type": "code",
   "execution_count": 24,
   "metadata": {},
   "outputs": [],
   "source": [
    "num_studied = {}\n",
    "num_resps = {}\n",
    "for k in files_dict:\n",
    "    response_cols = [col for col in files_dict[k].columns if '-0' in col]\n",
    "    # print(k, len(response_cols))\n",
    "    # print(len(files_dict[k]))\n",
    "    num_studied[k] = len(response_cols)\n",
    "    vals = files_dict[k][response_cols]\n",
    "    num_resps[k] = vals.notna().sum().sum()"
   ]
  },
  {
   "cell_type": "code",
   "execution_count": 26,
   "metadata": {},
   "outputs": [
    {
     "name": "stdout",
     "output_type": "stream",
     "text": [
      "resps 8745\n"
     ]
    }
   ],
   "source": [
    "print('resps', np.sum(list(num_resps.values())))"
   ]
  }
 ],
 "metadata": {
  "kernelspec": {
   "display_name": ".env",
   "language": "python",
   "name": "python3"
  },
  "language_info": {
   "codemirror_mode": {
    "name": "ipython",
    "version": 3
   },
   "file_extension": ".py",
   "mimetype": "text/x-python",
   "name": "python",
   "nbconvert_exporter": "python",
   "pygments_lexer": "ipython3",
   "version": "3.11.11"
  }
 },
 "nbformat": 4,
 "nbformat_minor": 2
}
