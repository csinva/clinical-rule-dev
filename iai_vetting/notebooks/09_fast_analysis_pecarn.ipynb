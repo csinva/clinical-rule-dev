{
 "cells": [
  {
   "cell_type": "code",
   "execution_count": 1,
   "metadata": {},
   "outputs": [],
   "source": [
    "import sys\n",
    "from os.path import join as oj\n",
    "sys.path.insert(1, oj(sys.path[0], '..'))  # insert parent path\n",
    "sys.path.append('../src')\n",
    "import numpy as np\n",
    "import data_pecarn, data_psrc\n",
    "from sklearn.metrics import confusion_matrix\n",
    "import matplotlib.pyplot as plt\n",
    "from validate import calc_stats\n",
    "\n",
    "%matplotlib inline\n",
    "%load_ext autoreload\n",
    "%autoreload 2\n",
    "\n",
    "d = data_pecarn.get_data(use_processed=True, dummy=True, frac_missing_allowed=1, impute_feats=False)\n",
    "iaii = d['iai_intervention']\n",
    "iai = d['iai']\n",
    "fast_study_cohort, fast_abnormal = data_pecarn.get_FAST(d)    "
   ]
  },
  {
   "cell_type": "markdown",
   "metadata": {},
   "source": [
    "![](../docs/ultrasound.png)"
   ]
  },
  {
   "cell_type": "markdown",
   "metadata": {},
   "source": [
    "# Performance of FAST exam in isolation"
   ]
  },
  {
   "cell_type": "code",
   "execution_count": 8,
   "metadata": {},
   "outputs": [
    {
     "name": "stdout",
     "output_type": "stream",
     "text": [
      "12044 total patients (203 IAI-I, 761 IAI)\n",
      "837 patients with valid FAST (30 IAI-I, 65 IAI)\n",
      "\tOf these 837 patients, 26 have an abnormal scan\n",
      "\t\ttOf these 26 patients, 12 have IAI-I\n",
      "\tThis 26 is very low, we probably cant do much here but lets try...\n"
     ]
    }
   ],
   "source": [
    "print(f'{d.shape[0]} total patients ({iaii.sum()} IAI-I, {iai.sum()} IAI)', )\n",
    "print(f'{fast_study_cohort.sum()} patients with valid FAST ({iaii[fast_study_cohort].sum()} IAI-I, {iai[fast_study_cohort].sum()} IAI)')\n",
    "print(f'\\tOf these {fast_study_cohort.sum()} patients, {fast_abnormal.sum()} have an abnormal scan')\n",
    "print(f'\\t\\ttOf these {fast_abnormal.sum()} patients, {iaii[fast_abnormal].sum()} have IAI-I')\n",
    "print(f'\\tThis 26 is very low, we probably cant do much here but lets try...')"
   ]
  },
  {
   "cell_type": "code",
   "execution_count": 9,
   "metadata": {},
   "outputs": [
    {
     "name": "stdout",
     "output_type": "stream",
     "text": [
      "If we use FAST alone to detect IAI-I, we get the following results:\n",
      "\tSensitivity=0.40\n",
      "\tSpecificity=0.98\n",
      "\t----------------\n",
      "\ttp=12 fp=14\n",
      "\tfn=18 tn=793\n"
     ]
    }
   ],
   "source": [
    "print('If we use FAST alone to detect IAI-I, we get the following results:')\n",
    "# print('assume no interpretation means negative')\n",
    "tn, fp, fn, tp, sens, spec = calc_stats(iaii[fast_study_cohort],\n",
    "                                  fast_abnormal[fast_study_cohort])\n",
    "print(f'\\tSensitivity={sens:0.2f}')\n",
    "print(f'\\tSpecificity={spec:0.2f}')\n",
    "print(f'\\t----------------')\n",
    "print(f'\\t{tp=} {fp=}')\n",
    "print(f'\\t{fn=} {tn=}')"
   ]
  },
  {
   "cell_type": "code",
   "execution_count": 10,
   "metadata": {},
   "outputs": [
    {
     "name": "stdout",
     "output_type": "stream",
     "text": [
      "If we use FAST alone to detect IAI, we get the following results:\n",
      "\tSensitivity=0.22\n",
      "\tSpecificity=0.98\n",
      "\t----------------\n",
      "\ttp=14 fp=12\n",
      "\tfn=51 tn=760\n"
     ]
    }
   ],
   "source": [
    "print('If we use FAST alone to detect IAI, we get the following results:')\n",
    "# print('assume no interpretation means negative')\n",
    "tn, fp, fn, tp, sens, spec = calc_stats(iai[fast_study_cohort],\n",
    "                                  fast_abnormal[fast_study_cohort])\n",
    "print(f'\\tSensitivity={sens:0.2f}')\n",
    "print(f'\\tSpecificity={spec:0.2f}')\n",
    "print(f'\\t----------------')\n",
    "print(f'\\t{tp=} {fp=}')\n",
    "print(f'\\t{fn=} {tn=}')"
   ]
  },
  {
   "cell_type": "markdown",
   "metadata": {},
   "source": [
    "# FAST performance in conjunction with CDR rules\n",
    "By itself, FAST has very low sensitivity so we might try combining it with rules from the PECARN CDR. However, we shouldn't use too many of the rules, as we will very quickly run out of data (especially considering we have only 26 abnormal FAST exams!)"
   ]
  },
  {
   "cell_type": "code",
   "execution_count": 1,
   "metadata": {},
   "outputs": [
    {
     "ename": "NameError",
     "evalue": "name 'd' is not defined",
     "output_type": "error",
     "traceback": [
      "\u001b[0;31m---------------------------------------------------------------------------\u001b[0m",
      "\u001b[0;31mNameError\u001b[0m                                 Traceback (most recent call last)",
      "Cell \u001b[0;32mIn [1], line 2\u001b[0m\n\u001b[1;32m      1\u001b[0m rules \u001b[39m=\u001b[39m {\n\u001b[0;32m----> 2\u001b[0m     \u001b[39m'\u001b[39m\u001b[39mAbdominal wall trauma or seatbelt sign\u001b[39m\u001b[39m'\u001b[39m: d[\u001b[39m'\u001b[39m\u001b[39mAbdTrauma_or_SeatBeltSign_yes\u001b[39m\u001b[39m'\u001b[39m]\u001b[39m==\u001b[39m\u001b[39m1\u001b[39m,\n\u001b[1;32m      3\u001b[0m     \u001b[39m'\u001b[39m\u001b[39mGCSScore < 14\u001b[39m\u001b[39m'\u001b[39m: d[\u001b[39m'\u001b[39m\u001b[39mGCSScore\u001b[39m\u001b[39m'\u001b[39m] \u001b[39m<\u001b[39m \u001b[39m14\u001b[39m,\n\u001b[1;32m      4\u001b[0m     \u001b[39m'\u001b[39m\u001b[39mAbdominal tenderness\u001b[39m\u001b[39m'\u001b[39m: d[\u001b[39m'\u001b[39m\u001b[39mAbdTenderDegree_unknown\u001b[39m\u001b[39m'\u001b[39m] \u001b[39m==\u001b[39m \u001b[39m0\u001b[39m\n\u001b[1;32m      5\u001b[0m }\n\u001b[1;32m      6\u001b[0m \u001b[39mprint\u001b[39m(\u001b[39mf\u001b[39m\u001b[39m'\u001b[39m\u001b[39mWe can try using any of the first three rules of the CDR + FAST to get a decent score. These are: \u001b[39m\u001b[39m{\u001b[39;00m\u001b[39mlist\u001b[39m(rules\u001b[39m.\u001b[39mkeys())\u001b[39m}\u001b[39;00m\u001b[39m'\u001b[39m)\n",
      "\u001b[0;31mNameError\u001b[0m: name 'd' is not defined"
     ]
    }
   ],
   "source": [
    "rules = {\n",
    "    'Abdominal wall trauma or seatbelt sign': d['AbdTrauma_or_SeatBeltSign_yes']==1,\n",
    "    'GCSScore < 14': d['GCSScore'] < 14,\n",
    "    'Abdominal tenderness': d['AbdTenderDegree_unknown'] == 0\n",
    "}\n",
    "print(f'We can try using any of the first three rules of the CDR + FAST to get a decent score. These are: {list(rules.keys())}')"
   ]
  },
  {
   "cell_type": "code",
   "execution_count": 22,
   "metadata": {},
   "outputs": [
    {
     "name": "stdout",
     "output_type": "stream",
     "text": [
      "If we use Abdominal wall trauma or seatbelt sign + FAST to detect IAI-I, we get the following results:\n",
      "\t\tSensitivity=0.51 (without FAST, 0.46)\n",
      "\t\tSpecificity=0.82 (without FAST, 0.84)\n",
      "\t\t----------------\n",
      "\t\ttp=33 fp=137\n",
      "\t\tfn=32 tn=635\n",
      "If we use GCSScore < 14 + FAST to detect IAI-I, we get the following results:\n",
      "\t\tSensitivity=0.43 (without FAST, 0.31)\n",
      "\t\tSpecificity=0.90 (without FAST, 0.90)\n",
      "\t\t----------------\n",
      "\t\ttp=28 fp=81\n",
      "\t\tfn=37 tn=691\n",
      "If we use Abdominal tenderness + FAST to detect IAI-I, we get the following results:\n",
      "\t\tSensitivity=0.54 (without FAST, 0.42)\n",
      "\t\tSpecificity=0.79 (without FAST, 0.80)\n",
      "\t\t----------------\n",
      "\t\ttp=35 fp=163\n",
      "\t\tfn=30 tn=609\n"
     ]
    }
   ],
   "source": [
    "outcome = iai\n",
    "for k in rules.keys():\n",
    "    print(f'If we use {k} + FAST to detect IAI-I, we get the following results:')\n",
    "    # print('assume no interpretation means negative')\n",
    "    tn, fp, fn, tp, sens, spec = calc_stats(outcome[fast_study_cohort],\n",
    "                                      rules[k][fast_study_cohort] | fast_abnormal[fast_study_cohort])\n",
    "    tn_k, fp_k, fn_k, tp_k, sens_k, spec_k = calc_stats(outcome[fast_study_cohort],  # without FAST\n",
    "                                      rules[k][fast_study_cohort])\n",
    "    print(f'\\t\\tSensitivity={sens:0.2f} (without FAST, {sens_k:0.2f})')\n",
    "    print(f'\\t\\tSpecificity={spec:0.2f} (without FAST, {spec_k:0.2f})')\n",
    "    print(f'\\t\\t----------------')\n",
    "    print(f'\\t\\t{tp=} {fp=}')\n",
    "    print(f'\\t\\t{fn=} {tn=}')"
   ]
  },
  {
   "cell_type": "markdown",
   "metadata": {},
   "source": [
    "These sensitivities are still too low. What happens if we try FAST + all three of these rules?"
   ]
  },
  {
   "cell_type": "code",
   "execution_count": 24,
   "metadata": {},
   "outputs": [
    {
     "name": "stdout",
     "output_type": "stream",
     "text": [
      "If we use all three rules + FAST to detect the outcome, we get the following results:\n",
      "\tSensitivity=0.831 (without FAST, 0.831)\n",
      "\tSpecificity=0.615 (without FAST, 0.618)\n",
      "\t----------------\n",
      "\ttp=54 fp=297\n",
      "\tfn=11 tn=475\n"
     ]
    }
   ],
   "source": [
    "print(f'If we use all three rules + FAST to detect the outcome, we get the following results:')\n",
    "# print('assume no interpretation means negative')\n",
    "rule_pred = rules['Abdominal wall trauma or seatbelt sign'][fast_study_cohort] | rules['GCSScore < 14'][fast_study_cohort] | rules['Abdominal tenderness'][fast_study_cohort]\n",
    "tn, fp, fn, tp, sens, spec = calc_stats(outcome[fast_study_cohort],\n",
    "                                  rule_pred | fast_abnormal[fast_study_cohort])\n",
    "tn_k, fp_k, fn_k, tp_k, sens_k, spec_k = calc_stats(outcome[fast_study_cohort],  # without FAST\n",
    "                                  rule_pred)\n",
    "print(f'\\tSensitivity={sens:0.3f} (without FAST, {sens_k:0.3f})')\n",
    "print(f'\\tSpecificity={spec:0.3f} (without FAST, {spec_k:0.3f})')\n",
    "print(f'\\t----------------')\n",
    "print(f'\\t{tp=} {fp=}')\n",
    "print(f'\\t{fn=} {tn=}')"
   ]
  },
  {
   "cell_type": "markdown",
   "metadata": {},
   "source": [
    "Unfortunately, when all three of these rules are present, the FAST exam does not add any value to detecting IAI-I (the same is true for just IAI). All patients in the dataset with an abnormal FAST exam already were found by one of the other 3 rules :/"
   ]
  },
  {
   "cell_type": "markdown",
   "metadata": {},
   "source": [
    "# Net benefit"
   ]
  },
  {
   "cell_type": "markdown",
   "metadata": {},
   "source": [
    "**Net benefit calculation** - This is not all that meaningful. We have a lot of true negatives (tn), so the more we say that it is important, the more positive this metric will come out to be. The sensitivity/specificity and confusion matrices above are much clearer to interpret.\n",
    "\n",
    "$\\text { Net benefit }=\\frac{\\text { True positives }}{N}-\\frac{\\text { False positives }}{N} \\times \\frac{p_{t}}{1-p_{t}}$"
   ]
  },
  {
   "cell_type": "code",
   "execution_count": 24,
   "metadata": {},
   "outputs": [
    {
     "data": {
      "image/png": "[encoded data removed]",
      "text/plain": [
       "<Figure size 432x288 with 1 Axes>"
      ]
     },
     "metadata": {
      "needs_background": "light"
     },
     "output_type": "display_data"
    }
   ],
   "source": [
    "N = fast_study_cohort.sum()\n",
    "ratios = [2, 5, 10, 50, 250, 500, 1000]\n",
    "ps = []\n",
    "nbs = []\n",
    "for ratio in ratios:\n",
    "    p = 1 / ratio\n",
    "    net_benefit  = tp / N - fp / N * p / (1-p)\n",
    "    nbs.append(net_benefit)\n",
    "    ps.append(p)\n",
    "plt.plot(ps, nbs, '.-')\n",
    "plt.axhline(0, color='gray', ls='--')\n",
    "plt.xlabel('Probability threshold')\n",
    "plt.ylabel('Net benefit (for IAI)')\n",
    "plt.show()"
   ]
  }
 ],
 "metadata": {
  "kernelspec": {
   "display_name": "Python 3.9.13 ('.iai': venv)",
   "language": "python",
   "name": "python3"
  },
  "language_info": {
   "codemirror_mode": {
    "name": "ipython",
    "version": 3
   },
   "file_extension": ".py",
   "mimetype": "text/x-python",
   "name": "python",
   "nbconvert_exporter": "python",
   "pygments_lexer": "ipython3",
   "version": "3.9.13"
  },
  "pycharm": {
   "stem_cell": {
    "cell_type": "raw",
    "metadata": {
     "collapsed": false
    },
    "source": []
   }
  },
  "vscode": {
   "interpreter": {
    "hash": "e2191c6e2dc39f323f815df2a766e6de0a6735913e8e8699ce6573efd3f6121c"
   }
  }
 },
 "nbformat": 4,
 "nbformat_minor": 4
}
