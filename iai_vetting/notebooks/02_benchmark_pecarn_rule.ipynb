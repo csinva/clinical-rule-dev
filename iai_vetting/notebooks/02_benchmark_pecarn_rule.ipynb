{
 "cells": [
  {
   "cell_type": "code",
   "execution_count": null,
   "metadata": {},
   "outputs": [],
   "source": [
    "%matplotlib inline\n",
    "%load_ext autoreload\n",
    "%autoreload 2\n",
    "from os.path import join as oj\n",
    "import sys\n",
    "sys.path.append('../src')\n",
    "import numpy as np\n",
    "import pandas as pd\n",
    "import data, data_psrc\n",
    "from tqdm import tqdm\n",
    "from copy import deepcopy\n",
    "from pecarn_predict import pecarn_rule_predict\n",
    "\n",
    "# load data\n",
    "df_pecarn, df_psrc, common_feats, filtered_feats_pecarn, filtered_feats_psrc = \\\n",
    "    data.load_it_all(dummy=False, impute=True, frac_missing_allowed=1, use_processed=False)\n",
    "# d = df_pecarn # [common_feats]\n",
    "d = df_psrc\n",
    "\n",
    "# get data with FAST\n",
    "# df = data_psrc.get_data(use_processed=False, dummy=True) #use_processed_feats=True,)\n",
    "# df['FAST (choice=not performed)'] = df['FAST (choice=0t performed)']\n",
    "# fast_study_cohort, _ = data_psrc.get_FAST(df) \n",
    "# d = d[fast_study_cohort]\n",
    "\n",
    "\n",
    "d['Age<2'] = d['Age'] < 2"
   ]
  },
  {
   "cell_type": "code",
   "execution_count": 14,
   "metadata": {},
   "outputs": [
    {
     "data": {
      "text/plain": [
       "Index(['Age', 'Hispanic ethnicity',\n",
       "       'Mechanism of injury (choice=Assault/struck)',\n",
       "       'Mechanism of injury (choice=ATV injury)',\n",
       "       'Mechanism of injury (choice=Bike crash)',\n",
       "       'Mechanism of injury (choice=Bike struck by auto)',\n",
       "       'Mechanism of injury (choice=Fall > 10 ft. height)',\n",
       "       'Mechanism of injury (choice=Golf cart injury)',\n",
       "       'Mechanism of injury (choice=Motorcycle/dirt bike crash)',\n",
       "       'Mechanism of injury (choice=MVC)',\n",
       "       ...\n",
       "       'Hypotension_no', 'Hypotension_yes', 'GCSScore_Full_no',\n",
       "       'GCSScore_Full_yes', 'Age<2_no', 'Age<2_yes', 'CostalTender_no',\n",
       "       'CostalTender_yes', 'dset', 'Age<2'],\n",
       "      dtype='object', length=424)"
      ]
     },
     "execution_count": 14,
     "metadata": {},
     "output_type": "execute_result"
    }
   ],
   "source": [
    "d.columns"
   ]
  },
  {
   "cell_type": "markdown",
   "metadata": {},
   "source": [
    "# check bivariable associations"
   ]
  },
  {
   "cell_type": "code",
   "execution_count": 10,
   "metadata": {},
   "outputs": [
    {
     "name": "stdout",
     "output_type": "stream",
     "text": [
      "num IwI and key / num IwI (not nan) \t num without IwI and key / num without IwI (not nane) \n"
     ]
    },
    {
     "ename": "KeyError",
     "evalue": "'AbdTrauma_or_SeatBeltSign'",
     "output_type": "error",
     "traceback": [
      "\u001b[0;31m---------------------------------------------------------------------------\u001b[0m",
      "\u001b[0;31mKeyError\u001b[0m                                  Traceback (most recent call last)",
      "File \u001b[0;32m~/rules/iai-clinical-decision-rule/.iai/lib/python3.9/site-packages/pandas/core/indexes/base.py:3800\u001b[0m, in \u001b[0;36mIndex.get_loc\u001b[0;34m(self, key, method, tolerance)\u001b[0m\n\u001b[1;32m   3799\u001b[0m \u001b[39mtry\u001b[39;00m:\n\u001b[0;32m-> 3800\u001b[0m     \u001b[39mreturn\u001b[39;00m \u001b[39mself\u001b[39;49m\u001b[39m.\u001b[39;49m_engine\u001b[39m.\u001b[39;49mget_loc(casted_key)\n\u001b[1;32m   3801\u001b[0m \u001b[39mexcept\u001b[39;00m \u001b[39mKeyError\u001b[39;00m \u001b[39mas\u001b[39;00m err:\n",
      "File \u001b[0;32m~/rules/iai-clinical-decision-rule/.iai/lib/python3.9/site-packages/pandas/_libs/index.pyx:138\u001b[0m, in \u001b[0;36mpandas._libs.index.IndexEngine.get_loc\u001b[0;34m()\u001b[0m\n",
      "File \u001b[0;32m~/rules/iai-clinical-decision-rule/.iai/lib/python3.9/site-packages/pandas/_libs/index.pyx:162\u001b[0m, in \u001b[0;36mpandas._libs.index.IndexEngine.get_loc\u001b[0;34m()\u001b[0m\n",
      "File \u001b[0;32m~/rules/iai-clinical-decision-rule/.iai/lib/python3.9/site-packages/pandas/_libs/index.pyx:203\u001b[0m, in \u001b[0;36mpandas._libs.index.IndexEngine._get_loc_duplicates\u001b[0;34m()\u001b[0m\n",
      "File \u001b[0;32m~/rules/iai-clinical-decision-rule/.iai/lib/python3.9/site-packages/pandas/_libs/index.pyx:211\u001b[0m, in \u001b[0;36mpandas._libs.index.IndexEngine._maybe_get_bool_indexer\u001b[0;34m()\u001b[0m\n",
      "File \u001b[0;32m~/rules/iai-clinical-decision-rule/.iai/lib/python3.9/site-packages/pandas/_libs/index.pyx:107\u001b[0m, in \u001b[0;36mpandas._libs.index._unpack_bool_indexer\u001b[0;34m()\u001b[0m\n",
      "\u001b[0;31mKeyError\u001b[0m: 'AbdTrauma_or_SeatBeltSign'",
      "\nThe above exception was the direct cause of the following exception:\n",
      "\u001b[0;31mKeyError\u001b[0m                                  Traceback (most recent call last)",
      "Cell \u001b[0;32mIn [10], line 33\u001b[0m\n\u001b[1;32m     31\u001b[0m k, vals \u001b[39m=\u001b[39m rule\n\u001b[1;32m     32\u001b[0m kk \u001b[39m=\u001b[39m k \u001b[39m+\u001b[39m \u001b[39m'\u001b[39m\u001b[39m = \u001b[39m\u001b[39m'\u001b[39m \u001b[39m+\u001b[39m \u001b[39mstr\u001b[39m(vals[\u001b[39m0\u001b[39m])\n\u001b[0;32m---> 33\u001b[0m ik \u001b[39m=\u001b[39m d[k]\u001b[39m.\u001b[39misin(vals) \u001b[39m# d[o]==1\u001b[39;00m\n\u001b[1;32m     34\u001b[0m inan \u001b[39m=\u001b[39m d[k]\u001b[39m.\u001b[39misna() \u001b[39m|\u001b[39m (d[k] \u001b[39m==\u001b[39m \u001b[39m'\u001b[39m\u001b[39munknown\u001b[39m\u001b[39m'\u001b[39m)\n\u001b[1;32m     35\u001b[0m r[kk]\u001b[39m.\u001b[39mappend(np\u001b[39m.\u001b[39msum(inan))   \n",
      "File \u001b[0;32m~/rules/iai-clinical-decision-rule/.iai/lib/python3.9/site-packages/pandas/core/frame.py:3805\u001b[0m, in \u001b[0;36mDataFrame.__getitem__\u001b[0;34m(self, key)\u001b[0m\n\u001b[1;32m   3803\u001b[0m \u001b[39mif\u001b[39;00m \u001b[39mself\u001b[39m\u001b[39m.\u001b[39mcolumns\u001b[39m.\u001b[39mnlevels \u001b[39m>\u001b[39m \u001b[39m1\u001b[39m:\n\u001b[1;32m   3804\u001b[0m     \u001b[39mreturn\u001b[39;00m \u001b[39mself\u001b[39m\u001b[39m.\u001b[39m_getitem_multilevel(key)\n\u001b[0;32m-> 3805\u001b[0m indexer \u001b[39m=\u001b[39m \u001b[39mself\u001b[39;49m\u001b[39m.\u001b[39;49mcolumns\u001b[39m.\u001b[39;49mget_loc(key)\n\u001b[1;32m   3806\u001b[0m \u001b[39mif\u001b[39;00m is_integer(indexer):\n\u001b[1;32m   3807\u001b[0m     indexer \u001b[39m=\u001b[39m [indexer]\n",
      "File \u001b[0;32m~/rules/iai-clinical-decision-rule/.iai/lib/python3.9/site-packages/pandas/core/indexes/base.py:3802\u001b[0m, in \u001b[0;36mIndex.get_loc\u001b[0;34m(self, key, method, tolerance)\u001b[0m\n\u001b[1;32m   3800\u001b[0m     \u001b[39mreturn\u001b[39;00m \u001b[39mself\u001b[39m\u001b[39m.\u001b[39m_engine\u001b[39m.\u001b[39mget_loc(casted_key)\n\u001b[1;32m   3801\u001b[0m \u001b[39mexcept\u001b[39;00m \u001b[39mKeyError\u001b[39;00m \u001b[39mas\u001b[39;00m err:\n\u001b[0;32m-> 3802\u001b[0m     \u001b[39mraise\u001b[39;00m \u001b[39mKeyError\u001b[39;00m(key) \u001b[39mfrom\u001b[39;00m \u001b[39merr\u001b[39;00m\n\u001b[1;32m   3803\u001b[0m \u001b[39mexcept\u001b[39;00m \u001b[39mTypeError\u001b[39;00m:\n\u001b[1;32m   3804\u001b[0m     \u001b[39m# If we have a listlike key, _check_indexing_error will raise\u001b[39;00m\n\u001b[1;32m   3805\u001b[0m     \u001b[39m#  InvalidIndexError. Otherwise we fall through and re-raise\u001b[39;00m\n\u001b[1;32m   3806\u001b[0m     \u001b[39m#  the TypeError.\u001b[39;00m\n\u001b[1;32m   3807\u001b[0m     \u001b[39mself\u001b[39m\u001b[39m.\u001b[39m_check_indexing_error(key)\n",
      "\u001b[0;31mKeyError\u001b[0m: 'AbdTrauma_or_SeatBeltSign'"
     ]
    }
   ],
   "source": [
    "# can also check vars that were not used\n",
    "rules = [\n",
    "    ('AbdTrauma_or_SeatBeltSign', ['yes']),\n",
    "    ('GCSScore', range(14)),\n",
    "#     ('AbdTenderDegree', ['Mild', 'Moderate', 'Severe']),\n",
    "    ('AbdTenderDegree', ['None']),    \n",
    "    ('AbdTenderDegree', ['Mild']),    \n",
    "    ('AbdTenderDegree', ['Moderate']),    \n",
    "    ('AbdTenderDegree', ['Severe']),        \n",
    "    ('ThoracicTrauma', ['yes']),        \n",
    "    ('AbdomenPain', ['yes']),\n",
    "    ('DecrBreathSound', ['yes']),\n",
    "    ('VomitWretch', ['yes']),\n",
    "    \n",
    "    # not used in rule\n",
    "    ('Age<2', [True]),    \n",
    "    ('AbdDistention', ['yes']),\n",
    "    ('MOI', ['Motor vehicle collision']),\n",
    "    ('DistractingPain', ['yes']),    \n",
    "    ('CostalTender', ['yes']),\n",
    "    ('ThoracicTender', ['yes']),    \n",
    "    ('Hypotension', ['yes']),        \n",
    "    ('AbdomenTender', [1]),    \n",
    "]\n",
    "index = ['NA', 'IAIw/I', 'No IAIw/I', 'Difference']\n",
    "o = data.outcome_def\n",
    "r = {k + ' = ' + str(v[0]) : [] for k, v in rules}\n",
    "io = d[o] == 1\n",
    "print('num IwI and key / num IwI (not nan) \\t num without IwI and key / num without IwI (not nane) ')\n",
    "for rule in rules:\n",
    "    k, vals = rule\n",
    "    kk = k + ' = ' + str(vals[0])\n",
    "    ik = d[k].isin(vals) # d[o]==1\n",
    "    inan = d[k].isna() | (d[k] == 'unknown')\n",
    "    r[kk].append(np.sum(inan))   \n",
    "    num1 = np.sum(d[ik][o]==1)\n",
    "    denom1 = (io & ~inan).sum()\n",
    "    r[kk].append(f'{num1}/{denom1}')\n",
    "    num2 = np.sum(d[ik][o]==0)\n",
    "    denom2 = (~io & ~inan).sum()\n",
    "    r[kk].append(f'{num2}/{denom2}')\n",
    "    r[kk].append(f'{num1/denom1 - num2/denom2:0.3f}')    \n",
    "r = pd.DataFrame.from_dict(r)\n",
    "r.index = index\n",
    "r.transpose()"
   ]
  },
  {
   "cell_type": "markdown",
   "metadata": {},
   "source": [
    "# recreate / evaluate rule"
   ]
  },
  {
   "cell_type": "markdown",
   "metadata": {},
   "source": [
    "**look at pecarn patients**"
   ]
  },
  {
   "cell_type": "code",
   "execution_count": null,
   "metadata": {},
   "outputs": [
    {
     "name": "stdout",
     "output_type": "stream",
     "text": [
      "Initial                   203 / 12044\n",
      "AbdTrauma_or_SeatBeltSign  91 / 10081\t112 / 1963 (5.7)\n",
      "GCSScore                   53 /  9255\t 38 /  826 (4.6)\n",
      "AbdTenderDegree            17 /  6767\t 36 / 2488 (1.4)\n",
      "ThoracicTrauma             11 /  5805\t  6 /  962 (0.6)\n",
      "AbdomenPain                 9 /  5469\t  2 /  336 (0.6)\n",
      "DecrBreathSound             8 /  5435\t  1 /   34 (2.9)\n",
      "VomitWretch                 6 /  5040\t  2 /  395 (0.5)\n",
      "sensitivity 97.04\n",
      "specificity 42.51\n",
      "\n",
      "missed patients:\n"
     ]
    },
    {
     "data": {
      "text/html": [
       "<div>\n",
       "<style scoped>\n",
       "    .dataframe tbody tr th:only-of-type {\n",
       "        vertical-align: middle;\n",
       "    }\n",
       "\n",
       "    .dataframe tbody tr th {\n",
       "        vertical-align: top;\n",
       "    }\n",
       "\n",
       "    .dataframe thead th {\n",
       "        text-align: right;\n",
       "    }\n",
       "</style>\n",
       "<table border=\"1\" class=\"dataframe\">\n",
       "  <thead>\n",
       "    <tr style=\"text-align: right;\">\n",
       "      <th></th>\n",
       "      <th>Age</th>\n",
       "      <th>Sex</th>\n",
       "      <th>MOI</th>\n",
       "    </tr>\n",
       "  </thead>\n",
       "  <tbody>\n",
       "    <tr>\n",
       "      <th>203</th>\n",
       "      <td>2</td>\n",
       "      <td>M</td>\n",
       "      <td>Fall down stairs</td>\n",
       "    </tr>\n",
       "    <tr>\n",
       "      <th>4349</th>\n",
       "      <td>2</td>\n",
       "      <td>M</td>\n",
       "      <td>Pedestrian/bicyclist struck by moving vehicle</td>\n",
       "    </tr>\n",
       "    <tr>\n",
       "      <th>5977</th>\n",
       "      <td>16</td>\n",
       "      <td>M</td>\n",
       "      <td>Motorcycle/ATV/Scooter collision</td>\n",
       "    </tr>\n",
       "    <tr>\n",
       "      <th>9419</th>\n",
       "      <td>17</td>\n",
       "      <td>F</td>\n",
       "      <td>Motor vehicle collision</td>\n",
       "    </tr>\n",
       "    <tr>\n",
       "      <th>9436</th>\n",
       "      <td>17</td>\n",
       "      <td>M</td>\n",
       "      <td>Motor vehicle collision</td>\n",
       "    </tr>\n",
       "    <tr>\n",
       "      <th>9971</th>\n",
       "      <td>17</td>\n",
       "      <td>M</td>\n",
       "      <td>Motor vehicle collision</td>\n",
       "    </tr>\n",
       "  </tbody>\n",
       "</table>\n",
       "</div>"
      ],
      "text/plain": [
       "      Age Sex                                            MOI\n",
       "203     2   M                               Fall down stairs\n",
       "4349    2   M  Pedestrian/bicyclist struck by moving vehicle\n",
       "5977   16   M               Motorcycle/ATV/Scooter collision\n",
       "9419   17   F                        Motor vehicle collision\n",
       "9436   17   M                        Motor vehicle collision\n",
       "9971   17   M                        Motor vehicle collision"
      ]
     },
     "execution_count": 6,
     "metadata": {},
     "output_type": "execute_result"
    }
   ],
   "source": [
    "low_risk_patients, missed_patients, stats = pecarn_rule_predict(df_pecarn)\n",
    "assert missed_patients.shape[0] == 6, 'should find 6 low-risk patients'    \n",
    "for stat in ['sensitivity', 'specificity']:\n",
    "    print(stat, f'{stats[stat]:0.2f}')\n",
    "\n",
    "\n",
    "# save out missed patients\n",
    "df_pecarn.loc[missed_patients.index].to_csv('../reports/missed_patients_pecarn.csv')\n",
    "print('\\nmissed patients:')\n",
    "missed_patients[['Age', 'Sex', 'MOI']]"
   ]
  },
  {
   "cell_type": "markdown",
   "metadata": {},
   "source": [
    "**look at psrc patients**"
   ]
  },
  {
   "cell_type": "code",
   "execution_count": null,
   "metadata": {},
   "outputs": [
    {
     "name": "stdout",
     "output_type": "stream",
     "text": [
      "Initial                   62 / 2188\n",
      "AbdTrauma_or_SeatBeltSign  18 /  1708\t 44 /  480 (9.2)\n",
      "GCSScore                    8 /  1441\t 10 /  267 (3.7)\n",
      "AbdTenderDegree             2 /  1216\t  6 /  225 (2.7)\n",
      "ThoracicTrauma              2 /  1123\t  0 /   93 (0.0)\n",
      "AbdomenPain                 2 /   993\t  0 /  130 (0.0)\n",
      "DecrBreathSound             2 /   993\t  0 /    0 (nan)\n",
      "VomitWretch                 2 /   937\t  0 /   56 (0.0)\n",
      "sensitivity 96.77\n",
      "specificity 43.98\n"
     ]
    },
    {
     "name": "stderr",
     "output_type": "stream",
     "text": [
      "/accounts/projects/vision/chandan/iai-interpretability/notebooks/pecarn_predict.py:38: RuntimeWarning: invalid value encountered in long_scalars\n",
      "  prob = num2 / denom2\n"
     ]
    },
    {
     "data": {
      "text/html": [
       "<div>\n",
       "<style scoped>\n",
       "    .dataframe tbody tr th:only-of-type {\n",
       "        vertical-align: middle;\n",
       "    }\n",
       "\n",
       "    .dataframe tbody tr th {\n",
       "        vertical-align: top;\n",
       "    }\n",
       "\n",
       "    .dataframe thead th {\n",
       "        text-align: right;\n",
       "    }\n",
       "</style>\n",
       "<table border=\"1\" class=\"dataframe\">\n",
       "  <thead>\n",
       "    <tr style=\"text-align: right;\">\n",
       "      <th></th>\n",
       "      <th>Age</th>\n",
       "      <th>MOI</th>\n",
       "    </tr>\n",
       "  </thead>\n",
       "  <tbody>\n",
       "    <tr>\n",
       "      <th>1164</th>\n",
       "      <td>1.0</td>\n",
       "      <td>Motor vehicle collision</td>\n",
       "    </tr>\n",
       "    <tr>\n",
       "      <th>1755</th>\n",
       "      <td>6.0</td>\n",
       "      <td>Fall from an elevation</td>\n",
       "    </tr>\n",
       "  </tbody>\n",
       "</table>\n",
       "</div>"
      ],
      "text/plain": [
       "      Age                      MOI\n",
       "1164  1.0  Motor vehicle collision\n",
       "1755  6.0   Fall from an elevation"
      ]
     },
     "execution_count": 7,
     "metadata": {},
     "output_type": "execute_result"
    }
   ],
   "source": [
    "low_risk_patients, missed_patients, stats = pecarn_rule_predict(df_psrc)\n",
    "for stat in ['sensitivity', 'specificity']:\n",
    "    print(stat, f'{stats[stat]:0.2f}')\n",
    "\n",
    "# save out missed patients\n",
    "df_psrc.loc[missed_patients.index].to_csv('../reports/missed_patients_psrc.csv')\n",
    "missed_patients[['Age', 'MOI']]"
   ]
  },
  {
   "cell_type": "markdown",
   "metadata": {},
   "source": [
    "# look at errors for subgroups\n",
    "**here we consider the riskier subgroups (young age, female)**"
   ]
  },
  {
   "cell_type": "code",
   "execution_count": null,
   "metadata": {},
   "outputs": [
    {
     "name": "stdout",
     "output_type": "stream",
     "text": [
      "Initial                   166 / 9907\n",
      "AbdTrauma_or_SeatBeltSign  74 /  8226\t 92 / 1681 (5.5)\n",
      "GCSScore                   42 /  7501\t 32 /  725 (4.4)\n",
      "AbdTenderDegree            12 /  5510\t 30 / 1991 (1.5)\n",
      "ThoracicTrauma              7 /  4746\t  5 /  764 (0.7)\n",
      "AbdomenPain                 5 /  4460\t  2 /  286 (0.7)\n",
      "DecrBreathSound             4 /  4438\t  1 /   22 (4.5)\n",
      "VomitWretch                 2 /  4094\t  2 /  344 (0.6)\n",
      "sensitivity 98.80\n",
      "specificity 42.01\n",
      "\n",
      "missed patients:\n"
     ]
    },
    {
     "data": {
      "text/html": [
       "<div>\n",
       "<style scoped>\n",
       "    .dataframe tbody tr th:only-of-type {\n",
       "        vertical-align: middle;\n",
       "    }\n",
       "\n",
       "    .dataframe tbody tr th {\n",
       "        vertical-align: top;\n",
       "    }\n",
       "\n",
       "    .dataframe thead th {\n",
       "        text-align: right;\n",
       "    }\n",
       "</style>\n",
       "<table border=\"1\" class=\"dataframe\">\n",
       "  <thead>\n",
       "    <tr style=\"text-align: right;\">\n",
       "      <th></th>\n",
       "      <th>Age</th>\n",
       "      <th>Sex</th>\n",
       "      <th>MOI</th>\n",
       "    </tr>\n",
       "  </thead>\n",
       "  <tbody>\n",
       "    <tr>\n",
       "      <th>203</th>\n",
       "      <td>2</td>\n",
       "      <td>M</td>\n",
       "      <td>Fall down stairs</td>\n",
       "    </tr>\n",
       "    <tr>\n",
       "      <th>4349</th>\n",
       "      <td>2</td>\n",
       "      <td>M</td>\n",
       "      <td>Pedestrian/bicyclist struck by moving vehicle</td>\n",
       "    </tr>\n",
       "  </tbody>\n",
       "</table>\n",
       "</div>"
      ],
      "text/plain": [
       "      Age Sex                                            MOI\n",
       "203     2   M                               Fall down stairs\n",
       "4349    2   M  Pedestrian/bicyclist struck by moving vehicle"
      ]
     },
     "execution_count": 12,
     "metadata": {},
     "output_type": "execute_result"
    }
   ],
   "source": [
    "# filter patients by age or sex\n",
    "# d = df_pecarn[df_pecarn['Sex'] == 'F']\n",
    "d = df_pecarn[df_pecarn['Age'] <= 15]\n",
    "# d = df_pecarn[df_pecarn['Age'] <= 2]\n",
    "\n",
    "\n",
    "low_risk_patients, missed_patients, stats = pecarn_rule_predict(d)\n",
    "for stat in ['sensitivity', 'specificity']:\n",
    "    print(stat, f'{stats[stat]:0.2f}')\n",
    "\n",
    "print('\\nmissed patients:')\n",
    "missed_patients[['Age', 'Sex', 'MOI']]"
   ]
  },
  {
   "cell_type": "markdown",
   "metadata": {},
   "source": [
    "# look at errors on splits"
   ]
  },
  {
   "cell_type": "code",
   "execution_count": null,
   "metadata": {},
   "outputs": [],
   "source": [
    "train_idxs = d.cv_fold.isin(data.pecarn_train_idxs)\n",
    "test_idxs1 = d.cv_fold.isin(data.pecarn_test_idxs)"
   ]
  },
  {
   "cell_type": "code",
   "execution_count": null,
   "metadata": {},
   "outputs": [
    {
     "name": "stdout",
     "output_type": "stream",
     "text": [
      "Initial                   133 / 7985\n",
      "AbdTrauma_or_SeatBeltSign  62 /  6747\t 71 / 1238 (5.7)\n",
      "GCSScore                   37 /  6182\t 25 /  565 (4.4)\n",
      "AbdTenderDegree            11 /  4538\t 26 / 1644 (1.6)\n",
      "ThoracicTrauma              6 /  3895\t  5 /  643 (0.8)\n",
      "AbdomenPain                 4 /  3664\t  2 /  231 (0.9)\n",
      "DecrBreathSound             3 /  3638\t  1 /   26 (3.8)\n",
      "VomitWretch                 2 /  3401\t  1 /  237 (0.4)\n"
     ]
    },
    {
     "data": {
      "text/plain": [
       "{'fn': 2,\n",
       " 'tp': 131,\n",
       " 'tn': 3399,\n",
       " 'fp': 4453,\n",
       " 'sensitivity': 98.49624060150376,\n",
       " 'specificity': 43.288334182373916,\n",
       " 'ppv': 0.028577661431064574,\n",
       " 'npv': 0.9994119376653925,\n",
       " 'lr+': 1.73678976241412,\n",
       " 'lr-': 0.03473821358338476,\n",
       " 'acc': 0.44207889793362554,\n",
       " 'roc_auc': 0.8197882633225959,\n",
       " 'f1': 0.0555437778248887,\n",
       " 'brier_score': 0.015943728191817625}"
      ]
     },
     "execution_count": 18,
     "metadata": {},
     "output_type": "execute_result"
    }
   ],
   "source": [
    "low_risk_patients, missed_patients, stats = pecarn_rule_predict(d[train_idxs])\n",
    "stats"
   ]
  },
  {
   "cell_type": "code",
   "execution_count": null,
   "metadata": {},
   "outputs": [
    {
     "name": "stdout",
     "output_type": "stream",
     "text": [
      "Initial                   70 / 4059\n",
      "AbdTrauma_or_SeatBeltSign  29 /  3334\t 41 /  725 (5.7)\n",
      "GCSScore                   16 /  3073\t 13 /  261 (5.0)\n",
      "AbdTenderDegree             6 /  2229\t 10 /  844 (1.2)\n",
      "ThoracicTrauma              5 /  1910\t  1 /  319 (0.3)\n",
      "AbdomenPain                 5 /  1805\t  0 /  105 (0.0)\n",
      "DecrBreathSound             5 /  1797\t  0 /    8 (0.0)\n",
      "VomitWretch                 4 /  1639\t  1 /  158 (0.6)\n"
     ]
    },
    {
     "data": {
      "text/plain": [
       "{'fn': 4,\n",
       " 'tp': 66,\n",
       " 'tn': 1635,\n",
       " 'fp': 2354,\n",
       " 'sensitivity': 94.28571428571428,\n",
       " 'specificity': 40.98771621960391,\n",
       " 'ppv': 0.02727272727272727,\n",
       " 'npv': 0.9975594874923734,\n",
       " 'lr+': 1.5977303070761013,\n",
       " 'lr-': 0.13941459152468333,\n",
       " 'acc': 0.4190687361419069,\n",
       " 'roc_auc': 0.8059789420907496,\n",
       " 'f1': 0.05301204819277108,\n",
       " 'brier_score': 0.016480946134339907}"
      ]
     },
     "execution_count": 19,
     "metadata": {},
     "output_type": "execute_result"
    }
   ],
   "source": [
    "low_risk_patients, missed_patients, stats = pecarn_rule_predict(d[test_idxs1])\n",
    "stats"
   ]
  },
  {
   "cell_type": "code",
   "execution_count": null,
   "metadata": {},
   "outputs": [
    {
     "name": "stdout",
     "output_type": "stream",
     "text": [
      "Initial                   62 / 2188\n",
      "AbdTrauma_or_SeatBeltSign  18 /  1708\t 44 /  480 (9.2)\n",
      "GCSScore                    8 /  1441\t 10 /  267 (3.7)\n",
      "AbdTenderDegree             2 /  1216\t  6 /  225 (2.7)\n",
      "ThoracicTrauma              2 /  1123\t  0 /   93 (0.0)\n",
      "AbdomenPain                 2 /   993\t  0 /  130 (0.0)\n",
      "DecrBreathSound             2 /   993\t  0 /    0 (nan)\n",
      "VomitWretch                 2 /   937\t  0 /   56 (0.0)\n"
     ]
    },
    {
     "name": "stderr",
     "output_type": "stream",
     "text": [
      "/accounts/projects/vision/chandan/iai-interpretability/notebooks/pecarn_predict.py:39: RuntimeWarning: invalid value encountered in long_scalars\n",
      "  #         print('prob', num2, denom2, prob, 'end')\n"
     ]
    },
    {
     "data": {
      "text/plain": [
       "{'fn': 2,\n",
       " 'tp': 60,\n",
       " 'tn': 935,\n",
       " 'fp': 1191,\n",
       " 'sensitivity': 96.7741935483871,\n",
       " 'specificity': 43.97930385700847,\n",
       " 'ppv': 0.047961630695443645,\n",
       " 'npv': 0.9978655282817502,\n",
       " 'lr+': 1.72747217030958,\n",
       " 'lr-': 0.07334828359496284,\n",
       " 'acc': 0.4547531992687386,\n",
       " 'roc_auc': 0.8269429187023943,\n",
       " 'f1': 0.0913937547600914,\n",
       " 'brier_score': 0.02624673943693975}"
      ]
     },
     "execution_count": 20,
     "metadata": {},
     "output_type": "execute_result"
    }
   ],
   "source": [
    "low_risk_patients, missed_patients, stats = pecarn_rule_predict(df_psrc)\n",
    "stats"
   ]
  },
  {
   "cell_type": "code",
   "execution_count": null,
   "metadata": {},
   "outputs": [],
   "source": []
  }
 ],
 "metadata": {
  "kernelspec": {
   "display_name": "Python 3.9.13 ('.iai': venv)",
   "language": "python",
   "name": "python3"
  },
  "language_info": {
   "codemirror_mode": {
    "name": "ipython",
    "version": 3
   },
   "file_extension": ".py",
   "mimetype": "text/x-python",
   "name": "python",
   "nbconvert_exporter": "python",
   "pygments_lexer": "ipython3",
   "version": "3.9.13"
  },
  "pycharm": {
   "stem_cell": {
    "cell_type": "raw",
    "metadata": {
     "collapsed": false
    },
    "source": []
   }
  },
  "vscode": {
   "interpreter": {
    "hash": "e2191c6e2dc39f323f815df2a766e6de0a6735913e8e8699ce6573efd3f6121c"
   }
  }
 },
 "nbformat": 4,
 "nbformat_minor": 4
}
